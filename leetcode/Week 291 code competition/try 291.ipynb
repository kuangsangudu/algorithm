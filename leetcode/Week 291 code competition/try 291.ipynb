{
 "cells": [
  {
   "cell_type": "code",
   "execution_count": 1,
   "id": "ffc46da5",
   "metadata": {},
   "outputs": [],
   "source": [
    "import collections\n",
    "import heapq\n",
    "import math\n",
    "from typing import *"
   ]
  },
  {
   "cell_type": "markdown",
   "id": "0bc44cfe",
   "metadata": {},
   "source": [
    "# 6047. Remove Digit From Number to Maximize Result"
   ]
  },
  {
   "cell_type": "code",
   "execution_count": 3,
   "id": "733e1047",
   "metadata": {},
   "outputs": [],
   "source": [
    "class Solution:\n",
    "    def removeDigit(self, number: str, digit: str) -> str:\n",
    "        ret = \"\"\n",
    "        maxs = 0\n",
    "        for i in range(len(number)):\n",
    "            if nums[i] == digit:\n",
    "                num = nums[:i] + nums[i+1:]\n",
    "                if int(num) > maxs:\n",
    "                    maxs, ret = int(num), num\n",
    "        return ret"
   ]
  },
  {
   "cell_type": "markdown",
   "id": "378d6ad8",
   "metadata": {},
   "source": [
    "# 6048. Minimum Consecutive Cards to Pick Up"
   ]
  },
  {
   "cell_type": "code",
   "execution_count": 31,
   "id": "8b904240",
   "metadata": {},
   "outputs": [],
   "source": [
    "class Solution:\n",
    "    def minimumCardPickup(self, cards: List[int]) -> int:\n",
    "        lens = len(cards)\n",
    "        l, r = 0, 0\n",
    "        re = collections.defaultdict(int)\n",
    "        ret = float(\"inf\")\n",
    "        while r < lens:\n",
    "            while r < lens:\n",
    "                re[cards[r]] += 1\n",
    "                if re[cards[r]] >= 2:\n",
    "                    break\n",
    "                r += 1\n",
    "                \n",
    "            while l < r and re[cards[l]] != 2:\n",
    "                re[cards[l]] -= 1\n",
    "                l += 1\n",
    "                \n",
    "            if l >= lens or re[cards[l]] < 2:\n",
    "                break\n",
    "            else:\n",
    "                ret = min(ret, r-l+1)\n",
    "                re[cards[l]] -= 1\n",
    "                l += 1\n",
    "            r += 1\n",
    "        return ret if ret!=float(\"inf\") else -1\n",
    "            "
   ]
  },
  {
   "cell_type": "code",
   "execution_count": 29,
   "id": "772d398b",
   "metadata": {},
   "outputs": [],
   "source": [
    "cards = [3,4,2,3,4,7]"
   ]
  },
  {
   "cell_type": "code",
   "execution_count": 32,
   "id": "cc02ac65",
   "metadata": {},
   "outputs": [],
   "source": [
    "cards = [1,0,5,3]"
   ]
  },
  {
   "cell_type": "code",
   "execution_count": 33,
   "id": "6297a1ff",
   "metadata": {},
   "outputs": [
    {
     "data": {
      "text/plain": [
       "-1"
      ]
     },
     "execution_count": 33,
     "metadata": {},
     "output_type": "execute_result"
    }
   ],
   "source": [
    "a = Solution().minimumCardPickup(cards)\n",
    "a"
   ]
  },
  {
   "cell_type": "code",
   "execution_count": 2,
   "id": "906ef9cb",
   "metadata": {},
   "outputs": [],
   "source": [
    "class Solution:\n",
    "    def minimumCardPickup(self, cards: List[int]) -> int:\n",
    "        maps = collections.defaultdict(list)\n",
    "        ret = float(\"inf\")\n",
    "        for i, card in enumerate(cards):\n",
    "            if maps.get(card, -1)!=-1:\n",
    "                ret = min(ret, i-maps[card][-1]+1)\n",
    "            maps[card].append(i)\n",
    "        return ret if ret!=float(\"inf\") else -1"
   ]
  },
  {
   "cell_type": "markdown",
   "id": "894bf2e3",
   "metadata": {},
   "source": [
    "# 6049. K Divisible Elements Subarrays"
   ]
  },
  {
   "cell_type": "code",
   "execution_count": 92,
   "id": "d73e041f",
   "metadata": {},
   "outputs": [],
   "source": [
    "class Solution:\n",
    "    def countDistinct(self, nums: List[int], k: int, p: int) -> int:\n",
    "        ret = collections.deque()\n",
    "        l, r = 0, 0\n",
    "        lens = len(nums)\n",
    "        num_k = 0\n",
    "        visited = set()\n",
    "        while r < lens:\n",
    "            while r < lens and num_k + (not (nums[r] % p)) <= k:\n",
    "                ret.append(nums[r])\n",
    "                num_k += not (nums[r] % p)\n",
    "                r += 1\n",
    "            for i in range(len(ret)):\n",
    "                a = []\n",
    "                for j in range(i, len(ret)):\n",
    "                    a.append(ret[j])\n",
    "                    visited.add(tuple(a))\n",
    "            while l < r and num_k == k:\n",
    "                ret.popleft()\n",
    "                num_k -= not (nums[l] % p)\n",
    "                l += 1\n",
    "            print(ret, l, r, num_k)\n",
    "        return len(visited)"
   ]
  },
  {
   "cell_type": "code",
   "execution_count": 46,
   "id": "ec7088b2",
   "metadata": {},
   "outputs": [],
   "source": [
    "import itertools"
   ]
  },
  {
   "cell_type": "code",
   "execution_count": 47,
   "id": "b337d30a",
   "metadata": {},
   "outputs": [
    {
     "data": {
      "text/plain": [
       "[(1, 2), (1, 3), (1, 4), (2, 3), (2, 4), (3, 4)]"
      ]
     },
     "execution_count": 47,
     "metadata": {},
     "output_type": "execute_result"
    }
   ],
   "source": [
    "list(itertools.combinations([1,2,3, 4], 2))"
   ]
  },
  {
   "cell_type": "code",
   "execution_count": 70,
   "id": "492c5936",
   "metadata": {},
   "outputs": [],
   "source": [
    "nums = [2,3,3,2,2]; k = 2; p = 2"
   ]
  },
  {
   "cell_type": "code",
   "execution_count": 93,
   "id": "7547260d",
   "metadata": {},
   "outputs": [],
   "source": [
    "nums = [10,2,17,7,20]\n",
    "k = 1\n",
    "p = 10"
   ]
  },
  {
   "cell_type": "code",
   "execution_count": 94,
   "id": "c3030dd3",
   "metadata": {},
   "outputs": [
    {
     "name": "stdout",
     "output_type": "stream",
     "text": [
      "deque([10, 2, 17, 7]) 0 4 1 {(2,), (2, 17), (17, 7), (10, 2, 17, 7), (17,), (7,), (2, 17, 7), (10,), (10, 2, 17), (10, 2)}\n",
      "deque([2, 17, 7]) 1 4 0\n",
      "deque([2, 17, 7, 20]) 1 5 1 {(2,), (2, 17), (17, 7), (7, 20), (10, 2, 17, 7), (17, 7, 20), (17,), (7,), (2, 17, 7), (20,), (10,), (2, 17, 7, 20), (10, 2, 17), (10, 2)}\n",
      "deque([]) 5 5 0\n"
     ]
    },
    {
     "data": {
      "text/plain": [
       "14"
      ]
     },
     "execution_count": 94,
     "metadata": {},
     "output_type": "execute_result"
    }
   ],
   "source": [
    "a = Solution().countDistinct(nums, k, p)\n",
    "a"
   ]
  },
  {
   "cell_type": "code",
   "execution_count": 3,
   "id": "8836e592",
   "metadata": {},
   "outputs": [],
   "source": [
    "class Solution:\n",
    "    def countDistinct(self, nums: List[int], k: int, p: int) -> int:\n",
    "        s, n = set(), len(nums)\n",
    "        for i in range(n):\n",
    "            cnt = 0\n",
    "            for j in range(i, n):\n",
    "                if nums[j] % p == 0:\n",
    "                    cnt += 1\n",
    "                    if cnt > k:\n",
    "                        break\n",
    "                s.add(tuple(nums[i: j + 1]))\n",
    "        return len(s)"
   ]
  },
  {
   "cell_type": "markdown",
   "id": "fd1bbde3",
   "metadata": {},
   "source": [
    "# 6050. Total Appeal of A String"
   ]
  },
  {
   "cell_type": "code",
   "execution_count": 114,
   "id": "32e69db0",
   "metadata": {},
   "outputs": [],
   "source": [
    "class Solution:\n",
    "    def appealSum(self, s: str) -> int:\n",
    "        ret = 0\n",
    "        visited = collections.defaultdict(int)\n",
    "        lens = len(s)\n",
    "        for i in range(lens):\n",
    "            ret += (1+lens-i) * (lens-i) // 2\n",
    "            if visited.get(s[i], -1)!=-1:\n",
    "                ret -= (visited[s[i]]+1) * (lens-i)\n",
    "            visited[s[i]] = i\n",
    "        return ret"
   ]
  },
  {
   "cell_type": "code",
   "execution_count": 117,
   "id": "b2a645d2",
   "metadata": {},
   "outputs": [],
   "source": [
    "s = \"code\""
   ]
  },
  {
   "cell_type": "code",
   "execution_count": 118,
   "id": "89ce2e3e",
   "metadata": {},
   "outputs": [
    {
     "name": "stdout",
     "output_type": "stream",
     "text": [
      "10 4\n",
      "6 3\n",
      "3 2\n",
      "1 1\n"
     ]
    },
    {
     "data": {
      "text/plain": [
       "20"
      ]
     },
     "execution_count": 118,
     "metadata": {},
     "output_type": "execute_result"
    }
   ],
   "source": [
    "a = Solution().appealSum(s)\n",
    "a"
   ]
  },
  {
   "cell_type": "code",
   "execution_count": 4,
   "id": "575ae8b6",
   "metadata": {},
   "outputs": [],
   "source": [
    "class Solution:\n",
    "    def appealSum(self, s: str) -> int:\n",
    "        ans, sum_g, pos = 0, 0, [-1] * 26\n",
    "        for i, c in enumerate(s):\n",
    "            c = ord(c) - ord('a')\n",
    "            sum_g += i - pos[c]\n",
    "            ans += sum_g\n",
    "            pos[c] = i\n",
    "        return ans"
   ]
  },
  {
   "cell_type": "code",
   "execution_count": null,
   "id": "1b4113f6",
   "metadata": {},
   "outputs": [],
   "source": []
  }
 ],
 "metadata": {
  "kernelspec": {
   "display_name": "Python 3 (ipykernel)",
   "language": "python",
   "name": "python3"
  },
  "language_info": {
   "codemirror_mode": {
    "name": "ipython",
    "version": 3
   },
   "file_extension": ".py",
   "mimetype": "text/x-python",
   "name": "python",
   "nbconvert_exporter": "python",
   "pygments_lexer": "ipython3",
   "version": "3.8.8"
  },
  "toc": {
   "base_numbering": 1,
   "nav_menu": {},
   "number_sections": true,
   "sideBar": true,
   "skip_h1_title": false,
   "title_cell": "Table of Contents",
   "title_sidebar": "Contents",
   "toc_cell": false,
   "toc_position": {},
   "toc_section_display": true,
   "toc_window_display": false
  }
 },
 "nbformat": 4,
 "nbformat_minor": 5
}
