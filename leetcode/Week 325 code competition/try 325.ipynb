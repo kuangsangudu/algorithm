{
 "cells": [
  {
   "cell_type": "code",
   "execution_count": 1,
   "id": "5ec79efd",
   "metadata": {},
   "outputs": [],
   "source": [
    "import heapq\n",
    "import collections\n",
    "import math\n",
    "from typing import *\n",
    "import bisect\n",
    "import functools"
   ]
  },
  {
   "cell_type": "markdown",
   "id": "3cb83f6d",
   "metadata": {},
   "source": [
    "# 6269. Shortest Distance to Target String in a Circular Array"
   ]
  },
  {
   "cell_type": "code",
   "execution_count": 15,
   "id": "369c7cf2",
   "metadata": {},
   "outputs": [],
   "source": [
    "class Solution:\n",
    "    def closetTarget(self, words: List[str], target: str, startIndex: int) -> int:\n",
    "        if target not in words:\n",
    "            return -1\n",
    "        ret = float(\"inf\")\n",
    "        left, right = 0, 0\n",
    "        lens = len(words)\n",
    "        words = words * 2\n",
    "        for i in range(startIndex, len(words)):\n",
    "            if words[i] == target:\n",
    "                ret = min(ret, right)\n",
    "                break\n",
    "            right += 1\n",
    "        \n",
    "        for i in range(startIndex+lens, -1, -1):\n",
    "            if words[i] == target:\n",
    "                ret = min(ret, left)\n",
    "                break\n",
    "            left += 1  \n",
    "        return ret"
   ]
  },
  {
   "cell_type": "code",
   "execution_count": 16,
   "id": "9b916caa",
   "metadata": {},
   "outputs": [],
   "source": [
    "words = [\"hello\",\"i\",\"am\",\"leetcode\",\"hello\"]; target = \"hello\";startIndex = 1"
   ]
  },
  {
   "cell_type": "code",
   "execution_count": 17,
   "id": "b16dab25",
   "metadata": {},
   "outputs": [
    {
     "name": "stdout",
     "output_type": "stream",
     "text": [
      "3 1\n"
     ]
    },
    {
     "data": {
      "text/plain": [
       "1"
      ]
     },
     "execution_count": 17,
     "metadata": {},
     "output_type": "execute_result"
    }
   ],
   "source": [
    "a = Solution().closetTarget(words, target, startIndex)\n",
    "a"
   ]
  },
  {
   "cell_type": "markdown",
   "id": "cf8ab2a5",
   "metadata": {},
   "source": [
    "# 6270. Take K of Each Character From Left and Right"
   ]
  },
  {
   "cell_type": "code",
   "execution_count": 18,
   "id": "7b5d9763",
   "metadata": {},
   "outputs": [],
   "source": [
    "class Solution:\n",
    "    def takeCharacters(self, s: str, k: int) -> int:\n",
    "        c = collections.Counter(s)\n",
    "        if c[\"a\"] < k or c[\"b\"] < k or c[\"c\"] < k:\n",
    "            return -1\n",
    "        \n",
    "        ret = len(s)\n",
    "        left = 0\n",
    "        for i in range(len(s)):\n",
    "            c[s[i]] -= 1\n",
    "            while c[\"a\"] < k or c[\"b\"] < k or c[\"c\"] < k:\n",
    "                c[s[left]] += 1\n",
    "                left += 1\n",
    "            ret = min(ret, c[\"a\"]+c[\"b\"]+c[\"c\"])\n",
    "        return ret"
   ]
  },
  {
   "cell_type": "markdown",
   "id": "ee7b4687",
   "metadata": {},
   "source": [
    "# 6271. Maximum Tastiness of Candy Basket"
   ]
  },
  {
   "cell_type": "code",
   "execution_count": 39,
   "id": "99806ed8",
   "metadata": {},
   "outputs": [],
   "source": [
    "class Solution:\n",
    "    def maximumTastiness(self, price: List[int], k: int) -> int:\n",
    "        def find(m):\n",
    "            start = price[0]\n",
    "            idx = 1\n",
    "            for i in range(1, len(price)):\n",
    "                if price[i] - start >= m:\n",
    "                    idx += 1\n",
    "                    start = price[i]\n",
    "            return idx >= k\n",
    "        \n",
    "        price = sorted(set(price))\n",
    "        l, r = 0, price[-1]\n",
    "        while l < r:\n",
    "            mid = (l+r+1)//2\n",
    "            if find(mid):\n",
    "                l = mid\n",
    "            else:\n",
    "                r = mid-1\n",
    "            \n",
    "        return l"
   ]
  },
  {
   "cell_type": "code",
   "execution_count": 40,
   "id": "616b8d01",
   "metadata": {},
   "outputs": [],
   "source": [
    "price = [13,5,1,8,21,2]; k = 3"
   ]
  },
  {
   "cell_type": "code",
   "execution_count": 41,
   "id": "17ec9b6d",
   "metadata": {},
   "outputs": [
    {
     "data": {
      "text/plain": [
       "8"
      ]
     },
     "execution_count": 41,
     "metadata": {},
     "output_type": "execute_result"
    }
   ],
   "source": [
    "a = Solution().maximumTastiness(price, k)\n",
    "a"
   ]
  },
  {
   "cell_type": "markdown",
   "id": "eaf2f62a",
   "metadata": {},
   "source": [
    "# 6272. Number of Great Partitions"
   ]
  },
  {
   "cell_type": "code",
   "execution_count": 58,
   "id": "a251340f",
   "metadata": {},
   "outputs": [],
   "source": [
    "class Solution:\n",
    "    def countPartitions(self, nums: List[int], k: int) -> int:\n",
    "        if sum(nums) < 2 * k:\n",
    "            return 0\n",
    "        dp = [0] * (k+1)\n",
    "        dp[0] = 1\n",
    "        mod = 10 ** 9 + 7\n",
    "        for i, n in enumerate(nums):\n",
    "            for j in range(k, -1, -1):\n",
    "                if dp[j]:\n",
    "                    dp[min(k, j+n)] += dp[j]\n",
    "                    dp[min(k, j+n)]%= mod\n",
    "        return (pow(2, len(nums), mod) - sum(dp[i] for i in range(k)) * 2) % mod"
   ]
  },
  {
   "cell_type": "code",
   "execution_count": 56,
   "id": "debcb672",
   "metadata": {},
   "outputs": [],
   "source": [
    "nums = [1,2,3,4]; k = 4"
   ]
  },
  {
   "cell_type": "code",
   "execution_count": 57,
   "id": "c89b7257",
   "metadata": {},
   "outputs": [
    {
     "name": "stdout",
     "output_type": "stream",
     "text": [
      "[1, 1, 1, 2, 11]\n"
     ]
    },
    {
     "data": {
      "text/plain": [
       "6"
      ]
     },
     "execution_count": 57,
     "metadata": {},
     "output_type": "execute_result"
    }
   ],
   "source": [
    "a = Solution().countPartitions(nums, k)\n",
    "a"
   ]
  },
  {
   "cell_type": "code",
   "execution_count": null,
   "id": "26d356c7",
   "metadata": {},
   "outputs": [],
   "source": [
    "[96,40,22,98,9,97,45,22,79,57,95,62]\n",
    "505"
   ]
  }
 ],
 "metadata": {
  "kernelspec": {
   "display_name": "Python 3 (ipykernel)",
   "language": "python",
   "name": "python3"
  },
  "language_info": {
   "codemirror_mode": {
    "name": "ipython",
    "version": 3
   },
   "file_extension": ".py",
   "mimetype": "text/x-python",
   "name": "python",
   "nbconvert_exporter": "python",
   "pygments_lexer": "ipython3",
   "version": "3.8.8"
  },
  "toc": {
   "base_numbering": 1,
   "nav_menu": {},
   "number_sections": true,
   "sideBar": true,
   "skip_h1_title": false,
   "title_cell": "Table of Contents",
   "title_sidebar": "Contents",
   "toc_cell": false,
   "toc_position": {},
   "toc_section_display": true,
   "toc_window_display": false
  }
 },
 "nbformat": 4,
 "nbformat_minor": 5
}
