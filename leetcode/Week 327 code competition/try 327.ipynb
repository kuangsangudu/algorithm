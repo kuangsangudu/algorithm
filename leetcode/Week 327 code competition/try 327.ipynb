{
 "cells": [
  {
   "cell_type": "code",
   "execution_count": 1,
   "id": "3573f2b4",
   "metadata": {},
   "outputs": [],
   "source": [
    "from typing import *\n",
    "import collections\n",
    "import functools\n",
    "import heapq\n",
    "import bisect\n",
    "import math"
   ]
  },
  {
   "cell_type": "markdown",
   "id": "f03fb953",
   "metadata": {},
   "source": [
    "# 6283. Maximum Count of Positive Integer and Negative Integer"
   ]
  },
  {
   "cell_type": "code",
   "execution_count": 2,
   "id": "0c751ebf",
   "metadata": {},
   "outputs": [],
   "source": [
    "class Solution:\n",
    "    def maximumCount(self, nums: List[int]) -> int:\n",
    "        neg = 0\n",
    "        pos = 0\n",
    "        for n in nums:\n",
    "            if n > 0:\n",
    "                pos += 1\n",
    "            else:\n",
    "                neg += 1\n",
    "        return max(pos, neg)"
   ]
  },
  {
   "cell_type": "code",
   "execution_count": 198,
   "id": "16b89839",
   "metadata": {},
   "outputs": [],
   "source": [
    "class Solution:\n",
    "    def maximumCount(self, nums: List[int]) -> int:\n",
    "        return max(bisect_left(nums, 0), len(nums) - bisect_right(nums, 0))"
   ]
  },
  {
   "cell_type": "markdown",
   "id": "a80f9171",
   "metadata": {},
   "source": [
    "# 6285. Maximal Score After Applying K Operations"
   ]
  },
  {
   "cell_type": "code",
   "execution_count": 12,
   "id": "69d019df",
   "metadata": {},
   "outputs": [],
   "source": [
    "class Solution:\n",
    "    def maxKelements(self, nums: List[int], k: int) -> int:\n",
    "        q = []\n",
    "        for n in nums:\n",
    "            heapq.heappush(q, -n)\n",
    "        ret = 0\n",
    "        while k:\n",
    "            num = heapq.heappop(q)\n",
    "            ret -= num\n",
    "            heapq.heappush(q, math.floor(num/3))\n",
    "            k -= 1\n",
    "        return ret "
   ]
  },
  {
   "cell_type": "code",
   "execution_count": 13,
   "id": "b61763fa",
   "metadata": {},
   "outputs": [],
   "source": [
    "nums = [1,10,3,3,3]; k = 3"
   ]
  },
  {
   "cell_type": "code",
   "execution_count": 14,
   "id": "518e742d",
   "metadata": {},
   "outputs": [
    {
     "name": "stdout",
     "output_type": "stream",
     "text": [
      "-10\n",
      "-4\n",
      "-3\n"
     ]
    },
    {
     "data": {
      "text/plain": [
       "17"
      ]
     },
     "execution_count": 14,
     "metadata": {},
     "output_type": "execute_result"
    }
   ],
   "source": [
    "a = Solution().maxKelements(nums, k)\n",
    "a"
   ]
  },
  {
   "cell_type": "markdown",
   "id": "877323ce",
   "metadata": {},
   "source": [
    "# 6284. Make Number of Distinct Characters Equal"
   ]
  },
  {
   "cell_type": "code",
   "execution_count": 69,
   "id": "651e9b89",
   "metadata": {},
   "outputs": [],
   "source": [
    "class Solution:\n",
    "    def isItPossible(self, word1: str, word2: str) -> bool:\n",
    "        def xunzhao(a, b):\n",
    "            l = len(a)\n",
    "            r = len(b)\n",
    "            for ka in a.keys():\n",
    "                ll = l if a[ka] > 1 else l-1\n",
    "                for kb in b.keys():\n",
    "                    if ka == kb:\n",
    "                        if l == r:\n",
    "                            return True\n",
    "                        continue\n",
    "                    if ka in b:\n",
    "                        rr = r if b[kb] > 1 else r-1\n",
    "                    else:\n",
    "                        rr = r+1 if b[kb] > 1 else r\n",
    "                        \n",
    "                    if (kb in a and ll == rr) or (kb not in a and ll+1 == rr):\n",
    "                        return True\n",
    "            return False\n",
    "                    \n",
    "        count1 = collections.Counter(word1)\n",
    "        count2 = collections.Counter(word2)\n",
    "        if abs(len(count1)-len(count2)) > 2:\n",
    "            return False\n",
    "        else:\n",
    "            return xunzhao(count1, count2)\n",
    "            "
   ]
  },
  {
   "cell_type": "code",
   "execution_count": 70,
   "id": "26e489af",
   "metadata": {},
   "outputs": [],
   "source": [
    "word1 = \"a\"; word2 = \"a\""
   ]
  },
  {
   "cell_type": "code",
   "execution_count": 57,
   "id": "4ee4e869",
   "metadata": {},
   "outputs": [],
   "source": [
    "word1 = \"wilfuzpxqserkdcvbgajtyhon\"\n",
    "word2 = \"rlmyvwvucqxsjodbelmgjkabnxegihuwats\""
   ]
  },
  {
   "cell_type": "code",
   "execution_count": 71,
   "id": "5448911e",
   "metadata": {},
   "outputs": [
    {
     "name": "stdout",
     "output_type": "stream",
     "text": [
      "Counter({'a': 1}) Counter({'a': 1}) 1 1\n"
     ]
    },
    {
     "data": {
      "text/plain": [
       "True"
      ]
     },
     "execution_count": 71,
     "metadata": {},
     "output_type": "execute_result"
    }
   ],
   "source": [
    "a = Solution().isItPossible(word1, word2)\n",
    "a"
   ]
  },
  {
   "cell_type": "code",
   "execution_count": 59,
   "id": "46e042b4",
   "metadata": {},
   "outputs": [],
   "source": [
    "word1 = \"a\"\n",
    "word2 = \"bb\""
   ]
  },
  {
   "cell_type": "code",
   "execution_count": 197,
   "id": "ce567d80",
   "metadata": {},
   "outputs": [],
   "source": [
    "class Solution:\n",
    "    def isItPossible(self, word1: str, word2: str) -> bool:\n",
    "        c1, c2 = Counter(word1), Counter(word2)\n",
    "        for x, c in c1.items():\n",
    "            for y, d in c2.items():\n",
    "                if y == x:  # 无变化\n",
    "                    if len(c1) == len(c2): return True\n",
    "                elif len(c1) - (c == 1) + (y not in c1) == \\\n",
    "                     len(c2) - (d == 1) + (x not in c2):  # 计算变化量\n",
    "                    return True\n",
    "        return False"
   ]
  },
  {
   "cell_type": "code",
   "execution_count": null,
   "id": "ae448247",
   "metadata": {},
   "outputs": [],
   "source": [
    "time[i] = [leftToRighti, pickOldi, rightToLefti, putNewi]"
   ]
  },
  {
   "cell_type": "markdown",
   "id": "d1d0ea6c",
   "metadata": {},
   "source": [
    "# 6306. Time to Cross a Bridge6306. Time to Cross a Bridge"
   ]
  },
  {
   "cell_type": "code",
   "execution_count": 194,
   "id": "abb1bc87",
   "metadata": {},
   "outputs": [],
   "source": [
    "class Solution:\n",
    "    def findCrossingTime(self, n: int, k: int, time: List[List[int]]) -> int:        \n",
    "        leftWork = []\n",
    "        rightWork = []\n",
    "        leftWait = []\n",
    "        rightWait = []\n",
    "        times = 0\n",
    "        \n",
    "        def one_epoch():\n",
    "            nonlocal times, n\n",
    "                \n",
    "            while leftWork and leftWork[0][0] <= times:\n",
    "                _, i = heapq.heappop(leftWork)\n",
    "                heapq.heappush(leftWait, [-time[i][0]-time[i][2], -i, times])\n",
    "            while rightWork and rightWork[0][0] <= times:\n",
    "                _, i = heapq.heappop(rightWork)\n",
    "                heapq.heappush(rightWait, [-time[i][0]-time[i][2], -i, times])\n",
    "\n",
    "            if rightWait and rightWait[0][2] <= times:\n",
    "                _, i, t = heapq.heappop(rightWait)\n",
    "                i = -i\n",
    "                times += time[i][2]\n",
    "                heapq.heappush(leftWork, [times+time[i][3], i])\n",
    "            elif leftWait and leftWait[0][2] <= times and n > 0:\n",
    "                n -= 1\n",
    "                _, i, t = heapq.heappop(leftWait)\n",
    "                i = -i\n",
    "                times += time[i][0]\n",
    "                heapq.heappush(rightWork, [times+time[i][1], i])    \n",
    "            elif len(rightWork) == 0:\n",
    "                times = leftWork[0][0]\n",
    "            elif len(leftWork) == 0:\n",
    "                times = rightWork[0][0]\n",
    "            else:\n",
    "                times = min(leftWork[0][0], rightWork[0][0])\n",
    "            print(times, leftWork, leftWait, rightWait, rightWork)\n",
    " \n",
    "            \n",
    "        # init\n",
    "        for i, t in enumerate(time):\n",
    "            heapq.heappush(leftWait, [-t[0]-t[2], -i, 0])\n",
    "        \n",
    "        while True:\n",
    "            one_epoch()\n",
    "            if n == 0 and len(rightWait) == 0 and len(rightWork) == 0:\n",
    "                break            \n",
    "        return times"
   ]
  },
  {
   "cell_type": "code",
   "execution_count": 195,
   "id": "97e97222",
   "metadata": {},
   "outputs": [],
   "source": [
    "n = 1; k = 3; time = [[1,1,2,1],[1,1,3,1],[1,1,4,1]]"
   ]
  },
  {
   "cell_type": "code",
   "execution_count": 196,
   "id": "db0a07e0",
   "metadata": {},
   "outputs": [
    {
     "name": "stdout",
     "output_type": "stream",
     "text": [
      "1 [] [[-4, -1, 0], [-3, 0, 0]] [] [[2, 2]]\n",
      "2 [] [[-4, -1, 0], [-3, 0, 0]] [] [[2, 2]]\n",
      "6 [[7, 2]] [[-4, -1, 0], [-3, 0, 0]] [] []\n"
     ]
    },
    {
     "data": {
      "text/plain": [
       "6"
      ]
     },
     "execution_count": 196,
     "metadata": {},
     "output_type": "execute_result"
    }
   ],
   "source": [
    "a = Solution().findCrossingTime(n, k, time)\n",
    "a"
   ]
  },
  {
   "cell_type": "code",
   "execution_count": 192,
   "id": "08350bbe",
   "metadata": {},
   "outputs": [],
   "source": [
    "n = 3; k = 2; time = [[1,9,1,8],[10,10,10,10]]"
   ]
  },
  {
   "cell_type": "code",
   "execution_count": null,
   "id": "1876ac8b",
   "metadata": {},
   "outputs": [],
   "source": []
  },
  {
   "cell_type": "code",
   "execution_count": null,
   "id": "a55662dc",
   "metadata": {},
   "outputs": [],
   "source": []
  },
  {
   "cell_type": "code",
   "execution_count": null,
   "id": "6a197b19",
   "metadata": {},
   "outputs": [],
   "source": []
  }
 ],
 "metadata": {
  "kernelspec": {
   "display_name": "Python 3 (ipykernel)",
   "language": "python",
   "name": "python3"
  },
  "language_info": {
   "codemirror_mode": {
    "name": "ipython",
    "version": 3
   },
   "file_extension": ".py",
   "mimetype": "text/x-python",
   "name": "python",
   "nbconvert_exporter": "python",
   "pygments_lexer": "ipython3",
   "version": "3.8.8"
  },
  "toc": {
   "base_numbering": 1,
   "nav_menu": {},
   "number_sections": true,
   "sideBar": true,
   "skip_h1_title": false,
   "title_cell": "Table of Contents",
   "title_sidebar": "Contents",
   "toc_cell": false,
   "toc_position": {},
   "toc_section_display": true,
   "toc_window_display": false
  }
 },
 "nbformat": 4,
 "nbformat_minor": 5
}
