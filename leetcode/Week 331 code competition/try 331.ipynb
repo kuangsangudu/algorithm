{
 "cells": [
  {
   "cell_type": "code",
   "execution_count": 5,
   "id": "1ac7d14a",
   "metadata": {},
   "outputs": [],
   "source": [
    "import collections\n",
    "from typing import *\n",
    "import math\n",
    "import heapq\n",
    "import functools\n",
    "import bisect\n",
    "import sortedcontainers"
   ]
  },
  {
   "cell_type": "markdown",
   "id": "12936b0b",
   "metadata": {},
   "source": [
    "# 6348. Take Gifts From the Richest Pile"
   ]
  },
  {
   "cell_type": "code",
   "execution_count": 6,
   "id": "f88b48f8",
   "metadata": {},
   "outputs": [],
   "source": [
    "class Solution:\n",
    "    def pickGifts(self, gifts: List[int], k: int) -> int:\n",
    "        q = []\n",
    "        for gift in qifts:\n",
    "            heapq.heappush(q, -gift)\n",
    "        \n",
    "        for i in range(k):\n",
    "            n = int((-heapq.heappop(q))**0.5)\n",
    "            heapq.heappush(q, -n)\n",
    "        return -sum(q)"
   ]
  },
  {
   "cell_type": "markdown",
   "id": "551b3988",
   "metadata": {},
   "source": [
    "# 6347. Count Vowel Strings in Ranges"
   ]
  },
  {
   "cell_type": "code",
   "execution_count": 7,
   "id": "60e23f27",
   "metadata": {},
   "outputs": [],
   "source": [
    "class Solution:\n",
    "    def vowelStrings(self, words: List[str], queries: List[List[int]]) -> List[int]:\n",
    "        pres = [0] * (len(words)+1)\n",
    "        vowels = \"aeiou\"\n",
    "        for i in range(len(words)):\n",
    "            if words[i][0] in vowels and words[i][-1] in vowels:\n",
    "                pres[i+1] = pres[i] + 1\n",
    "            else:\n",
    "                pres[i+1] = pres[i]\n",
    "        \n",
    "        ret = [0] * len(queries)\n",
    "        for i, query in enumerate(queries):\n",
    "            ret[i] = pres[query[1]+1]-pres[query[0]]\n",
    "        return ret"
   ]
  },
  {
   "cell_type": "markdown",
   "id": "2ea4b3f5",
   "metadata": {},
   "source": [
    "# 6346. House Robber IV"
   ]
  },
  {
   "cell_type": "code",
   "execution_count": 119,
   "id": "3d560037",
   "metadata": {},
   "outputs": [],
   "source": [
    "class Solution:\n",
    "    def minCapability(self, nums: List[int], k: int) -> int:\n",
    "        def f(a):\n",
    "            dp = [[0, 0] for _ in range(len(nums)+1)]\n",
    "            for i, n in enumerate(nums):\n",
    "                if n <= a:\n",
    "                    dp[i+1][0] = dp[i][1]\n",
    "                    dp[i+1][1] = dp[i][0] + 1\n",
    "                else:\n",
    "                    dp[i+1][0] = max(dp[i][0], dp[i][1])\n",
    "            return max(dp[-1])\n",
    "            \n",
    "        arr = sorted(nums)\n",
    "        l, r = 0, len(nums)-1\n",
    "        while l < r:\n",
    "            mid = (r+l)//2\n",
    "            if f(arr[mid]) < k:\n",
    "                l = mid + 1\n",
    "            else:\n",
    "                r = mid\n",
    "\n",
    "        return arr[l]"
   ]
  },
  {
   "cell_type": "code",
   "execution_count": 123,
   "id": "2a52fb32",
   "metadata": {},
   "outputs": [],
   "source": [
    "nums = [9,6,20,21,8]\n",
    "k = 3"
   ]
  },
  {
   "cell_type": "code",
   "execution_count": 121,
   "id": "320a9788",
   "metadata": {},
   "outputs": [],
   "source": [
    "nums = [2,3,5,9]; k = 2"
   ]
  },
  {
   "cell_type": "code",
   "execution_count": 124,
   "id": "286cd67e",
   "metadata": {},
   "outputs": [
    {
     "name": "stdout",
     "output_type": "stream",
     "text": [
      "9\n",
      "[[0, 0], [0, 1], [1, 1], [1, 0], [1, 0], [0, 2]]\n",
      "20\n",
      "[[0, 0], [0, 1], [1, 1], [1, 2], [2, 0], [0, 3]]\n"
     ]
    },
    {
     "data": {
      "text/plain": [
       "20"
      ]
     },
     "execution_count": 124,
     "metadata": {},
     "output_type": "execute_result"
    }
   ],
   "source": [
    "a = Solution().minCapability(nums, k)\n",
    "a"
   ]
  },
  {
   "cell_type": "markdown",
   "id": "2c9daa4d",
   "metadata": {},
   "source": [
    "# 6345. Rearranging Fruits"
   ]
  },
  {
   "cell_type": "code",
   "execution_count": 146,
   "id": "f56efaa7",
   "metadata": {},
   "outputs": [],
   "source": [
    "class Solution:\n",
    "    def minCost(self, basket1: List[int], basket2: List[int]) -> int:\n",
    "        b1 = collections.Counter(basket1)\n",
    "        b2 = collections.Counter(basket2)\n",
    "        alls = b1 + b2\n",
    "        t1 = collections.Counter()\n",
    "        t2 = collections.Counter()\n",
    "        for key, value in alls.items():\n",
    "            if value % 2:\n",
    "                return -1\n",
    "            if b1[key] < value//2:\n",
    "                t1[key] = value//2-b1[key]\n",
    "            if b2[key] < value//2:\n",
    "                t2[key] = value//2-b2[key]\n",
    "        \n",
    "        ret = 0\n",
    "        print(t1, t2)\n",
    "        key1 = sorted(t1.keys())\n",
    "        key2 = sorted(t2.keys())\n",
    "        j = len(key2)-1\n",
    "        mins = min(min(basket1), min(basket2))\n",
    "        for key in key1:\n",
    "            nums = t1[key]\n",
    "            while nums:\n",
    "                if t2[key2[j]] >= nums:\n",
    "                    t2[key2[j]] -= nums\n",
    "                    ret += min(key2[j], key, mins*2) * nums\n",
    "                    nums =0\n",
    "                else:\n",
    "                    ret += min(key2[j], key, mins*2) * t2[key2[j]]\n",
    "                    nums -= t2[key2[j]]\n",
    "                    j -= 1\n",
    "        return ret"
   ]
  },
  {
   "cell_type": "code",
   "execution_count": 147,
   "id": "703ab280",
   "metadata": {},
   "outputs": [],
   "source": [
    "basket1 = [84,80,43,8,80,88,43,14,100,88]\n",
    "basket2 = [32,32,42,68,68,100,42,84,14,8]"
   ]
  },
  {
   "cell_type": "code",
   "execution_count": 148,
   "id": "ceb7f74a",
   "metadata": {},
   "outputs": [
    {
     "name": "stdout",
     "output_type": "stream",
     "text": [
      "Counter({32: 1, 42: 1, 68: 1}) Counter({80: 1, 43: 1, 88: 1})\n"
     ]
    },
    {
     "data": {
      "text/plain": [
       "48"
      ]
     },
     "execution_count": 148,
     "metadata": {},
     "output_type": "execute_result"
    }
   ],
   "source": [
    "a = Solution().minCost(basket1, basket2)\n",
    "a"
   ]
  },
  {
   "cell_type": "code",
   "execution_count": 162,
   "id": "1f8b460e",
   "metadata": {},
   "outputs": [],
   "source": [
    "class Solution:\n",
    "    def minCost(self, basket1: List[int], basket2: List[int]) -> int:\n",
    "        counter1, counter2 = Counter(basket1), Counter(basket2)\n",
    "        counter = counter1 + counter2\n",
    "        if any(v & 1 for v in counter.values()):  # 每种必须是偶数\n",
    "            return -1\n",
    "        target = Counter({k: v // 2 for k, v in counter.items()})\n",
    "        diff1 = sorted((target - counter1).elements())  # 缺少的\n",
    "        diff2 = sorted((counter1 - target).elements(), reverse=True)  # 多出的\n",
    "        min_ = min(counter)\n",
    "        return sum(min(a, b, min_ * 2) for a, b in zip(diff1, diff2))  "
   ]
  },
  {
   "cell_type": "code",
   "execution_count": 163,
   "id": "3ad58c5d",
   "metadata": {},
   "outputs": [
    {
     "data": {
      "text/plain": [
       "1"
      ]
     },
     "execution_count": 163,
     "metadata": {},
     "output_type": "execute_result"
    }
   ],
   "source": [
    "a = Solution().minCost(basket1, basket2)\n",
    "a"
   ]
  },
  {
   "cell_type": "code",
   "execution_count": 156,
   "id": "af754c81",
   "metadata": {},
   "outputs": [],
   "source": [
    "basket1 = [4,2,2,2]; basket2 = [1,4,1,2]"
   ]
  },
  {
   "cell_type": "code",
   "execution_count": null,
   "id": "667d15e4",
   "metadata": {},
   "outputs": [],
   "source": []
  }
 ],
 "metadata": {
  "kernelspec": {
   "display_name": "Python 3 (ipykernel)",
   "language": "python",
   "name": "python3"
  },
  "language_info": {
   "codemirror_mode": {
    "name": "ipython",
    "version": 3
   },
   "file_extension": ".py",
   "mimetype": "text/x-python",
   "name": "python",
   "nbconvert_exporter": "python",
   "pygments_lexer": "ipython3",
   "version": "3.8.8"
  },
  "toc": {
   "base_numbering": 1,
   "nav_menu": {},
   "number_sections": true,
   "sideBar": true,
   "skip_h1_title": false,
   "title_cell": "Table of Contents",
   "title_sidebar": "Contents",
   "toc_cell": false,
   "toc_position": {},
   "toc_section_display": true,
   "toc_window_display": false
  }
 },
 "nbformat": 4,
 "nbformat_minor": 5
}
