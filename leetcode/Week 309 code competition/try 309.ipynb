{
 "cells": [
  {
   "cell_type": "code",
   "execution_count": 1,
   "id": "8ec0906c",
   "metadata": {},
   "outputs": [],
   "source": [
    "from typing import List\n",
    "import heapq\n",
    "import collections\n",
    "import math\n",
    "import functools"
   ]
  },
  {
   "cell_type": "markdown",
   "id": "bc8c8105",
   "metadata": {},
   "source": [
    "# 6167. Check Distances Between Same Letters"
   ]
  },
  {
   "cell_type": "code",
   "execution_count": 11,
   "id": "e6a12f04",
   "metadata": {},
   "outputs": [],
   "source": [
    "class Solution:\n",
    "    def checkDistances(self, s: str, distance: List[int]) -> bool:\n",
    "        visited = set()\n",
    "        for i, n in enumerate(s):\n",
    "            if n not in visited:\n",
    "                visited.add(n)\n",
    "                print(n, ord(n)-97)\n",
    "                nxt = i + distance[ord(n)-97] + 1\n",
    "                if nxt >= len(s) or s[nxt] != n:\n",
    "                    return False\n",
    "        return True"
   ]
  },
  {
   "cell_type": "code",
   "execution_count": 12,
   "id": "dd5faaab",
   "metadata": {},
   "outputs": [],
   "source": [
    "s = \"aa\"\n",
    "distance = [1,0,0,0,0,0,0,0,0,0,0,0,0,0,0,0,0,0,0,0,0,0,0,0,0,0]"
   ]
  },
  {
   "cell_type": "code",
   "execution_count": 13,
   "id": "2df667c8",
   "metadata": {},
   "outputs": [
    {
     "name": "stdout",
     "output_type": "stream",
     "text": [
      "a 0\n"
     ]
    },
    {
     "data": {
      "text/plain": [
       "False"
      ]
     },
     "execution_count": 13,
     "metadata": {},
     "output_type": "execute_result"
    }
   ],
   "source": [
    "a = Solution().checkDistances(s, distance)\n",
    "a"
   ]
  },
  {
   "cell_type": "markdown",
   "id": "b8525e52",
   "metadata": {},
   "source": [
    "# 6168. Number of Ways to Reach a Position After Exactly k Steps"
   ]
  },
  {
   "cell_type": "code",
   "execution_count": 16,
   "id": "9d0f147f",
   "metadata": {},
   "outputs": [],
   "source": [
    "class Solution:\n",
    "    def numberOfWays(self, startPos: int, endPos: int, k: int) -> int:\n",
    "        dp = [0] * 3001\n",
    "        dp[startPos + 1000] = 1\n",
    "        mod = 10 ** 9 + 7\n",
    "        for _ in range(k):\n",
    "            ndp = [float(\"inf\")] * (3001)\n",
    "            for i in range(1, len(dp)-1):\n",
    "                ndp[i] = (dp[i-1] + dp[i+1]) % mod\n",
    "            dp = ndp\n",
    "        return dp[endPos+1000]"
   ]
  },
  {
   "cell_type": "code",
   "execution_count": 52,
   "id": "ab09dbe5",
   "metadata": {},
   "outputs": [],
   "source": [
    "class Solution:\n",
    "    def numberOfWays(self, startPos: int, endPos: int, k: int) -> int:\n",
    "        MOD = 10 ** 9 + 7\n",
    "        @cache\n",
    "        def f(x: int, left: int) -> int:\n",
    "            if abs(x - endPos) > left: return 0\n",
    "            if left == 0: return 1\n",
    "            return (f(x - 1, left - 1) + f(x + 1, left - 1)) % MOD\n",
    "        return f(startPos, k)"
   ]
  },
  {
   "cell_type": "code",
   "execution_count": 50,
   "id": "632261d6",
   "metadata": {},
   "outputs": [],
   "source": [
    "class Combination:\n",
    "    def __init__(self, n, mod):\n",
    "        self.mod = mod\n",
    "        self.fac = [1] * (n + 1)\n",
    "        self.inv = [1] * (n + 1)\n",
    "        for i in range(1, n + 1):\n",
    "            self.fac[i] = self.fac[i - 1] * i % self.mod\n",
    "        self.inv[n] = pow(self.fac[n], self.mod - 2, self.mod)\n",
    "        for i in range(n - 1, 0, -1):\n",
    "            self.inv[i] = self.inv[i + 1] * (i + 1) % self.mod\n",
    "\n",
    "    def C(self, n, r):\n",
    "        if n < r:\n",
    "            return 0\n",
    "        if n < 0 or r < 0:\n",
    "            return 0\n",
    "        return self.fac[n] * self.inv[r] % self.mod * self.inv[n - r] % self.mod\n",
    "\n",
    "    def P(self, n, r):\n",
    "        if n < r:\n",
    "            return 0\n",
    "        if n < 0 or r < 0:\n",
    "            return 0\n",
    "        return self.fac[n] * self.inv[n - r] % self.mod\n",
    "\n",
    "    def H(self, n, r):\n",
    "        return self.C(n + r - 1, r - 1)"
   ]
  },
  {
   "cell_type": "code",
   "execution_count": 51,
   "id": "ee82aa3e",
   "metadata": {},
   "outputs": [],
   "source": [
    "class Solution:\n",
    "    def numberOfWays(self, startPos: int, endPos: int, k: int) -> int:\n",
    "        d = abs(startPos - endPos)\n",
    "        if (d+k) % 2 or d > k:\n",
    "            return 0\n",
    "        mod = 10 ** 9 + 7\n",
    "        c = Combination(k, mod)\n",
    "        return c.C(k, (d+k)//2)"
   ]
  },
  {
   "cell_type": "markdown",
   "id": "e783a1ac",
   "metadata": {},
   "source": [
    "# 6169. Longest Nice Subarray"
   ]
  },
  {
   "cell_type": "code",
   "execution_count": 33,
   "id": "eddcd91c",
   "metadata": {},
   "outputs": [],
   "source": [
    "class Solution:\n",
    "    def longestNiceSubarray(self, nums: List[int]) -> int:\n",
    "        sums = 0\n",
    "        ret = 1\n",
    "        s = 0\n",
    "        l = 0\n",
    "        for num in nums:\n",
    "            while sums ^ num != sums + num:\n",
    "                sums ^= nums[l]\n",
    "                l += 1\n",
    "                s -= 1\n",
    "                \n",
    "            sums += num\n",
    "            s += 1\n",
    "            ret = max(ret, s)\n",
    "        return ret"
   ]
  },
  {
   "cell_type": "code",
   "execution_count": 34,
   "id": "7f0ef88a",
   "metadata": {},
   "outputs": [],
   "source": [
    "nums = [84139415,693324769,614626365,497710833,615598711,264,65552,50331652,1,1048576,16384,544,270532608,151813349,221976871,678178917,845710321,751376227,331656525,739558112,267703680]"
   ]
  },
  {
   "cell_type": "code",
   "execution_count": 35,
   "id": "67329d9f",
   "metadata": {},
   "outputs": [
    {
     "data": {
      "text/plain": [
       "8"
      ]
     },
     "execution_count": 35,
     "metadata": {},
     "output_type": "execute_result"
    }
   ],
   "source": [
    "a = Solution().longestNiceSubarray(nums)\n",
    "a"
   ]
  },
  {
   "cell_type": "markdown",
   "id": "f3c1caea",
   "metadata": {},
   "source": [
    "# 6170. Meeting Rooms III"
   ]
  },
  {
   "cell_type": "code",
   "execution_count": 47,
   "id": "5bf2e51f",
   "metadata": {},
   "outputs": [],
   "source": [
    "class Solution:\n",
    "    def mostBooked(self, n: int, meetings: List[List[int]]) -> int:\n",
    "        q = []\n",
    "        ret = [0] * n\n",
    "        for i in range(n):\n",
    "            heapq.heappush(q, [0, i])\n",
    "        \n",
    "        meetings.sort()\n",
    "        for start, end in meetings:\n",
    "            while q and q[0][0] < start:\n",
    "                e, idx = heapq.heappop(q)\n",
    "                heapq.heappush(q, [start, idx])\n",
    "            e, idx = heapq.heappop(q)\n",
    "            ret[idx] += 1\n",
    "            heapq.heappush(q, [max(start, e) + (end-start), idx])\n",
    "        \n",
    "        ans = 0\n",
    "        maxs = ret[0]\n",
    "        for i, n in enumerate(ret):\n",
    "            if n > maxs:\n",
    "                ans = i\n",
    "                maxs = n\n",
    "        return ans"
   ]
  },
  {
   "cell_type": "code",
   "execution_count": 48,
   "id": "7171dec9",
   "metadata": {},
   "outputs": [],
   "source": [
    "n = 3\n",
    "meetings = [[1,20],[2,10],[3,5],[4,9],[6,8]]"
   ]
  },
  {
   "cell_type": "code",
   "execution_count": 49,
   "id": "a38c4868",
   "metadata": {},
   "outputs": [
    {
     "data": {
      "text/plain": [
       "1"
      ]
     },
     "execution_count": 49,
     "metadata": {},
     "output_type": "execute_result"
    }
   ],
   "source": [
    "a = Solution().mostBooked(n, meetings)\n",
    "a"
   ]
  },
  {
   "cell_type": "code",
   "execution_count": null,
   "id": "374a643a",
   "metadata": {},
   "outputs": [],
   "source": []
  }
 ],
 "metadata": {
  "kernelspec": {
   "display_name": "Python 3 (ipykernel)",
   "language": "python",
   "name": "python3"
  },
  "language_info": {
   "codemirror_mode": {
    "name": "ipython",
    "version": 3
   },
   "file_extension": ".py",
   "mimetype": "text/x-python",
   "name": "python",
   "nbconvert_exporter": "python",
   "pygments_lexer": "ipython3",
   "version": "3.8.8"
  },
  "toc": {
   "base_numbering": 1,
   "nav_menu": {},
   "number_sections": true,
   "sideBar": true,
   "skip_h1_title": false,
   "title_cell": "Table of Contents",
   "title_sidebar": "Contents",
   "toc_cell": false,
   "toc_position": {},
   "toc_section_display": true,
   "toc_window_display": false
  }
 },
 "nbformat": 4,
 "nbformat_minor": 5
}
