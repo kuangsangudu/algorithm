{
 "cells": [
  {
   "cell_type": "code",
   "execution_count": 2,
   "id": "1c91cdd8",
   "metadata": {},
   "outputs": [],
   "source": [
    "import math\n",
    "from typing import *\n",
    "import collections\n",
    "import heapq\n",
    "import bisect"
   ]
  },
  {
   "cell_type": "markdown",
   "id": "b8411f39",
   "metadata": {},
   "source": [
    "# 2278. Percentage of Letter in String"
   ]
  },
  {
   "cell_type": "code",
   "execution_count": 2,
   "id": "0a8d8b64",
   "metadata": {},
   "outputs": [],
   "source": [
    "class Solution:\n",
    "    def percentageLetter(self, s: str, letter: str) -> int:\n",
    "        re = collections.Counter(s)\n",
    "        return int(re[letter]/len(s) * 100)"
   ]
  },
  {
   "cell_type": "markdown",
   "id": "7ed99188",
   "metadata": {},
   "source": [
    "# 2279. Maximum Bags With Full Capacity of Rocks"
   ]
  },
  {
   "cell_type": "code",
   "execution_count": 3,
   "id": "4bb1c6fb",
   "metadata": {},
   "outputs": [],
   "source": [
    "class Solution:\n",
    "    def maximumBags(self, capacity: List[int], rocks: List[int], additionalRocks: int) -> int:\n",
    "        re = collections.defaultdict(int)\n",
    "        for i in range(len(capacity)):\n",
    "            re[capacity[i] - rocks[i]] += 1\n",
    "        ret = 0\n",
    "        for key in sorted(re.keys()):\n",
    "            if key * re[key] <= additionalRocks:\n",
    "                ret += re[key]\n",
    "            else:\n",
    "                ret += additionalRocks//key\n",
    "                break\n",
    "            additionalRocks -= key * re[key]\n",
    "        return ret"
   ]
  },
  {
   "cell_type": "markdown",
   "id": "18771b7d",
   "metadata": {},
   "source": [
    "# 2280. Minimum Lines to Represent a Line Chart"
   ]
  },
  {
   "cell_type": "code",
   "execution_count": 18,
   "id": "34b5ca5c",
   "metadata": {},
   "outputs": [],
   "source": [
    "class Solution:\n",
    "    def minimumLines(self, stockPrices: List[List[int]]) -> int:\n",
    "        stockPrices.sort()\n",
    "        pre = float(\"inf\")\n",
    "        ret = 0\n",
    "        for i in range(1, len(stockPrices)):\n",
    "            new = (stockPrices[i][1] - stockPrices[i-1][1]) / (stockPrices[i][0] - stockPrices[i-1][0])if stockPrices[i][1]!=stockPrices[i-1][1] else 0\n",
    "            if new == pre:\n",
    "                continue\n",
    "            else:\n",
    "                ret += 1\n",
    "                pre = new\n",
    "        return ret"
   ]
  },
  {
   "cell_type": "code",
   "execution_count": 19,
   "id": "3f26b861",
   "metadata": {},
   "outputs": [],
   "source": [
    "stockPrices = [[72,98],[62,27],[32,7],[71,4],[25,19],[91,30],[52,73],[10,9],[99,71],[47,22],[19,30],[80,63],[18,15],[48,17],[77,16],[46,27],[66,87],[55,84],[65,38],[30,9],[50,42],[100,60],[75,73],[98,53],[22,80],[41,61],[37,47],[95,8],[51,81],[78,79],[57,95]]"
   ]
  },
  {
   "cell_type": "code",
   "execution_count": null,
   "id": "269b9928",
   "metadata": {},
   "outputs": [],
   "source": [
    "from fractions import Fraction\n",
    "class Solution:\n",
    "    def minimumLines(self, stockPrices: List[List[int]]) -> int:\n",
    "        stockPrices.sort()\n",
    "        pre = float(\"inf\")\n",
    "        ret = 0\n",
    "        for i in range(1, len(stockPrices)):\n",
    "            new = Fraction(stockPrices[i][1] - stockPrices[i-1][1], stockPrices[i][0] - stockPrices[i-1][0])if stockPrices[i][0]!=stockPrices[i-1][0] else float(\"inf\")\n",
    "            if new == pre:\n",
    "                continue\n",
    "            else:\n",
    "                ret += 1\n",
    "                pre = new\n",
    "        return ret"
   ]
  },
  {
   "cell_type": "code",
   "execution_count": 20,
   "id": "e504b952",
   "metadata": {},
   "outputs": [
    {
     "data": {
      "text/plain": [
       "29"
      ]
     },
     "execution_count": 20,
     "metadata": {},
     "output_type": "execute_result"
    }
   ],
   "source": [
    "a = Solution().minimumLines(stockPrices)\n",
    "a"
   ]
  },
  {
   "cell_type": "code",
   "execution_count": 3,
   "id": "408c1632",
   "metadata": {},
   "outputs": [],
   "source": [
    "class Solution:\n",
    "    def minimumLines(self, stockPrices: List[List[int]]) -> int:\n",
    "        stockPrices.sort(key=lambda x: x[0])  # 按照 day 排序\n",
    "        ans, pre_dy, pre_dx = 0, 1, 0\n",
    "        for (x1, y1), (x2, y2) in pairwise(stockPrices):\n",
    "            dy, dx = y2 - y1, x2 - x1\n",
    "            if dy * pre_dx != pre_dy * dx:  # 与上一条线段的斜率不同\n",
    "                ans += 1\n",
    "                pre_dy, pre_dx = dy, dx\n",
    "        return ans"
   ]
  },
  {
   "cell_type": "markdown",
   "id": "9426ef38",
   "metadata": {},
   "source": [
    "# 2281. Sum of Total Strength of Wizards"
   ]
  },
  {
   "cell_type": "code",
   "execution_count": 238,
   "id": "ca4c714c",
   "metadata": {},
   "outputs": [],
   "source": [
    "class Solution:\n",
    "    def totalStrength(self, strength: List[int]) -> int:\n",
    "        lens = len(strength)\n",
    "        re = [[float(\"inf\"), float(\"inf\")] for _ in range(lens)]\n",
    "        r = []\n",
    "        for i, n in enumerate(strength):\n",
    "            while r and r[-1][0] >= n:\n",
    "                _, j = r.pop()\n",
    "                re[j][1] = i-1\n",
    "            r.append([n, i])\n",
    "        for n, i in r:\n",
    "            re[i][1] = lens-1\n",
    "        \n",
    "        r = []\n",
    "        for i in range(lens-1, -1, -1):\n",
    "            n = strength[i]\n",
    "            while r and r[-1][0] > n:\n",
    "                _, j = r.pop()\n",
    "                re[j][0] = i+1\n",
    "            r.append([n, i])       \n",
    "        for n, i in r:\n",
    "            re[i][0] = 0\n",
    "            \n",
    "        sums = [0]\n",
    "        sumss = [0, 0]\n",
    "        for s in strength:\n",
    "            sums.append(sums[-1] + s)\n",
    "            sumss.append(sumss[-1]+sums[-1])\n",
    "            \n",
    "        ret = 0\n",
    "        Mod = 10**9+7\n",
    "        for i, (p, n) in enumerate(re):\n",
    "            print(i, p, n, (sumss[n+2]-sumss[i+1]) *(i-p+1) - (sumss[i+1] - sumss[p]) *(n-i+1))\n",
    "            ret = (ret + strength[i] *((sumss[n+2]-sumss[i+1]) *(i-p+1) - (sumss[i+1] - sumss[p]) *(n-i+1))) % Mod\n",
    "        return ret"
   ]
  },
  {
   "cell_type": "code",
   "execution_count": 239,
   "id": "33bf1126",
   "metadata": {},
   "outputs": [],
   "source": [
    "strength = [1,3,1,2]"
   ]
  },
  {
   "cell_type": "code",
   "execution_count": 240,
   "id": "0f9b3afc",
   "metadata": {},
   "outputs": [
    {
     "name": "stdout",
     "output_type": "stream",
     "text": [
      "[0, 0, 1, 5, 10, 17] [0, 1, 4, 5, 7]\n",
      "0 0 1 5\n",
      "1 1 1 3\n",
      "2 0 3 26\n",
      "3 3 3 2\n"
     ]
    },
    {
     "data": {
      "text/plain": [
       "44"
      ]
     },
     "execution_count": 240,
     "metadata": {},
     "output_type": "execute_result"
    }
   ],
   "source": [
    "a = Solution().totalStrength(strength)\n",
    "a"
   ]
  },
  {
   "cell_type": "code",
   "execution_count": 233,
   "id": "c57e0dc8",
   "metadata": {},
   "outputs": [],
   "source": [
    "class Solution:\n",
    "    def totalStrength(self, strength: List[int]) -> int:\n",
    "        MOD = 10 ** 9 + 7\n",
    "\n",
    "        n = len(strength)\n",
    "        left, st = [-1] * n, []  # left[i] 为左侧严格小于 strength[i] 的最近元素位置（不存在时为 -1）\n",
    "        for i, v in enumerate(strength):\n",
    "            while st and strength[st[-1]] >= v: st.pop()\n",
    "            if st: left[i] = st[-1]\n",
    "            st.append(i)\n",
    "\n",
    "        right, st = [n] * n, []  # right[i] 为右侧小于等于 strength[i] 的最近元素位置（不存在时为 n）\n",
    "        for i in range(n - 1, -1, -1):\n",
    "            while st and strength[st[-1]] > strength[i]: st.pop()\n",
    "            if st: right[i] = st[-1]\n",
    "            st.append(i)\n",
    "\n",
    "        s = [0] * (n + 1)  # 前缀和\n",
    "        for i, v in enumerate(strength):\n",
    "            s[i + 1] = (s[i] + v) % MOD\n",
    "        ss = [0] * (n + 2)  # 前缀和的前缀和\n",
    "        for i, v in enumerate(s):\n",
    "            ss[i + 1] = (ss[i] + v) % MOD\n",
    "\n",
    "        ans = 0\n",
    "        print(s, ss)\n",
    "        for i, v in enumerate(strength):\n",
    "            l, r = left[i] + 1, right[i] - 1  # [l, r]  左闭右闭\n",
    "            print(i, l, r)\n",
    "            res = ((i - l + 1) * (ss[r + 2] - ss[i + 1]) - (r - i + 1) * (ss[i + 1] - ss[l])) % MOD\n",
    "            print(res)\n",
    "            ans = (ans + res * v) % MOD  # 累加贡献\n",
    "        return ans"
   ]
  },
  {
   "cell_type": "code",
   "execution_count": 234,
   "id": "5cae77e6",
   "metadata": {},
   "outputs": [
    {
     "name": "stdout",
     "output_type": "stream",
     "text": [
      "[0, 1, 4, 5, 7] [0, 0, 1, 5, 10, 17]\n",
      "0 0 1\n",
      "5\n",
      "1 1 1\n",
      "3\n",
      "2 0 3\n",
      "26\n",
      "3 3 3\n",
      "2\n"
     ]
    },
    {
     "data": {
      "text/plain": [
       "44"
      ]
     },
     "execution_count": 234,
     "metadata": {},
     "output_type": "execute_result"
    }
   ],
   "source": [
    "a = Solution().totalStrength(strength)\n",
    "a"
   ]
  },
  {
   "cell_type": "code",
   "execution_count": null,
   "id": "41661835",
   "metadata": {},
   "outputs": [],
   "source": []
  },
  {
   "cell_type": "code",
   "execution_count": null,
   "id": "786124a1",
   "metadata": {},
   "outputs": [],
   "source": []
  }
 ],
 "metadata": {
  "kernelspec": {
   "display_name": "Python 3 (ipykernel)",
   "language": "python",
   "name": "python3"
  },
  "language_info": {
   "codemirror_mode": {
    "name": "ipython",
    "version": 3
   },
   "file_extension": ".py",
   "mimetype": "text/x-python",
   "name": "python",
   "nbconvert_exporter": "python",
   "pygments_lexer": "ipython3",
   "version": "3.8.8"
  },
  "toc": {
   "base_numbering": 1,
   "nav_menu": {},
   "number_sections": true,
   "sideBar": true,
   "skip_h1_title": false,
   "title_cell": "Table of Contents",
   "title_sidebar": "Contents",
   "toc_cell": false,
   "toc_position": {},
   "toc_section_display": true,
   "toc_window_display": false
  }
 },
 "nbformat": 4,
 "nbformat_minor": 5
}
