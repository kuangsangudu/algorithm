{
 "cells": [
  {
   "cell_type": "code",
   "execution_count": 1,
   "id": "2cb6288c",
   "metadata": {},
   "outputs": [],
   "source": [
    "from typing import *\n",
    "import heapq\n",
    "import math\n",
    "import collections"
   ]
  },
  {
   "cell_type": "markdown",
   "id": "d7d70d07",
   "metadata": {},
   "source": [
    "# 6078. Rearrange Characters to Make Target String"
   ]
  },
  {
   "cell_type": "code",
   "execution_count": 16,
   "id": "8d5befff",
   "metadata": {},
   "outputs": [],
   "source": [
    "class Solution:\n",
    "    def rearrangeCharacters(self, s: str, target: str) -> int:\n",
    "        ret = float(\"inf\")\n",
    "        t = collections.Counter(target)\n",
    "        c = collections.Counter(s)\n",
    "        for key, value in t.items():\n",
    "            ret = min(ret, c.get(key, 0)//value)\n",
    "        return ret"
   ]
  },
  {
   "cell_type": "code",
   "execution_count": 17,
   "id": "364c0ee1",
   "metadata": {},
   "outputs": [],
   "source": [
    "s = \"ilovecodingonleetcode\"; target = \"code\""
   ]
  },
  {
   "cell_type": "code",
   "execution_count": 18,
   "id": "25beb410",
   "metadata": {},
   "outputs": [
    {
     "name": "stdout",
     "output_type": "stream",
     "text": [
      "c 1 1\n",
      "o 1 1\n",
      "d 1 1\n",
      "e 1 1\n",
      "Counter({'o': 4, 'e': 4, 'i': 2, 'l': 2, 'c': 2, 'd': 2, 'n': 2, 'v': 1, 'g': 1, 't': 1}) Counter({'c': 1, 'o': 1, 'd': 1, 'e': 1})\n"
     ]
    },
    {
     "data": {
      "text/plain": [
       "2"
      ]
     },
     "execution_count": 18,
     "metadata": {},
     "output_type": "execute_result"
    }
   ],
   "source": [
    "a = Solution().rearrangeCharacters(s, target)\n",
    "a"
   ]
  },
  {
   "cell_type": "markdown",
   "id": "82be4af1",
   "metadata": {},
   "source": [
    "# 6079. Apply Discount to Prices"
   ]
  },
  {
   "cell_type": "code",
   "execution_count": 52,
   "id": "86bcee2c",
   "metadata": {},
   "outputs": [],
   "source": [
    "class Solution:\n",
    "    def discountPrices(self, sentence: str, discount: int) -> str:\n",
    "        sentence = sentence.split(\" \")\n",
    "        for i in range(len(sentence)):\n",
    "            if sentence[i][0] == \"$\":\n",
    "                if not sentence[i][1:].isdecimal():\n",
    "                    continue\n",
    "                sentence[i] = \"$\" + \"%.2f\"%(int(sentence[i][1:]) * (100-discount)/100)\n",
    "        return \" \".join(sentence)"
   ]
  },
  {
   "cell_type": "code",
   "execution_count": 53,
   "id": "809af68d",
   "metadata": {},
   "outputs": [],
   "source": [
    "sentence = \"there are $1 $2 and 5$ candies in the shop\"; discount = 50"
   ]
  },
  {
   "cell_type": "code",
   "execution_count": 54,
   "id": "dc83cb6c",
   "metadata": {},
   "outputs": [
    {
     "data": {
      "text/plain": [
       "'there are $0.50 $1.00 and 5$ candies in the shop'"
      ]
     },
     "execution_count": 54,
     "metadata": {},
     "output_type": "execute_result"
    }
   ],
   "source": [
    "a = Solution().discountPrices(sentence, discount)\n",
    "a"
   ]
  },
  {
   "cell_type": "code",
   "execution_count": 45,
   "id": "430488b9",
   "metadata": {},
   "outputs": [],
   "source": [
    "sentence = \"$76111 ab $6 $\"\n",
    "discount = 48"
   ]
  },
  {
   "cell_type": "markdown",
   "id": "1c23da63",
   "metadata": {},
   "source": [
    "# 6080. Steps to Make Array Non-decreasing"
   ]
  },
  {
   "cell_type": "code",
   "execution_count": 66,
   "id": "d81abecd",
   "metadata": {},
   "outputs": [],
   "source": [
    "class Solution:\n",
    "    def totalSteps(self, nums: List[int]) -> int:\n",
    "        ret = 0\n",
    "        while True:\n",
    "            re = []\n",
    "            flag = True\n",
    "            for i in range(len(nums)):\n",
    "                num = nums[i]\n",
    "                if i and nums[i-1] > num:\n",
    "                    flag = False\n",
    "                    continue\n",
    "                re.append(num)\n",
    "            ret += 1\n",
    "            if flag:\n",
    "                break\n",
    "            nums = re\n",
    "        return ret-1"
   ]
  },
  {
   "cell_type": "code",
   "execution_count": 268,
   "id": "f86b6d10",
   "metadata": {},
   "outputs": [],
   "source": [
    "class Solution:\n",
    "    def totalSteps(self, nums: List[int]) -> int:\n",
    "        ans, st = 0, []\n",
    "        for num in nums:\n",
    "            max_t = 0\n",
    "            while st and st[-1][0] <= num:\n",
    "                max_t = max(max_t, st.pop()[1])\n",
    "            if st: max_t += 1\n",
    "            ans = max(ans, max_t)\n",
    "            st.append((num, max_t))\n",
    "        return ans"
   ]
  },
  {
   "cell_type": "code",
   "execution_count": 287,
   "id": "9bae38d1",
   "metadata": {},
   "outputs": [],
   "source": [
    "class Solution:\n",
    "    def totalSteps(self, nums: List[int]) -> int:\n",
    "        nums.append(float(\"inf\"))\n",
    "        lens = len(nums)\n",
    "        rem = [1] * lens\n",
    "        nex = list(range(1, lens+1))\n",
    "        v = []\n",
    "        for i in range(lens-2, -1, -1):\n",
    "            if nums[i] > nums[i+1]:\n",
    "                v.append(i)\n",
    "        opt = 0\n",
    "        while True:\n",
    "            newv = []\n",
    "            for q in v:\n",
    "                if rem[q] and nums[q] > nums[nex[q]]:\n",
    "                    rem[nex[q]] = 0\n",
    "                    nex[q] = nex[nex[q]]\n",
    "                    newv.append(q)\n",
    "            if newv:\n",
    "                v, newv = newv, v\n",
    "                opt += 1\n",
    "            else:\n",
    "                return opt"
   ]
  },
  {
   "cell_type": "code",
   "execution_count": 285,
   "id": "79f8f88d",
   "metadata": {},
   "outputs": [],
   "source": [
    "nums = [10,6,5,10,15]"
   ]
  },
  {
   "cell_type": "code",
   "execution_count": 288,
   "id": "eb1df349",
   "metadata": {},
   "outputs": [],
   "source": [
    "nums = [4, 3, 2, 1]"
   ]
  },
  {
   "cell_type": "code",
   "execution_count": 290,
   "id": "352c0f0e",
   "metadata": {},
   "outputs": [],
   "source": [
    "nums = [5,3,4,4,7,3,6,11,8,5,11]"
   ]
  },
  {
   "cell_type": "code",
   "execution_count": 291,
   "id": "a78b83de",
   "metadata": {},
   "outputs": [
    {
     "data": {
      "text/plain": [
       "3"
      ]
     },
     "execution_count": 291,
     "metadata": {},
     "output_type": "execute_result"
    }
   ],
   "source": [
    "a = Solution().totalSteps(nums)\n",
    "a"
   ]
  },
  {
   "cell_type": "markdown",
   "id": "57b317c3",
   "metadata": {},
   "source": [
    "# 6081. Minimum Obstacle Removal to Reach Corner"
   ]
  },
  {
   "cell_type": "code",
   "execution_count": 134,
   "id": "c5922632",
   "metadata": {},
   "outputs": [],
   "source": [
    "class Solution:\n",
    "    def minimumObstacles(self, grid: List[List[int]]) -> int:              \n",
    "        leny = len(grid)\n",
    "        lenx = len(grid[0])\n",
    "        dis = [[float(\"inf\") for _ in range(len(grid[0]))] for _ in range(len(grid))]\n",
    "        dis[0][0] = 0\n",
    "        Q =[[0, 0, 0]]\n",
    "        visited = set()\n",
    "        while Q:\n",
    "            s, i, j = heapq.heappop(Q)\n",
    "            if i == leny-1 and j == lenx-1:\n",
    "                return s\n",
    "            if s > dis[i][j]:\n",
    "                continue\n",
    "            for m, n in [[i+1, j], [i-1, j], [i, j-1], [i, j+1]]:\n",
    "                if 0 <= m < leny and 0 <= n < lenx and dis[m][n] > dis[i][j]+grid[m][n]:\n",
    "                    heapq.heappush(Q, [dis[i][j]+grid[m][n], m, n])\n",
    "                    dis[m][n] = dis[i][j]+grid[m][n]"
   ]
  },
  {
   "cell_type": "markdown",
   "id": "b5631a15",
   "metadata": {},
   "source": [
    "0-1 BFS"
   ]
  },
  {
   "cell_type": "code",
   "execution_count": 127,
   "id": "412cb872",
   "metadata": {},
   "outputs": [],
   "source": [
    "class Solution:\n",
    "    def minimumObstacles(self, grid: List[List[int]]) -> int:              \n",
    "        leny = len(grid)\n",
    "        lenx = len(grid[0])\n",
    "        dis = [[float(\"inf\") for _ in range(len(grid[0]))] for _ in range(len(grid))]\n",
    "        dis[0][0] = 0\n",
    "        Q = collections.deque([[0, 0]])\n",
    "        while Q:\n",
    "            i, j = Q.popleft()\n",
    "            for m, n in [[i+1, j], [i-1, j], [i, j-1], [i, j+1]]:\n",
    "                if 0 <= m < leny and 0 <= n < lenx and dis[m][n]==float(\"inf\"):\n",
    "                    dis[m][n] = dis[i][j] + grid[m][n]\n",
    "                    if grid[m][n] == 1:\n",
    "                        Q.append([m, n])\n",
    "                    else:\n",
    "                        Q.appendleft([m, n])\n",
    "        return dis[-1][-1]"
   ]
  },
  {
   "cell_type": "code",
   "execution_count": 135,
   "id": "4414f1bd",
   "metadata": {},
   "outputs": [],
   "source": [
    "grid = [[0,1,1],[1,1,0],[1,1,0]]"
   ]
  },
  {
   "cell_type": "code",
   "execution_count": 136,
   "id": "60258b46",
   "metadata": {},
   "outputs": [
    {
     "data": {
      "text/plain": [
       "2"
      ]
     },
     "execution_count": 136,
     "metadata": {},
     "output_type": "execute_result"
    }
   ],
   "source": [
    "a = Solution().minimumObstacles(grid)\n",
    "a"
   ]
  },
  {
   "cell_type": "code",
   "execution_count": 111,
   "id": "67e8299c",
   "metadata": {},
   "outputs": [],
   "source": [
    "grid = [[0,1,0,0,0],[0,1,0,1,0],[0,0,0,1,0]]"
   ]
  },
  {
   "cell_type": "code",
   "execution_count": null,
   "id": "f0da75e6",
   "metadata": {},
   "outputs": [],
   "source": []
  }
 ],
 "metadata": {
  "kernelspec": {
   "display_name": "Python 3 (ipykernel)",
   "language": "python",
   "name": "python3"
  },
  "language_info": {
   "codemirror_mode": {
    "name": "ipython",
    "version": 3
   },
   "file_extension": ".py",
   "mimetype": "text/x-python",
   "name": "python",
   "nbconvert_exporter": "python",
   "pygments_lexer": "ipython3",
   "version": "3.8.8"
  },
  "toc": {
   "base_numbering": 1,
   "nav_menu": {},
   "number_sections": true,
   "sideBar": true,
   "skip_h1_title": false,
   "title_cell": "Table of Contents",
   "title_sidebar": "Contents",
   "toc_cell": false,
   "toc_position": {},
   "toc_section_display": true,
   "toc_window_display": false
  }
 },
 "nbformat": 4,
 "nbformat_minor": 5
}
