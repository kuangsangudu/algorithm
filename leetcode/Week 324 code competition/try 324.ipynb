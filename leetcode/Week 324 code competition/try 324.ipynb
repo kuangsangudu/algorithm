{
 "cells": [
  {
   "cell_type": "code",
   "execution_count": 1,
   "id": "76f320e7",
   "metadata": {},
   "outputs": [],
   "source": [
    "from typing import *\n",
    "import math\n",
    "import collections\n",
    "import heapq\n",
    "import bisect\n",
    "import functools"
   ]
  },
  {
   "cell_type": "markdown",
   "id": "6c552806",
   "metadata": {},
   "source": [
    "# 6265. Count Pairs Of Similar Strings"
   ]
  },
  {
   "cell_type": "code",
   "execution_count": 2,
   "id": "1c8c8af1",
   "metadata": {},
   "outputs": [],
   "source": [
    "class Solution:\n",
    "    def similarPairs(self, words: List[str]) -> int:\n",
    "        ret = 0\n",
    "        for i, word1 in enumerate(words):\n",
    "            for j in range(i+1, len(words)):\n",
    "                if sorted(set(word1)) == sorted(set(words[j])):\n",
    "                    ret += 1\n",
    "        return ret"
   ]
  },
  {
   "cell_type": "code",
   "execution_count": 138,
   "id": "2a51df25",
   "metadata": {},
   "outputs": [],
   "source": [
    "class Solution:\n",
    "    def similarPairs(self, words: List[str]) -> int:\n",
    "        ans, cnt = 0, Counter()\n",
    "        for s in words:\n",
    "            mask = 0\n",
    "            for c in s:\n",
    "                mask |= 1 << (ord(c) - ord('a'))\n",
    "            ans += cnt[mask]\n",
    "            cnt[mask] += 1\n",
    "        return ans"
   ]
  },
  {
   "cell_type": "markdown",
   "id": "e5717c1c",
   "metadata": {},
   "source": [
    "# 6266. Smallest Value After Replacing With Sum of Prime Factors"
   ]
  },
  {
   "cell_type": "code",
   "execution_count": 12,
   "id": "ffeb0a4a",
   "metadata": {},
   "outputs": [],
   "source": [
    "class Solution:\n",
    "    def smallestValue(self, n: int) -> int:\n",
    "        \n",
    "        @functools.lru_cache(None)\n",
    "        def f(n):\n",
    "            if n == 1:\n",
    "                return 0\n",
    "            for i in range(2, n):\n",
    "                if n % i == 0:\n",
    "                    re = 0\n",
    "                    while n % i == 0:\n",
    "                        n //= i\n",
    "                        re += i\n",
    "                    return re + f(n)\n",
    "            return n\n",
    "        \n",
    "        pre, now = n, f(n)\n",
    "        mins = min(pre, now)\n",
    "        while pre != now:\n",
    "            pre, now = now, f(now)\n",
    "            mins = min(mins, now)\n",
    "        return mins"
   ]
  },
  {
   "cell_type": "code",
   "execution_count": 15,
   "id": "c235695a",
   "metadata": {},
   "outputs": [],
   "source": [
    "n = 3"
   ]
  },
  {
   "cell_type": "code",
   "execution_count": 16,
   "id": "b4de21f4",
   "metadata": {},
   "outputs": [
    {
     "data": {
      "text/plain": [
       "3"
      ]
     },
     "execution_count": 16,
     "metadata": {},
     "output_type": "execute_result"
    }
   ],
   "source": [
    "a = Solution().smallestValue(n)\n",
    "a"
   ]
  },
  {
   "cell_type": "markdown",
   "id": "29700b45",
   "metadata": {},
   "source": [
    "# 6267. Add Edges to Make Degrees of All Nodes Even"
   ]
  },
  {
   "cell_type": "code",
   "execution_count": 109,
   "id": "33b2b42f",
   "metadata": {},
   "outputs": [],
   "source": [
    "class Solution:\n",
    "    def isPossible(self, n: int, edges: List[List[int]]) -> bool:\n",
    "        graph = collections.defaultdict(list)\n",
    "        for edge in edges:\n",
    "            graph[edge[0]].append(edge[1])\n",
    "            graph[edge[1]].append(edge[0])\n",
    "\n",
    "        count = [key for key in graph.keys() if len(graph[key]) % 2]\n",
    "        if len(count) % 2 or len(count) > 4:\n",
    "            return False\n",
    "        if len(count) == 0:\n",
    "            return True\n",
    "        \n",
    "        c = collections.defaultdict(list)\n",
    "        for i in range(len(count)):\n",
    "            for j in range(i+1, len(count)):\n",
    "                if count[j] not in graph[count[i]]:\n",
    "                    c[i].append(j)\n",
    "                    c[j].append(i)\n",
    "\n",
    "        if len(count) == 2:\n",
    "            if c[0]:\n",
    "                return True\n",
    "            a = set(graph[count[0]] + graph[count[1]])\n",
    "            if len(a) < n:\n",
    "                return True\n",
    "            return False\n",
    "            \n",
    "        for p in itertools.permutations(range(4), 4):\n",
    "            if p[1] in c[p[0]] and p[3] in c[p[2]]:\n",
    "                return True\n",
    "        return False"
   ]
  },
  {
   "cell_type": "code",
   "execution_count": 86,
   "id": "0d37f023",
   "metadata": {},
   "outputs": [],
   "source": [
    "n = 21\n",
    "edges = [[2,19],[16,17],[8,14],[2,16],[12,20],[12,14],[16,18],[15,16],[10,21],[3,5],[13,18],[17,20],[14,17],[9,12],[5,15],[5,6],[3,7],[2,21],[10,13],[8,16],[7,18],[4,6],[9,1],[13,21],[18,20],[7,14],[4,19],[5,8],[3,11],[11,1],[7,12],[4,7],[3,16],[13,17],[17,19],[9,13],[7,19],[10,16],[4,13],[4,5],[2,15],[12,19],[11,16],[2,9],[11,17],[17,1],[16,21],[4,10],[10,14],[14,16],[4,1],[13,20],[5,20],[4,14],[4,21],[10,20],[2,14],[8,15],[4,8],[6,19],[15,1],[19,1],[8,19],[15,21],[3,12],[11,18],[9,17],[18,19],[7,21],[3,21],[16,19],[11,15],[5,1],[8,17],[3,15],[8,1],[10,19],[3,8],[6,16],[2,8],[5,18],[11,13],[11,20],[14,21],[6,20],[4,20],[12,13],[5,12],[10,11],[9,15],[3,19],[9,20],[14,18],[21,1],[13,19],[8,21],[2,13],[3,10],[9,18],[19,21],[6,7],[3,18],[2,18],[6,14],[3,17],[5,21],[14,20],[8,9],[16,1],[3,4],[13,1],[5,9],[4,15],[17,21],[20,21],[2,17],[13,14],[11,14],[9,16],[10,18],[6,15],[6,12],[3,13],[5,11],[6,1],[12,17],[8,10],[5,10],[8,18],[4,12],[10,1],[6,13],[4,18],[7,20],[7,16],[2,6],[12,21],[4,17],[15,18],[13,16],[15,20],[7,10],[6,10],[2,20],[7,15],[18,1],[12,1],[3,20],[7,1],[14,15],[4,9],[11,19],[7,9],[5,17],[18,21],[6,21],[8,11],[6,17],[3,14],[7,11],[5,7],[7,13],[6,8],[6,9],[10,12],[5,16],[2,4],[17,18],[9,11],[12,16],[3,6],[12,18],[3,9],[11,12],[14,19],[10,15],[5,13],[8,13],[15,17],[2,10],[11,21],[20,1],[6,18],[2,12],[19,20],[6,11],[8,12],[2,3],[12,15],[2,11],[9,10],[7,17],[9,19],[13,15],[7,8],[4,11],[2,5],[5,19],[16,20],[15,19],[9,14],[14,1],[10,17],[9,21],[2,7],[8,20],[5,14],[4,16]]"
   ]
  },
  {
   "cell_type": "code",
   "execution_count": 113,
   "id": "bf116546",
   "metadata": {},
   "outputs": [
    {
     "name": "stdout",
     "output_type": "stream",
     "text": [
      "[1, 2]\n"
     ]
    },
    {
     "data": {
      "text/plain": [
       "False"
      ]
     },
     "execution_count": 113,
     "metadata": {},
     "output_type": "execute_result"
    }
   ],
   "source": [
    "a = Solution().isPossible(n, edges)\n",
    "a"
   ]
  },
  {
   "cell_type": "code",
   "execution_count": 112,
   "id": "de9ab717",
   "metadata": {},
   "outputs": [],
   "source": [
    "n = 4\n",
    "edges = [[1,2],[2,3],[2,4],[3,4]]"
   ]
  },
  {
   "cell_type": "code",
   "execution_count": 110,
   "id": "f238b2fd",
   "metadata": {},
   "outputs": [],
   "source": [
    "n = 4\n",
    "edges = [[1,2],[2,3],[3,4],[4,1],[1,3]]"
   ]
  },
  {
   "cell_type": "markdown",
   "id": "837bfe30",
   "metadata": {},
   "source": [
    "# 6268. Cycle Length Queries in a Tree"
   ]
  },
  {
   "cell_type": "code",
   "execution_count": 135,
   "id": "de710a39",
   "metadata": {},
   "outputs": [],
   "source": [
    "def lowestCommonAncestor(p, q):\n",
    "    if p == 1 or q == 1:\n",
    "        return 1\n",
    "    \n",
    "    pp, qq = p, q\n",
    "    while p!=q:\n",
    "        p = p//2\n",
    "        q = q//2\n",
    "        if p == q:\n",
    "            return p\n",
    "        if p == 1:\n",
    "            p = qq\n",
    "        if q == 1:\n",
    "            q = pp\n",
    "    return p\n",
    "    \n",
    "class Solution:\n",
    "    def cycleLengthQueries(self, n: int, queries: List[List[int]]) -> List[int]:\n",
    "        ret = []\n",
    "        for l, r in queries:\n",
    "            root = lowestCommonAncestor(l, r)\n",
    "            ret.append(0)\n",
    "            while l != root:\n",
    "                l //= 2\n",
    "                ret[-1] += 1\n",
    "            while r >= root:\n",
    "                r //= 2\n",
    "                ret[-1] += 1\n",
    "        return ret"
   ]
  },
  {
   "cell_type": "code",
   "execution_count": 136,
   "id": "c78a828e",
   "metadata": {},
   "outputs": [],
   "source": [
    "n = 3; queries = [[5,3],[4,7],[2,3]]"
   ]
  },
  {
   "cell_type": "code",
   "execution_count": 137,
   "id": "b02c458e",
   "metadata": {},
   "outputs": [
    {
     "data": {
      "text/plain": [
       "[4, 5, 3]"
      ]
     },
     "execution_count": 137,
     "metadata": {},
     "output_type": "execute_result"
    }
   ],
   "source": [
    "a = Solution().cycleLengthQueries(n, queries)\n",
    "a"
   ]
  },
  {
   "cell_type": "code",
   "execution_count": 139,
   "id": "839103bb",
   "metadata": {},
   "outputs": [],
   "source": [
    "class Solution:\n",
    "    def cycleLengthQueries(self, n: int, queries: List[List[int]]) -> List[int]:\n",
    "        for i, (a, b) in enumerate(queries):\n",
    "            res = 1\n",
    "            while a != b:\n",
    "                if a > b: a //= 2\n",
    "                else: b //= 2\n",
    "                res += 1\n",
    "            queries[i] = res\n",
    "        return queries"
   ]
  },
  {
   "cell_type": "code",
   "execution_count": null,
   "id": "912ebadf",
   "metadata": {},
   "outputs": [],
   "source": []
  }
 ],
 "metadata": {
  "kernelspec": {
   "display_name": "Python 3 (ipykernel)",
   "language": "python",
   "name": "python3"
  },
  "language_info": {
   "codemirror_mode": {
    "name": "ipython",
    "version": 3
   },
   "file_extension": ".py",
   "mimetype": "text/x-python",
   "name": "python",
   "nbconvert_exporter": "python",
   "pygments_lexer": "ipython3",
   "version": "3.8.8"
  },
  "toc": {
   "base_numbering": 1,
   "nav_menu": {},
   "number_sections": true,
   "sideBar": true,
   "skip_h1_title": false,
   "title_cell": "Table of Contents",
   "title_sidebar": "Contents",
   "toc_cell": false,
   "toc_position": {},
   "toc_section_display": true,
   "toc_window_display": false
  }
 },
 "nbformat": 4,
 "nbformat_minor": 5
}
