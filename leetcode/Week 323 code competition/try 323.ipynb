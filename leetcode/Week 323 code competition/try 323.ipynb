{
 "cells": [
  {
   "cell_type": "code",
   "execution_count": 1,
   "id": "75720985",
   "metadata": {},
   "outputs": [],
   "source": [
    "from typing import *\n",
    "import collections\n",
    "import math\n",
    "import functools\n",
    "import heapq\n",
    "import bisect"
   ]
  },
  {
   "cell_type": "markdown",
   "id": "23eda4b8",
   "metadata": {},
   "source": [
    "# 6257. Delete Greatest Value in Each Row"
   ]
  },
  {
   "cell_type": "code",
   "execution_count": 3,
   "id": "85542f8e",
   "metadata": {},
   "outputs": [],
   "source": [
    "class Solution:\n",
    "    def deleteGreatestValue(self, grid: List[List[int]]) -> int:\n",
    "        ret = 0\n",
    "        grid = [sorted(g) for g in grid]\n",
    "        \n",
    "        for i in range(len(grid[0])):\n",
    "            maxs = grid[0][i]\n",
    "            for j in range(len(grid)):\n",
    "                maxs = max(maxs, grid[j][i])\n",
    "            ret += maxs\n",
    "        return ret"
   ]
  },
  {
   "cell_type": "code",
   "execution_count": 66,
   "id": "e471a70b",
   "metadata": {},
   "outputs": [],
   "source": [
    "class Solution:\n",
    "    def deleteGreatestValue(self, grid: List[List[int]]) -> int:\n",
    "        for row in grid:\n",
    "            row.sort()\n",
    "        return sum(max(col) for col in zip(*grid))"
   ]
  },
  {
   "cell_type": "markdown",
   "id": "cf9326cf",
   "metadata": {},
   "source": [
    "# 6258. Longest Square Streak in an Array"
   ]
  },
  {
   "cell_type": "code",
   "execution_count": 21,
   "id": "f69b936e",
   "metadata": {},
   "outputs": [],
   "source": [
    "class Solution:\n",
    "    def longestSquareStreak(self, nums: List[int]) -> int:\n",
    "        nums.sort()\n",
    "        re = collections.defaultdict(int)\n",
    "        ret = 0\n",
    "        for i, num in enumerate(nums):\n",
    "            re[num] = max(re[num], 1)\n",
    "            re[num ** 2] = max(re[num] + 1, re[num**2])\n",
    "            ret = max(ret, re[num])\n",
    "        return ret if ret >= 2 else -1"
   ]
  },
  {
   "cell_type": "code",
   "execution_count": 24,
   "id": "a418d81f",
   "metadata": {},
   "outputs": [],
   "source": [
    "nums = [2,2]"
   ]
  },
  {
   "cell_type": "code",
   "execution_count": 25,
   "id": "86eaebd1",
   "metadata": {},
   "outputs": [
    {
     "data": {
      "text/plain": [
       "-1"
      ]
     },
     "execution_count": 25,
     "metadata": {},
     "output_type": "execute_result"
    }
   ],
   "source": [
    "a = Solution().longestSquareStreak(nums)\n",
    "a"
   ]
  },
  {
   "cell_type": "markdown",
   "id": "6169a8db",
   "metadata": {},
   "source": [
    "# 6259. Design Memory Allocator"
   ]
  },
  {
   "cell_type": "code",
   "execution_count": 67,
   "id": "317348ff",
   "metadata": {},
   "outputs": [],
   "source": [
    "class RangeModule(object):\n",
    "    def __init__(self):\n",
    "        self.ranges = []\n",
    "\n",
    "    # It also can use bisect\n",
    "    def _bounds(self, left, right):\n",
    "        i, j = 0, len(self.ranges) - 1\n",
    "        for d in (100, 10, 1):\n",
    "            while i + d - 1 < len(self.ranges) and self.ranges[i+d-1][1] < left:\n",
    "                i += d\n",
    "            while j >= d - 1 and self.ranges[j-d+1][0] > right:\n",
    "                j -= d\n",
    "        return i, j\n",
    "\n",
    "    def addRange(self, left, right):\n",
    "        i, j = self._bounds(left, right)\n",
    "        if i <= j:\n",
    "            left = min(left, self.ranges[i][0])\n",
    "            right = max(right, self.ranges[j][1])\n",
    "        self.ranges[i:j+1] = [(left, right)]\n",
    "\n",
    "    def queryRange(self, left, right):\n",
    "        i = bisect.bisect_left(self.ranges, (left, float('inf')))\n",
    "        if i: i -= 1\n",
    "        return (bool(self.ranges) and\n",
    "                self.ranges[i][0] <= left and\n",
    "                right <= self.ranges[i][1])\n",
    "\n",
    "    def removeRange(self, left, right):\n",
    "        i, j = self._bounds(left, right)\n",
    "        merge = []\n",
    "        for k in range(i, j+1):\n",
    "            if self.ranges[k][0] < left:\n",
    "                merge.append((self.ranges[k][0], left))\n",
    "            if right < self.ranges[k][1]:\n",
    "                merge.append((right, self.ranges[k][1]))\n",
    "        self.ranges[i:j+1] = merge"
   ]
  },
  {
   "cell_type": "code",
   "execution_count": 68,
   "id": "c330e738",
   "metadata": {},
   "outputs": [],
   "source": [
    "class Allocator:\n",
    "\n",
    "    def __init__(self, n: int):\n",
    "        self.lens = n\n",
    "        self.range = RangeModule()\n",
    "        self.range.addRange(0, n)\n",
    "        self.re = collections.defaultdict(list)\n",
    "\n",
    "    def allocate(self, size: int, mID: int) -> int:\n",
    "        flag = -1\n",
    "        for l, r in self.range.ranges:\n",
    "            if r-l >=size:\n",
    "                self.re[mID].append([l, l+size])\n",
    "                flag = l\n",
    "                self.range.removeRange(l, r)\n",
    "                if r-l >= size:\n",
    "                    self.range.addRange(l+size, r)\n",
    "                break\n",
    "        return flag\n",
    "\n",
    "    def free(self, mID: int) -> int:\n",
    "        ret = 0\n",
    "        for l, r in self.re[mID]:\n",
    "            self.range.addRange(l, r)\n",
    "            ret += r-l\n",
    "        self.re[mID] = []\n",
    "        return ret"
   ]
  },
  {
   "cell_type": "code",
   "execution_count": 29,
   "id": "eeac0a8e",
   "metadata": {},
   "outputs": [],
   "source": [
    "a = [0,12,-1,-1,12,0,0,-1,-1,-1,0,0,0,28,0,0,0,0,12,0,0,-1,0,-1,-1,0,0,0,-1,-1,-1,-1,0,-1,0,0,-1,-1,-1,-1,-1,-1,-1,0,12,0,0]"
   ]
  },
  {
   "cell_type": "code",
   "execution_count": 32,
   "id": "b25b46c3",
   "metadata": {},
   "outputs": [
    {
     "data": {
      "text/plain": [
       "0"
      ]
     },
     "execution_count": 32,
     "metadata": {},
     "output_type": "execute_result"
    }
   ],
   "source": [
    "a[22]"
   ]
  },
  {
   "cell_type": "markdown",
   "id": "546418bb",
   "metadata": {},
   "source": [
    "# 6260. Maximum Number of Points From Grid Queries"
   ]
  },
  {
   "cell_type": "code",
   "execution_count": 65,
   "id": "01e734fa",
   "metadata": {},
   "outputs": [],
   "source": [
    "\n",
    "class Solution:\n",
    "    def maxPoints(self, grid: List[List[int]], queries: List[int]) -> List[int]:\n",
    "        visited = set()\n",
    "        leny = len(grid[0])\n",
    "        q = [[grid[0][0], 0, 0]]\n",
    "        sortedarr = sorted(queries)\n",
    "        re = collections.defaultdict(list)\n",
    "        for i, qu in enumerate(queries):\n",
    "            re[qu].append(i)\n",
    "        \n",
    "        ret = [0] * len(queries)\n",
    "        \n",
    "        for n in sortedarr:\n",
    "            while q and q[0][0] < n:\n",
    "                _, i, j = heapq.heappop(q)\n",
    "                if i*leny+j in visied:\n",
    "                    continue\n",
    "                visited.add(i*leny + j)\n",
    "                for nxti, nxtj in [[i-1, j], [i+1, j], [i, j-1], [i, j+1]]:\n",
    "                    if 0 <= nxti < len(grid) and 0 <= nxtj < len(grid[0]) and nxti * leny + nxtj not in visited:\n",
    "                        heapq.heappush(q, [grid[nxti][nxtj], nxti, nxtj])\n",
    "            \n",
    "            for idx in re[n]:\n",
    "                ret[idx] = len(visited)\n",
    "        \n",
    "        return ret"
   ]
  },
  {
   "cell_type": "code",
   "execution_count": 63,
   "id": "994f59df",
   "metadata": {},
   "outputs": [],
   "source": [
    "grid= [[1,2,3],[2,5,7],[3,5,1]]\n",
    "queries = [5,6,2]"
   ]
  },
  {
   "cell_type": "code",
   "execution_count": 64,
   "id": "c5862b8b",
   "metadata": {},
   "outputs": [
    {
     "name": "stdout",
     "output_type": "stream",
     "text": [
      "{0} 2\n",
      "{0, 1, 2, 3, 6} 5\n",
      "{0, 1, 2, 3, 4, 6, 7, 8} 6\n"
     ]
    },
    {
     "data": {
      "text/plain": [
       "[5, 8, 1]"
      ]
     },
     "execution_count": 64,
     "metadata": {},
     "output_type": "execute_result"
    }
   ],
   "source": [
    "a = Solution().maxPoints(grid, queries)\n",
    "a"
   ]
  },
  {
   "cell_type": "code",
   "execution_count": 69,
   "id": "ade24bee",
   "metadata": {},
   "outputs": [],
   "source": [
    "class Solution:\n",
    "    def maxPoints(self, grid: List[List[int]], queries: List[int]) -> List[int]:\n",
    "        m, n = len(grid), len(grid[0])\n",
    "        mn = m * n\n",
    "\n",
    "        # 并查集模板\n",
    "        fa = list(range(mn))\n",
    "        size = [1] * mn\n",
    "        def find(x: int) -> int:\n",
    "            if fa[x] != x:\n",
    "                fa[x] = find(fa[x])\n",
    "            return fa[x]\n",
    "        def merge(from_: int, to: int) -> None:\n",
    "            from_ = find(from_)\n",
    "            to = find(to)\n",
    "            if from_ != to:\n",
    "                fa[from_] = to\n",
    "                size[to] += size[from_]\n",
    "\n",
    "        # 矩阵元素从小到大排序，方便离线\n",
    "        a = sorted((x, i, j) for i, row in enumerate(grid) for j, x in enumerate(row))\n",
    "\n",
    "        ans, j = [0] * len(queries), 0\n",
    "        # 查询的下标按照查询值从小到大排序，方便离线\n",
    "        for i, q in sorted(enumerate(queries), key=lambda p: p[1]):\n",
    "            while j < mn and a[j][0] < q:\n",
    "                _, x, y = a[j]\n",
    "                # 枚举周围四个格子，值小于 q 才可以合并\n",
    "                for x2, y2 in (x + 1, y), (x - 1, y), (x, y + 1), (x, y - 1):\n",
    "                    if 0 <= x2 < m and 0 <= y2 < n and grid[x2][y2] < q:\n",
    "                        merge(x * n + y, x2 * n + y2)  # 把坐标压缩成一维的编号\n",
    "                j += 1\n",
    "            if grid[0][0] < q:\n",
    "                ans[i] = size[find(0)]  # 左上角的连通块的大小\n",
    "        return ans"
   ]
  },
  {
   "cell_type": "code",
   "execution_count": null,
   "id": "301dcb6e",
   "metadata": {},
   "outputs": [],
   "source": []
  }
 ],
 "metadata": {
  "kernelspec": {
   "display_name": "Python 3 (ipykernel)",
   "language": "python",
   "name": "python3"
  },
  "language_info": {
   "codemirror_mode": {
    "name": "ipython",
    "version": 3
   },
   "file_extension": ".py",
   "mimetype": "text/x-python",
   "name": "python",
   "nbconvert_exporter": "python",
   "pygments_lexer": "ipython3",
   "version": "3.8.8"
  },
  "toc": {
   "base_numbering": 1,
   "nav_menu": {},
   "number_sections": true,
   "sideBar": true,
   "skip_h1_title": false,
   "title_cell": "Table of Contents",
   "title_sidebar": "Contents",
   "toc_cell": false,
   "toc_position": {},
   "toc_section_display": true,
   "toc_window_display": false
  }
 },
 "nbformat": 4,
 "nbformat_minor": 5
}
