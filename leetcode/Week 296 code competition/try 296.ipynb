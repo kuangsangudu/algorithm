{
 "cells": [
  {
   "cell_type": "code",
   "execution_count": 1,
   "id": "65737cdc",
   "metadata": {},
   "outputs": [],
   "source": [
    "from typing import *\n",
    "import heapq\n",
    "import math\n",
    "import collections"
   ]
  },
  {
   "cell_type": "markdown",
   "id": "6e0ea859",
   "metadata": {},
   "source": [
    "# 6090. Min Max Game"
   ]
  },
  {
   "cell_type": "code",
   "execution_count": 10,
   "id": "dc57ed72",
   "metadata": {},
   "outputs": [],
   "source": [
    "class Solution:\n",
    "    def minMaxGame(self, nums: List[int]) -> int:\n",
    "        while len(nums) > 1:\n",
    "            re = [0] * (len(nums)//2)\n",
    "            for i in range(len(re)):\n",
    "                if i %2==0:\n",
    "                    re[i] = min(nums[2*i], nums[2*i+1])\n",
    "                else:\n",
    "                    re[i] = max(nums[2*i], nums[2*i+1])\n",
    "            nums = re\n",
    "            print(nums)\n",
    "        return nums[0]"
   ]
  },
  {
   "cell_type": "code",
   "execution_count": 11,
   "id": "88c06efd",
   "metadata": {},
   "outputs": [],
   "source": [
    "nums = [1,3,5,2,4,8,2,2]"
   ]
  },
  {
   "cell_type": "code",
   "execution_count": 12,
   "id": "2abc5d8e",
   "metadata": {},
   "outputs": [
    {
     "name": "stdout",
     "output_type": "stream",
     "text": [
      "[1, 5, 4, 2]\n",
      "[1, 4]\n",
      "[1]\n"
     ]
    },
    {
     "data": {
      "text/plain": [
       "1"
      ]
     },
     "execution_count": 12,
     "metadata": {},
     "output_type": "execute_result"
    }
   ],
   "source": [
    "a = Solution().minMaxGame(nums)\n",
    "a"
   ]
  },
  {
   "cell_type": "markdown",
   "id": "bab07d6d",
   "metadata": {},
   "source": [
    "# 6091. Partition Array Such That Maximum Difference Is K"
   ]
  },
  {
   "cell_type": "code",
   "execution_count": 13,
   "id": "64fe871d",
   "metadata": {},
   "outputs": [],
   "source": [
    "class Solution:\n",
    "    def partitionArray(self, nums: List[int], k: int) -> int:\n",
    "        nums.sort()\n",
    "        ret = 1\n",
    "        pre = nums[0]\n",
    "        for i, num in enumerate(nums[1:]):\n",
    "            if num - pre > k:\n",
    "                pre = num\n",
    "                ret += 1\n",
    "        return ret"
   ]
  },
  {
   "cell_type": "markdown",
   "id": "2e85e735",
   "metadata": {},
   "source": [
    "# 6092. Replace Elements in an Array"
   ]
  },
  {
   "cell_type": "code",
   "execution_count": 14,
   "id": "36291d15",
   "metadata": {},
   "outputs": [],
   "source": [
    "class Solution:\n",
    "    def arrayChange(self, nums: List[int], operations: List[List[int]]) -> List[int]:\n",
    "        re = collections.defaultdict(int)\n",
    "        for i, num in enumerate(nums):\n",
    "            re[num] = i\n",
    "        for i, j in operations:\n",
    "            re[j] = re[i]\n",
    "            re.pop(i)\n",
    "        ret = [0] * len(nums)\n",
    "        for key, val in re.items():\n",
    "            ret[val] = key\n",
    "        return ret"
   ]
  },
  {
   "cell_type": "markdown",
   "id": "86bbc2d9",
   "metadata": {},
   "source": [
    "# 6093. Design a Text Editor"
   ]
  },
  {
   "cell_type": "code",
   "execution_count": 16,
   "id": "60ff2e4b",
   "metadata": {},
   "outputs": [],
   "source": [
    "class TextEditor:\n",
    "\n",
    "    def __init__(self):\n",
    "        self.s = \"\"\n",
    "        self.i = 0\n",
    "\n",
    "    def addText(self, text: str) -> None:\n",
    "        self.s = self.s[:self.i] + text + self.s[self.i:]\n",
    "        self.i += len(text)\n",
    "\n",
    "    def deleteText(self, k: int) -> int:\n",
    "        ret = self.i-max(0, self.i-k)\n",
    "        self.s = self.s[:max(0, self.i-k)] + self.s[self.i:]\n",
    "        self.i -= ret\n",
    "        return ret\n",
    "\n",
    "    def cursorLeft(self, k: int) -> str:\n",
    "        self.i = max(0, self.i-k)\n",
    "        return self.s[max(0, self.i-10):self.i]\n",
    "\n",
    "    def cursorRight(self, k: int) -> str:\n",
    "        self.i = min(len(self.s), self.i+k)\n",
    "        return self.s[max(0, self.i-10):self.i]\n"
   ]
  },
  {
   "cell_type": "code",
   "execution_count": 1,
   "id": "aa8955a1",
   "metadata": {},
   "outputs": [],
   "source": [
    "# 手写双向链表\n",
    "class Node:\n",
    "    __slots__ = ('prev', 'next', 'ch')\n",
    "    def __init__(self, ch=''):\n",
    "        self.prev = None\n",
    "        self.next = None\n",
    "        self.ch = ch\n",
    "\n",
    "    # 在 self 后插入 node，并返回该 node\n",
    "    def insert(self, node: 'Node') -> 'Node':\n",
    "        node.prev = self\n",
    "        node.next = self.next\n",
    "        node.prev.next = node\n",
    "        node.next.prev = node\n",
    "        return node\n",
    "\n",
    "    # 从链表中移除 self\n",
    "    def remove(self) -> None:\n",
    "        self.prev.next = self.next\n",
    "        self.next.prev = self.prev\n",
    "\n",
    "class TextEditor:\n",
    "    def __init__(self):\n",
    "        self.root = self.cur = Node()  # 哨兵节点\n",
    "        self.root.prev = self.root\n",
    "        self.root.next = self.root  # 初始化双向链表，下面判断节点的 next 若为 self.root，则表示 next 为空\n",
    "\n",
    "    def addText(self, text: str) -> None:\n",
    "        for ch in text:\n",
    "            self.cur = self.cur.insert(Node(ch))\n",
    "\n",
    "    def deleteText(self, k: int) -> int:\n",
    "        k0 = k\n",
    "        while k and self.cur != self.root:\n",
    "            self.cur = self.cur.prev\n",
    "            self.cur.next.remove()\n",
    "            k -= 1\n",
    "        return k0 - k\n",
    "\n",
    "    def text(self) -> str:\n",
    "        s = []\n",
    "        k, cur = 10, self.cur\n",
    "        while k and cur != self.root:\n",
    "            s.append(cur.ch)\n",
    "            cur = cur.prev\n",
    "            k -= 1\n",
    "        return ''.join(reversed(s))\n",
    "\n",
    "    def cursorLeft(self, k: int) -> str:\n",
    "        while k and self.cur != self.root:\n",
    "            self.cur = self.cur.prev\n",
    "            k -= 1\n",
    "        return self.text()\n",
    "\n",
    "    def cursorRight(self, k: int) -> str:\n",
    "        while k and self.cur.next != self.root:\n",
    "            self.cur = self.cur.next\n",
    "            k -= 1\n",
    "        return self.text()"
   ]
  },
  {
   "cell_type": "code",
   "execution_count": 2,
   "id": "6f8c1293",
   "metadata": {},
   "outputs": [],
   "source": [
    "class TextEditor:\n",
    "    def __init__(self):\n",
    "        self.cur, self.rest = [], []\n",
    "    def addText(self, text: str) -> None:\n",
    "        self.cur.extend(list(text))\n",
    "    def deleteText(self, k: int) -> int:\n",
    "        tk = k\n",
    "        while self.cur and tk:\n",
    "            self.cur.pop()\n",
    "            tk -= 1\n",
    "        return k - tk\n",
    "    def cursorLeft(self, k: int) -> str:\n",
    "        while self.cur and k:\n",
    "            k -= 1\n",
    "            self.rest.append(self.cur.pop())\n",
    "        return ''.join(self.cur[-10:])\n",
    "    def cursorRight(self, k: int) -> str:\n",
    "        while self.rest and k:\n",
    "            k -= 1\n",
    "            self.cur.append(self.rest.pop())\n",
    "        return ''.join(self.cur[-10:])"
   ]
  },
  {
   "cell_type": "code",
   "execution_count": null,
   "id": "4addf789",
   "metadata": {},
   "outputs": [],
   "source": []
  }
 ],
 "metadata": {
  "kernelspec": {
   "display_name": "Python 3 (ipykernel)",
   "language": "python",
   "name": "python3"
  },
  "language_info": {
   "codemirror_mode": {
    "name": "ipython",
    "version": 3
   },
   "file_extension": ".py",
   "mimetype": "text/x-python",
   "name": "python",
   "nbconvert_exporter": "python",
   "pygments_lexer": "ipython3",
   "version": "3.8.8"
  },
  "toc": {
   "base_numbering": 1,
   "nav_menu": {},
   "number_sections": true,
   "sideBar": true,
   "skip_h1_title": false,
   "title_cell": "Table of Contents",
   "title_sidebar": "Contents",
   "toc_cell": false,
   "toc_position": {},
   "toc_section_display": true,
   "toc_window_display": false
  }
 },
 "nbformat": 4,
 "nbformat_minor": 5
}
