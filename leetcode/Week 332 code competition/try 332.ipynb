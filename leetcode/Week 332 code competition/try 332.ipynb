{
 "cells": [
  {
   "cell_type": "code",
   "execution_count": 1,
   "id": "71f9908e",
   "metadata": {},
   "outputs": [],
   "source": [
    "import collections\n",
    "import math\n",
    "import functools\n",
    "import heapq\n",
    "from typing import *\n",
    "import bisect"
   ]
  },
  {
   "cell_type": "markdown",
   "id": "048f25c4",
   "metadata": {},
   "source": [
    "# 6354. Find the Array Concatenation Value"
   ]
  },
  {
   "cell_type": "code",
   "execution_count": 2,
   "id": "49732ee1",
   "metadata": {},
   "outputs": [],
   "source": [
    "class Solution:\n",
    "    def findTheArrayConcVal(self, nums: List[int]) -> int:\n",
    "        ret = 0\n",
    "        for i in range(len(nums)//2):\n",
    "            ret += int(str(nums[i]) + str(nums[len(nums)-1-i]))\n",
    "        if len(nums) % 2:\n",
    "            ret += nums[len(nums)//2]\n",
    "        return ret"
   ]
  },
  {
   "cell_type": "code",
   "execution_count": 210,
   "id": "0a14ff9e",
   "metadata": {},
   "outputs": [],
   "source": [
    "class Solution:\n",
    "    def findTheArrayConcVal(self, nums: List[int]) -> int:\n",
    "        ans, i, j = 0, 0, len(nums) - 1\n",
    "        while i < j:\n",
    "            x, y = nums[i], nums[j]\n",
    "            while y:\n",
    "                x *= 10\n",
    "                y //= 10\n",
    "            ans += x + nums[j]\n",
    "            i += 1\n",
    "            j -= 1\n",
    "        if i == j: ans += nums[i]\n",
    "        return ans"
   ]
  },
  {
   "cell_type": "markdown",
   "id": "d57c8482",
   "metadata": {},
   "source": [
    "# 6355. Count the Number of Fair Pairs"
   ]
  },
  {
   "cell_type": "code",
   "execution_count": 78,
   "id": "9c03198e",
   "metadata": {},
   "outputs": [],
   "source": [
    "class Solution:\n",
    "    def countFairPairs(self, nums: List[int], lower: int, upper: int) -> int:\n",
    "        nums.sort()\n",
    "        ret = 0\n",
    "        lens = len(nums)\n",
    "        for i, n in enumerate(nums):\n",
    "            if upper - n < n:\n",
    "                break\n",
    "                \n",
    "            idxl = bisect.bisect_left(nums, lower-n)\n",
    "            idxr = bisect.bisect_right(nums, upper-n)\n",
    "            if idxl == lens:\n",
    "                continue\n",
    "            if idxr == lens or nums[idxr] > upper-n:\n",
    "                idxr -= 1\n",
    "            if idxl > idxr:\n",
    "                continue\n",
    "            ret += idxr - max(i+1, idxl) + 1\n",
    "            \n",
    "        return ret"
   ]
  },
  {
   "cell_type": "code",
   "execution_count": 215,
   "id": "1e61b66a",
   "metadata": {},
   "outputs": [],
   "source": [
    "class Solution:\n",
    "    def countFairPairs(self, nums: List[int], lower: int, upper: int) -> int:\n",
    "        ans = 0\n",
    "        nums.sort()\n",
    "        for i, x in enumerate(nums):\n",
    "            r = bisect_right(nums, upper - x, 0, i)\n",
    "            l = bisect_left(nums, lower - x, 0, i)\n",
    "            ans += r - l\n",
    "        return ans"
   ]
  },
  {
   "cell_type": "code",
   "execution_count": 212,
   "id": "f6af4d2d",
   "metadata": {},
   "outputs": [],
   "source": [
    "nums = [6,9,4,2,7,5,10,3]\n",
    "lower = 13\n",
    "upper = 13"
   ]
  },
  {
   "cell_type": "code",
   "execution_count": 80,
   "id": "3ea4fe6b",
   "metadata": {},
   "outputs": [
    {
     "name": "stdout",
     "output_type": "stream",
     "text": [
      "[2, 3, 4, 5, 6, 7, 9, 10] 8 8 0\n",
      "[2, 3, 4, 5, 6, 7, 9, 10] 7 8 0\n",
      "[2, 3, 4, 5, 6, 7, 9, 10] 6 7 1\n",
      "[2, 3, 4, 5, 6, 7, 9, 10] 6 6 2\n",
      "[2, 3, 4, 5, 6, 7, 9, 10] 5 6 2\n"
     ]
    },
    {
     "data": {
      "text/plain": [
       "3"
      ]
     },
     "execution_count": 80,
     "metadata": {},
     "output_type": "execute_result"
    }
   ],
   "source": [
    "a = Solution().countFairPairs(nums, lower, upper)\n",
    "a"
   ]
  },
  {
   "cell_type": "code",
   "execution_count": 213,
   "id": "f61dbde1",
   "metadata": {},
   "outputs": [],
   "source": [
    "a = [1, 3, 5, 5, 7]"
   ]
  },
  {
   "cell_type": "code",
   "execution_count": 214,
   "id": "d49431e5",
   "metadata": {},
   "outputs": [
    {
     "data": {
      "text/plain": [
       "5"
      ]
     },
     "execution_count": 214,
     "metadata": {},
     "output_type": "execute_result"
    }
   ],
   "source": [
    "bisect.bisect_right(a, 7)"
   ]
  },
  {
   "cell_type": "markdown",
   "id": "5817f0fc",
   "metadata": {},
   "source": [
    "# 6356. Substring XOR Queries"
   ]
  },
  {
   "cell_type": "code",
   "execution_count": 206,
   "id": "09c51f4b",
   "metadata": {},
   "outputs": [],
   "source": [
    "class Solution:\n",
    "    def substringXorQueries(self, s: str, queries: List[List[int]]) -> List[List[int]]:\n",
    "        ns = [int(n) for n in s]\n",
    "        ret = []\n",
    "        g = collections.defaultdict(list)\n",
    "        for j in range(len(s)):\n",
    "            p = 0\n",
    "            if s[j] == \"0\":\n",
    "                if g.get(0, -1) == -1:\n",
    "                    g[0] = [j, j]\n",
    "                continue\n",
    "            for i in range(j, min(len(s), j+31):\n",
    "                p = p * 2 + ns[i]\n",
    "                if g.get(p, -1)== -1:\n",
    "                    g[p] = [j, i]\n",
    "                \n",
    "        for query in queries:\n",
    "            q = query[0] ^ query[1]\n",
    "            if g.get(q, -1) != -1:\n",
    "                ret.append(g[q])\n",
    "            else:\n",
    "                ret.append([-1, -1])\n",
    "        return ret"
   ]
  },
  {
   "cell_type": "code",
   "execution_count": 207,
   "id": "0152679b",
   "metadata": {},
   "outputs": [],
   "source": [
    "s = \"101101\"\n",
    "\n",
    "queries = [[0,5],[1,2]]"
   ]
  },
  {
   "cell_type": "code",
   "execution_count": 156,
   "id": "02a3c462",
   "metadata": {},
   "outputs": [],
   "source": [
    "s = \"111010110\"\n",
    "queries = [[4,2],[3,3],[6,4],[9,9],[10,28],[0,470],[5,83],[10,28],[8,15],[6,464],[0,3],[5,8],[7,7],[8,8],[6,208],[9,15],[2,2],[9,95]]"
   ]
  },
  {
   "cell_type": "code",
   "execution_count": 208,
   "id": "c6104cf5",
   "metadata": {},
   "outputs": [
    {
     "data": {
      "text/plain": [
       "[[0, 2], [1, 3]]"
      ]
     },
     "execution_count": 208,
     "metadata": {},
     "output_type": "execute_result"
    }
   ],
   "source": [
    "a = Solution().substringXorQueries(s, queries)\n",
    "a"
   ]
  },
  {
   "cell_type": "markdown",
   "id": "c8b0f345",
   "metadata": {},
   "source": [
    "# 6357. Subsequence With the Minimum Score"
   ]
  },
  {
   "cell_type": "code",
   "execution_count": 236,
   "id": "237e1c9e",
   "metadata": {},
   "outputs": [],
   "source": [
    "class Solution:\n",
    "    def minimumScore(self, s: str, t: str) -> int:\n",
    "        suff = [0] * len(s)\n",
    "        pres = [0] * len(s)\n",
    "        lens, lent = len(s), len(t)\n",
    "        j = lent-1\n",
    "        for i in range(lens-1, -1, -1):\n",
    "            if j >= 0 and s[i] == t[j]:\n",
    "                j -= 1\n",
    "            suff[i] = j\n",
    "        \n",
    "        j = 0\n",
    "        for i in range(lens):\n",
    "            if j < lent and s[i] == t[j]:\n",
    "                j += 1\n",
    "            pres[i] = j\n",
    "        \n",
    "        print(pres,suff)\n",
    "        ret = min(lent-pres[lens-1], suff[0]+1)\n",
    "        for i in range(lens-1):\n",
    "            ret = min(ret, max(suff[i+1]+1-pres[i], 0))\n",
    "        return ret"
   ]
  },
  {
   "cell_type": "code",
   "execution_count": 237,
   "id": "25d59764",
   "metadata": {},
   "outputs": [],
   "source": [
    "s = \"adebddaccdcabaade\"\n",
    "t = \"adbae\""
   ]
  },
  {
   "cell_type": "code",
   "execution_count": 238,
   "id": "013bef7c",
   "metadata": {},
   "outputs": [
    {
     "name": "stdout",
     "output_type": "stream",
     "text": [
      "[1, 2, 2, 3, 3, 3, 4, 4, 4, 4, 4, 4, 4, 4, 4, 4, 5] [-1, -1, -1, -1, -1, -1, -1, 0, 0, 0, 1, 1, 1, 2, 2, 3, 3]\n"
     ]
    },
    {
     "data": {
      "text/plain": [
       "0"
      ]
     },
     "execution_count": 238,
     "metadata": {},
     "output_type": "execute_result"
    }
   ],
   "source": [
    "a = Solution().minimumScore(s, t)\n",
    "a"
   ]
  },
  {
   "cell_type": "code",
   "execution_count": null,
   "id": "331ab39a",
   "metadata": {},
   "outputs": [],
   "source": []
  }
 ],
 "metadata": {
  "kernelspec": {
   "display_name": "Python 3 (ipykernel)",
   "language": "python",
   "name": "python3"
  },
  "language_info": {
   "codemirror_mode": {
    "name": "ipython",
    "version": 3
   },
   "file_extension": ".py",
   "mimetype": "text/x-python",
   "name": "python",
   "nbconvert_exporter": "python",
   "pygments_lexer": "ipython3",
   "version": "3.8.8"
  },
  "toc": {
   "base_numbering": 1,
   "nav_menu": {},
   "number_sections": true,
   "sideBar": true,
   "skip_h1_title": false,
   "title_cell": "Table of Contents",
   "title_sidebar": "Contents",
   "toc_cell": false,
   "toc_position": {},
   "toc_section_display": true,
   "toc_window_display": false
  }
 },
 "nbformat": 4,
 "nbformat_minor": 5
}
