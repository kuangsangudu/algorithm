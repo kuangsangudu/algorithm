{
 "cells": [
  {
   "cell_type": "code",
   "execution_count": 1,
   "id": "9f1c33be",
   "metadata": {},
   "outputs": [],
   "source": [
    "from typing import *\n",
    "import heapq\n",
    "import math\n",
    "import collections\n",
    "import bisect"
   ]
  },
  {
   "cell_type": "markdown",
   "id": "c99ce948",
   "metadata": {},
   "source": [
    "# 6204. Largest Positive Integer That Exists With Its Negative"
   ]
  },
  {
   "cell_type": "code",
   "execution_count": 2,
   "id": "f10f2812",
   "metadata": {},
   "outputs": [],
   "source": [
    "class Solution:\n",
    "    def findMaxK(self, nums: List[int]) -> int:\n",
    "        maps = collections.defaultdict(int)\n",
    "        ret = -1\n",
    "        for num in nums:\n",
    "            if maps.get(-num, -1) != -1:\n",
    "                ret = max(ret, abs(num))\n",
    "            maps[num] = 1\n",
    "        return ret"
   ]
  },
  {
   "cell_type": "markdown",
   "id": "0d5ee374",
   "metadata": {},
   "source": [
    "# 6205. Count Number of Distinct Integers After Reverse Operations"
   ]
  },
  {
   "cell_type": "code",
   "execution_count": 3,
   "id": "3194c500",
   "metadata": {},
   "outputs": [],
   "source": [
    "class Solution:\n",
    "    def countDistinctIntegers(self, nums: List[int]) -> int:\n",
    "        maps = {}\n",
    "        for num in nums:\n",
    "            maps[num] = 1\n",
    "            maps[int(str(num)[::-1])] = 1\n",
    "        return len(maps)"
   ]
  },
  {
   "cell_type": "markdown",
   "id": "e12991a1",
   "metadata": {},
   "source": [
    "# 6219. Sum of Number and Its Reverse"
   ]
  },
  {
   "cell_type": "code",
   "execution_count": 13,
   "id": "3f49f1d3",
   "metadata": {},
   "outputs": [],
   "source": [
    "class Solution:\n",
    "    def sumOfNumberAndReverse(self, num: int) -> bool:\n",
    "        if num == 0:\n",
    "            return True\n",
    "        for i in range(num):\n",
    "            if i + int(str(i)[::-1]) == num:\n",
    "                return True\n",
    "        return False"
   ]
  },
  {
   "cell_type": "code",
   "execution_count": 16,
   "id": "18be0a6b",
   "metadata": {},
   "outputs": [],
   "source": [
    "num = 1"
   ]
  },
  {
   "cell_type": "code",
   "execution_count": 17,
   "id": "e8df906a",
   "metadata": {},
   "outputs": [
    {
     "data": {
      "text/plain": [
       "False"
      ]
     },
     "execution_count": 17,
     "metadata": {},
     "output_type": "execute_result"
    }
   ],
   "source": [
    "a = Solution().sumOfNumberAndReverse(num)\n",
    "a"
   ]
  },
  {
   "cell_type": "markdown",
   "id": "436d207d",
   "metadata": {},
   "source": [
    "# 6207. Count Subarrays With Fixed Bounds"
   ]
  },
  {
   "cell_type": "code",
   "execution_count": 70,
   "id": "046ee2da",
   "metadata": {},
   "outputs": [],
   "source": [
    "class Solution:\n",
    "    def countSubarrays(self, nums: List[int], minK: int, maxK: int) -> int:\n",
    "        def get(a):\n",
    "            ret = 0\n",
    "            for i, n in enumerate(a):\n",
    "                l, r = bisect.bisect_left(maps[minK], i), bisect.bisect_left(maps[maxK], i)\n",
    "                if l == len(maps[minK]) or r == len(maps[maxK]):\n",
    "                    break\n",
    "                l = maps[minK][l]\n",
    "                r = maps[maxK][r]\n",
    "                ret += len(a) - max(l, r)\n",
    "            return ret\n",
    "                \n",
    "                \n",
    "                \n",
    "        maps = collections.defaultdict(list)\n",
    "        a = []\n",
    "        ret = 0\n",
    "        for num in nums:\n",
    "            if minK <= num <= maxK:\n",
    "                a.append(num)\n",
    "                if num == minK:\n",
    "                    maps[num].append(len(a)-1)\n",
    "                elif num == maxK:\n",
    "                    maps[num].append(len(a)-1)\n",
    "            elif maps[minK] and maps[maxK] :\n",
    "                ret += get(a)\n",
    "                a = []\n",
    "                maps = collections.defaultdict(list)   \n",
    "            else:\n",
    "                a = []\n",
    "                maps = collections.defaultdict(list)                   \n",
    "        \n",
    "        if maps[minK] and maps[maxK]:\n",
    "            ret += get(a)\n",
    "        return ret"
   ]
  },
  {
   "cell_type": "code",
   "execution_count": 73,
   "id": "a81934ef",
   "metadata": {},
   "outputs": [],
   "source": [
    "nums = [1,3,5,2,7,5]\n",
    "nums = [1,1,1,1]; minK = 1; maxK = 1"
   ]
  },
  {
   "cell_type": "code",
   "execution_count": 76,
   "id": "0c751254",
   "metadata": {},
   "outputs": [
    {
     "data": {
      "text/plain": [
       "10"
      ]
     },
     "execution_count": 76,
     "metadata": {},
     "output_type": "execute_result"
    }
   ],
   "source": [
    "a = Solution().countSubarrays(nums, minK, maxK)\n",
    "a"
   ]
  },
  {
   "cell_type": "code",
   "execution_count": 75,
   "id": "ed605c36",
   "metadata": {},
   "outputs": [],
   "source": [
    "class Solution:\n",
    "    def countSubarrays(self, nums: List[int], minK: int, maxK: int) -> int:\n",
    "        mins, maxs, start = -1, -1, -1\n",
    "        ret = 0\n",
    "        for i, n in enumerate(nums):\n",
    "            if n == minK:\n",
    "                mins = i\n",
    "            if n == maxK:\n",
    "                maxs = i\n",
    "            if minK > n or n > maxK:\n",
    "                start = i\n",
    "            ret += max(min(mins, maxs)-start, 0)\n",
    "        return ret"
   ]
  },
  {
   "cell_type": "code",
   "execution_count": null,
   "id": "4febdf5a",
   "metadata": {},
   "outputs": [],
   "source": []
  }
 ],
 "metadata": {
  "kernelspec": {
   "display_name": "Python 3 (ipykernel)",
   "language": "python",
   "name": "python3"
  },
  "language_info": {
   "codemirror_mode": {
    "name": "ipython",
    "version": 3
   },
   "file_extension": ".py",
   "mimetype": "text/x-python",
   "name": "python",
   "nbconvert_exporter": "python",
   "pygments_lexer": "ipython3",
   "version": "3.8.8"
  },
  "toc": {
   "base_numbering": 1,
   "nav_menu": {},
   "number_sections": true,
   "sideBar": true,
   "skip_h1_title": false,
   "title_cell": "Table of Contents",
   "title_sidebar": "Contents",
   "toc_cell": false,
   "toc_position": {},
   "toc_section_display": true,
   "toc_window_display": false
  }
 },
 "nbformat": 4,
 "nbformat_minor": 5
}
