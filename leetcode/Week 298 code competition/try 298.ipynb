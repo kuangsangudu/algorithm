{
 "cells": [
  {
   "cell_type": "code",
   "execution_count": 1,
   "id": "4986ffb7",
   "metadata": {},
   "outputs": [],
   "source": [
    "from typing import *\n",
    "import math\n",
    "import heapq\n",
    "import collections\n",
    "from functools import lru_cache"
   ]
  },
  {
   "cell_type": "markdown",
   "id": "0141246b",
   "metadata": {},
   "source": [
    "# 5242. Greatest English Letter in Upper and Lower Case"
   ]
  },
  {
   "cell_type": "code",
   "execution_count": 10,
   "id": "3d81c100",
   "metadata": {},
   "outputs": [],
   "source": [
    "class Solution:\n",
    "    def greatestLetter(self, s: str) -> str:\n",
    "        ret = \"\"\n",
    "        a = collections.defaultdict(int)\n",
    "        for n in s:\n",
    "            a[n] += 1\n",
    "            if n.islower():\n",
    "                N = chr(ord(n)-32)\n",
    "                if a[N] and N > ret:\n",
    "                    ret = N\n",
    "            else:\n",
    "                N = chr(ord(n)+32)\n",
    "                if a[N] and n > ret:\n",
    "                    ret = n\n",
    "        return ret"
   ]
  },
  {
   "cell_type": "markdown",
   "id": "ae70524b",
   "metadata": {},
   "source": [
    "# 5218. Sum of Numbers With Units Digit K"
   ]
  },
  {
   "cell_type": "code",
   "execution_count": 43,
   "id": "17d3e37d",
   "metadata": {},
   "outputs": [],
   "source": [
    "class Solution:\n",
    "    def minimumNumbers(self, num: int, k: int) -> int:\n",
    "        ret = [-1] * (num+1)\n",
    "        ret[0] = 0\n",
    "        lens = len(ret)\n",
    "        strk = str(k)\n",
    "        for i in range(num):\n",
    "            if ret[i] < 0:\n",
    "                continue\n",
    "            if i + k >= lens:\n",
    "                break\n",
    "            ret[i+k] = min(ret[i+k] if ret[i+k] >= 0 else float(\"inf\"), ret[i]+1)\n",
    "            for j in range(10, num+1):\n",
    "                if i+j >= lens:\n",
    "                    break\n",
    "                if str(j)[-1]!=strk:\n",
    "                    continue\n",
    "                ret[i+j] = min(ret[i+j] if ret[i+j] >= 0 else float(\"inf\"), ret[i]+1)\n",
    "        return ret[-1]"
   ]
  },
  {
   "cell_type": "code",
   "execution_count": 121,
   "id": "2fc944c4",
   "metadata": {},
   "outputs": [],
   "source": [
    "class Solution:\n",
    "    def minimumNumbers(self, num: int, k: int) -> int:\n",
    "        if num == 0: return 0\n",
    "        for n in range(1, num + 1):\n",
    "            if num - n * k < 0: break\n",
    "            if (num - n * k) % 10 == 0: return n\n",
    "        return -1"
   ]
  },
  {
   "cell_type": "code",
   "execution_count": 44,
   "id": "caa4817f",
   "metadata": {},
   "outputs": [],
   "source": [
    "num = 656\n",
    "k = 6"
   ]
  },
  {
   "cell_type": "code",
   "execution_count": 45,
   "id": "cd578a6f",
   "metadata": {},
   "outputs": [
    {
     "data": {
      "text/plain": [
       "1"
      ]
     },
     "execution_count": 45,
     "metadata": {},
     "output_type": "execute_result"
    }
   ],
   "source": [
    "a = Solution().minimumNumbers(num, k)\n",
    "a"
   ]
  },
  {
   "cell_type": "markdown",
   "id": "bde1978c",
   "metadata": {},
   "source": [
    "# 6099. Longest Binary Subsequence Less Than or Equal to K"
   ]
  },
  {
   "cell_type": "code",
   "execution_count": 122,
   "id": "2cc8aa7c",
   "metadata": {},
   "outputs": [],
   "source": [
    "class Solution:\n",
    "    def longestSubsequence(self, s: str, k: int) -> int:\n",
    "        pre0 = [0] * len(s)\n",
    "        pre = 0\n",
    "        for i, n in enumerate(s):\n",
    "            if n ==\"0\":\n",
    "                pre += 1\n",
    "            pre0[i] = pre\n",
    "            \n",
    "        re = collections.deque()\n",
    "        ret = 0\n",
    "        sums = 0\n",
    "        for i, n in enumerate(s):\n",
    "            re.append([int(n), i])\n",
    "            sums = (sums << 1) + int(n)\n",
    "            while re and sums > k:\n",
    "                sums -= re[0][0] << (len(re)-1)\n",
    "                re.popleft()\n",
    "            while re and re[0][0] == 0:\n",
    "                re.popleft()\n",
    "            ret = max(ret, len(re)+pre0[re[0][1]] if re else len(re))\n",
    "        return ret"
   ]
  },
  {
   "cell_type": "code",
   "execution_count": 93,
   "id": "69a21e2b",
   "metadata": {},
   "outputs": [],
   "source": [
    "s = \"1001010\"\n",
    "k = 5"
   ]
  },
  {
   "cell_type": "code",
   "execution_count": 91,
   "id": "61ed951d",
   "metadata": {},
   "outputs": [],
   "source": [
    "s = \"00101001\"; k = 1"
   ]
  },
  {
   "cell_type": "code",
   "execution_count": 94,
   "id": "4af80f65",
   "metadata": {},
   "outputs": [
    {
     "data": {
      "text/plain": [
       "5"
      ]
     },
     "execution_count": 94,
     "metadata": {},
     "output_type": "execute_result"
    }
   ],
   "source": [
    "a = Solution().longestSubsequence(s, k)\n",
    "a"
   ]
  },
  {
   "cell_type": "code",
   "execution_count": 123,
   "id": "c2f289ee",
   "metadata": {},
   "outputs": [],
   "source": [
    "class Solution:\n",
    "    def longestSubsequence(self, s: str, k: int) -> int:\n",
    "        n, m = len(s), k.bit_length()\n",
    "        if n < m: return n\n",
    "        ans = m if int(s[n - m:], 2) <= k else m - 1\n",
    "        return ans + s.count('0', 0, n - m)"
   ]
  },
  {
   "cell_type": "markdown",
   "id": "82799d59",
   "metadata": {},
   "source": [
    "# 5254. Selling Pieces of Wood"
   ]
  },
  {
   "cell_type": "code",
   "execution_count": 110,
   "id": "ba5264b7",
   "metadata": {},
   "outputs": [],
   "source": [
    "m = 4\n",
    "n = 6\n",
    "prices = [[3,2,10],[1,4,2],[4,1,3]]"
   ]
  },
  {
   "cell_type": "code",
   "execution_count": 111,
   "id": "d217fab9",
   "metadata": {},
   "outputs": [],
   "source": [
    "m = 4\n",
    "n = 5\n",
    "prices = [[4,3,13],[2,1,9],[1,2,14],[2,5,29]]"
   ]
  },
  {
   "cell_type": "code",
   "execution_count": 120,
   "id": "0251479b",
   "metadata": {},
   "outputs": [
    {
     "data": {
      "text/plain": [
       "130"
      ]
     },
     "execution_count": 120,
     "metadata": {},
     "output_type": "execute_result"
    }
   ],
   "source": [
    "a = Solution().sellingWood(m, n, prices)\n",
    "a"
   ]
  },
  {
   "cell_type": "code",
   "execution_count": 119,
   "id": "2792a058",
   "metadata": {},
   "outputs": [],
   "source": [
    "class Solution:\n",
    "    def sellingWood(self, m: int, n: int, prices: List[List[int]]) -> int:\n",
    "        dp = [[0 for _ in range(n+1)] for _ in range(m+1)]\n",
    "        for price in prices:\n",
    "            dp[price[0]][price[1]] = max(dp[price[0]][price[1]], price[2])\n",
    "        for i in range(1, m+1):\n",
    "            for j in range(1, n+1):\n",
    "                for s in range(1, i):\n",
    "                    dp[i][j] = max(dp[i][j], dp[s][j] + dp[i-s][j])\n",
    "                for s in range(1, j):\n",
    "                    dp[i][j] = max(dp[i][j], dp[i][s] + dp[i][j-s])\n",
    "        return dp[-1][-1]"
   ]
  },
  {
   "cell_type": "code",
   "execution_count": null,
   "id": "98d54280",
   "metadata": {},
   "outputs": [],
   "source": []
  }
 ],
 "metadata": {
  "kernelspec": {
   "display_name": "Python 3 (ipykernel)",
   "language": "python",
   "name": "python3"
  },
  "language_info": {
   "codemirror_mode": {
    "name": "ipython",
    "version": 3
   },
   "file_extension": ".py",
   "mimetype": "text/x-python",
   "name": "python",
   "nbconvert_exporter": "python",
   "pygments_lexer": "ipython3",
   "version": "3.8.8"
  },
  "toc": {
   "base_numbering": 1,
   "nav_menu": {},
   "number_sections": true,
   "sideBar": true,
   "skip_h1_title": false,
   "title_cell": "Table of Contents",
   "title_sidebar": "Contents",
   "toc_cell": false,
   "toc_position": {},
   "toc_section_display": true,
   "toc_window_display": false
  }
 },
 "nbformat": 4,
 "nbformat_minor": 5
}
