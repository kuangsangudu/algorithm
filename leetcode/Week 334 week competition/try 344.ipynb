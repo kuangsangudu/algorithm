{
 "cells": [
  {
   "cell_type": "code",
   "execution_count": 2,
   "id": "c7052e0d",
   "metadata": {},
   "outputs": [],
   "source": [
    "import math\n",
    "from typing import *\n",
    "import collections\n",
    "import heapq\n",
    "import bisect\n",
    "import functools"
   ]
  },
  {
   "cell_type": "markdown",
   "id": "ee83df0e",
   "metadata": {},
   "source": [
    "# 2574. Left and Right Sum Differences"
   ]
  },
  {
   "cell_type": "code",
   "execution_count": 3,
   "id": "15b554f3",
   "metadata": {},
   "outputs": [],
   "source": [
    "class Solution:\n",
    "    def leftRightDifference(self, nums: List[int]) -> List[int]:\n",
    "        right = [0] & len(nums)\n",
    "        for i in range(len(nums)-2, -1, -1):\n",
    "            right[i] = right[i+1] + nums[i+1]\n",
    "        ret = [0] * len(nums)\n",
    "        sums = 0\n",
    "        for i in range(len(nums)):\n",
    "            ret[i] = abs(sums-right[i])\n",
    "            sums += nums[i]\n",
    "        return ret"
   ]
  },
  {
   "cell_type": "markdown",
   "id": "b12c147d",
   "metadata": {},
   "source": [
    "# 2575. Find the Divisibility Array of a String"
   ]
  },
  {
   "cell_type": "code",
   "execution_count": 4,
   "id": "d8f7bd21",
   "metadata": {},
   "outputs": [],
   "source": [
    "class Solution:\n",
    "    def divisibilityArray(self, word: str, m: int) -> List[int]:\n",
    "        s = 0\n",
    "        ret = [0] * len(word)\n",
    "        for i, w in enumerate(word):\n",
    "            s = (s%m)* 10 + int(w)\n",
    "            ret[i] = 1 if s % m == 0 else 0\n",
    "        return ret"
   ]
  },
  {
   "cell_type": "markdown",
   "id": "81aea46c",
   "metadata": {},
   "source": [
    "# 2576. Find the Maximum Number of Marked Indicesv"
   ]
  },
  {
   "cell_type": "code",
   "execution_count": 72,
   "id": "3b3848d4",
   "metadata": {},
   "outputs": [],
   "source": [
    "class Solution:\n",
    "    def maxNumOfMarkedIndices(self, nums: List[int]) -> int:\n",
    "        nums.sort()\n",
    "        lens = len(nums)\n",
    "        l, r = 0, lens//2\n",
    "        while l < r:\n",
    "            mid = l + (r-l+1)//2\n",
    "            if all(2 * nums[i] <= nums[lens-mid+i] for i in range(mid)):\n",
    "                l = mid \n",
    "            else:\n",
    "                r = mid - 1\n",
    "        return l"
   ]
  },
  {
   "cell_type": "code",
   "execution_count": 6,
   "id": "42da98f7",
   "metadata": {},
   "outputs": [],
   "source": [
    "from sortedcontainers import SortedList"
   ]
  },
  {
   "cell_type": "code",
   "execution_count": 70,
   "id": "1a964d0f",
   "metadata": {},
   "outputs": [],
   "source": [
    "nums =  [9,2,5,4]"
   ]
  },
  {
   "cell_type": "code",
   "execution_count": 66,
   "id": "0ac4b244",
   "metadata": {},
   "outputs": [
    {
     "data": {
      "text/plain": [
       "False"
      ]
     },
     "execution_count": 66,
     "metadata": {},
     "output_type": "execute_result"
    }
   ],
   "source": [
    "mid = 1\n",
    "lens = 4\n",
    "all(nums[i] < nums[lens-mid+i] for i in range(mid))"
   ]
  },
  {
   "cell_type": "code",
   "execution_count": 73,
   "id": "9dbbdbb8",
   "metadata": {},
   "outputs": [
    {
     "data": {
      "text/plain": [
       "2"
      ]
     },
     "execution_count": 73,
     "metadata": {},
     "output_type": "execute_result"
    }
   ],
   "source": [
    "a = Solution().maxNumOfMarkedIndices(nums)\n",
    "a"
   ]
  },
  {
   "cell_type": "markdown",
   "id": "553d8b4b",
   "metadata": {},
   "source": [
    "# 2577. Minimum Time to Visit a Cell In a Grid"
   ]
  },
  {
   "cell_type": "code",
   "execution_count": 59,
   "id": "ec743784",
   "metadata": {},
   "outputs": [],
   "source": [
    "class Solution:\n",
    "    def minimumTime(self, grid: List[List[int]]) -> int:\n",
    "        if grid[0][1] > 1 and grid[1][0] > 1:\n",
    "            return -1\n",
    "        \n",
    "        visited = set([0])\n",
    "        q = [[0, 0, 0]]\n",
    "        lenx, leny = len(grid), len(grid[0])\n",
    "        if grid[0][1] <= 1:\n",
    "            heapq.heappush(q, [1, 0, 1])\n",
    "            visited.add(1)\n",
    "        if grid[1][0] <= 1:\n",
    "            heapq.heappush(q, [1, 1, 0])\n",
    "            visited.add(leny)\n",
    "        \n",
    "        while q:\n",
    "            s, i, j = heapq.heappop(q)\n",
    "            if i == lenx-1 and j == leny-1:\n",
    "                return s\n",
    "            for m, n in [[i+1, j], [i, j+1], [i-1, j], [i, j-1]]:\n",
    "                if 0 <= m < lenx and 0 <= n < leny and m*leny+n not in visited:\n",
    "                    if grid[m][n] > s+1:\n",
    "                        heapq.heappush(q, [s + 1 +  math.ceil((grid[m][n]-s-1)/2)*2, m, n])\n",
    "                    else:\n",
    "                        heapq.heappush(q, [s + 1, m, n])\n",
    "                    visited.add(m*leny+n)\n",
    "        "
   ]
  },
  {
   "cell_type": "code",
   "execution_count": 60,
   "id": "fd9c9136",
   "metadata": {},
   "outputs": [],
   "source": [
    "grid = [[0,1,19918,17532,73994],[1,64846,11660,81193,21818],[22697,96349,33620,21978,35872],[45606,10606,47438,10590,87951],[42172,6610,53317,53397,8258],[70755,18132,24647,6589,26595],[95935,69808,57382,77103,86911],[69470,1890,40171,63178,28757],[81991,54413,50091,71739,23922],[56439,96824,65274,36359,8014],[39208,77984,81466,83276,99680],[47788,50458,32750,80948,27782],[79863,83612,56178,53709,11838],[4980,92014,69952,63460,11814],[57521,17011,96190,67073,50308],[96760,51950,51802,60779,75968],[14867,14709,14904,11151,56958],[51561,86397,85301,21794,94221],[69633,89153,57417,24669,27587],[67267,97543,46291,38609,17009],[73806,6892,39650,57590,9756],[97378,31584,51247,26487,63172],[26695,10726,41363,28627,47184],[45,55774,92171,76688,18184],[79328,20992,6796,43287,45016],[40846,31880,28816,45167,67387],[56246,98406,18229,11812,31536],[73329,64462,72660,34722,37768],[77723,13439,25453,61989,74519],[40535,46067,37713,2575,54428],[96960,49164,32529,77738,3094],[58190,90903,83463,63760,95313],[98837,54085,18374,8499,38229],[13347,6199,4345,37873,66273],[34168,7726,78083,37708,14736],[25974,78044,53371,97400,97506],[21610,84219,28256,78713,61405],[51348,29061,64794,80519,87016],[64615,75492,16815,60057,99211],[8536,40081,54203,45837,13569],[48194,49658,39361,9952,65630],[75053,75133,21747,37752,76920],[63504,30192,74992,86787,58734],[29613,41134,86397,5435,100000],[14848,14326,4965,46965,57542],[82712,816,93352,24396,19030],[79927,82798,13882,89595,90935],[42768,98631,2116,21047,7241],[42312,73044,74309,6824,618],[76383,90818,72150,36391,57268],[10503,5130,23276,57262,5601],[42867,66007,32771,9403,84066],[17959,21174,53612,38172,15944],[43128,90626,85927,55572,6425],[88909,54565,20709,60461,47926],[64203,50994,93942,84913,76843],[31121,42509,74690,16696,9109],[10116,44958,7436,62674,91080],[55566,92270,42083,69055,91953],[93302,24424,34540,28475,1373],[5639,39959,10324,31050,66744],[20637,64101,73129,51430,27225],[10430,13677,21385,97824,30760],[77323,92659,7937,9877,61466],[84867,26888,81632,26835,5843],[41649,17117,25092,42913,35431],[80972,69484,66589,4953,25449],[37072,68672,97026,48637,14218],[78592,77874,35575,26642,20030],[79468,52724,52145,8299,6079],[66149,58860,97894,68762,35883],[38509,52288,71659,75324,75832],[5950,59844,76613,77533,81260],[80640,61038,87676,35914,26811],[25383,88563,69573,50003,96750],[81487,86938,34986,40669,84106],[42670,27441,66674,83368,21417],[73815,54661,47483,72459,96939],[69747,78670,13778,83055,74236],[14043,20582,8266,32542,64894],[18366,26933,25812,93414,67986],[92739,17295,5389,32644,11588],[96483,49084,37475,51599,24695],[58463,1712,94614,49156,58975],[7608,50590,42137,34803,28001],[54352,60149,60848,85181,73677],[24484,32768,2306,7319,38348],[97895,30804,37521,97222,99550],[66379,63094,48776,69614,16112],[26999,91092,21418,10716,10492]]"
   ]
  },
  {
   "cell_type": "code",
   "execution_count": 61,
   "id": "26d511e6",
   "metadata": {},
   "outputs": [],
   "source": [
    "grid = [[0,1,3,2],[5,1,2,5],[4,3,8,6]]"
   ]
  },
  {
   "cell_type": "code",
   "execution_count": 62,
   "id": "b517a0c1",
   "metadata": {},
   "outputs": [
    {
     "data": {
      "text/plain": [
       "7"
      ]
     },
     "execution_count": 62,
     "metadata": {},
     "output_type": "execute_result"
    }
   ],
   "source": [
    "a = Solution().minimumTime(grid)\n",
    "a"
   ]
  },
  {
   "cell_type": "code",
   "execution_count": null,
   "id": "287a61c9",
   "metadata": {},
   "outputs": [],
   "source": []
  }
 ],
 "metadata": {
  "kernelspec": {
   "display_name": "Python 3 (ipykernel)",
   "language": "python",
   "name": "python3"
  },
  "language_info": {
   "codemirror_mode": {
    "name": "ipython",
    "version": 3
   },
   "file_extension": ".py",
   "mimetype": "text/x-python",
   "name": "python",
   "nbconvert_exporter": "python",
   "pygments_lexer": "ipython3",
   "version": "3.8.8"
  },
  "toc": {
   "base_numbering": 1,
   "nav_menu": {},
   "number_sections": true,
   "sideBar": true,
   "skip_h1_title": false,
   "title_cell": "Table of Contents",
   "title_sidebar": "Contents",
   "toc_cell": false,
   "toc_position": {},
   "toc_section_display": true,
   "toc_window_display": false
  }
 },
 "nbformat": 4,
 "nbformat_minor": 5
}
