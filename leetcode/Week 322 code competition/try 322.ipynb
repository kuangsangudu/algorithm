{
 "cells": [
  {
   "cell_type": "code",
   "execution_count": 2,
   "id": "3c1d8e6e",
   "metadata": {},
   "outputs": [],
   "source": [
    "import heapq\n",
    "import math\n",
    "import collections\n",
    "import functools\n",
    "from typing import *\n",
    "import bisect"
   ]
  },
  {
   "cell_type": "markdown",
   "id": "79721a25",
   "metadata": {},
   "source": [
    "# 6253. Circular Sentence"
   ]
  },
  {
   "cell_type": "code",
   "execution_count": 5,
   "id": "914875c6",
   "metadata": {},
   "outputs": [],
   "source": [
    "class Solution:\n",
    "    def isCircularSentence(self, sentence: str) -> bool:\n",
    "        array = sentence.split(\" \")\n",
    "        flag = True\n",
    "        for i in range(len(array)-1):\n",
    "            if array[i][-1] != array[i+1][0]:\n",
    "                flag = False\n",
    "        \n",
    "        if array[0][0] != array[-1][-1]:\n",
    "            flag = False\n",
    "        return flag"
   ]
  },
  {
   "cell_type": "markdown",
   "id": "0e1593d2",
   "metadata": {},
   "source": [
    "# 6254. Divide Players Into Teams of Equal Skill"
   ]
  },
  {
   "cell_type": "code",
   "execution_count": 30,
   "id": "d5403773",
   "metadata": {},
   "outputs": [],
   "source": [
    "class Solution:\n",
    "    def dividePlayers(self, skill: List[int]) -> int:\n",
    "        c = collections.Counter(skill)\n",
    "        sums = sum(skill)\n",
    "        if sums % (len(skill)//2):\n",
    "            return -1\n",
    "        \n",
    "        target = sums // (len(skill)//2)\n",
    "        ret = 0\n",
    "\n",
    "        for key in c.keys():\n",
    "            val = c[key]\n",
    "            if key*2 == target:\n",
    "                if val % 2:\n",
    "                    return -1\n",
    "                ret += key * key * val//2\n",
    "                c[key] -= val\n",
    "            elif c.get(target-key, -1) == val:\n",
    "                ret += key * (target-key) * val\n",
    "                c[key] -= val\n",
    "                c[target-key] -= val\n",
    "            else:\n",
    "                return -1\n",
    "            \n",
    "        return ret"
   ]
  },
  {
   "cell_type": "code",
   "execution_count": 31,
   "id": "2861e345",
   "metadata": {},
   "outputs": [],
   "source": [
    "skill = [3,2,5,1,3,4]"
   ]
  },
  {
   "cell_type": "code",
   "execution_count": 32,
   "id": "7e2a6ea9",
   "metadata": {},
   "outputs": [
    {
     "name": "stdout",
     "output_type": "stream",
     "text": [
      "6 Counter({3: 2, 2: 1, 5: 1, 1: 1, 4: 1})\n",
      "Counter({2: 1, 5: 1, 1: 1, 4: 1, 3: 0}) 9\n",
      "Counter({5: 1, 1: 1, 3: 0, 2: 0, 4: 0}) 17\n",
      "Counter({3: 0, 2: 0, 5: 0, 1: 0, 4: 0}) 22\n",
      "Counter({3: 0, 2: 0, 5: 0, 1: 0, 4: 0}) 22\n",
      "Counter({3: 0, 2: 0, 5: 0, 1: 0, 4: 0}) 22\n"
     ]
    },
    {
     "data": {
      "text/plain": [
       "22"
      ]
     },
     "execution_count": 32,
     "metadata": {},
     "output_type": "execute_result"
    }
   ],
   "source": [
    "a = Solution().dividePlayers(skill)\n",
    "a"
   ]
  },
  {
   "cell_type": "code",
   "execution_count": 120,
   "id": "6a0727b4",
   "metadata": {},
   "outputs": [],
   "source": [
    "class Solution:\n",
    "    def dividePlayers(self, skill: List[int]) -> int:\n",
    "        skill.sort()\n",
    "        ans, s = 0, skill[0] + skill[-1]\n",
    "        for i in range(len(skill) // 2):\n",
    "            x, y = skill[i], skill[-1 - i]\n",
    "            if x + y != s: return -1\n",
    "            ans += x * y\n",
    "        return ans"
   ]
  },
  {
   "cell_type": "markdown",
   "id": "6452c729",
   "metadata": {},
   "source": [
    "# 6255. Minimum Score of a Path Between Two Cities"
   ]
  },
  {
   "cell_type": "code",
   "execution_count": 34,
   "id": "8c63ab08",
   "metadata": {},
   "outputs": [],
   "source": [
    "class Solution:\n",
    "    def minScore(self, n: int, roads: List[List[int]]) -> int:\n",
    "        maps = [[] for _ in range(n+1)]\n",
    "        weights = [[] for _ in range(n+1)]\n",
    "        for road in roads:\n",
    "            maps[road[0]].append(road[1])\n",
    "            maps[road[1]].append(road[0])\n",
    "            weights[road[0]].append(road[2])\n",
    "            weights[road[1]].append(road[2])\n",
    "        \n",
    "        target = n\n",
    "        q = [[float(\"inf\"), 1]]\n",
    "        visited = {1:float(\"inf\")}\n",
    "        while q:\n",
    "            s, idx = heapq.heappop(q)\n",
    "            for j in range(len(maps[idx])):\n",
    "                mins = min(s, weights[idx][j])\n",
    "                if visited.get(maps[idx][j], float(\"inf\")) > mins:\n",
    "                    heapq.heappush(q, [mins, maps[idx][j]])\n",
    "                    visited[maps[idx][j]] = mins\n",
    "        return visited[target]"
   ]
  },
  {
   "cell_type": "code",
   "execution_count": 121,
   "id": "c09f20af",
   "metadata": {},
   "outputs": [],
   "source": [
    "class Solution:\n",
    "    def minScore(self, n: int, roads: List[List[int]]) -> int:\n",
    "        g = [[] for _ in range(n)]\n",
    "        for x, y, d in roads:\n",
    "            g[x - 1].append((y - 1, d))\n",
    "            g[y - 1].append((x - 1, d))\n",
    "        ans = inf\n",
    "        vis = [False] * n\n",
    "        def dfs(x: int) -> None:\n",
    "            nonlocal ans\n",
    "            vis[x] = True\n",
    "            for y, d in g[x]:\n",
    "                ans = min(ans, d)\n",
    "                if not vis[y]:\n",
    "                    dfs(y)\n",
    "        dfs(0)\n",
    "        return ans"
   ]
  },
  {
   "cell_type": "markdown",
   "id": "88808924",
   "metadata": {},
   "source": [
    "# 6256. Divide Nodes Into the Maximum Number of Groups"
   ]
  },
  {
   "cell_type": "code",
   "execution_count": 36,
   "id": "28fb98f5",
   "metadata": {},
   "outputs": [],
   "source": [
    "class Union:\n",
    "    def __init__(self, lens):\n",
    "        self.Union = list(range(lens))\n",
    "        self.rank = [1] * lens\n",
    "        self.nums = lens-1\n",
    "\n",
    "    def find(self, x):\n",
    "        while self.Union[x] != x:\n",
    "            x = self.Union[x]\n",
    "        return x\n",
    "\n",
    "    def union(self, x, y):\n",
    "        par_x, par_y = self.find(x), self.find(y)\n",
    "        if par_x == par_y:\n",
    "            return\n",
    "        if self.rank[par_x] < self.rank[par_y]:\n",
    "            par_x, par_y = par_y, par_x\n",
    "        self.rank[par_x] += self.rank[par_y]\n",
    "        self.Union[par_y] = par_x\n",
    "        self.nums -= 1\n",
    "\n",
    "    def is_union(self, x, y):\n",
    "        par_x, par_y = self.find(x), self.find(y)\n",
    "        if par_x == par_y:\n",
    "            return True\n",
    "        return False"
   ]
  },
  {
   "cell_type": "code",
   "execution_count": 117,
   "id": "0a22293c",
   "metadata": {},
   "outputs": [],
   "source": [
    "class Solution:\n",
    "    def magnificentSets(self, n: int, edges: List[List[int]]) -> int:\n",
    "        def find(array):\n",
    "            q = collections.deque([[array[0], 1]])\n",
    "            maxs = 1\n",
    "            visited = {array[0]:1}\n",
    "            lasts = [array[0]]\n",
    "            lastmaxs = 1\n",
    "            while q:\n",
    "                idx, s = q.popleft()\n",
    "                for nxt in maps[idx]:\n",
    "                    if visited.get(nxt, -1) != -1 and visited[nxt] == s:\n",
    "                        return -1\n",
    "                    if visited.get(nxt, -1) == -1:\n",
    "                        if s+1 > lastmaxs:\n",
    "                            lasts = [nxt]\n",
    "                            lastmaxs = s+1\n",
    "                        elif s+1 == lastmaxs:\n",
    "                            lasts.append(nxt)\n",
    "                            \n",
    "                        q.append([nxt, s+1])\n",
    "                        maxs = max(maxs, s+1)\n",
    "                        visited[nxt] = s+1\n",
    "                    \n",
    "            ls = [lasts[0]]\n",
    "            lastmaxs = 1\n",
    "            for last in lasts:\n",
    "                q = collections.deque([[last, 1]])\n",
    "                visited = set([last])\n",
    "                while q:\n",
    "                    idx, s = q.popleft()\n",
    "                    for nxt in maps[idx]:\n",
    "                        if nxt not in visited:\n",
    "                            if s+1 > lastmaxs:\n",
    "                                ls = [nxt]\n",
    "                                lastmaxs = s+1\n",
    "                            elif s+1 == lastmaxs:\n",
    "                                ls.append(nxt)\n",
    "                            q.append([nxt, s+1])\n",
    "                            maxs = max(maxs, s+1)\n",
    "                            visited.add(nxt)\n",
    "                            \n",
    "            for last in ls:\n",
    "                q = collections.deque([[last, 1]])\n",
    "                visited = set([last])\n",
    "                while q:\n",
    "                    idx, s = q.popleft()\n",
    "                    for nxt in maps[idx]:\n",
    "                        if nxt not in visited:\n",
    "                            q.append([nxt, s+1])\n",
    "                            maxs = max(maxs, s+1)\n",
    "                            visited.add(nxt)            \n",
    "            return maxs\n",
    "            \n",
    "            \n",
    "        maps = collections.defaultdict(list)\n",
    "        union = Union(501)\n",
    "        for i, j in edges:\n",
    "            maps[i].append(j)\n",
    "            maps[j].append(i)\n",
    "            union.union(i, j)\n",
    "        \n",
    "        visited = set()\n",
    "        ret = 0\n",
    "        for i in range(1, n+1):\n",
    "            t = union.find(i)\n",
    "            if t in visited:\n",
    "                continue\n",
    "            array = []\n",
    "            for j in range(1, n+1):\n",
    "                if union.find(j) == t:\n",
    "                    array.append(j)\n",
    "            \n",
    "            result = find(array)\n",
    "            if result == -1:\n",
    "                return -1\n",
    "            ret += result\n",
    "            visited.add(t)\n",
    "        return ret\n",
    "            "
   ]
  },
  {
   "cell_type": "code",
   "execution_count": 118,
   "id": "19f9a9e8",
   "metadata": {},
   "outputs": [],
   "source": [
    "n = 500\n",
    "edges = [[273,319],[260,181],[266,131],[314,265],[20,107],[202,357],[290,103],[421,203],[374,141],[252,241],[93,183],[252,209],[268,112],[399,84],[302,72],[434,243],[18,72],[421,400],[361,38],[51,262],[234,261],[218,457],[293,115],[398,362],[109,81],[349,72],[478,238],[275,91],[221,157],[435,364],[93,460],[192,288],[411,310],[208,185],[474,107],[464,310],[435,348],[297,346],[60,83],[167,458],[345,463],[349,486],[363,197],[139,319],[169,226],[338,467],[121,77],[130,205],[53,315],[270,283],[202,316],[418,369],[372,78],[55,375],[337,259],[462,283],[221,203],[447,181],[184,1],[99,115],[295,178],[388,460],[222,292],[139,98],[363,395],[88,214],[407,7],[189,395],[184,283],[95,446],[433,362],[480,484],[89,106],[159,413],[398,280],[495,161],[421,225],[332,48],[248,232],[422,241],[235,331],[169,315],[104,48],[427,106],[462,262],[497,274],[258,393],[330,406],[100,64],[404,178],[272,437],[23,203],[167,369],[354,226],[235,396],[96,308],[169,378],[278,244],[473,81],[201,194],[9,307],[464,206],[63,148],[229,120],[444,445],[249,72],[20,150],[493,479],[6,216],[234,283],[139,224],[470,484],[312,370],[390,238],[297,83],[373,2],[130,482],[440,261],[251,128],[365,286],[129,138],[294,230],[347,406],[407,179],[470,58],[456,487],[300,383],[278,448],[341,371],[367,396],[470,98],[452,393],[351,140],[335,454],[61,371],[211,76],[196,484],[95,191],[258,230],[10,101],[386,76],[305,313],[99,466],[338,226],[421,164],[453,492],[391,392],[388,327],[26,148],[269,446],[162,163],[67,384],[305,223],[229,85],[427,105],[416,216],[67,157],[470,313],[343,265],[377,487],[109,397],[237,46],[480,319],[355,397],[277,83],[245,400],[309,445],[314,315],[456,410],[398,408],[23,261],[255,472],[386,461],[322,204],[398,45],[15,285],[202,19],[147,19],[358,185],[208,241],[126,146],[287,144],[73,262],[485,310],[421,122],[278,216],[470,451],[301,137],[444,171],[121,463],[147,214],[219,177],[338,106],[202,483],[234,459],[468,181],[361,114],[13,310],[347,194],[154,52],[330,368],[394,123],[414,164],[154,321],[390,2],[60,262],[380,36],[402,256],[314,78],[340,177],[343,66],[162,177],[276,393],[73,283],[195,352],[377,140],[175,72],[407,425],[323,288],[190,142],[418,385],[186,163],[270,157],[386,362],[469,342],[358,405],[497,5],[335,395],[485,425],[452,203],[287,213],[434,37],[423,5],[3,165],[70,254],[28,370],[330,400],[322,115],[429,439],[323,368],[407,280],[444,36],[335,329],[270,19],[367,205],[220,250],[433,499],[162,466],[13,123],[211,123]]"
   ]
  },
  {
   "cell_type": "code",
   "execution_count": 119,
   "id": "951c4744",
   "metadata": {},
   "outputs": [
    {
     "data": {
      "text/plain": [
       "426"
      ]
     },
     "execution_count": 119,
     "metadata": {},
     "output_type": "execute_result"
    }
   ],
   "source": [
    "a  =Solution().magnificentSets(n, edges)\n",
    "a"
   ]
  },
  {
   "cell_type": "code",
   "execution_count": 66,
   "id": "7ac7d16d",
   "metadata": {},
   "outputs": [],
   "source": [
    "n = 6\n",
    "edges = [[1,2],[1,4],[1,5],[2,6],[2,3],[4,6]]"
   ]
  },
  {
   "cell_type": "code",
   "execution_count": 122,
   "id": "d78c638a",
   "metadata": {},
   "outputs": [],
   "source": [
    "class Solution:\n",
    "    def magnificentSets(self, n: int, edges: List[List[int]]) -> int:\n",
    "        g = [[] for _ in range(n)]\n",
    "        for x, y in edges:\n",
    "            g[x - 1].append(y - 1)\n",
    "            g[y - 1].append(x - 1)\n",
    "\n",
    "        def bfs(start: int) -> int:\n",
    "            mx = 0\n",
    "            group = [0] * n\n",
    "            group[start] = base\n",
    "            q = deque([(start, base)])\n",
    "            while q:\n",
    "                x, id = q.popleft()\n",
    "                mx = max(mx, id)\n",
    "                for y in g[x]:\n",
    "                    if group[y] == 0:\n",
    "                        group[y] = id + 1\n",
    "                        q.append((y, id + 1))\n",
    "                    elif abs(group[y] - group[x]) != 1:\n",
    "                        return 0\n",
    "            return mx\n",
    "\n",
    "        ans = 0\n",
    "        vis = [False] * n\n",
    "        for i, b in enumerate(vis):\n",
    "            if b: continue\n",
    "            base = ans + 1  # 接着上个连通分量\n",
    "            def dfs(x: int) -> None:\n",
    "                nonlocal ans\n",
    "                ans = max(ans, bfs(x))\n",
    "                vis[x] = True\n",
    "                for y in g[x]:\n",
    "                    if not vis[y]:\n",
    "                        dfs(y)\n",
    "            dfs(i)\n",
    "            if ans < base: return -1  # 没有变大，说明无法找到合法的分组\n",
    "        return ans"
   ]
  },
  {
   "cell_type": "code",
   "execution_count": null,
   "id": "2642b4fe",
   "metadata": {},
   "outputs": [],
   "source": []
  }
 ],
 "metadata": {
  "kernelspec": {
   "display_name": "Python 3 (ipykernel)",
   "language": "python",
   "name": "python3"
  },
  "language_info": {
   "codemirror_mode": {
    "name": "ipython",
    "version": 3
   },
   "file_extension": ".py",
   "mimetype": "text/x-python",
   "name": "python",
   "nbconvert_exporter": "python",
   "pygments_lexer": "ipython3",
   "version": "3.8.8"
  },
  "toc": {
   "base_numbering": 1,
   "nav_menu": {},
   "number_sections": true,
   "sideBar": true,
   "skip_h1_title": false,
   "title_cell": "Table of Contents",
   "title_sidebar": "Contents",
   "toc_cell": false,
   "toc_position": {},
   "toc_section_display": true,
   "toc_window_display": false
  }
 },
 "nbformat": 4,
 "nbformat_minor": 5
}
