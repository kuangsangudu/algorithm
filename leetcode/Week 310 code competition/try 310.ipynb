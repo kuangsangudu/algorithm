{
 "cells": [
  {
   "cell_type": "code",
   "execution_count": 1,
   "id": "e1187296",
   "metadata": {},
   "outputs": [],
   "source": [
    "from typing import List\n",
    "import collections\n",
    "import math\n",
    "import heapq"
   ]
  },
  {
   "cell_type": "markdown",
   "id": "54e91460",
   "metadata": {},
   "source": [
    "# 6176. Most Frequent Even Element"
   ]
  },
  {
   "cell_type": "code",
   "execution_count": 2,
   "id": "98aed26d",
   "metadata": {},
   "outputs": [],
   "source": [
    "class Solution:\n",
    "    def mostFrequentEven(self, nums: List[int]) -> int:\n",
    "        n = collections.Counter(nums)\n",
    "        ret = -1\n",
    "        sums = 0\n",
    "        for key, val in n.items():\n",
    "            if key % 2 == 0 and val > sums:\n",
    "                ret = key\n",
    "                sums = val\n",
    "            elif key % 2 == 0 and val == sums and key < ret:\n",
    "                ret = key\n",
    "        return ret"
   ]
  },
  {
   "cell_type": "markdown",
   "id": "e40e4ecd",
   "metadata": {},
   "source": [
    "# 6177. Optimal Partition of String"
   ]
  },
  {
   "cell_type": "code",
   "execution_count": 3,
   "id": "363b7b74",
   "metadata": {},
   "outputs": [],
   "source": [
    "class Solution:\n",
    "    def partitionString(self, s: str) -> int:\n",
    "        maps = {}\n",
    "        ret = 1\n",
    "        for n in s:\n",
    "            if maps.get(n, -1) != -1:\n",
    "                maps = {n:1}\n",
    "                ret += 1\n",
    "            else:\n",
    "                maps[n] = 1\n",
    "        return ret"
   ]
  },
  {
   "cell_type": "markdown",
   "id": "3db8c52d",
   "metadata": {},
   "source": [
    "# 6178. Divide Intervals Into Minimum Number of Groups"
   ]
  },
  {
   "cell_type": "code",
   "execution_count": 5,
   "id": "2b9d2c66",
   "metadata": {},
   "outputs": [],
   "source": [
    "class Solution:\n",
    "    def minGroups(self, intervals: List[List[int]]) -> int:\n",
    "        def Next(l, r, t):\n",
    "            while l < r:\n",
    "                mid = (l + r)//2\n",
    "                if intervals[mid][0] < t:\n",
    "                    l = mid + 1\n",
    "                else:\n",
    "                    r = mid\n",
    "            return l\n",
    "                \n",
    "        intervals.sort()\n",
    "        intervals = collections.deque(intervals)\n",
    "        \n",
    "        ret = 0\n",
    "        while intervals:\n",
    "            start = intervals[0]\n",
    "            intervals.popleft()\n",
    "            nex = Next(0, len(intervals)-1, start[1]+1)\n",
    "            while intervals and intervals[nex][0] >= start[1]+1:\n",
    "                start = intervals[nex]\n",
    "                intervals.remove(start)\n",
    "                nex = Next(0, len(intervals)-1, start[1]+1)\n",
    "            ret += 1\n",
    "        return ret"
   ]
  },
  {
   "cell_type": "code",
   "execution_count": 125,
   "id": "0deb85ec",
   "metadata": {},
   "outputs": [],
   "source": [
    "class Solution:\n",
    "    def minGroups(self, intervals: List[List[int]]) -> int:\n",
    "        sums = [0] * (10**6+10)\n",
    "        intervals.sort()\n",
    "        i = 0\n",
    "        for j in range(10**6+1):\n",
    "            sums[j] = sums[j-1]+sums[j]\n",
    "            while i < len(intervals) and j == intervals[i][0]:\n",
    "                sums[intervals[i][0]] += 1\n",
    "                sums[intervals[i][1]+1] -= 1\n",
    "                i += 1\n",
    "            \n",
    "        return max(sums)"
   ]
  },
  {
   "cell_type": "code",
   "execution_count": 128,
   "id": "9cc5cc1e",
   "metadata": {},
   "outputs": [],
   "source": [
    "class Solution:\n",
    "    def minGroups(self, intervals: List[List[int]]) -> int:\n",
    "        sums = [0] * (10**6+10)\n",
    "        intervals.sort()\n",
    "        for l, r in intervals:\n",
    "            sums[l] += 1\n",
    "            sums[r+1] -= 1\n",
    "        \n",
    "        ret = 0\n",
    "        for i in range(1, len(sums)):\n",
    "            sums[i] += sums[i-1]\n",
    "            ret = max(ret, sums[i])\n",
    "            \n",
    "        return ret"
   ]
  },
  {
   "cell_type": "code",
   "execution_count": 129,
   "id": "8ed74303",
   "metadata": {},
   "outputs": [
    {
     "data": {
      "text/plain": [
       "10476"
      ]
     },
     "execution_count": 129,
     "metadata": {},
     "output_type": "execute_result"
    }
   ],
   "source": [
    "a = Solution().minGroups(intervals)\n",
    "a"
   ]
  },
  {
   "cell_type": "code",
   "execution_count": 127,
   "id": "9f7fcf3c",
   "metadata": {},
   "outputs": [],
   "source": [
    "class Solution:\n",
    "    def minGroups(self, intervals: List[List[int]]) -> int:\n",
    "        intervals.sort()\n",
    "        h = []\n",
    "        for left, right in intervals:\n",
    "            if h and left > h[0]: heapreplace(h, right)\n",
    "            else: heappush(h, right)\n",
    "        return len(h)"
   ]
  },
  {
   "cell_type": "markdown",
   "id": "98f07cd2",
   "metadata": {},
   "source": [
    "# 6206. 最长递增子序列 IIv"
   ]
  },
  {
   "cell_type": "code",
   "execution_count": 133,
   "id": "c17a8404",
   "metadata": {},
   "outputs": [],
   "source": [
    "class SegTree:\n",
    "    def __init__(self, init, func, ide):\n",
    "        self.n = len(init)\n",
    "        self.func = func\n",
    "        self.ide = ide\n",
    "        self.size = 1 << (self.n - 1).bit_length()\n",
    "        self.tree = [self.ide for i in range(2 * self.size)]\n",
    "        for i in range(self.n):\n",
    "            self.tree[self.size + i] = init[i]\n",
    "        for i in range(self.size - 1, 0, -1):\n",
    "            self.tree[i] = self.func(self.tree[2 * i], self.tree[2 * i | 1])\n",
    "\n",
    "    def update(self, k, x):\n",
    "        k += self.size\n",
    "        self.tree[k] = x\n",
    "        k >>= 1\n",
    "        while k:\n",
    "            self.tree[k] = self.func(self.tree[2 * k], self.tree[k * 2 | 1])\n",
    "            k >>= 1\n",
    "\n",
    "    def get(self, i):\n",
    "        return self.tree[i + self.size]\n",
    "\n",
    "    def query(self, l, r):\n",
    "        l += self.size\n",
    "        r += self.size\n",
    "        l_res = self.ide\n",
    "        r_res = self.ide\n",
    "        while l < r:\n",
    "            if l & 1:\n",
    "                l_res = self.func(l_res, self.tree[l])\n",
    "                l += 1\n",
    "            if r & 1:\n",
    "                r -= 1\n",
    "                r_res = self.func(self.tree[r], r_res)\n",
    "            l >>= 1\n",
    "            r >>= 1\n",
    "        return self.func(l_res, r_res)\n",
    "\n",
    "    def debug(self, s=10):\n",
    "        print([self.get(i) for i in range(min(self.n, s))])"
   ]
  },
  {
   "cell_type": "code",
   "execution_count": 118,
   "id": "33f1135a",
   "metadata": {},
   "outputs": [],
   "source": [
    "class Solution:\n",
    "    def lengthOfLIS(self, nums: List[int], k: int) -> int:\n",
    "        tree = SegTree([0] * (max(nums)+1), max, 0)\n",
    "        ret = 0\n",
    "        for i in nums:\n",
    "            re = tree.query(max(0, i-k), i) + 1\n",
    "            tree.update(i, re)\n",
    "            ret = max(ret, re)\n",
    "        return ret"
   ]
  },
  {
   "cell_type": "code",
   "execution_count": 139,
   "id": "ffe1be64",
   "metadata": {},
   "outputs": [],
   "source": [
    "nums = [1,100,500,100000,100000]\n",
    "k = 100000"
   ]
  },
  {
   "cell_type": "code",
   "execution_count": 142,
   "id": "9b104f54",
   "metadata": {},
   "outputs": [
    {
     "data": {
      "text/plain": [
       "4"
      ]
     },
     "execution_count": 142,
     "metadata": {},
     "output_type": "execute_result"
    }
   ],
   "source": [
    "a = Solution().lengthOfLIS(nums, k)\n",
    "a"
   ]
  },
  {
   "cell_type": "code",
   "execution_count": 141,
   "id": "e5cbc5d3",
   "metadata": {},
   "outputs": [],
   "source": [
    "class Solution:\n",
    "    def lengthOfLIS(self, nums: List[int], k: int) -> int:\n",
    "        tree = FenwickTree(max(nums))\n",
    "        ret = 0\n",
    "        for i in nums:\n",
    "            re = tree.query(max(1, i-k), i-1) + 1\n",
    "            if re > tree.a[i]:\n",
    "                tree.a[i] = re\n",
    "                tree.update(i, re)\n",
    "                ret = max(ret, re)\n",
    "        return ret\n",
    "\n",
    "class FenwickTree:\n",
    "    def __init__(self, lens):\n",
    "        self.arr = [0] * (lens+1)\n",
    "        self.a = [0] * (lens+1)\n",
    "\n",
    "    def lowbit(self, x):\n",
    "        return x & -x\n",
    "\n",
    "    def update(self, i, num):\n",
    "        while i < len(self.arr):\n",
    "            self.arr[i] = max(self.arr[i], num)\n",
    "            i += self.lowbit(i)\n",
    "        \n",
    "    def query(self, l, r):\n",
    "        ret = 0\n",
    "        while r >= l:\n",
    "            ret = max(ret, self.a[r])\n",
    "            r -= 1\n",
    "            while r - self.lowbit(r) >= l:\n",
    "                r -= self.lowbit(r)\n",
    "                ret = max(ret, self.arr[r])\n",
    "        return ret"
   ]
  },
  {
   "cell_type": "code",
   "execution_count": null,
   "id": "6a6aba7f",
   "metadata": {},
   "outputs": [],
   "source": []
  }
 ],
 "metadata": {
  "kernelspec": {
   "display_name": "Python 3 (ipykernel)",
   "language": "python",
   "name": "python3"
  },
  "language_info": {
   "codemirror_mode": {
    "name": "ipython",
    "version": 3
   },
   "file_extension": ".py",
   "mimetype": "text/x-python",
   "name": "python",
   "nbconvert_exporter": "python",
   "pygments_lexer": "ipython3",
   "version": "3.8.8"
  },
  "toc": {
   "base_numbering": 1,
   "nav_menu": {},
   "number_sections": true,
   "sideBar": true,
   "skip_h1_title": false,
   "title_cell": "Table of Contents",
   "title_sidebar": "Contents",
   "toc_cell": false,
   "toc_position": {},
   "toc_section_display": true,
   "toc_window_display": false
  }
 },
 "nbformat": 4,
 "nbformat_minor": 5
}
