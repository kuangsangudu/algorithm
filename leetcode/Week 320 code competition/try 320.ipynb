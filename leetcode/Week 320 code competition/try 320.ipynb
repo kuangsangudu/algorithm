{
 "cells": [
  {
   "cell_type": "code",
   "execution_count": 35,
   "id": "b776b76b",
   "metadata": {},
   "outputs": [],
   "source": [
    "from typing import *\n",
    "import collections\n",
    "import math\n",
    "import functools\n",
    "import bisect"
   ]
  },
  {
   "cell_type": "markdown",
   "id": "9fa42d2f",
   "metadata": {},
   "source": [
    "# 6241. Number of Unequal Triplets in Array"
   ]
  },
  {
   "cell_type": "code",
   "execution_count": 5,
   "id": "029f1ac7",
   "metadata": {},
   "outputs": [],
   "source": [
    "class Solution:\n",
    "    def unequalTriplets(self, nums: List[int]) -> int:\n",
    "        ret = 0\n",
    "        for i in range(len(nums)-2):\n",
    "            for j in range(i+1, len(nums)-1):\n",
    "                for k in range(j+1, len(nums)):\n",
    "                    if nums[i] != nums[j]  and nums[j] != nums[k] and nums[i] != nums[k]:\n",
    "                        ret += 1\n",
    "        return ret"
   ]
  },
  {
   "cell_type": "code",
   "execution_count": 6,
   "id": "5025582a",
   "metadata": {},
   "outputs": [],
   "source": [
    "nums = [4,4,2,4,3]"
   ]
  },
  {
   "cell_type": "code",
   "execution_count": 7,
   "id": "ac1719fa",
   "metadata": {},
   "outputs": [
    {
     "data": {
      "text/plain": [
       "3"
      ]
     },
     "execution_count": 7,
     "metadata": {},
     "output_type": "execute_result"
    }
   ],
   "source": [
    "a  =Solution().unequalTriplets(nums)\n",
    "a"
   ]
  },
  {
   "cell_type": "code",
   "execution_count": 36,
   "id": "b08b79ec",
   "metadata": {},
   "outputs": [],
   "source": [
    "class Solution:\n",
    "    def unequalTriplets(self, nums: List[int]) -> int:\n",
    "        ans, a, c = 0, 0, len(nums)\n",
    "        for b in Counter(nums).values():\n",
    "            c -= b\n",
    "            ans += a * b * c\n",
    "            a += b\n",
    "        return ans"
   ]
  },
  {
   "cell_type": "code",
   "execution_count": 37,
   "id": "cff06f36",
   "metadata": {},
   "outputs": [],
   "source": [
    "class Solution:\n",
    "    def unequalTriplets(self, nums: List[int]) -> int:\n",
    "        nums.sort()\n",
    "        ans = start = 0\n",
    "        for i, (x, y) in enumerate(pairwise(nums)):\n",
    "            if x != y:\n",
    "                ans += start * (i - start + 1) * (len(nums) - 1 - i)\n",
    "                start = i + 1\n",
    "        return ans"
   ]
  },
  {
   "cell_type": "markdown",
   "id": "3fadd450",
   "metadata": {},
   "source": [
    "# 6242. Closest Nodes Queries in a Binary Search Tree"
   ]
  },
  {
   "cell_type": "code",
   "execution_count": 21,
   "id": "b72bd04e",
   "metadata": {},
   "outputs": [],
   "source": [
    "# Definition for a binary tree node.\n",
    "class TreeNode:\n",
    "    def __init__(self, val=0, left=None, right=None):\n",
    "        self.val = val\n",
    "        self.left = left\n",
    "        self.right = right\n",
    "\n",
    "class Solution:\n",
    "    def closestNodes(self, root: Optional[TreeNode], queries: List[int]) -> List[List[int]]:\n",
    "        array = []\n",
    "        \n",
    "        def dfs(root):\n",
    "            if not root:\n",
    "                return\n",
    "            dfs(root.left)\n",
    "            array.append(root.val)\n",
    "            dfs(root.right)\n",
    "            \n",
    "        dfs(root)\n",
    "        ret = []\n",
    "        for query in queries:\n",
    "            idx = bisect.bisect_left(array, query)\n",
    "            if idx == len(array):\n",
    "                ret.append([array[-1], -1])\n",
    "            elif idx == 0:\n",
    "                if array[0] == query:\n",
    "                    ret.append([array[0], array[0]])\n",
    "                else:\n",
    "                    ret.append([-1, array[0]])\n",
    "            else:\n",
    "                ret.append([array[idx-1] if array[idx] > query else array[idx] , array[idx]])\n",
    "        return ret"
   ]
  },
  {
   "cell_type": "code",
   "execution_count": 22,
   "id": "396c534f",
   "metadata": {},
   "outputs": [
    {
     "data": {
      "text/plain": [
       "4"
      ]
     },
     "execution_count": 22,
     "metadata": {},
     "output_type": "execute_result"
    }
   ],
   "source": [
    "a = [1,2,3,5]\n",
    "bisect.bisect_left(a, 6)"
   ]
  },
  {
   "cell_type": "markdown",
   "id": "63d89ce4",
   "metadata": {},
   "source": [
    "# 6243. Minimum Fuel Cost to Report to the Capital"
   ]
  },
  {
   "cell_type": "code",
   "execution_count": 67,
   "id": "c7d753c5",
   "metadata": {},
   "outputs": [],
   "source": [
    "class Solution:\n",
    "    def minimumFuelCost(self, roads: List[List[int]], seats: int) -> int:\n",
    "        ret = 0\n",
    "        maps = collections.defaultdict(list)\n",
    "        count = collections.defaultdict(int)\n",
    "        for road in roads:\n",
    "            maps[road[0]].append(road[1])\n",
    "            maps[road[1]].append(road[0])\n",
    "            count[road[0]] += 1\n",
    "            count[road[1]] += 1\n",
    "        \n",
    "        def dfs(idx, pre, num):\n",
    "            nonlocal ret\n",
    "            if idx!=0 and len(maps[idx]) == 1:\n",
    "                ret += 1\n",
    "                return 1\n",
    "            \n",
    "            re = 1\n",
    "            for nxt in maps[idx]:\n",
    "                if nxt != pre:\n",
    "                    re += dfs(nxt, idx, num+1)\n",
    "            ret += math.ceil(re/seats)\n",
    "            return re\n",
    "        \n",
    "        ans = dfs(0, -1, 0)\n",
    "        return ret - math.ceil(ans/seats)\n",
    "        "
   ]
  },
  {
   "cell_type": "code",
   "execution_count": 68,
   "id": "8758de70",
   "metadata": {},
   "outputs": [],
   "source": [
    "roads = [[0,1],[1,2]]\n",
    "seats = 3"
   ]
  },
  {
   "cell_type": "code",
   "execution_count": 69,
   "id": "3bf94fc1",
   "metadata": {},
   "outputs": [
    {
     "name": "stdout",
     "output_type": "stream",
     "text": [
      "2 2 1 0 1\n",
      "3 3 0 -1 0\n"
     ]
    },
    {
     "data": {
      "text/plain": [
       "2"
      ]
     },
     "execution_count": 69,
     "metadata": {},
     "output_type": "execute_result"
    }
   ],
   "source": [
    "a = Solution().minimumFuelCost(roads, seats)\n",
    "a"
   ]
  },
  {
   "cell_type": "markdown",
   "id": "1b5e5b3c",
   "metadata": {},
   "source": [
    "# 6244. Number of Beautiful Partitions"
   ]
  },
  {
   "cell_type": "code",
   "execution_count": 119,
   "id": "75b39531",
   "metadata": {},
   "outputs": [],
   "source": [
    "def judge(a):\n",
    "    return a in [\"2\", \"3\", \"5\", \"7\"]\n",
    "\n",
    "class Solution:\n",
    "    def beautifulPartitions(self, s: str, k: int, minLength: int) -> int:\n",
    "        Prime = [\"2\", \"3\", \"5\", \"7\"]\n",
    "        if s[-1] in Prime or s[0] not in Prime:\n",
    "            return 0\n",
    "        mod = 10 ** 9 + 7\n",
    "        t = list(map(judge, s))\n",
    "        dp = [[0] * (k+1) for _ in range(len(s))]\n",
    "        for j in range(minLength-1, len(s)):\n",
    "            if not t[j] and (j+1==len(s) or t[j+1]):\n",
    "                dp[j][1] = 1\n",
    "        for i in range(1, len(s)):\n",
    "            if t[i]:\n",
    "                for j in range(1, k):\n",
    "                    if dp[i-1][j]:\n",
    "                        for nxt in range(i+minLength-1, len(s)):\n",
    "                            if not t[nxt] and (nxt+1==len(s) or t[nxt+1]):\n",
    "                                dp[nxt][min(j+1, k)] += dp[i-1][j]\n",
    "        return dp[-1][k]"
   ]
  },
  {
   "cell_type": "code",
   "execution_count": 32,
   "id": "705808be",
   "metadata": {},
   "outputs": [],
   "source": [
    "s = \"23542185131\"\n",
    "k = 3\n",
    "minLength = 2"
   ]
  },
  {
   "cell_type": "code",
   "execution_count": 33,
   "id": "678618bf",
   "metadata": {},
   "outputs": [
    {
     "data": {
      "text/plain": [
       "3"
      ]
     },
     "execution_count": 33,
     "metadata": {},
     "output_type": "execute_result"
    }
   ],
   "source": [
    "a = Solution().beautifulPartitions(s, k, minLength)\n",
    "a"
   ]
  },
  {
   "cell_type": "code",
   "execution_count": 19,
   "id": "dd3a86c7",
   "metadata": {},
   "outputs": [],
   "source": [
    "s = \"23542185131\"; k = 3; minLength = 3"
   ]
  },
  {
   "cell_type": "code",
   "execution_count": 30,
   "id": "da677b87",
   "metadata": {},
   "outputs": [],
   "source": [
    "class Solution:\n",
    "    def beautifulPartitions(self, s: str, k: int, minLength: int) -> int:\n",
    "        Prime = \"2357\"\n",
    "        def judge(inp):\n",
    "            return inp == 0 or inp == len(s) or (s[inp-1] not in Prime and s[inp] in Prime)\n",
    "        \n",
    "        if s[-1] in Prime or s[0] not in Prime or k * minLength > len(s):\n",
    "            return 0  \n",
    "        mod = 10 ** 9 + 7       \n",
    "        dp = [[0] * (k+1) for _ in range(len(s)+1)]\n",
    "        dp[0][0] = 1\n",
    "        for i in range(1, k+1):\n",
    "            sums = 0\n",
    "            for j in range(minLength*i, len(s)-minLength*(k-i)+1):\n",
    "                if judge(j-minLength):\n",
    "                    sums = (sums + dp[j-minLength][i-1]) % mod\n",
    "                if judge(j):\n",
    "                    dp[j][i] = sums\n",
    "        return dp[-1][-1]"
   ]
  },
  {
   "cell_type": "code",
   "execution_count": 31,
   "id": "a03fff37",
   "metadata": {},
   "outputs": [
    {
     "data": {
      "text/plain": [
       "3"
      ]
     },
     "execution_count": 31,
     "metadata": {},
     "output_type": "execute_result"
    }
   ],
   "source": [
    "a = Solution().beautifulPartitions(s, k, minLength)\n",
    "a"
   ]
  },
  {
   "cell_type": "code",
   "execution_count": 28,
   "id": "d5159876",
   "metadata": {},
   "outputs": [],
   "source": [
    "s = \"23542185131\"; k = 3; minLength = 2"
   ]
  },
  {
   "cell_type": "code",
   "execution_count": null,
   "id": "63f30bdb",
   "metadata": {},
   "outputs": [],
   "source": []
  }
 ],
 "metadata": {
  "kernelspec": {
   "display_name": "Python 3 (ipykernel)",
   "language": "python",
   "name": "python3"
  },
  "language_info": {
   "codemirror_mode": {
    "name": "ipython",
    "version": 3
   },
   "file_extension": ".py",
   "mimetype": "text/x-python",
   "name": "python",
   "nbconvert_exporter": "python",
   "pygments_lexer": "ipython3",
   "version": "3.8.8"
  },
  "toc": {
   "base_numbering": 1,
   "nav_menu": {},
   "number_sections": true,
   "sideBar": true,
   "skip_h1_title": false,
   "title_cell": "Table of Contents",
   "title_sidebar": "Contents",
   "toc_cell": false,
   "toc_position": {},
   "toc_section_display": true,
   "toc_window_display": false
  }
 },
 "nbformat": 4,
 "nbformat_minor": 5
}
