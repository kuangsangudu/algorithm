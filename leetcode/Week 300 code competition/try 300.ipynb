{
 "cells": [
  {
   "cell_type": "code",
   "execution_count": 1,
   "id": "2046d820",
   "metadata": {},
   "outputs": [],
   "source": [
    "from typing import *\n",
    "import collections\n",
    "import heapq\n",
    "import math"
   ]
  },
  {
   "cell_type": "markdown",
   "id": "09b76b4b",
   "metadata": {},
   "source": [
    "# 6108. Decode the Message"
   ]
  },
  {
   "cell_type": "code",
   "execution_count": 18,
   "id": "4a486745",
   "metadata": {},
   "outputs": [],
   "source": [
    "class Solution:\n",
    "    def decodeMessage(self, key: str, message: str) -> str:\n",
    "        dic = {}\n",
    "        start = 97\n",
    "        for k in key:\n",
    "            if k != \" \" and dic.get(k, -1) == -1:\n",
    "                dic[k] = chr(start)\n",
    "                start += 1\n",
    "        ret = \"\"\n",
    "        for m in message:\n",
    "            if m != \" \":\n",
    "                ret += dic[m]\n",
    "            else:\n",
    "                ret += \" \"\n",
    "        return ret"
   ]
  },
  {
   "cell_type": "code",
   "execution_count": 19,
   "id": "3bf43fbe",
   "metadata": {},
   "outputs": [],
   "source": [
    "key = \"the quick brown fox jumps over the lazy dog\"\n",
    "message = \"vkbs bs t suepuv\""
   ]
  },
  {
   "cell_type": "code",
   "execution_count": 20,
   "id": "74ef5bb4",
   "metadata": {},
   "outputs": [
    {
     "name": "stdout",
     "output_type": "stream",
     "text": [
      "{'t': 'a', 'h': 'b', 'e': 'c', 'q': 'd', 'u': 'e', 'i': 'f', 'c': 'g', 'k': 'h', 'b': 'i', 'r': 'j', 'o': 'k', 'w': 'l', 'n': 'm', 'f': 'n', 'x': 'o', 'j': 'p', 'm': 'q', 'p': 'r', 's': 's', 'v': 't', 'l': 'u', 'a': 'v', 'z': 'w', 'y': 'x', 'd': 'y', 'g': 'z'}\n"
     ]
    },
    {
     "data": {
      "text/plain": [
       "'this is a secret'"
      ]
     },
     "execution_count": 20,
     "metadata": {},
     "output_type": "execute_result"
    }
   ],
   "source": [
    "a = Solution().decodeMessage(key, message)\n",
    "a"
   ]
  },
  {
   "cell_type": "markdown",
   "id": "44ac9b81",
   "metadata": {},
   "source": [
    "# 6111. Spiral Matrix IV"
   ]
  },
  {
   "cell_type": "code",
   "execution_count": 23,
   "id": "1f12efdb",
   "metadata": {},
   "outputs": [],
   "source": [
    "# Definition for singly-linked list.\n",
    "class ListNode:\n",
    "    def __init__(self, val=0, next=None):\n",
    "        self.val = val\n",
    "        self.next = next\n",
    "        \n",
    "class Solution:\n",
    "    def spiralMatrix(self, m: int, n: int, head: Optional[ListNode]) -> List[List[int]]:\n",
    "        ret = [[-1 for _ in range(n)] for _ in range(m)]\n",
    "        dirction = [[0, 1], [1, 0], [0, -1], [-1, 0]]\n",
    "        i, j = 0, 0\n",
    "        d = 0\n",
    "        while head:\n",
    "            ret[i][j] = head.val\n",
    "            head = head.next\n",
    "            \n",
    "            nxti, nxtj = i + dirction[d][0], j + dirction[d][1]\n",
    "            for _ in range(4):\n",
    "                if 0 <= nxti < m  and 0 <= nxtj < n and ret[nxti][nxtj] == -1:\n",
    "                    i, j = i + dirction[d][0], j + dirction[d][1]\n",
    "                    break\n",
    "                else:\n",
    "                    d = (d+1) % 4\n",
    "                    nxti, nxtj = i + dirction[d][0], j + dirction[d][1]\n",
    "            else:\n",
    "                break\n",
    "        return ret"
   ]
  },
  {
   "cell_type": "markdown",
   "id": "3a78f594",
   "metadata": {},
   "source": [
    "# 6109. Number of People Aware of a Secret"
   ]
  },
  {
   "cell_type": "code",
   "execution_count": 135,
   "id": "b001d6ae",
   "metadata": {},
   "outputs": [],
   "source": [
    "class Solution:\n",
    "    def peopleAwareOfSecret(self, n: int, delay: int, forget: int) -> int:\n",
    "        # dp means new increased people\n",
    "        dp = [0] * (n+1)\n",
    "        dp[1] = 1\n",
    "        Mod = 10 ** 9 + 7\n",
    "        ans = 0\n",
    "        for i in range(2, n+1):\n",
    "            start, end = max(0, i-forget+1), max(0, i-delay)\n",
    "            for j in range(start, end+1):\n",
    "                dp[i] = (dp[j]+dp[i]) % Mod\n",
    "                \n",
    "        print(dp)\n",
    "        start, end = max(0, i-forget+1), n\n",
    "        for j in range(start, end+1):\n",
    "            ans = (ans + dp[j]) % Mod\n",
    "        return ans"
   ]
  },
  {
   "cell_type": "code",
   "execution_count": 136,
   "id": "082c95fb",
   "metadata": {},
   "outputs": [],
   "source": [
    "n = 6; delay = 2; forget = 4"
   ]
  },
  {
   "cell_type": "code",
   "execution_count": 137,
   "id": "9934fbf0",
   "metadata": {},
   "outputs": [
    {
     "name": "stdout",
     "output_type": "stream",
     "text": [
      "[0, 1, 0, 1, 1, 1, 2]\n"
     ]
    },
    {
     "data": {
      "text/plain": [
       "5"
      ]
     },
     "execution_count": 137,
     "metadata": {},
     "output_type": "execute_result"
    }
   ],
   "source": [
    "a = Solution().peopleAwareOfSecret(n, delay, forget)\n",
    "a"
   ]
  },
  {
   "cell_type": "code",
   "execution_count": 42,
   "id": "f638ef3d",
   "metadata": {},
   "outputs": [],
   "source": [
    "n = 4; delay = 1; forget = 3"
   ]
  },
  {
   "cell_type": "code",
   "execution_count": 140,
   "id": "d697d57e",
   "metadata": {},
   "outputs": [],
   "source": [
    "class Solution:\n",
    "    def peopleAwareOfSecret(self, n: int, delay: int, forget: int) -> int:\n",
    "        # dp means new increased people\n",
    "        dp = [0] * (n+1)\n",
    "        dp[1] = 1\n",
    "        Mod = 10 ** 9 + 7\n",
    "        ans = 0\n",
    "        sums = 0\n",
    "        for i in range(2, n+1):\n",
    "            start, end = max(0, i-forget), max(0, i-delay)\n",
    "            sums += dp[end]\n",
    "            sums -= dp[start]\n",
    "            dp[i] = sums\n",
    "            \n",
    "        start, end = max(0, i-forget+1), n\n",
    "        for j in range(start, end+1):\n",
    "            ans = (ans + dp[j]) % Mod\n",
    "        return ans"
   ]
  },
  {
   "cell_type": "code",
   "execution_count": 141,
   "id": "a1b4ee65",
   "metadata": {},
   "outputs": [
    {
     "name": "stdout",
     "output_type": "stream",
     "text": [
      "[0, 1, 0, 1, 1, 1, 2]\n"
     ]
    },
    {
     "data": {
      "text/plain": [
       "5"
      ]
     },
     "execution_count": 141,
     "metadata": {},
     "output_type": "execute_result"
    }
   ],
   "source": [
    "a = Solution().peopleAwareOfSecret(n, delay, forget)\n",
    "a"
   ]
  },
  {
   "cell_type": "markdown",
   "id": "8b78ac94",
   "metadata": {},
   "source": [
    "# 6110. Number of Increasing Paths in a Grid"
   ]
  },
  {
   "cell_type": "code",
   "execution_count": 108,
   "id": "4aba41b8",
   "metadata": {},
   "outputs": [],
   "source": [
    "# this will have overlap, wrong answer\n",
    "class Solution:\n",
    "    def countPaths(self, grid: List[List[int]]) -> int:\n",
    "        dp = [[1 for _ in range(len(grid[0]))] for _ in range(len(grid))]\n",
    "        minss = []\n",
    "        dirs = [[0, 1], [1, 0], [0, -1], [-1, 0]]\n",
    "        leny, lenx = len(grid), len(grid[0])\n",
    "        for i in range(len(grid)):\n",
    "            for j in range(len(grid[0])):\n",
    "                mins = grid[i][j]\n",
    "                for d in dirs:\n",
    "                    if  0 <= i + d[0] < leny and 0 <= j + d[1] < lenx:\n",
    "                        mins = min(mins, grid[i + d[0]][j + d[1]])\n",
    "                if mins == grid[i][j]:\n",
    "                    minss.append((i, j))\n",
    "        Mod = 10 ** 9 + 7\n",
    "\n",
    "        for i, j in minss:\n",
    "            dd = collections.deque([(i, j, 0)])\n",
    "            while dd:\n",
    "                i, j, s = dd.popleft()\n",
    "                dp[i][j] = (dp[i][j] + s) % Mod\n",
    "                for d in dirs:\n",
    "                    nxti, nxtj = i + d[0], j + d[1]\n",
    "                    if  0 <= nxti < leny and 0 <= nxtj < lenx and grid[nxti][nxtj] > grid[i][j]:\n",
    "                        dd.append((nxti, nxtj, s+1))\n",
    "        print(dp)\n",
    "        return sum(sum(l) for l in dp) % Mod"
   ]
  },
  {
   "cell_type": "code",
   "execution_count": 101,
   "id": "b8e55528",
   "metadata": {},
   "outputs": [],
   "source": [
    "grid = [[1,1],[3,4]]"
   ]
  },
  {
   "cell_type": "code",
   "execution_count": 109,
   "id": "3bded9f6",
   "metadata": {},
   "outputs": [
    {
     "name": "stdout",
     "output_type": "stream",
     "text": [
      "[[4, 1, 15, 1, 11, 23, 3, 1, 2, 7, 3, 14, 1], [2, 16, 10, 2, 7, 3, 1, 21, 32, 1, 2, 7, 2], [1, 30, 6, 3, 14, 1, 6, 14, 1, 12, 35, 2, 5], [3, 1, 2, 6, 28, 2, 3, 4, 6, 8, 12, 1, 9], [6, 14, 41, 125, 48, 8, 4, 10, 22, 45, 1, 41, 1], [1, 3, 14, 4, 2, 1, 7, 1, 2, 6, 15, 29, 6], [4, 1, 3, 1, 11, 2, 15, 2, 8, 3, 5, 1, 3], [1, 33, 7, 2, 4, 11, 1, 4, 20, 2, 21, 5, 1], [25, 17, 12, 22, 1, 2, 4, 14, 2, 1, 4, 2, 4], [2, 1, 2, 3, 8, 3, 10, 1, 6, 2, 9, 1, 7]]\n"
     ]
    },
    {
     "data": {
      "text/plain": [
       "1200"
      ]
     },
     "execution_count": 109,
     "metadata": {},
     "output_type": "execute_result"
    }
   ],
   "source": [
    "a = Solution().countPaths(grid)\n",
    "a"
   ]
  },
  {
   "cell_type": "code",
   "execution_count": 105,
   "id": "1dd25b93",
   "metadata": {},
   "outputs": [],
   "source": [
    "import functools\n",
    "class Solution:\n",
    "    def countPaths(self, grid: List[List[int]]) -> int:\n",
    "        dirs = [[0, 1], [1, 0], [0, -1], [-1, 0]]\n",
    "        leny, lenx = len(grid), len(grid[0])        \n",
    "        Mod = 10 ** 9 + 7\n",
    "        \n",
    "        @functools.lru_cache(None)\n",
    "        def xunzhao(i, j):\n",
    "            if dp[i][j]:\n",
    "                return dp[i][j]\n",
    "            dp[i][j] = 1\n",
    "            for d in dirs:\n",
    "                nxti, nxtj = i + d[0], j + d[1]\n",
    "                if  0 <= nxti < leny and 0 <= nxtj < lenx and grid[nxti][nxtj] < grid[i][j]:        \n",
    "                    dp[i][j] = (dp[i][j] + xunzhao(nxti, nxtj)) % Mod\n",
    "            return dp[i][j]\n",
    "            \n",
    "        dp = [[0 for _ in range(len(grid[0]))] for _ in range(len(grid))]  \n",
    "        ret = 0\n",
    "        for i in range(leny):\n",
    "            for j in range(lenx):\n",
    "                ret = (ret + xunzhao(i, j)) % Mod\n",
    "        print(dp)\n",
    "        return ret"
   ]
  },
  {
   "cell_type": "code",
   "execution_count": 106,
   "id": "ff6bfab2",
   "metadata": {},
   "outputs": [],
   "source": [
    "grid = [[73884,15322,92124,16515,54702,88526,61879,14125,21161,42701,35686,75932,8696],[59537,80396,65708,32310,46753,39759,4746,71413,84723,13233,23640,62230,11825],[6414,96122,64501,32523,55259,2935,44772,48912,26516,56256,69201,21079,52979],[50951,1748,42645,73435,81511,21445,26066,27605,40388,43702,47233,15333,86291],[87914,90237,95947,97341,93670,79822,32591,44096,55112,89104,36097,82759,15504],[3604,74013,74414,68295,58798,7050,71657,33463,38040,46180,61730,82754,57179],[86867,1972,13704,11581,99042,24825,77747,38671,40628,38626,54719,7366,36309],[69272,98273,16474,15204,40263,99956,36072,68173,77076,18094,97439,61968,7435],[95263,39616,37983,61376,256,7169,45149,94957,66151,13256,37776,25331,29659],[90001,12571,31093,46714,52347,44882,76055,53662,69928,37486,44020,2211,67466]]"
   ]
  },
  {
   "cell_type": "code",
   "execution_count": 107,
   "id": "e16517d2",
   "metadata": {},
   "outputs": [
    {
     "name": "stdout",
     "output_type": "stream",
     "text": [
      "[[4, 1, 12, 1, 8, 15, 3, 1, 2, 7, 3, 12, 1], [2, 13, 9, 2, 6, 3, 1, 15, 20, 1, 2, 7, 2], [1, 22, 6, 3, 11, 1, 6, 12, 1, 10, 25, 2, 5], [3, 1, 2, 6, 20, 2, 3, 4, 6, 7, 10, 1, 8], [5, 10, 24, 66, 31, 8, 4, 10, 19, 34, 1, 24, 1], [1, 3, 11, 4, 2, 1, 7, 1, 2, 6, 13, 20, 5], [4, 1, 3, 1, 10, 2, 13, 2, 8, 3, 5, 1, 3], [1, 20, 6, 2, 4, 10, 1, 4, 17, 2, 17, 5, 1], [15, 11, 9, 16, 1, 2, 4, 12, 2, 1, 4, 2, 4], [2, 1, 2, 3, 8, 3, 9, 1, 6, 2, 8, 1, 6]]\n"
     ]
    },
    {
     "data": {
      "text/plain": [
       "925"
      ]
     },
     "execution_count": 107,
     "metadata": {},
     "output_type": "execute_result"
    }
   ],
   "source": [
    "a = Solution().countPaths(grid)\n",
    "a"
   ]
  },
  {
   "cell_type": "code",
   "execution_count": 111,
   "id": "f664b4c8",
   "metadata": {},
   "outputs": [
    {
     "name": "stdout",
     "output_type": "stream",
     "text": [
      "[73884, 15322, 92124, 16515, 54702, 88526, 61879, 14125, 21161, 42701, 35686, 75932, 8696]\n",
      "[59537, 80396, 65708, 32310, 46753, 39759, 4746, 71413, 84723, 13233, 23640, 62230, 11825]\n",
      "[6414, 96122, 64501, 32523, 55259, 2935, 44772, 48912, 26516, 56256, 69201, 21079, 52979]\n",
      "[50951, 1748, 42645, 73435, 81511, 21445, 26066, 27605, 40388, 43702, 47233, 15333, 86291]\n",
      "[87914, 90237, 95947, 97341, 93670, 79822, 32591, 44096, 55112, 89104, 36097, 82759, 15504]\n",
      "[3604, 74013, 74414, 68295, 58798, 7050, 71657, 33463, 38040, 46180, 61730, 82754, 57179]\n",
      "[86867, 1972, 13704, 11581, 99042, 24825, 77747, 38671, 40628, 38626, 54719, 7366, 36309]\n",
      "[69272, 98273, 16474, 15204, 40263, 99956, 36072, 68173, 77076, 18094, 97439, 61968, 7435]\n",
      "[95263, 39616, 37983, 61376, 256, 7169, 45149, 94957, 66151, 13256, 37776, 25331, 29659]\n",
      "[90001, 12571, 31093, 46714, 52347, 44882, 76055, 53662, 69928, 37486, 44020, 2211, 67466]\n"
     ]
    }
   ],
   "source": [
    "for g in grid:\n",
    "    print(g)"
   ]
  },
  {
   "cell_type": "code",
   "execution_count": null,
   "id": "aa73d239",
   "metadata": {},
   "outputs": [],
   "source": []
  }
 ],
 "metadata": {
  "kernelspec": {
   "display_name": "Python 3 (ipykernel)",
   "language": "python",
   "name": "python3"
  },
  "language_info": {
   "codemirror_mode": {
    "name": "ipython",
    "version": 3
   },
   "file_extension": ".py",
   "mimetype": "text/x-python",
   "name": "python",
   "nbconvert_exporter": "python",
   "pygments_lexer": "ipython3",
   "version": "3.8.8"
  },
  "toc": {
   "base_numbering": 1,
   "nav_menu": {},
   "number_sections": true,
   "sideBar": true,
   "skip_h1_title": false,
   "title_cell": "Table of Contents",
   "title_sidebar": "Contents",
   "toc_cell": false,
   "toc_position": {},
   "toc_section_display": true,
   "toc_window_display": false
  }
 },
 "nbformat": 4,
 "nbformat_minor": 5
}
