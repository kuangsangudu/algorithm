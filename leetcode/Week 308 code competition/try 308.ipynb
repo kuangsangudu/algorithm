{
 "cells": [
  {
   "cell_type": "code",
   "execution_count": 2,
   "id": "68a5ad4b",
   "metadata": {},
   "outputs": [],
   "source": [
    "from typing import *\n",
    "import heapq\n",
    "import math\n",
    "import collections"
   ]
  },
  {
   "cell_type": "markdown",
   "id": "e5ea2587",
   "metadata": {},
   "source": [
    "# 6160. Longest Subsequence With Limited Sum"
   ]
  },
  {
   "cell_type": "code",
   "execution_count": 4,
   "id": "c7eaa8b1",
   "metadata": {},
   "outputs": [],
   "source": [
    "class Solution:\n",
    "    def answerQueries(self, nums: List[int], queries: List[int]) -> List[int]:\n",
    "        nums.sort()\n",
    "        re = [0] * (len(nums)+1)\n",
    "        for i, num in enumerate(nums):\n",
    "            re[i+1] = re[i] + num\n",
    "        \n",
    "        ret = []\n",
    "        for q in queries:\n",
    "            l, r = 0, len(re)-1\n",
    "            while l < r:\n",
    "                mid = (l+r+1)//2\n",
    "                if re[mid] > q:\n",
    "                    r = mid - 1\n",
    "                else:\n",
    "                    l = mid\n",
    "            ret.append(l)\n",
    "        return ret"
   ]
  },
  {
   "cell_type": "code",
   "execution_count": 23,
   "id": "40fe59dd",
   "metadata": {},
   "outputs": [],
   "source": [
    "nums = [2,3,4,5]\n",
    "queries = [1]"
   ]
  },
  {
   "cell_type": "code",
   "execution_count": 24,
   "id": "750628c9",
   "metadata": {},
   "outputs": [
    {
     "name": "stdout",
     "output_type": "stream",
     "text": [
      "[0, 2, 5, 9, 14]\n"
     ]
    },
    {
     "data": {
      "text/plain": [
       "[0]"
      ]
     },
     "execution_count": 24,
     "metadata": {},
     "output_type": "execute_result"
    }
   ],
   "source": [
    "a = Solution().answerQueries(nums, queries)\n",
    "a"
   ]
  },
  {
   "cell_type": "markdown",
   "id": "98f76124",
   "metadata": {},
   "source": [
    "# 6161. Removing Stars From a String"
   ]
  },
  {
   "cell_type": "code",
   "execution_count": 25,
   "id": "857236d9",
   "metadata": {},
   "outputs": [],
   "source": [
    "class Solution:\n",
    "    def removeStars(self, s: str) -> str:\n",
    "        ret = []\n",
    "        for n in s:\n",
    "            if n == \"*\":\n",
    "                ret.pop()\n",
    "            else:\n",
    "                ret.append(n)\n",
    "        return  \"\".join(ret)"
   ]
  },
  {
   "cell_type": "markdown",
   "id": "855adb31",
   "metadata": {},
   "source": [
    "# 6162. Minimum Amount of Time to Collect Garbage"
   ]
  },
  {
   "cell_type": "code",
   "execution_count": 83,
   "id": "8852043a",
   "metadata": {},
   "outputs": [],
   "source": [
    "class Solution:\n",
    "    def garbageCollection(self, garbage: List[str], travel: List[int]) -> int:\n",
    "        ret = 0\n",
    "        M = [0] * len(garbage)\n",
    "        P = [0] * len(garbage)\n",
    "        G = [0] * len(garbage)\n",
    "        for i in range(len(garbage)):\n",
    "            for s in garbage[i]:\n",
    "                if s == \"M\":\n",
    "                    M[i] += 1\n",
    "                elif s == \"P\":\n",
    "                    P[i] += 1\n",
    "                else:\n",
    "                    G[i] += 1\n",
    "        \n",
    "        ret = sum(M) + sum(P) + sum(G)\n",
    "        i, j, k = 0, 0, 0\n",
    "        for n in range(len(garbage)-1,0,-1):         \n",
    "            if M[n]:\n",
    "                i = 1\n",
    "            if P[n]:\n",
    "                j = 1\n",
    "            if G[n]:\n",
    "                k = 1\n",
    "            ret += (i+j+k) * travel[n-1]\n",
    "\n",
    "        return ret"
   ]
  },
  {
   "cell_type": "code",
   "execution_count": 3,
   "id": "a9b85df9",
   "metadata": {},
   "outputs": [],
   "source": [
    "class Solution:\n",
    "    def garbageCollection(self, garbage: List[str], travel: List[int]) -> int:\n",
    "        ans = 0\n",
    "        right = [0] * 3\n",
    "        for i, s in enumerate(garbage):\n",
    "            ans += len(s)\n",
    "            for j, c in enumerate(\"MPG\"):\n",
    "                if c in s:\n",
    "                    right[j] = i\n",
    "        return ans + sum(sum(travel[:r]) for r in right)"
   ]
  },
  {
   "cell_type": "code",
   "execution_count": 84,
   "id": "8b33874b",
   "metadata": {},
   "outputs": [],
   "source": [
    "garbage = [\"G\",\"P\",\"GP\",\"GG\"]\n",
    "travel = [2,4,3]"
   ]
  },
  {
   "cell_type": "code",
   "execution_count": 85,
   "id": "34a3c460",
   "metadata": {},
   "outputs": [
    {
     "data": {
      "text/plain": [
       "21"
      ]
     },
     "execution_count": 85,
     "metadata": {},
     "output_type": "execute_result"
    }
   ],
   "source": [
    "a = Solution().garbageCollection(garbage, travel)\n",
    "a"
   ]
  },
  {
   "cell_type": "markdown",
   "id": "8cb08911",
   "metadata": {},
   "source": [
    "# 6163. Build a Matrix With Conditions"
   ]
  },
  {
   "cell_type": "code",
   "execution_count": 125,
   "id": "2e264341",
   "metadata": {},
   "outputs": [],
   "source": [
    "class Solution:\n",
    "    def buildMatrix(self, k: int, rowConditions: List[List[int]], colConditions: List[List[int]]) -> List[List[int]]:\n",
    "        def checkcycle(rowConditions):\n",
    "            gins = collections.defaultdict(list)\n",
    "            gout = collections.defaultdict(list)\n",
    "            ins = collections.defaultdict(int)\n",
    "            out = collections.defaultdict(int)\n",
    "            rowConditions = rowConditions\n",
    "            for u, v in rowConditions:\n",
    "                gout[v].append(u)\n",
    "                gins[u].append(v)\n",
    "                ins[u] += 1\n",
    "                out[v] += 1\n",
    "\n",
    "            # find the vertices than can be visited(not cycled)\n",
    "            u = collections.deque([key for key in range(1, k+1) if out[key] == 0])\n",
    "            visited = []\n",
    "            while u:\n",
    "                idx = u.popleft()\n",
    "                visited.append(idx)\n",
    "                for nxt in gins[idx]:\n",
    "                    out[nxt] -= 1\n",
    "                    if out[nxt] == 0:\n",
    "                        u.append(nxt)\n",
    "\n",
    "            # get cycles\n",
    "            if len(visited)!=k:\n",
    "                return False, []\n",
    "            return True, visited\n",
    "        \n",
    "        ok, n = checkcycle(rowConditions)\n",
    "        if not ok:\n",
    "            return []\n",
    "        ok, m = checkcycle(colConditions)\n",
    "        if not ok:\n",
    "            return []\n",
    "        ret = [[0] * k for _ in range(k)]\n",
    "        for i in range(k):\n",
    "            ret[i][m.index(n[i])] = n[i]\n",
    "        return ret"
   ]
  },
  {
   "cell_type": "code",
   "execution_count": 126,
   "id": "94090edd",
   "metadata": {},
   "outputs": [],
   "source": [
    "k = 3\n",
    "rowConditions = [[1,2],[3,2]]\n",
    "colConditions = [[2,1],[3,2]]"
   ]
  },
  {
   "cell_type": "code",
   "execution_count": 127,
   "id": "5d8d9e5e",
   "metadata": {},
   "outputs": [
    {
     "data": {
      "text/plain": [
       "[[0, 0, 1], [3, 0, 0], [0, 2, 0]]"
      ]
     },
     "execution_count": 127,
     "metadata": {},
     "output_type": "execute_result"
    }
   ],
   "source": [
    "a = Solution().buildMatrix(k, rowConditions, colConditions)\n",
    "a"
   ]
  },
  {
   "cell_type": "code",
   "execution_count": null,
   "id": "c6653fd2",
   "metadata": {},
   "outputs": [],
   "source": [
    "[]."
   ]
  }
 ],
 "metadata": {
  "kernelspec": {
   "display_name": "Python 3 (ipykernel)",
   "language": "python",
   "name": "python3"
  },
  "language_info": {
   "codemirror_mode": {
    "name": "ipython",
    "version": 3
   },
   "file_extension": ".py",
   "mimetype": "text/x-python",
   "name": "python",
   "nbconvert_exporter": "python",
   "pygments_lexer": "ipython3",
   "version": "3.8.8"
  },
  "toc": {
   "base_numbering": 1,
   "nav_menu": {},
   "number_sections": true,
   "sideBar": true,
   "skip_h1_title": false,
   "title_cell": "Table of Contents",
   "title_sidebar": "Contents",
   "toc_cell": false,
   "toc_position": {},
   "toc_section_display": true,
   "toc_window_display": false
  }
 },
 "nbformat": 4,
 "nbformat_minor": 5
}
