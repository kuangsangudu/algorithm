{
 "cells": [
  {
   "cell_type": "code",
   "execution_count": 1,
   "id": "5bc8cfe0",
   "metadata": {},
   "outputs": [],
   "source": [
    "from typing import *\n",
    "import math\n",
    "import collections\n",
    "import heapq"
   ]
  },
  {
   "cell_type": "markdown",
   "id": "4ef491e8",
   "metadata": {},
   "source": [
    "# 6101. Check if Matrix Is X-Matrix"
   ]
  },
  {
   "cell_type": "code",
   "execution_count": 2,
   "id": "4892d6e8",
   "metadata": {},
   "outputs": [],
   "source": [
    "class Solution:\n",
    "    def checkXMatrix(self, grid: List[List[int]]) -> bool:\n",
    "        leny, lenx = len(grid), len(grid[0])\n",
    "        for i in range(leny):\n",
    "            for j in range(lenx):\n",
    "                if (i == j or i+j==leny-1):\n",
    "                    if grid[i][j] == 0:\n",
    "                        return False\n",
    "                elif grid[i][j] != 0:\n",
    "                    return False\n",
    "        return True"
   ]
  },
  {
   "cell_type": "markdown",
   "id": "3ba3b903",
   "metadata": {},
   "source": [
    "# 6100. Count Number of Ways to Place Houses"
   ]
  },
  {
   "cell_type": "code",
   "execution_count": 8,
   "id": "aa6855a4",
   "metadata": {},
   "outputs": [],
   "source": [
    "class Solution:\n",
    "    def countHousePlacements(self, n: int) -> int:\n",
    "        Mod = 10 ** 9 + 7\n",
    "        dp1 = [0] * n\n",
    "        dp2 = [0] * n\n",
    "        dpn = [0] * n\n",
    "        dpnn = [0] * n\n",
    "        dp1[0], dp2[0], dpn[0], dpnn[0] = 1, 1, 1, 1\n",
    "        for i in range(1, n):\n",
    "            dp1[i] = (dp2[i-1] + dpn[i-1]) % Mod\n",
    "            dp2[i] = (dp1[i-1] + dpn[i-1]) % Mod\n",
    "            dpn[i] = (dp2[i-1] + dpn[i-1]+dp1[i-1]+dpnn[i-1]) % Mod\n",
    "            dpnn[i] = dpn[i-1]\n",
    "        return (dp1[-1] + dp2[-1]+dpn[-1]+dpnn[-1])%Mod"
   ]
  },
  {
   "cell_type": "code",
   "execution_count": 16,
   "id": "31a0dbd3",
   "metadata": {},
   "outputs": [],
   "source": [
    "n = 2"
   ]
  },
  {
   "cell_type": "code",
   "execution_count": 17,
   "id": "efebc7f8",
   "metadata": {},
   "outputs": [
    {
     "data": {
      "text/plain": [
       "9"
      ]
     },
     "execution_count": 17,
     "metadata": {},
     "output_type": "execute_result"
    }
   ],
   "source": [
    "a = Solution().countHousePlacements(n)\n",
    "a"
   ]
  },
  {
   "cell_type": "code",
   "execution_count": 21,
   "id": "fc75e847",
   "metadata": {},
   "outputs": [],
   "source": [
    "class Solution:\n",
    "    def countHousePlacements(self, n: int) -> int:\n",
    "        Mod = 10 ** 9 + 7\n",
    "        dp = [[0, 0] for _ in range(n)] \n",
    "        dp[0] = [1, 1]\n",
    "        for i in range(1, n):\n",
    "            dp[i][0] = (dp[i-1][0] + dp[i-1][1]) % Mod\n",
    "            dp[i][1] = dp[i-1][0]\n",
    "        ret = (dp[-1][0] + dp[-1][1]) % Mod\n",
    "        return pow(ret, 2, Mod)"
   ]
  },
  {
   "cell_type": "code",
   "execution_count": 22,
   "id": "e55cdcaa",
   "metadata": {},
   "outputs": [
    {
     "name": "stdout",
     "output_type": "stream",
     "text": [
      "[[1, 1], [2, 1], [3, 2]]\n"
     ]
    },
    {
     "data": {
      "text/plain": [
       "25"
      ]
     },
     "execution_count": 22,
     "metadata": {},
     "output_type": "execute_result"
    }
   ],
   "source": [
    "a = Solution().countHousePlacements(3)\n",
    "a"
   ]
  },
  {
   "cell_type": "markdown",
   "id": "edc44d4c",
   "metadata": {},
   "source": [
    "# 5229. Maximum Score Of Spliced Array"
   ]
  },
  {
   "cell_type": "code",
   "execution_count": 11,
   "id": "926ea1ce",
   "metadata": {},
   "outputs": [],
   "source": [
    "class Solution:\n",
    "    def maximumsSplicedArray(self, nums1: List[int], nums2: List[int]) -> int:\n",
    "        minus1 = [0] * len(nums1)\n",
    "        minus2 = [0] * len(nums1)\n",
    "        sums1, sums2 = 0, 0\n",
    "        for i, n in enumerate(nums1):\n",
    "            sums1 += n\n",
    "            sums2 += nums2[i]\n",
    "            minus1[i] = nums2[i]-n\n",
    "            minus2[i] = n-nums[i]\n",
    "        ret = max(sums1+self.gao(minus1), sums2+self.gao(minus2))\n",
    "        return ret\n",
    "    \n",
    "    def gao(self, nums):\n",
    "        ret = 0\n",
    "        sums = 0\n",
    "        for num in nums:\n",
    "            sums += num\n",
    "            if sums < 0:\n",
    "                sums = 0\n",
    "            ret = max(ret, sums)\n",
    "        return ret"
   ]
  },
  {
   "cell_type": "markdown",
   "id": "f94414b5",
   "metadata": {},
   "source": [
    "# 6103. Minimum Score After Removals on a Tree"
   ]
  },
  {
   "cell_type": "code",
   "execution_count": 11,
   "id": "f25aa5b2",
   "metadata": {},
   "outputs": [],
   "source": [
    "class Solution:\n",
    "    def minimumScore(self, nums: List[int], edges: List[List[int]]) -> int:\n",
    "        lens = len(nums)\n",
    "        maps = [[] for _ in range(lens)]\n",
    "        for i, j in edges:\n",
    "            maps[i].append(j)\n",
    "            maps[j].append(i)\n",
    "        \n",
    "        xor, In, Out = [0] * lens, [0] * lens, [0] * lens\n",
    "        \n",
    "        # dfs timestamp\n",
    "        clock = 0\n",
    "        def dfs(x, par):\n",
    "            nonlocal clock\n",
    "            In[x] = clock\n",
    "            clock += 1\n",
    "            xor[x] = nums[x]\n",
    "            for nxt in maps[x]:\n",
    "                if nxt != par:\n",
    "                    dfs(nxt, x)\n",
    "                    xor[x] ^= xor[nxt]\n",
    "            Out[x] = clock\n",
    "            return\n",
    "        \n",
    "        # judge whether x is the father of y\n",
    "        def is_parent(x, y):\n",
    "            return In[x] <= In[y] <= Out[y] <= Out[x]\n",
    "        \n",
    "        dfs(0, -1)\n",
    "        \n",
    "        ret = float(\"inf\")\n",
    "        for i in range(len(edges)):\n",
    "            for j in range(i+1, len(edges)):\n",
    "                xi, yi = edges[i]\n",
    "                xj, yj = edges[j]\n",
    "                if is_parent(yi, xi):\n",
    "                    xi, yi = yi, xi\n",
    "                if is_parent(yj, xj):\n",
    "                    xj, yj = yj, xj\n",
    "                if is_parent(yi, yj):\n",
    "                    x, y, z = xor[yi] ^ xor[yj], xor[yj], xor[0] ^ xor[yi]\n",
    "                elif is_parent(yj, yi):\n",
    "                    x, y, z = xor[yi], xor[yi] ^ xor[yj], xor[0] ^ xor[yj]\n",
    "                else:\n",
    "                    x, y, z = xor[yi], xor[yj], xor[0] ^ xor[yi] ^ xor[yj]\n",
    "                ret = min(ret, max(x, y, z) - min(x, y, z))\n",
    "        return ret"
   ]
  },
  {
   "cell_type": "code",
   "execution_count": 12,
   "id": "be8065c3",
   "metadata": {},
   "outputs": [],
   "source": [
    "nums = [1,5,5,4,11];\n",
    "edges = [[0,1],[1,2],[1,3],[3,4]]"
   ]
  },
  {
   "cell_type": "code",
   "execution_count": 13,
   "id": "0c10eec9",
   "metadata": {},
   "outputs": [
    {
     "data": {
      "text/plain": [
       "9"
      ]
     },
     "execution_count": 13,
     "metadata": {},
     "output_type": "execute_result"
    }
   ],
   "source": [
    "a = Solution().minimumScore(nums, edges)\n",
    "a"
   ]
  },
  {
   "cell_type": "code",
   "execution_count": 7,
   "id": "d102ba08",
   "metadata": {},
   "outputs": [],
   "source": [
    "nums = [5,5,2,4,4,2]; edges = [[0,1],[1,2],[5,2],[4,3],[1,3]]"
   ]
  },
  {
   "cell_type": "code",
   "execution_count": 15,
   "id": "3400ba2f",
   "metadata": {},
   "outputs": [],
   "source": [
    "class Solution:\n",
    "    def minimumScore(self, nums: List[int], edges: List[List[int]]) -> int:\n",
    "        lens = len(nums)\n",
    "        maps = [[] for _ in range(lens)]\n",
    "        for i, j in edges:\n",
    "            maps[i].append(j)\n",
    "            maps[j].append(i)\n",
    "            \n",
    "        alls = 0\n",
    "        for num in nums:\n",
    "            alls ^= num\n",
    "            \n",
    "        xor = [0] * lens\n",
    "        ret = float(\"inf\")\n",
    "        def dfs(x, par):\n",
    "            xor[x] = nums[x]\n",
    "            for nxt in maps[x]:\n",
    "                if nxt != par:\n",
    "                    dfs(nxt, x)\n",
    "                    xor[x] ^= xor[nxt]\n",
    "        \n",
    "        def get(x, par, sums):\n",
    "            ret = float(\"inf\")\n",
    "            for nxt in maps[x]:\n",
    "                if nxt != par:\n",
    "                    X, Y, Z = alls ^ sums, sums^ xor[nxt], xor[nxt]\n",
    "                    ret = min(ret, max(X, Y, Z) - min(X, Y, Z), get(nxt, x, sums))\n",
    "            return ret\n",
    "                    \n",
    "        for i in range(lens):\n",
    "            dfs(i, -1)\n",
    "            for nxt in maps[i]:\n",
    "                if nxt != i:\n",
    "                    ret = min(ret, get(nxt, i, xor[nxt]))\n",
    "        return ret"
   ]
  },
  {
   "cell_type": "code",
   "execution_count": null,
   "id": "94d4e9ed",
   "metadata": {},
   "outputs": [],
   "source": []
  }
 ],
 "metadata": {
  "kernelspec": {
   "display_name": "Python 3 (ipykernel)",
   "language": "python",
   "name": "python3"
  },
  "language_info": {
   "codemirror_mode": {
    "name": "ipython",
    "version": 3
   },
   "file_extension": ".py",
   "mimetype": "text/x-python",
   "name": "python",
   "nbconvert_exporter": "python",
   "pygments_lexer": "ipython3",
   "version": "3.8.8"
  },
  "toc": {
   "base_numbering": 1,
   "nav_menu": {},
   "number_sections": true,
   "sideBar": true,
   "skip_h1_title": false,
   "title_cell": "Table of Contents",
   "title_sidebar": "Contents",
   "toc_cell": false,
   "toc_position": {},
   "toc_section_display": true,
   "toc_window_display": false
  }
 },
 "nbformat": 4,
 "nbformat_minor": 5
}
