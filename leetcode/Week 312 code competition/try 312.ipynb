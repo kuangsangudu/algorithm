{
 "cells": [
  {
   "cell_type": "code",
   "execution_count": 2,
   "id": "4a3e7c8c",
   "metadata": {},
   "outputs": [],
   "source": [
    "from typing import *\n",
    "import collections\n",
    "import math\n",
    "import heapq\n",
    "import functools"
   ]
  },
  {
   "cell_type": "markdown",
   "id": "7df7ecb1",
   "metadata": {},
   "source": [
    "# 6188. Sort the People"
   ]
  },
  {
   "cell_type": "code",
   "execution_count": 19,
   "id": "b0e07080",
   "metadata": {},
   "outputs": [],
   "source": [
    "class Solution:\n",
    "    def sortPeople(self, names: List[str], heights: List[int]) -> List[str]:\n",
    "        maps = {}\n",
    "        for i in range(len(names)):\n",
    "            maps[heights[i]] = names[i]\n",
    "        ret = []\n",
    "        heights.sort(reverse=True)\n",
    "        for n in heights:\n",
    "            ret.append(maps[n])\n",
    "        return ret"
   ]
  },
  {
   "cell_type": "code",
   "execution_count": 20,
   "id": "ebef47f6",
   "metadata": {},
   "outputs": [],
   "source": [
    "names = [\"Alice\",\"Bob\",\"Bob\"]\n",
    "heights = [155,185,150]"
   ]
  },
  {
   "cell_type": "code",
   "execution_count": 21,
   "id": "c24a7d78",
   "metadata": {},
   "outputs": [
    {
     "data": {
      "text/plain": [
       "['Bob', 'Alice', 'Bob']"
      ]
     },
     "execution_count": 21,
     "metadata": {},
     "output_type": "execute_result"
    }
   ],
   "source": [
    "a = Solution().sortPeople(names, heights)\n",
    "a"
   ]
  },
  {
   "cell_type": "markdown",
   "id": "b3edd873",
   "metadata": {},
   "source": [
    "# 6189. Longest Subarray With Maximum Bitwise AND"
   ]
  },
  {
   "cell_type": "code",
   "execution_count": 35,
   "id": "4387c057",
   "metadata": {},
   "outputs": [],
   "source": [
    "class Solution:\n",
    "    def longestSubarray(self, nums: List[int]) -> int:\n",
    "        target = max(nums)\n",
    "        ret = 1\n",
    "        sums = nums[0]\n",
    "        s = 1\n",
    "        for i in range(1, len(nums)):\n",
    "            if sums & nums[i] == target:\n",
    "                s += 1\n",
    "            else:\n",
    "                ret = max(ret, s)\n",
    "                sums = nums[i]\n",
    "                s = 1   \n",
    "        ret = max(ret, s)\n",
    "        return ret"
   ]
  },
  {
   "cell_type": "code",
   "execution_count": 36,
   "id": "77dab566",
   "metadata": {},
   "outputs": [],
   "source": [
    "nums = [1,2,3,3,2,2]"
   ]
  },
  {
   "cell_type": "code",
   "execution_count": 37,
   "id": "84e11667",
   "metadata": {},
   "outputs": [
    {
     "data": {
      "text/plain": [
       "2"
      ]
     },
     "execution_count": 37,
     "metadata": {},
     "output_type": "execute_result"
    }
   ],
   "source": [
    "a = Solution().longestSubarray(nums)\n",
    "a"
   ]
  },
  {
   "cell_type": "markdown",
   "id": "5446df38",
   "metadata": {},
   "source": [
    "# 6190. Find All Good Indices"
   ]
  },
  {
   "cell_type": "code",
   "execution_count": 63,
   "id": "232f7fb4",
   "metadata": {},
   "outputs": [],
   "source": [
    "class Solution:\n",
    "    def goodIndices(self, nums: List[int], k: int) -> List[int]:\n",
    "        l = [0] * len(nums)\n",
    "        r = [0] * len(nums)\n",
    "        l[0] = 1\n",
    "        r[-1] = 1\n",
    "        for i in range(1, len(nums)):\n",
    "            if nums[i] <= nums[i-1]:\n",
    "                l[i] = l[i-1] + 1\n",
    "            else:\n",
    "                l[i] = 1\n",
    "        for i in range(len(nums)-2, -1, -1):\n",
    "            if nums[i] <= nums[i+1]:\n",
    "                r[i] = r[i+1] + 1\n",
    "            else:\n",
    "                r[i] = 1\n",
    "        \n",
    "        ret = []\n",
    "        for i in range(k, len(nums)-k):\n",
    "            if l[i-1] >= k and r[i+1] >= k:\n",
    "                ret.append(i)\n",
    "        return ret"
   ]
  },
  {
   "cell_type": "code",
   "execution_count": 64,
   "id": "878bea23",
   "metadata": {},
   "outputs": [],
   "source": [
    "nums = [440043,276285,336957]\n",
    "k = 1"
   ]
  },
  {
   "cell_type": "code",
   "execution_count": 65,
   "id": "d3a1d9cb",
   "metadata": {},
   "outputs": [
    {
     "data": {
      "text/plain": [
       "[1]"
      ]
     },
     "execution_count": 65,
     "metadata": {},
     "output_type": "execute_result"
    }
   ],
   "source": [
    "a = Solution().goodIndices(nums, k)\n",
    "a"
   ]
  },
  {
   "cell_type": "markdown",
   "id": "010079b8",
   "metadata": {},
   "source": [
    "# 6191. Number of Good Paths"
   ]
  },
  {
   "cell_type": "code",
   "execution_count": 137,
   "id": "1c822ab6",
   "metadata": {},
   "outputs": [],
   "source": [
    "class Solution:\n",
    "    def numberOfGoodPaths(self, vals: List[int], edges: List[List[int]]) -> int:\n",
    "        if len(vals) == 1:\n",
    "            return 1\n",
    "        maps = collections.defaultdict(list)\n",
    "        for edge in edges:\n",
    "            maps[edge[0]].append(edge[1])\n",
    "            maps[edge[1]].append(edge[0])\n",
    "        \n",
    "        for key in maps.keys():\n",
    "            if len(maps[key]) == 1:\n",
    "                start = key\n",
    "                break\n",
    "        \n",
    "        visited = set()\n",
    "        ret = 0\n",
    "        visited.add(start)\n",
    "        def xunzhao(idx):\n",
    "            m = []\n",
    "            nonlocal ret\n",
    "            for nxt in maps[idx]:\n",
    "                if nxt in visited:\n",
    "                    continue\n",
    "                visited.add(nxt)\n",
    "                l = xunzhao(nxt)\n",
    "                m.append(l)\n",
    "            \n",
    "            newmap = collections.defaultdict(int)\n",
    "            for l in m:\n",
    "                for key, val in l.items():\n",
    "                    if key > vals[idx]:\n",
    "                        if newmap.get(key, -1) != -1:\n",
    "                            ret += newmap[key] * val\n",
    "                        newmap[key] += val\n",
    "                    elif key == vals[idx]:\n",
    "                        if newmap.get(key, -1) != -1:\n",
    "                            ret += newmap[key] * val\n",
    "                        newmap[key] += val \n",
    "                        ret += val\n",
    "                        \n",
    "            newmap[vals[idx]] += 1\n",
    "            return newmap\n",
    "        \n",
    "        xunzhao(start)\n",
    "        return ret + len(vals)"
   ]
  },
  {
   "cell_type": "code",
   "execution_count": 129,
   "id": "a25b1102",
   "metadata": {},
   "outputs": [],
   "source": [
    "vals = [1,3,2,1,3]\n",
    "edges = [[0,1],[0,2],[2,3],[2,4]]"
   ]
  },
  {
   "cell_type": "code",
   "execution_count": 168,
   "id": "3ed4fc12",
   "metadata": {},
   "outputs": [],
   "source": [
    "class Union:\n",
    "    def __init__(self, lens):\n",
    "        self.Union = list(range(lens))\n",
    "        self.rank = [1] * lens\n",
    "        \n",
    "    def find(self, x):\n",
    "        while self.Union[x] != x:\n",
    "            x = self.Union[x]\n",
    "        return x\n",
    "\n",
    "    def union(self, par_x, par_y):\n",
    "        self.Union[par_y] = par_x"
   ]
  },
  {
   "cell_type": "code",
   "execution_count": 178,
   "id": "c205c66f",
   "metadata": {},
   "outputs": [],
   "source": [
    "class Solution:\n",
    "    def numberOfGoodPaths(self, vals: List[int], edges: List[List[int]]) -> int:\n",
    "        union = Union(len(vals))\n",
    "        maps = collections.defaultdict(list)\n",
    "        for edge in edges:\n",
    "            maps[edge[0]].append(edge[1])\n",
    "            maps[edge[1]].append(edge[0])\n",
    "        \n",
    "        ret = 0\n",
    "        for v, idx in sorted(zip(vals, range(len(vals)))):\n",
    "            parv = union.find(idx)\n",
    "            for nxt in maps[idx]:\n",
    "                parn = union.find(nxt)\n",
    "                if parv == parn or v < vals[nxt]:\n",
    "                    continue\n",
    "                if vals[parv] == vals[parn]:\n",
    "                    ret += union.rank[parv] * union.rank[parn]\n",
    "                    union.rank[parv] += union.rank[parn]\n",
    "                union.union(parv, parn)\n",
    "        return ret + len(vals)"
   ]
  },
  {
   "cell_type": "code",
   "execution_count": 183,
   "id": "94bb6f4a",
   "metadata": {},
   "outputs": [
    {
     "data": {
      "text/plain": [
       "52"
      ]
     },
     "execution_count": 183,
     "metadata": {},
     "output_type": "execute_result"
    }
   ],
   "source": [
    "a = Solution().numberOfGoodPaths(vals, edges)\n",
    "a"
   ]
  },
  {
   "cell_type": "code",
   "execution_count": 180,
   "id": "55499891",
   "metadata": {},
   "outputs": [],
   "source": [
    "vals = [1,4,5,2,4,4,1]\n",
    "edges = [[0,1],[1,2],[1,3],[4,2],[5,1],[5,6]]"
   ]
  },
  {
   "cell_type": "code",
   "execution_count": 181,
   "id": "5e49f681",
   "metadata": {},
   "outputs": [],
   "source": [
    "vals = [3,2,1,2,5,2,4,5,1,5]\n",
    "edges = [[0,1],[1,2],[1,3],[4,3],[4,5],[6,0],[0,7],[8,1],[2,9]]"
   ]
  },
  {
   "cell_type": "code",
   "execution_count": 182,
   "id": "65f05044",
   "metadata": {},
   "outputs": [],
   "source": [
    "vals = [16,16,16,6,12,9,6,2,17,7,5,15,6,3,14,6,16,3,16,11,9,4,15,16,2,12,7,7,9,7,3,8,4,13,8,4]\n",
    "edges = [[1,0],[2,0],[3,1],[0,4],[5,1],[4,6],[2,7],[8,3],[9,1],[10,1],[11,2],[6,12],[13,0],[7,14],[15,11],[12,16],[17,1],[11,18],[19,11],[20,12],[21,0],[22,18],[23,2],[24,2],[25,21],[10,26],[27,25],[17,28],[19,29],[5,30],[31,8],[32,13],[20,33],[21,34],[35,15]]"
   ]
  },
  {
   "cell_type": "code",
   "execution_count": 175,
   "id": "05d7da55",
   "metadata": {},
   "outputs": [],
   "source": [
    "class Solution:\n",
    "    def numberOfGoodPaths(self, vals: List[int], edges: List[List[int]]) -> int:\n",
    "        n = len(vals)\n",
    "        g = [[] for _ in range(n)]\n",
    "        for x, y in edges:\n",
    "            g[x].append(y)\n",
    "            g[y].append(x)  # 建图\n",
    "\n",
    "        # 并查集模板\n",
    "        fa = list(range(n))\n",
    "        # size[x] 表示节点值等于 vals[x] 的节点个数，如果按照节点值从小到大合并，size[x] 也是连通块内的等于最大节点值的节点个数\n",
    "        size = [1] * n\n",
    "        def find(x: int) -> int:\n",
    "            if fa[x] != x:\n",
    "                fa[x] = find(fa[x])\n",
    "            return fa[x]\n",
    "\n",
    "        ans = n\n",
    "        for vx, x in sorted(zip(vals, range(n))):\n",
    "            fx = find(x)\n",
    "            for y in g[x]:\n",
    "                y = find(y)\n",
    "                if y == fx or vals[y] > vx: continue  # 只考虑最大节点值比 vx 小的连通块\n",
    "                if vals[y] == vx:  # 可以构成好路径\n",
    "                    ans += size[fx] * size[y]  # 乘法原理\n",
    "                    size[fx] += size[y]  # 统计连通块内节点值等于 vx 的节点个数\n",
    "                fa[y] = fx  # 把小的节点值合并到大的节点值上\n",
    "        return ans"
   ]
  },
  {
   "cell_type": "code",
   "execution_count": 3,
   "id": "0d56646a",
   "metadata": {},
   "outputs": [],
   "source": [
    "# 让高度小的树成为高度较大的树的子树，这个优化可以称为启发式合并算法。并查集的按秩合并就是启发式合并算法的一种\n",
    "class Solution:\n",
    "    def numberOfGoodPaths(self, vals: List[int], edges: List[List[int]]) -> int:\n",
    "        def dfs(cur: int, pre: int) -> \"Dict[int, int]\":\n",
    "            \"\"\"后序dfs返回子树内的每种结点个数\"\"\"\n",
    "            self.res += 1\n",
    "            curRes = {vals[cur]: 1}\n",
    "\n",
    "            for next in adjList[cur]:\n",
    "                if next == pre:\n",
    "                    continue\n",
    "                nextRes = dfs(next, cur)\n",
    "                for key in list(nextRes):\n",
    "                    if key < vals[cur]:\n",
    "                        del nextRes[key]\n",
    "\n",
    "                if len(curRes) < len(nextRes):  # !启发式合并\n",
    "                    curRes, nextRes = nextRes, curRes\n",
    "                for key in nextRes:\n",
    "                    self.res += curRes.get(key, 0) * nextRes[key]\n",
    "\n",
    "                curRes.update({key: curRes.get(key, 0) + nextRes[key] for key in nextRes})\n",
    "\n",
    "            return curRes\n",
    "\n",
    "        n = len(vals)\n",
    "        adjList = [[] for _ in range(n)]\n",
    "        for u, v in edges:\n",
    "            adjList[u].append(v)\n",
    "            adjList[v].append(u)\n",
    "\n",
    "        self.res = 0\n",
    "        dfs(0, -1)\n",
    "        return self.res"
   ]
  },
  {
   "cell_type": "code",
   "execution_count": null,
   "id": "925d9924",
   "metadata": {},
   "outputs": [],
   "source": []
  }
 ],
 "metadata": {
  "kernelspec": {
   "display_name": "Python 3 (ipykernel)",
   "language": "python",
   "name": "python3"
  },
  "language_info": {
   "codemirror_mode": {
    "name": "ipython",
    "version": 3
   },
   "file_extension": ".py",
   "mimetype": "text/x-python",
   "name": "python",
   "nbconvert_exporter": "python",
   "pygments_lexer": "ipython3",
   "version": "3.8.8"
  },
  "toc": {
   "base_numbering": 1,
   "nav_menu": {},
   "number_sections": true,
   "sideBar": true,
   "skip_h1_title": false,
   "title_cell": "Table of Contents",
   "title_sidebar": "Contents",
   "toc_cell": false,
   "toc_position": {
    "height": "calc(100% - 180px)",
    "left": "10px",
    "top": "150px",
    "width": "503.188px"
   },
   "toc_section_display": true,
   "toc_window_display": true
  }
 },
 "nbformat": 4,
 "nbformat_minor": 5
}
