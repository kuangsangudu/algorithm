{
 "cells": [
  {
   "cell_type": "code",
   "execution_count": 6,
   "id": "2ffd9314",
   "metadata": {},
   "outputs": [],
   "source": [
    "from typing import *\n",
    "import math\n",
    "import collections\n",
    "import heapq\n",
    "import functools\n",
    "import bisect"
   ]
  },
  {
   "cell_type": "markdown",
   "id": "b486d353",
   "metadata": {},
   "source": [
    "# 6200. The Employee That Worked on the Longest Task"
   ]
  },
  {
   "cell_type": "code",
   "execution_count": 2,
   "id": "774e3202",
   "metadata": {},
   "outputs": [],
   "source": [
    "class Solution:\n",
    "    def hardestWorker(self, n: int, logs: List[List[int]]) -> int:\n",
    "        maxs = 0\n",
    "        ret = float(\"inf\")\n",
    "        pre = 0\n",
    "        for i, n in enumerate(logs):\n",
    "            if n[1] - pre > maxs:\n",
    "                maxs = n[1] - pre\n",
    "                ret = n[0]\n",
    "            elif n[1] - pre == maxs:\n",
    "                ret = min(ret, n[0])\n",
    "            pre = n[1]\n",
    "        return ret"
   ]
  },
  {
   "cell_type": "markdown",
   "id": "5d6fa412",
   "metadata": {},
   "source": [
    "# 6201. Find The Original Array of Prefix Xor"
   ]
  },
  {
   "cell_type": "code",
   "execution_count": 5,
   "id": "7fb10755",
   "metadata": {},
   "outputs": [],
   "source": [
    "class Solution:\n",
    "    def findArray(self, pref: List[int]) -> List[int]:\n",
    "        pre = 0\n",
    "        ret = [0] * len(pref)\n",
    "        for i in range(len(ret)):\n",
    "            ret[i] = pre ^ pref[i]\n",
    "            pre ^= ret[i]\n",
    "        return ret"
   ]
  },
  {
   "cell_type": "markdown",
   "id": "3207c2bc",
   "metadata": {},
   "source": [
    "# 6202. Using a Robot to Print the Lexicographically Smallest String"
   ]
  },
  {
   "cell_type": "code",
   "execution_count": 79,
   "id": "bd2770a6",
   "metadata": {},
   "outputs": [],
   "source": [
    "class Solution:\n",
    "    def robotWithString(self, s: str) -> str:\n",
    "        re = []\n",
    "        count = collections.Counter(s)\n",
    "        keys = sorted(count.keys())\n",
    "        i = 0\n",
    "        ret = \"\"\n",
    "        for n in s:\n",
    "            if n == keys[i]:\n",
    "                ret += n\n",
    "            else:\n",
    "                re.append(n)\n",
    "            count[n] -= 1\n",
    "            while i < len(keys) and count[keys[i]] == 0:\n",
    "                i += 1\n",
    "            while re and i < len(keys) and re[-1] <= keys[i]:\n",
    "                ret += re.pop()\n",
    "        return ret + \"\".join(re[::-1])"
   ]
  },
  {
   "cell_type": "code",
   "execution_count": 80,
   "id": "974260f6",
   "metadata": {},
   "outputs": [],
   "source": [
    "s = \"zza\""
   ]
  },
  {
   "cell_type": "code",
   "execution_count": 81,
   "id": "cd52daa9",
   "metadata": {},
   "outputs": [
    {
     "data": {
      "text/plain": [
       "'azz'"
      ]
     },
     "execution_count": 81,
     "metadata": {},
     "output_type": "execute_result"
    }
   ],
   "source": [
    "a = Solution().robotWithString(s)\n",
    "a"
   ]
  },
  {
   "cell_type": "code",
   "execution_count": 112,
   "id": "33a6a134",
   "metadata": {},
   "outputs": [],
   "source": [
    "from string import ascii_lowercase"
   ]
  },
  {
   "cell_type": "code",
   "execution_count": 109,
   "id": "bb777d93",
   "metadata": {},
   "outputs": [],
   "source": [
    "class Solution:\n",
    "    def robotWithString(self, s: str) -> str:\n",
    "        ans = []\n",
    "        cnt = Counter(s)\n",
    "        min = 0  # 剩余最小字母\n",
    "        st = []\n",
    "        for c in s:\n",
    "            cnt[c] -= 1\n",
    "            while min < 25 and cnt[ascii_lowercase[min]] == 0:\n",
    "                min += 1\n",
    "            st.append(c)\n",
    "            while st and st[-1] <= ascii_lowercase[min]:\n",
    "                ans.append(st.pop())\n",
    "        return ''.join(ans)"
   ]
  },
  {
   "cell_type": "markdown",
   "id": "3ea97338",
   "metadata": {},
   "source": [
    "# 6203. Paths in Matrix Whose Sum Is Divisible by K"
   ]
  },
  {
   "cell_type": "code",
   "execution_count": 104,
   "id": "8237f9c1",
   "metadata": {},
   "outputs": [],
   "source": [
    "class Solution:\n",
    "    def numberOfPaths(self, grid: List[List[int]], k: int) -> int:\n",
    "        mod = 10 **9+7\n",
    "        dp = [[[0] * k for _ in range(len(grid[0])+1)] for _ in range(len(grid)+1)]\n",
    "        dp[0][0][0] = 1\n",
    "        for i in range(len(grid)):\n",
    "            for j in range(len(grid[0])):\n",
    "                for s in range(k):\n",
    "                    nxt = (s+grid[i][j]%k)%k\n",
    "                    dp[i+1][j][nxt]  = (dp[i][j][s] + dp[i+1][j][nxt])% mod\n",
    "                    dp[i][j+1][nxt]  = (dp[i][j][s] + dp[i][j+1][nxt])% mod\n",
    "        return dp[-1][-2][0]"
   ]
  },
  {
   "cell_type": "code",
   "execution_count": 107,
   "id": "d009196b",
   "metadata": {},
   "outputs": [],
   "source": [
    "grid = [[7,3,4,9],[2,3,6,2],[2,3,7,0]]\n",
    "k = 1"
   ]
  },
  {
   "cell_type": "code",
   "execution_count": 108,
   "id": "c90f217d",
   "metadata": {},
   "outputs": [
    {
     "data": {
      "text/plain": [
       "10"
      ]
     },
     "execution_count": 108,
     "metadata": {},
     "output_type": "execute_result"
    }
   ],
   "source": [
    "a = Solution().numberOfPaths(grid, k)\n",
    "a"
   ]
  },
  {
   "cell_type": "code",
   "execution_count": 103,
   "id": "7731ff1f",
   "metadata": {},
   "outputs": [
    {
     "data": {
      "text/plain": [
       "[[[1, 0, 0], [0, 0, 1], [0, 1, 0], [0, 0, 1]],\n",
       " [[0, 0, 1], [0, 1, 1], [0, 1, 2], [1, 2, 0]],\n",
       " [[0, 0, 1], [0, 1, 2], [3, 2, 1], [2, 1, 3]],\n",
       " [[0, 0, 1], [2, 0, 1], [2, 1, 3], [0, 0, 0]]]"
      ]
     },
     "execution_count": 103,
     "metadata": {},
     "output_type": "execute_result"
    }
   ],
   "source": [
    "[[[1, 0, 0], [0, 0, 1], [0, 1, 0], [0, 0, 1]], [[0, 0, 1], [0, 1, 1], [0, 1, 2], [1, 2, 0]], [[0, 0, 1], [0, 1, 2], [3, 2, 1], [2, 1, 3]], [[0, 0, 1], [2, 0, 1], [2, 1, 3], [0, 0, 0]]]"
   ]
  },
  {
   "cell_type": "code",
   "execution_count": null,
   "id": "08c5cc55",
   "metadata": {},
   "outputs": [],
   "source": []
  }
 ],
 "metadata": {
  "kernelspec": {
   "display_name": "Python 3 (ipykernel)",
   "language": "python",
   "name": "python3"
  },
  "language_info": {
   "codemirror_mode": {
    "name": "ipython",
    "version": 3
   },
   "file_extension": ".py",
   "mimetype": "text/x-python",
   "name": "python",
   "nbconvert_exporter": "python",
   "pygments_lexer": "ipython3",
   "version": "3.8.8"
  },
  "toc": {
   "base_numbering": 1,
   "nav_menu": {},
   "number_sections": true,
   "sideBar": true,
   "skip_h1_title": false,
   "title_cell": "Table of Contents",
   "title_sidebar": "Contents",
   "toc_cell": false,
   "toc_position": {},
   "toc_section_display": true,
   "toc_window_display": false
  }
 },
 "nbformat": 4,
 "nbformat_minor": 5
}
