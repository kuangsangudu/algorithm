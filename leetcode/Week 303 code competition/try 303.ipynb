{
 "cells": [
  {
   "cell_type": "code",
   "execution_count": 3,
   "id": "9d8b486c",
   "metadata": {},
   "outputs": [],
   "source": [
    "from typing import *\n",
    "import math\n",
    "import heapq\n",
    "import collections"
   ]
  },
  {
   "cell_type": "markdown",
   "id": "93f47017",
   "metadata": {},
   "source": [
    "# 6124. First Letter to Appear Twice"
   ]
  },
  {
   "cell_type": "code",
   "execution_count": 2,
   "id": "dba1db51",
   "metadata": {},
   "outputs": [],
   "source": [
    "class Solution:\n",
    "    def repeatedCharacter(self, s: str) -> str:\n",
    "        visited = set()\n",
    "        for n in s:\n",
    "            if n in visited:\n",
    "                return n\n",
    "            visited.add(n)\n",
    "        "
   ]
  },
  {
   "cell_type": "markdown",
   "id": "e39ee885",
   "metadata": {},
   "source": [
    "# 6125. Equal Row and Column Pairs"
   ]
  },
  {
   "cell_type": "code",
   "execution_count": 21,
   "id": "644289b4",
   "metadata": {},
   "outputs": [],
   "source": [
    "class Solution:\n",
    "    def equalPairs(self, grid: List[List[int]]) -> int:\n",
    "        re = collections.defaultdict(int)\n",
    "        q = collections.defaultdict(int)\n",
    "        for i, row in enumerate(grid):\n",
    "            re[tuple(row)] += 1\n",
    "            r = []\n",
    "            for j in range(len(grid)):\n",
    "                r.append(grid[j][i])\n",
    "            q[tuple(r)] += 1\n",
    "        ret = 0\n",
    "        for key, value in re.items():\n",
    "            ret += value * q.get(key, 0)\n",
    "        return ret"
   ]
  },
  {
   "cell_type": "code",
   "execution_count": 22,
   "id": "e0d52a29",
   "metadata": {},
   "outputs": [],
   "source": [
    "grid = [[3,2,1],[1,7,6],[2,7,7]]"
   ]
  },
  {
   "cell_type": "code",
   "execution_count": 25,
   "id": "95ccb21d",
   "metadata": {},
   "outputs": [
    {
     "data": {
      "text/plain": [
       "3"
      ]
     },
     "execution_count": 25,
     "metadata": {},
     "output_type": "execute_result"
    }
   ],
   "source": [
    "a = Solution().equalPairs(grid)\n",
    "a"
   ]
  },
  {
   "cell_type": "code",
   "execution_count": 24,
   "id": "95236295",
   "metadata": {},
   "outputs": [],
   "source": [
    "grid = [[3,1,2,2],[1,4,4,5],[2,4,2,2],[2,4,2,2]]"
   ]
  },
  {
   "cell_type": "markdown",
   "id": "d02edcf8",
   "metadata": {},
   "source": [
    "# 6126. Design a Food Rating System"
   ]
  },
  {
   "cell_type": "code",
   "execution_count": 49,
   "id": "ff9c45a4",
   "metadata": {},
   "outputs": [],
   "source": [
    "class FoodRatings:\n",
    "\n",
    "    def __init__(self, foods: List[str], cuisines: List[str], ratings: List[int]):\n",
    "        self.foods = foods\n",
    "        self.f = {food:i for i, food in enumerate(foods)}\n",
    "        self.c = cuisines\n",
    "        self.cuisines = collections.defaultdict(list)\n",
    "        self.ratings = ratings\n",
    "        for i, c in enumerate(cuisines):\n",
    "            heapq.heappush(self.cuisines[c], [-ratings[i], foods[i]])\n",
    "\n",
    "    def changeRating(self, food: str, newRating: int) -> None:\n",
    "        idx = self.f[food]\n",
    "        self.ratings[idx] = newRating\n",
    "        heapq.heappush(self.cuisines[self.c[idx]], [-newRating, food])\n",
    "\n",
    "    def highestRated(self, cuisine: str) -> str:\n",
    "        while self.cuisines[cuisine]:\n",
    "            r, food = self.cuisines[cuisine][0]\n",
    "            if self.ratings[self.f[food]]!=-r:\n",
    "                heapq.heappop(self.cuisines[cuisine])\n",
    "                continue\n",
    "            return food"
   ]
  },
  {
   "cell_type": "code",
   "execution_count": 90,
   "id": "f77c33c4",
   "metadata": {},
   "outputs": [],
   "source": [
    "from sortedcontainers import SortedSet\n",
    "class FoodRatings:\n",
    "    def __init__(self, foods: List[str], cuisines: List[str], ratings: List[int]):\n",
    "        self.fr = {}\n",
    "        self.fc = {}\n",
    "        self.cs = collections.defaultdict(SortedSet)\n",
    "        for f, c, r in zip(foods, cuisines, ratings):\n",
    "            self.fr[f] = r\n",
    "            self.fc[f] = c\n",
    "            self.cs[c].add((-r, f))\n",
    "\n",
    "    def changeRating(self, f: str, newRating: int) -> None:\n",
    "        s = self.cs[self.fc[f]]\n",
    "        s.remove((-self.fr[f], f))  # 移除旧数据\n",
    "        s.add((-newRating, f))  # 添加新数据\n",
    "        self.fr[f] = newRating\n",
    "\n",
    "    def highestRated(self, cuisine: str) -> str:\n",
    "        return self.cs[cuisine][0][1]"
   ]
  },
  {
   "cell_type": "code",
   "execution_count": 91,
   "id": "49ab6f39",
   "metadata": {},
   "outputs": [],
   "source": [
    "foodRatings = FoodRatings([\"emgqdbo\",\"jmvfxjohq\",\"qnvseohnoe\",\"yhptazyko\",\"ocqmvmwjq\"],[\"snaxol\",\"snaxol\",\"snaxol\",\"fajbervsj\",\"fajbervsj\"],[2,6,18,6,5])"
   ]
  },
  {
   "cell_type": "code",
   "execution_count": 87,
   "id": "4e605c99",
   "metadata": {},
   "outputs": [],
   "source": [
    "foodRatings.highestRated(\"korean\")"
   ]
  },
  {
   "cell_type": "code",
   "execution_count": 58,
   "id": "835f8a8f",
   "metadata": {},
   "outputs": [],
   "source": [
    "foodRatings.changeRating(\"qnvseohnoe\",11)"
   ]
  },
  {
   "cell_type": "code",
   "execution_count": 54,
   "id": "d432a175",
   "metadata": {},
   "outputs": [],
   "source": [
    "foodRatings.changeRating(\"sushi\", 100)"
   ]
  },
  {
   "cell_type": "code",
   "execution_count": 59,
   "id": "33e8441e",
   "metadata": {},
   "outputs": [
    {
     "data": {
      "text/plain": [
       "'yhptazyko'"
      ]
     },
     "execution_count": 59,
     "metadata": {},
     "output_type": "execute_result"
    }
   ],
   "source": [
    "foodRatings.highestRated(\"fajbervsj\")"
   ]
  },
  {
   "cell_type": "code",
   "execution_count": null,
   "id": "2eddfff7",
   "metadata": {},
   "outputs": [],
   "source": [
    "[\"FoodRatings\",\"changeRating\",\"highestRated\",\"changeRating\",\"changeRating\",\"changeRating\",\"highestRated\",\"highestRated\"]\n",
    "[[[\"emgqdbo\",\"jmvfxjohq\",\"qnvseohnoe\",\"yhptazyko\",\"ocqmvmwjq\"],[\"snaxol\",\"snaxol\",\"snaxol\",\"fajbervsj\",\"fajbervsj\"],[2,6,18,6,5]],[\"qnvseohnoe\",11],[\"fajbervsj\"],[\"emgqdbo\",3],[\"jmvfxjohq\",9],[\"emgqdbo\",14],[\"fajbervsj\"],[\"snaxol\"]]"
   ]
  },
  {
   "cell_type": "code",
   "execution_count": 57,
   "id": "5a57d59d",
   "metadata": {},
   "outputs": [
    {
     "data": {
      "text/plain": [
       "(['emgqdbo', 'jmvfxjohq', 'qnvseohnoe', 'yhptazyko', 'ocqmvmwjq'],\n",
       " ['snaxol', 'snaxol', 'snaxol', 'fajbervsj', 'fajbervsj'],\n",
       " [2, 6, 18, 6, 5])"
      ]
     },
     "execution_count": 57,
     "metadata": {},
     "output_type": "execute_result"
    }
   ],
   "source": [
    "[\"emgqdbo\",\"jmvfxjohq\",\"qnvseohnoe\",\"yhptazyko\",\"ocqmvmwjq\"],[\"snaxol\",\"snaxol\",\"snaxol\",\"fajbervsj\",\"fajbervsj\"],[2,6,18,6,5]"
   ]
  },
  {
   "cell_type": "code",
   "execution_count": 60,
   "id": "3d3d9cfc",
   "metadata": {},
   "outputs": [],
   "source": [
    "foodRatings.changeRating(\"emgqdbo\",3)"
   ]
  },
  {
   "cell_type": "code",
   "execution_count": 61,
   "id": "761daaf2",
   "metadata": {},
   "outputs": [],
   "source": [
    "foodRatings.changeRating(\"emgqdbo\",14)"
   ]
  },
  {
   "cell_type": "code",
   "execution_count": 62,
   "id": "25277e59",
   "metadata": {},
   "outputs": [
    {
     "data": {
      "text/plain": [
       "'ocqmvmwjq'"
      ]
     },
     "execution_count": 62,
     "metadata": {},
     "output_type": "execute_result"
    }
   ],
   "source": [
    "foodRatings.highestRated(\"fajbervsj\")"
   ]
  },
  {
   "cell_type": "markdown",
   "id": "627759ca",
   "metadata": {},
   "source": [
    "# 6127. Number of Excellent Pairs"
   ]
  },
  {
   "cell_type": "code",
   "execution_count": 95,
   "id": "c7076926",
   "metadata": {},
   "outputs": [],
   "source": [
    "class Solution:\n",
    "    def countExcellentPairs(self, nums: List[int], k: int) -> int:\n",
    "        visited = set(nums)\n",
    "        re = []\n",
    "        for v in visited:\n",
    "            re.append(bin(v)[2:].count(\"1\"))\n",
    "        re.sort()\n",
    "        ret = 0\n",
    "        for i, n in enumerate(re):\n",
    "            l, r = i, len(re)-1\n",
    "            while l < r:\n",
    "                mid = l + (r-l)//2\n",
    "                if re[i] + re[mid] < k:\n",
    "                    l = mid + 1\n",
    "                else:\n",
    "                    r = mid\n",
    "            if re[i] + re[l] >= k:\n",
    "                if l == i:\n",
    "                    ret += (len(re)-l-1)*2+1\n",
    "                else:\n",
    "                    ret += (len(re)-l) * 2\n",
    "        return ret"
   ]
  },
  {
   "cell_type": "code",
   "execution_count": 96,
   "id": "8b481fd8",
   "metadata": {},
   "outputs": [],
   "source": [
    "nums = [1,2,3,1]\n",
    "k = 3"
   ]
  },
  {
   "cell_type": "code",
   "execution_count": 97,
   "id": "50a98857",
   "metadata": {},
   "outputs": [
    {
     "data": {
      "text/plain": [
       "5"
      ]
     },
     "execution_count": 97,
     "metadata": {},
     "output_type": "execute_result"
    }
   ],
   "source": [
    "a = Solution().countExcellentPairs(nums, k)\n",
    "a"
   ]
  },
  {
   "cell_type": "code",
   "execution_count": 92,
   "id": "8954983e",
   "metadata": {},
   "outputs": [],
   "source": [
    "class Solution:\n",
    "    def countExcellentPairs(self, nums: List[int], k: int) -> int:\n",
    "        cnt = Counter(x.bit_count() for x in set(nums))\n",
    "        ans = 0\n",
    "        for cx, ccx in cnt.items():\n",
    "            for cy, ccy in cnt.items():\n",
    "                if cx + cy >= k:  # (x,y) 是优质数对\n",
    "                    ans += ccx * ccy\n",
    "        return ans"
   ]
  },
  {
   "cell_type": "code",
   "execution_count": null,
   "id": "e625e2d4",
   "metadata": {},
   "outputs": [],
   "source": []
  }
 ],
 "metadata": {
  "kernelspec": {
   "display_name": "Python 3 (ipykernel)",
   "language": "python",
   "name": "python3"
  },
  "language_info": {
   "codemirror_mode": {
    "name": "ipython",
    "version": 3
   },
   "file_extension": ".py",
   "mimetype": "text/x-python",
   "name": "python",
   "nbconvert_exporter": "python",
   "pygments_lexer": "ipython3",
   "version": "3.8.8"
  },
  "toc": {
   "base_numbering": 1,
   "nav_menu": {},
   "number_sections": true,
   "sideBar": true,
   "skip_h1_title": false,
   "title_cell": "Table of Contents",
   "title_sidebar": "Contents",
   "toc_cell": false,
   "toc_position": {},
   "toc_section_display": true,
   "toc_window_display": false
  }
 },
 "nbformat": 4,
 "nbformat_minor": 5
}
