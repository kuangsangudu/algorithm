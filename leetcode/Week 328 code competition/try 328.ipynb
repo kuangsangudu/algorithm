{
 "cells": [
  {
   "cell_type": "code",
   "execution_count": 1,
   "id": "a036d410",
   "metadata": {},
   "outputs": [],
   "source": [
    "import heapq\n",
    "import functools\n",
    "import collections\n",
    "import math\n",
    "import bisect\n",
    "from typing import *"
   ]
  },
  {
   "cell_type": "markdown",
   "id": "2334d826",
   "metadata": {},
   "source": [
    "# 6291. Difference Between Element Sum and Digit Sum of an Array"
   ]
  },
  {
   "cell_type": "code",
   "execution_count": 2,
   "id": "1a94dfe4",
   "metadata": {},
   "outputs": [],
   "source": [
    "class Solution:\n",
    "    def differenceOfSum(self, nums: List[int]) -> int:\n",
    "        sums = sum(nums)\n",
    "        digits = 0\n",
    "        for num in nums:\n",
    "            while num:\n",
    "                digits += num % 10\n",
    "                num //= 10\n",
    "        return abs(sums-digits)"
   ]
  },
  {
   "cell_type": "markdown",
   "id": "9e0e3c14",
   "metadata": {},
   "source": [
    "# 6292. Increment Submatrices by One"
   ]
  },
  {
   "cell_type": "code",
   "execution_count": 3,
   "id": "c5a914b2",
   "metadata": {},
   "outputs": [],
   "source": [
    "class Solution:\n",
    "    def rangeAddQueries(self, n: int, queries: List[List[int]]) -> List[List[int]]:\n",
    "        ret = [[0] * n for _ in range(n)]\n",
    "        for query in queries:\n",
    "            ret[query[0]][query[1]] += 1\n",
    "            if query[2] < n-1:\n",
    "                ret[query[2]+1][query[1]] -= 1\n",
    "            if query[3] < n-1:\n",
    "                ret[query[0]][query[3]+1] -= 1\n",
    "            if query[2] < n-1 and query[3] < n-1:\n",
    "                ret[query[2]+1][query[3]+1] += 1\n",
    "        \n",
    "        for i in range(1, n):\n",
    "            ret[0][i] += ret[0][i-1]\n",
    "            ret[i][0] += ret[i-1][0]\n",
    "        \n",
    "        for i in range(1, n):\n",
    "            for j in range(1, n):\n",
    "                ret[i][j] += ret[i-1][j] + ret[i][j-1] - ret[i-1][j-1]\n",
    "        return ret"
   ]
  },
  {
   "cell_type": "markdown",
   "id": "b65e928e",
   "metadata": {},
   "source": [
    "# 6293. Count the Number of Good Subarrays"
   ]
  },
  {
   "cell_type": "code",
   "execution_count": 102,
   "id": "8d78dc87",
   "metadata": {},
   "outputs": [],
   "source": [
    "class Solution:\n",
    "    def countGood(self, nums: List[int], k: int) -> int:\n",
    "        cnt = Counter()\n",
    "        ans = left = pairs = 0\n",
    "        for x in nums:\n",
    "            pairs += cnt[x]\n",
    "            cnt[x] += 1\n",
    "            while left < len(nums) and pairs - cnt[nums[left]] + 1 >= k:\n",
    "                pairs -= cnt[nums[left]] - 1\n",
    "                cnt[nums[left]] -= 1\n",
    "                left += 1\n",
    "            if pairs >= k:\n",
    "                ans += left + 1\n",
    "        return ans"
   ]
  },
  {
   "cell_type": "code",
   "execution_count": 30,
   "id": "10f0231c",
   "metadata": {},
   "outputs": [],
   "source": [
    "class Solution:\n",
    "    def countGood(self, nums: List[int], k: int) -> int:\n",
    "        count = collections.defaultdict(int)\n",
    "        sums = 0\n",
    "        ret = 0\n",
    "        left = 0\n",
    "        for i, num in enumerate(nums):\n",
    "            count[num] += 1\n",
    "            sums += count[num] * (count[num]-1)//2 - (count[num]-1) * (count[num]-2)//2 \n",
    "            while sums >= k and i>=left:\n",
    "                ret += len(nums)-i\n",
    "                num = nums[left]\n",
    "                sums -= count[num] * (count[num]-1)//2 - (count[num]-1) * (count[num]-2)//2 \n",
    "                count[nums[left]] -= 1\n",
    "                left += 1\n",
    "                \n",
    "        while sums >= k:\n",
    "            ret += 1\n",
    "            num = nums[left]\n",
    "            sums -= count[num] * (count[num]-1)//2 - (count[num]-1) * (count[num]-2)//2 \n",
    "            count[nums[left]] -= 1\n",
    "            left += 1        \n",
    "        return ret"
   ]
  },
  {
   "cell_type": "code",
   "execution_count": 31,
   "id": "653626a9",
   "metadata": {},
   "outputs": [],
   "source": [
    "nums = [3,1,4,3,2,2,4]\n",
    "k = 2"
   ]
  },
  {
   "cell_type": "code",
   "execution_count": 32,
   "id": "7b066815",
   "metadata": {},
   "outputs": [
    {
     "name": "stdout",
     "output_type": "stream",
     "text": [
      "defaultdict(<class 'int'>, {3: 1}) 0 0 0\n",
      "defaultdict(<class 'int'>, {3: 1, 1: 1}) 0 0 0\n",
      "defaultdict(<class 'int'>, {3: 1, 1: 1, 4: 1}) 0 0 0\n",
      "defaultdict(<class 'int'>, {3: 2, 1: 1, 4: 1}) 1 0 0\n",
      "defaultdict(<class 'int'>, {3: 2, 1: 1, 4: 1, 2: 1}) 1 0 0\n",
      "defaultdict(<class 'int'>, {3: 1, 1: 1, 4: 1, 2: 2}) 1 2 1\n",
      "defaultdict(<class 'int'>, {3: 1, 1: 0, 4: 1, 2: 2}) 1 4 3\n"
     ]
    },
    {
     "data": {
      "text/plain": [
       "4"
      ]
     },
     "execution_count": 32,
     "metadata": {},
     "output_type": "execute_result"
    }
   ],
   "source": [
    "a = Solution().countGood(nums, k)\n",
    "a"
   ]
  },
  {
   "cell_type": "markdown",
   "id": "59b5aba0",
   "metadata": {},
   "source": [
    "# 6294. Difference Between Maximum and Minimum Price Sum"
   ]
  },
  {
   "cell_type": "code",
   "execution_count": 98,
   "id": "53d8886b",
   "metadata": {},
   "outputs": [],
   "source": [
    "n = 6\n",
    "edges = [[0,1],[1,2],[1,3],[3,4],[3,5]]\n",
    "price = [9,8,7,6,10,5]"
   ]
  },
  {
   "cell_type": "code",
   "execution_count": 101,
   "id": "6b6583e6",
   "metadata": {},
   "outputs": [
    {
     "name": "stdout",
     "output_type": "stream",
     "text": [
      "[9, 8, 7, 6, 10, 5]\n"
     ]
    },
    {
     "data": {
      "text/plain": [
       "24"
      ]
     },
     "execution_count": 101,
     "metadata": {},
     "output_type": "execute_result"
    }
   ],
   "source": [
    "a = Solution().maxOutput(n, edges, price)\n",
    "a"
   ]
  },
  {
   "cell_type": "code",
   "execution_count": 94,
   "id": "63fbc3e6",
   "metadata": {},
   "outputs": [],
   "source": [
    "class Solution:\n",
    "    def maxOutput(self, n: int, edges: List[List[int]], price: List[int]) -> int:\n",
    "        inf = float(\"inf\")\n",
    "        graph = [[] for _ in range(n)]\n",
    "        for edge in edges:\n",
    "            graph[edge[0]].append(edge[1])\n",
    "            graph[edge[1]].append(edge[0])\n",
    "        \n",
    "        for i in range(n):\n",
    "            if len(graph[i]) == 1:\n",
    "                start = i\n",
    "                break\n",
    "        \n",
    "        ret = 0\n",
    "        \n",
    "        def dfs(i, pre):\n",
    "            nonlocal ret\n",
    "            maxs1, maxs2 = 0, 0\n",
    "            for nxt in graph[i]:\n",
    "                if nxt != pre:\n",
    "                    s1, s2 = dfs(nxt, i)\n",
    "                    if maxs2 == 0:\n",
    "                        ret = max(ret, s1)\n",
    "                    else:\n",
    "                        ret = max(ret, maxs2+price[i]+s1)\n",
    "                    ret = max(ret, s2+maxs1+price[i])\n",
    "                    maxs1 = max(maxs1, s1)\n",
    "                    maxs2 = max(maxs2, s2)\n",
    "            if maxs1 == 0:\n",
    "                return price[i], 0\n",
    "            return maxs1+price[i], maxs2+price[i]\n",
    "        \n",
    "        dfs(start, -1)\n",
    "        return ret"
   ]
  },
  {
   "cell_type": "code",
   "execution_count": 100,
   "id": "64318298",
   "metadata": {},
   "outputs": [],
   "source": [
    "class Solution:\n",
    "    def maxOutput(self, n: int, edges: List[List[int]], price: List[int]) -> int:\n",
    "        # 建无向图\n",
    "        g = [set() for _ in range(n)]\n",
    "        for a, b in edges:\n",
    "            g[a].add(b)\n",
    "            g[b].add(a)\n",
    "        # 额外要记录的节点信息\n",
    "        s = price.copy()  # 当前最大带叶子的路径和\n",
    "        t = [0] * n  # 当前最大不带叶子的路径和\n",
    "        # 找出图中初始叶子节点，加入待处理的集合\n",
    "        # 此处以队列为例，但换成栈、堆、有序或无序的集合都没有问题\n",
    "        q = collections.deque(i for i, d in enumerate(g) if len(d) == 1)\n",
    "        ans = 0\n",
    "        while q:\n",
    "            a = q.popleft()  # 叶子节点\n",
    "            b = g[a].pop()  # 取上级节点\n",
    "            g[b].remove(a)  # 并删除该边\n",
    "            # 记录b节点子树中经过b的最长路径\n",
    "            # 可能是当前最大不带叶子的路径和 + 当前带叶子的路径和\n",
    "            # 或者是当前最大带叶子的路径和 + 当前不带叶子的路径和\n",
    "            ans = max(ans, s[a] + t[b], t[a] + s[b])\n",
    "            # 记录b节点的最大带叶子的路径和和不带叶子的路径和\n",
    "            s[b] = max(s[b], s[a] + price[b])\n",
    "            t[b] = max(t[b], t[a] + price[b])\n",
    "            if len(g[b]) == 1:  # 上级节点变为叶子节点\n",
    "                q.append(b)  # 则上级节点入队\n",
    "            elif not g[b]:  # 因刚删的边，已仅剩最后一个孤立节点\n",
    "                break  # 则结束\n",
    "        print(price)\n",
    "        return ans"
   ]
  },
  {
   "cell_type": "code",
   "execution_count": null,
   "id": "ef6e3e51",
   "metadata": {},
   "outputs": [],
   "source": []
  }
 ],
 "metadata": {
  "kernelspec": {
   "display_name": "Python 3 (ipykernel)",
   "language": "python",
   "name": "python3"
  },
  "language_info": {
   "codemirror_mode": {
    "name": "ipython",
    "version": 3
   },
   "file_extension": ".py",
   "mimetype": "text/x-python",
   "name": "python",
   "nbconvert_exporter": "python",
   "pygments_lexer": "ipython3",
   "version": "3.8.8"
  },
  "toc": {
   "base_numbering": 1,
   "nav_menu": {},
   "number_sections": true,
   "sideBar": true,
   "skip_h1_title": false,
   "title_cell": "Table of Contents",
   "title_sidebar": "Contents",
   "toc_cell": false,
   "toc_position": {},
   "toc_section_display": true,
   "toc_window_display": false
  }
 },
 "nbformat": 4,
 "nbformat_minor": 5
}
