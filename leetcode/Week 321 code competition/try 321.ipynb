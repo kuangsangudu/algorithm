{
 "cells": [
  {
   "cell_type": "code",
   "execution_count": 1,
   "id": "17c42451",
   "metadata": {},
   "outputs": [],
   "source": [
    "import heapq\n",
    "import collections\n",
    "import math\n",
    "from typing import *\n",
    "import functools"
   ]
  },
  {
   "cell_type": "markdown",
   "id": "6dfce771",
   "metadata": {},
   "source": [
    "# 6245. Find the Pivot Integer"
   ]
  },
  {
   "cell_type": "code",
   "execution_count": 4,
   "id": "51196756",
   "metadata": {},
   "outputs": [],
   "source": [
    "class Solution:\n",
    "    def pivotInteger(self, n: int) -> int:\n",
    "        x = int(((n**2+n)/2)**0.5)\n",
    "        if x**2+x == (x+n)*(n-x+1):\n",
    "            return x\n",
    "        return -1\n",
    "        "
   ]
  },
  {
   "cell_type": "code",
   "execution_count": 5,
   "id": "a3879178",
   "metadata": {},
   "outputs": [
    {
     "data": {
      "text/plain": [
       "6"
      ]
     },
     "execution_count": 5,
     "metadata": {},
     "output_type": "execute_result"
    }
   ],
   "source": [
    "a = Solution().pivotInteger(8)\n",
    "a"
   ]
  },
  {
   "cell_type": "markdown",
   "id": "f8574c22",
   "metadata": {},
   "source": [
    "# 6246. Append Characters to String to Make Subsequence"
   ]
  },
  {
   "cell_type": "code",
   "execution_count": 6,
   "id": "ab84be7b",
   "metadata": {},
   "outputs": [],
   "source": [
    "class Solution:\n",
    "    def appendCharacters(self, s: str, t: str) -> int:\n",
    "        ret = len(t)\n",
    "        pre = 0\n",
    "        for i, n in enumerate(s):\n",
    "            if n == t[pre]:\n",
    "                pre += 1\n",
    "                ret -= 1\n",
    "            if pre == len(t):\n",
    "                return 0\n",
    "        return ret"
   ]
  },
  {
   "cell_type": "code",
   "execution_count": 7,
   "id": "00b145d0",
   "metadata": {},
   "outputs": [],
   "source": [
    "s = \"coaching\"; t = \"coding\""
   ]
  },
  {
   "cell_type": "code",
   "execution_count": 8,
   "id": "96d6de2e",
   "metadata": {},
   "outputs": [
    {
     "data": {
      "text/plain": [
       "4"
      ]
     },
     "execution_count": 8,
     "metadata": {},
     "output_type": "execute_result"
    }
   ],
   "source": [
    "a  =Solution().appendCharacters(s, t)\n",
    "a"
   ]
  },
  {
   "cell_type": "markdown",
   "id": "81e8db18",
   "metadata": {},
   "source": [
    "# 6247. Remove Nodes From Linked List"
   ]
  },
  {
   "cell_type": "code",
   "execution_count": 9,
   "id": "f1b5b687",
   "metadata": {},
   "outputs": [],
   "source": [
    "# Definition for singly-linked list.\n",
    "class ListNode:\n",
    "    def __init__(self, val=0, next=None):\n",
    "        self.val = val\n",
    "        self.next = next\n",
    "class Solution:\n",
    "    def removeNodes(self, head: Optional[ListNode]) -> Optional[ListNode]:\n",
    "        q = []\n",
    "        h = head\n",
    "        while head:\n",
    "            while q and q[-1].val < head.val:\n",
    "                q.pop()\n",
    "            q.append(head)\n",
    "            head = head.next\n",
    "        \n",
    "        q[-1].next = None\n",
    "        for i in range(len(q)-1):\n",
    "            q[i].next = q[i+1]\n",
    "        return q[0]"
   ]
  },
  {
   "cell_type": "markdown",
   "id": "acad830f",
   "metadata": {},
   "source": [
    "# 6248. Count Subarrays With Median K"
   ]
  },
  {
   "cell_type": "code",
   "execution_count": 49,
   "id": "33d4aaa5",
   "metadata": {},
   "outputs": [],
   "source": [
    "class Solution:\n",
    "    def countSubarrays(self, nums: List[int], k: int) -> int:\n",
    "        idx = nums.index(k)\n",
    "        left = [0] * idx\n",
    "        right = [0] * (len(nums)-idx-1)\n",
    "        for i in range(idx-1, -1, -1):\n",
    "            if i != idx-1:\n",
    "                left[i] += left[i+1]\n",
    "            if nums[i] > k:\n",
    "                left[i] -= 1\n",
    "            else:\n",
    "                left[i] += 1\n",
    "        \n",
    "        for i in range(idx+1, len(nums)):\n",
    "            j = i - (idx+1)\n",
    "            if i != idx+1:\n",
    "                right[j] += right[j-1]\n",
    "            if nums[i] > k:\n",
    "                right[j] -= 1\n",
    "            else:\n",
    "                right[j] += 1\n",
    "        \n",
    "        ret = 1\n",
    "        l = collections.Counter(left)\n",
    "        r = collections.Counter(right)\n",
    "        ret += l[0] + l[-1]\n",
    "        ret += r[0] + r[-1]\n",
    "        print(l, r)\n",
    "\n",
    "        for key, val in l.items():\n",
    "            if -key in r:\n",
    "                ret += r[-key] * val\n",
    "            if -key-1 in r:\n",
    "                ret += r[-key-1] * val\n",
    "        return ret"
   ]
  },
  {
   "cell_type": "code",
   "execution_count": 50,
   "id": "e90d2052",
   "metadata": {},
   "outputs": [],
   "source": [
    "nums = [6,2,8,7,12,4,11,5,9,1,10,3]\n",
    "k = 5"
   ]
  },
  {
   "cell_type": "code",
   "execution_count": 51,
   "id": "2dc8194a",
   "metadata": {},
   "outputs": [
    {
     "name": "stdout",
     "output_type": "stream",
     "text": [
      "Counter({-3: 2, -2: 2, -1: 2, 0: 1}) Counter({-1: 2, 0: 2})\n"
     ]
    },
    {
     "data": {
      "text/plain": [
       "16"
      ]
     },
     "execution_count": 51,
     "metadata": {},
     "output_type": "execute_result"
    }
   ],
   "source": [
    "a = Solution().countSubarrays(nums, k)\n",
    "a"
   ]
  },
  {
   "cell_type": "code",
   "execution_count": 52,
   "id": "201200ea",
   "metadata": {},
   "outputs": [],
   "source": [
    "class Solution:\n",
    "    def countSubarrays(self, nums: List[int], k: int) -> int:\n",
    "        pos = nums.index(k)\n",
    "        cnt = defaultdict(int)\n",
    "        cnt[0] = 1  # i=pos 的时候 c 是 0，直接记到 cnt 中，这样下面不是大于就是小于\n",
    "        c = 0\n",
    "        for i in range(pos + 1, len(nums)):\n",
    "            c += 1 if nums[i] > k else -1\n",
    "            cnt[c] += 1\n",
    "\n",
    "        ans = cnt[0] + cnt[1]  # i=pos 的时候 c 是 0，直接加到答案中，这样下面不是大于就是小于\n",
    "        c = 0\n",
    "        for i in range(pos - 1, -1, -1):\n",
    "            c += 1 if nums[i] < k else -1\n",
    "            ans += cnt[c] + cnt[c + 1]\n",
    "        return ans"
   ]
  },
  {
   "cell_type": "code",
   "execution_count": null,
   "id": "9d226a86",
   "metadata": {},
   "outputs": [],
   "source": []
  }
 ],
 "metadata": {
  "kernelspec": {
   "display_name": "Python 3 (ipykernel)",
   "language": "python",
   "name": "python3"
  },
  "language_info": {
   "codemirror_mode": {
    "name": "ipython",
    "version": 3
   },
   "file_extension": ".py",
   "mimetype": "text/x-python",
   "name": "python",
   "nbconvert_exporter": "python",
   "pygments_lexer": "ipython3",
   "version": "3.8.8"
  },
  "toc": {
   "base_numbering": 1,
   "nav_menu": {},
   "number_sections": true,
   "sideBar": true,
   "skip_h1_title": false,
   "title_cell": "Table of Contents",
   "title_sidebar": "Contents",
   "toc_cell": false,
   "toc_position": {},
   "toc_section_display": true,
   "toc_window_display": false
  }
 },
 "nbformat": 4,
 "nbformat_minor": 5
}
