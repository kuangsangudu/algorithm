{
 "cells": [
  {
   "cell_type": "code",
   "execution_count": 1,
   "id": "8d12a3d6",
   "metadata": {},
   "outputs": [],
   "source": [
    "from typing import *\n",
    "import math\n",
    "import heapq\n",
    "import collections"
   ]
  },
  {
   "cell_type": "markdown",
   "id": "0da49942",
   "metadata": {},
   "source": [
    "# 6056. Largest 3-Same-Digit Number in String"
   ]
  },
  {
   "cell_type": "code",
   "execution_count": 2,
   "id": "d25db86d",
   "metadata": {},
   "outputs": [],
   "source": [
    "class Solution:\n",
    "    def largestGoodInteger(self, num: str) -> str:\n",
    "        ret = \"\"\n",
    "        for i in range(2, len(num)):\n",
    "            if num[i] == num[i-1] == num[i-2]:\n",
    "                ret = max(ret, num[i-2:i+1])\n",
    "        return ret"
   ]
  },
  {
   "cell_type": "markdown",
   "id": "96ed9511",
   "metadata": {},
   "source": [
    "# 6057. Count Nodes Equal to Average of Subtree"
   ]
  },
  {
   "cell_type": "code",
   "execution_count": 99,
   "id": "ef053092",
   "metadata": {},
   "outputs": [],
   "source": [
    "# Definition for a binary tree node.\n",
    "class TreeNode:\n",
    "    def __init__(self, val=0, left=None, right=None):\n",
    "        self.val = val\n",
    "        self.left = left\n",
    "        self.right = right\n",
    "class Solution:\n",
    "    def averageOfSubtree(self, root: Optional[TreeNode]) -> int:\n",
    "        self.ret = 0\n",
    "        def xunzhao(root):\n",
    "            if not root:\n",
    "                return 0, 0\n",
    "            ln, l = xunzhao(root.left)\n",
    "            rn, r = xunzhao(root.right)\n",
    "            if root.val == (ln+rn+root.val)//(l+r+1):\n",
    "                self.ret += 1\n",
    "            return ln+rn+root.val, l+r+1\n",
    "        \n",
    "        xunzhao(root)\n",
    "        return self.ret"
   ]
  },
  {
   "cell_type": "markdown",
   "id": "9112b6af",
   "metadata": {},
   "source": [
    "# 6058. Count Number of Texts"
   ]
  },
  {
   "cell_type": "code",
   "execution_count": 98,
   "id": "ffa8c3fd",
   "metadata": {},
   "outputs": [],
   "source": [
    "class Solution:\n",
    "    def countTexts(self, pressedKeys: str) -> int:\n",
    "        ret = [0] * (len(pressedKeys)+1)\n",
    "        Mod = 10 ** 9 + 7\n",
    "        ret[0] = 1\n",
    "        for i, n in enumerate(pressedKeys, start=1):\n",
    "            ret[i] += ret[i-1]\n",
    "            if \"7\" == n or n == \"9\":\n",
    "                maxs = 3\n",
    "            elif \"2\" <= n <= \"6\" or n == \"8\":\n",
    "                maxs = 2\n",
    "            j = i-2\n",
    "            while j >= 0 and pressedKeys[j] == n and maxs:\n",
    "                ret[i] = (ret[i] + ret[j])%Mod\n",
    "                j -= 1\n",
    "                maxs -= 1\n",
    "        return ret[-1]"
   ]
  },
  {
   "cell_type": "code",
   "execution_count": 56,
   "id": "db933067",
   "metadata": {},
   "outputs": [],
   "source": [
    "pressedKeys = \"22222\""
   ]
  },
  {
   "cell_type": "code",
   "execution_count": 57,
   "id": "d3dd713e",
   "metadata": {},
   "outputs": [
    {
     "name": "stdout",
     "output_type": "stream",
     "text": [
      "2 1\n",
      "3 1\n",
      "3 0\n",
      "4 1\n",
      "4 0\n",
      "5 1\n",
      "5 0\n",
      "[1, 1, 2, 4, 7, 13]\n"
     ]
    },
    {
     "data": {
      "text/plain": [
       "13"
      ]
     },
     "execution_count": 57,
     "metadata": {},
     "output_type": "execute_result"
    }
   ],
   "source": [
    "a = Solution().countTexts(pressedKeys)\n",
    "a"
   ]
  },
  {
   "cell_type": "markdown",
   "id": "a6e964e8",
   "metadata": {},
   "source": [
    "# 6059.  Check if There Is a Valid Parentheses String Path"
   ]
  },
  {
   "cell_type": "code",
   "execution_count": 83,
   "id": "ec94917b",
   "metadata": {},
   "outputs": [],
   "source": [
    "import functools\n",
    "class Solution:\n",
    "    def hasValidPath(self, grid: List[List[str]]) -> bool:\n",
    "        target = (len(grid)-1, len(grid[0])-1)\n",
    "        leny, lenx = len(grid), len(grid[0])\n",
    "        re = collections.defaultdict(int)\n",
    "        t = leny + lenx - 1\n",
    "        if t%2:\n",
    "            return False\n",
    "        t = t//2\n",
    "        def xunzhao(i, j, n):\n",
    "            num = n+1 if grid[i][j] ==\"(\" else n-1\n",
    "            re[grid[i][j]] += 1\n",
    "            if (i, j) == target:\n",
    "                return num == 0\n",
    "            if num < 0:\n",
    "                return False\n",
    "            if re[grid[i][j]] > t:\n",
    "                return False\n",
    "            for m, n in [[i+1, j], [i, j+1]]:\n",
    "                if 0 <= m < leny and 0 <= n < lenx:\n",
    "                    r = xunzhao(m, n, num)\n",
    "                    if r:\n",
    "                        return True\n",
    "            re[grid[i][j]] -= 1\n",
    "            return False\n",
    "        return xunzhao(0, 0, 0)"
   ]
  },
  {
   "cell_type": "code",
   "execution_count": 86,
   "id": "a10d7229",
   "metadata": {},
   "outputs": [],
   "source": [
    "import functools\n",
    "class Solution:\n",
    "    def hasValidPath(self, grid: List[List[str]]) -> bool:\n",
    "        target = (len(grid)-1, len(grid[0])-1)\n",
    "        leny, lenx = len(grid), len(grid[0])\n",
    "        t = leny + lenx - 1\n",
    "        if t%2:\n",
    "            return False\n",
    "        \n",
    "        @functools.lru_cache(None)\n",
    "        def xunzhao(i, j, n):\n",
    "            num = n+1 if grid[i][j] ==\"(\" else n-1\n",
    "            if (i, j) == target:\n",
    "                return num == 0\n",
    "            if num < 0:\n",
    "                return False\n",
    "            if lenx-i+leny-j < num:\n",
    "                return False               \n",
    "            for m, n in [[i+1, j], [i, j+1]]:\n",
    "                if 0 <= m < leny and 0 <= n < lenx:\n",
    "                    r = xunzhao(m, n, num)\n",
    "                    if r:\n",
    "                        return True\n",
    "            return False\n",
    "        return xunzhao(0, 0, 0)"
   ]
  },
  {
   "cell_type": "code",
   "execution_count": 95,
   "id": "3bf88883",
   "metadata": {},
   "outputs": [],
   "source": [
    "class Solution:\n",
    "    def hasValidPath(self, grid: List[List[str]]) -> bool:\n",
    "        leny, lenx = len(grid), len(grid[0])\n",
    "        lens = lenx+leny+1\n",
    "        if grid[0][0] == \")\" or lens%2:\n",
    "            return False  \n",
    "        lens = lens//2 + 1\n",
    "        dp = [[[False for _ in range(lens)]for _ in range(lenx)]for _ in range(leny)]\n",
    "        dp[0][0][1] = True\n",
    "        \n",
    "        for i in range(leny):\n",
    "            for j in range(lenx):\n",
    "                t = 1 if grid[i][j] ==\"(\" else -1\n",
    "                for k in range(lens):\n",
    "                    if i > 0 and 0 <=  k-t < lens:\n",
    "                        dp[i][j][k] |= dp[i-1][j][k-t]\n",
    "                    if j > 0 and 0 <=  k-t < lens:                    \n",
    "                        dp[i][j][k] |= dp[i][j-1][k-t]\n",
    "        return dp[-1][-1][0]"
   ]
  },
  {
   "cell_type": "code",
   "execution_count": 96,
   "id": "0aa24462",
   "metadata": {},
   "outputs": [],
   "source": [
    "grid = [[\"(\",\"(\",\"(\"],[\")\",\"(\",\")\"],[\"(\",\"(\",\")\"],[\"(\",\"(\",\")\"]]"
   ]
  },
  {
   "cell_type": "code",
   "execution_count": 97,
   "id": "e12a6354",
   "metadata": {
    "scrolled": true
   },
   "outputs": [
    {
     "data": {
      "text/plain": [
       "True"
      ]
     },
     "execution_count": 97,
     "metadata": {},
     "output_type": "execute_result"
    }
   ],
   "source": [
    "a = Solution().hasValidPath(grid)\n",
    "a"
   ]
  }
 ],
 "metadata": {
  "kernelspec": {
   "display_name": "Python 3 (ipykernel)",
   "language": "python",
   "name": "python3"
  },
  "language_info": {
   "codemirror_mode": {
    "name": "ipython",
    "version": 3
   },
   "file_extension": ".py",
   "mimetype": "text/x-python",
   "name": "python",
   "nbconvert_exporter": "python",
   "pygments_lexer": "ipython3",
   "version": "3.8.8"
  },
  "toc": {
   "base_numbering": 1,
   "nav_menu": {},
   "number_sections": true,
   "sideBar": true,
   "skip_h1_title": false,
   "title_cell": "Table of Contents",
   "title_sidebar": "Contents",
   "toc_cell": false,
   "toc_position": {},
   "toc_section_display": true,
   "toc_window_display": false
  }
 },
 "nbformat": 4,
 "nbformat_minor": 5
}
