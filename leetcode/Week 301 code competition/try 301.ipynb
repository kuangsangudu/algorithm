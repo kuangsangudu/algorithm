{
 "cells": [
  {
   "cell_type": "code",
   "execution_count": 1,
   "id": "0953f7e5",
   "metadata": {},
   "outputs": [],
   "source": [
    "from typing import *\n",
    "import collections\n",
    "import math\n",
    "import heapq"
   ]
  },
  {
   "cell_type": "markdown",
   "id": "b8966340",
   "metadata": {},
   "source": [
    "# 6112. Minimum Amount of Time to Fill Cups"
   ]
  },
  {
   "cell_type": "code",
   "execution_count": 2,
   "id": "c03d4874",
   "metadata": {},
   "outputs": [],
   "source": [
    "class Solution:\n",
    "    def fillCups(self, amount: List[int]) -> int:\n",
    "        amount.sort()\n",
    "        ret = 0\n",
    "        while amount[-1] != 0:\n",
    "            amount[-1] -= 1\n",
    "            ret += 1\n",
    "            if amount[-2] == 0:\n",
    "                return ret + amount[-1]\n",
    "            amount[-2] -= 1\n",
    "            if amount[0] > amount[-2]:\n",
    "                amount[0], amount[1] = amount[1], amount[0]\n",
    "                if amount[1] > amount[2]:\n",
    "                    amount[2], amount[1] = amount[1], amount[2]\n",
    "        return ret"
   ]
  },
  {
   "cell_type": "code",
   "execution_count": null,
   "id": "562151e7",
   "metadata": {},
   "outputs": [],
   "source": [
    "class Solution:\n",
    "    def fillCups(self, amount: List[int]) -> int:\n",
    "        amount.sort()\n",
    "        if amount[0] + amount[1] <= amount[2]:\n",
    "            return amount[2]\n",
    "        else:\n",
    "            t = amount[0] + amount[1] - amount[2]\n",
    "            return (t+1)//2 + amount[2]"
   ]
  },
  {
   "cell_type": "markdown",
   "id": "8522512d",
   "metadata": {},
   "source": [
    "# 6113. Smallest Number in Infinite Set"
   ]
  },
  {
   "cell_type": "code",
   "execution_count": 3,
   "id": "047b4391",
   "metadata": {},
   "outputs": [],
   "source": [
    "class SmallestInfiniteSet:\n",
    "\n",
    "    def __init__(self):\n",
    "        self.visited = set()\n",
    "\n",
    "    def popSmallest(self) -> int:\n",
    "        ret = 1\n",
    "        while True:\n",
    "            if ret not in self.visited:\n",
    "                self.visited.add(ret)\n",
    "                return ret\n",
    "            ret += 1\n",
    "\n",
    "    def addBack(self, num: int) -> None:\n",
    "        if num in self.visited:\n",
    "            self.visited.discard(num)"
   ]
  },
  {
   "cell_type": "markdown",
   "id": "43f3dbfe",
   "metadata": {},
   "source": [
    "# 6114. Move Pieces to Obtain a String"
   ]
  },
  {
   "cell_type": "code",
   "execution_count": 112,
   "id": "46045169",
   "metadata": {},
   "outputs": [],
   "source": [
    "class Solution:\n",
    "    def canChange(self, start: str, target: str) -> bool:\n",
    "        si, ti = 0, 0\n",
    "        while si < len(start) and ti < len(target):\n",
    "            i = start[si:].find(\"L\")\n",
    "            j = target[ti:].find(\"L\")\n",
    "            if i == -1 and j == -1:\n",
    "                break     \n",
    "\n",
    "            if (i == -1 and j != -1) or (i != -1 and j == -1) or si+i < ti+j or \"R\" in start[ti+j:si+i+1]:\n",
    "                return False\n",
    "            si, ti = si + i + 1, ti + j + 1\n",
    "        if si < len(start) and  start[si:].find(\"L\") != -1:\n",
    "            return False\n",
    "        if ti < len(start) and  target[ti:].find(\"L\") != -1:\n",
    "            return False\n",
    "        \n",
    "        si, ti = len(start)-1, len(target)-1\n",
    "        while si >= 0 and ti >= 0:\n",
    "            i = start[:si+1].rfind(\"R\")\n",
    "            j = target[:ti+1].rfind(\"R\")\n",
    "            if i == -1 and j == -1:\n",
    "                break            \n",
    "            if (i == -1 and j != -1) or (i != -1 and j == -1) or i > j or \"L\" in start[i:j]:\n",
    "                return False\n",
    "            si, ti = i-1, j-1\n",
    "        if si >= 0 and  start[:si+1].rfind(\"R\") != -1:\n",
    "            return False\n",
    "        if ti >= 0 and  target[:ti+1].rfind(\"R\") != -1:\n",
    "            return False\n",
    "        return True"
   ]
  },
  {
   "cell_type": "code",
   "execution_count": 16,
   "id": "eddc0ca8",
   "metadata": {},
   "outputs": [],
   "source": [
    "start = \"abcb\""
   ]
  },
  {
   "cell_type": "code",
   "execution_count": 113,
   "id": "4863e0f1",
   "metadata": {},
   "outputs": [],
   "source": [
    "start = \"_L__R__R_\"; target = \"L______RR\""
   ]
  },
  {
   "cell_type": "code",
   "execution_count": 117,
   "id": "d2e07690",
   "metadata": {},
   "outputs": [
    {
     "data": {
      "text/plain": [
       "False"
      ]
     },
     "execution_count": 117,
     "metadata": {},
     "output_type": "execute_result"
    }
   ],
   "source": [
    "a = Solution().canChange(start, target)\n",
    "a"
   ]
  },
  {
   "cell_type": "code",
   "execution_count": 116,
   "id": "d6dd0370",
   "metadata": {},
   "outputs": [],
   "source": [
    "start = \"R_L_\"; target = \"__LR\""
   ]
  },
  {
   "cell_type": "code",
   "execution_count": 115,
   "id": "de8b32f6",
   "metadata": {},
   "outputs": [
    {
     "data": {
      "text/plain": [
       "-1"
      ]
     },
     "execution_count": 115,
     "metadata": {},
     "output_type": "execute_result"
    }
   ],
   "source": [
    "target[50000:].find(\"L\")"
   ]
  },
  {
   "cell_type": "code",
   "execution_count": 78,
   "id": "a9f3e33e",
   "metadata": {},
   "outputs": [
    {
     "data": {
      "text/plain": [
       "Counter({'_': 50000, 'L': 50000})"
      ]
     },
     "execution_count": 78,
     "metadata": {},
     "output_type": "execute_result"
    }
   ],
   "source": [
    "collections.Counter(start)"
   ]
  },
  {
   "cell_type": "code",
   "execution_count": 199,
   "id": "2e793f81",
   "metadata": {},
   "outputs": [],
   "source": [
    "class Solution:\n",
    "    def canChange(self, start: str, target: str) -> bool:\n",
    "        if start.replace('_', '') != target.replace('_', ''): return False\n",
    "        j = 0\n",
    "        for i, c in enumerate(start):\n",
    "            if c == '_': continue\n",
    "            while target[j] == '_': j += 1\n",
    "            if i != j and (c == 'L') != (i > j): return False\n",
    "            j += 1\n",
    "        return True"
   ]
  },
  {
   "cell_type": "markdown",
   "id": "a176a1e8",
   "metadata": {},
   "source": [
    "# 6115. Count the Number of Ideal Arrays"
   ]
  },
  {
   "cell_type": "code",
   "execution_count": 189,
   "id": "ac84bf00",
   "metadata": {},
   "outputs": [],
   "source": [
    "class Solution:\n",
    "    def __init__(self):\n",
    "        self.max = 17\n",
    "        \n",
    "    def idealArrays(self, n: int, maxValue: int) -> int:\n",
    "        re = collections.defaultdict(list)\n",
    "        Mod = 10 ** 9 + 7\n",
    "        # compute the multiples of each number\n",
    "        for i in range(1, maxValue):\n",
    "            j = 2\n",
    "            while j * i <= maxValue:\n",
    "                re[i].append(j*i)\n",
    "                j += 1\n",
    "        \n",
    "        # compute the small problem, f[i][j] means starting with i and the length of the array is j\n",
    "        f = [[0] * self.max for _ in range(maxValue+1)]\n",
    "        for i in range(1, self.max):\n",
    "            for j in range(1, maxValue+1):\n",
    "                if i == 1:\n",
    "                    f[j][1] = 1\n",
    "                for m in re[j]:\n",
    "                    f[j][i] = (f[j][i] + f[m][i-1]) % Mod\n",
    "        \n",
    "        # compute the Combination Number Formula\n",
    "        C = [[0] * self.max for _ in range(n+1)]\n",
    "        C[0][0], C[1][0], C[1][1] = 1, 1, 1\n",
    "        for i in range(2, n+1):\n",
    "            C[i][0] = 1\n",
    "            for j in range(1, self.max):\n",
    "                C[i][j] = (C[i-1][j] + C[i-1][j-1]) % Mod\n",
    "        \n",
    "        ret = 0\n",
    "        for i in range(1, self.max):\n",
    "            for j in range(1, maxValue+1):\n",
    "                ret = (ret + f[j][i] * C[n-1][i-1]) % Mod\n",
    "        return ret"
   ]
  },
  {
   "cell_type": "code",
   "execution_count": 190,
   "id": "5b60e0ac",
   "metadata": {},
   "outputs": [],
   "source": [
    "n = 2; maxValue = 5"
   ]
  },
  {
   "cell_type": "code",
   "execution_count": 191,
   "id": "b6d7752b",
   "metadata": {},
   "outputs": [],
   "source": [
    "n = 5; maxValue = 3"
   ]
  },
  {
   "cell_type": "code",
   "execution_count": 192,
   "id": "6a9e58f5",
   "metadata": {},
   "outputs": [
    {
     "data": {
      "text/plain": [
       "11"
      ]
     },
     "execution_count": 192,
     "metadata": {},
     "output_type": "execute_result"
    }
   ],
   "source": [
    "a = Solution().idealArrays(n, maxValue)\n",
    "a"
   ]
  },
  {
   "cell_type": "code",
   "execution_count": 201,
   "id": "58851614",
   "metadata": {},
   "outputs": [],
   "source": [
    "MX_K = 13\n",
    "MOD, MX = 10 ** 9 + 7, 10 ** 4 + MX_K\n",
    "\n",
    "ks = [[] for _ in range(MX)]  # ks[x] 为 x 分解质因数后，每个质因数的个数列表\n",
    "for i in range(2, MX):\n",
    "    p, x = 2, i\n",
    "    while p * p <= x:\n",
    "        if x % p == 0:\n",
    "            k = 0\n",
    "            while x % p == 0:\n",
    "                k += 1\n",
    "                x //= p\n",
    "            ks[i].append(k)\n",
    "        p += 1\n",
    "    if x > 1:\n",
    "        ks[i].append(1)\n",
    "\n",
    "c = [[0] * (MX_K + 1) for _ in range(MX)]  # 组合数\n",
    "c[0][0] = c[1][0] = c[1][1] = 1\n",
    "for i in range(2, MX):\n",
    "    c[i][0] = 1\n",
    "    for j in range(1, min(i, MX_K) + 1):\n",
    "        c[i][j] = (c[i - 1][j] + c[i - 1][j - 1]) % MOD\n",
    "\n",
    "class Solution:\n",
    "    def idealArrays(self, n: int, maxValue: int) -> int:\n",
    "        ans = 0\n",
    "        for x in range(1, maxValue + 1):\n",
    "            mul = 1\n",
    "            for k in ks[x]:\n",
    "                mul = mul * c[n + k - 1][k] % MOD\n",
    "            ans += mul\n",
    "        return ans % MOD"
   ]
  },
  {
   "cell_type": "code",
   "execution_count": 202,
   "id": "06da8d44",
   "metadata": {},
   "outputs": [
    {
     "data": {
      "text/plain": [
       "11"
      ]
     },
     "execution_count": 202,
     "metadata": {},
     "output_type": "execute_result"
    }
   ],
   "source": [
    "a = Solution().idealArrays(n, maxValue)\n",
    "a"
   ]
  },
  {
   "cell_type": "code",
   "execution_count": null,
   "id": "7ca6a21d",
   "metadata": {},
   "outputs": [],
   "source": []
  }
 ],
 "metadata": {
  "kernelspec": {
   "display_name": "Python 3 (ipykernel)",
   "language": "python",
   "name": "python3"
  },
  "language_info": {
   "codemirror_mode": {
    "name": "ipython",
    "version": 3
   },
   "file_extension": ".py",
   "mimetype": "text/x-python",
   "name": "python",
   "nbconvert_exporter": "python",
   "pygments_lexer": "ipython3",
   "version": "3.8.8"
  },
  "toc": {
   "base_numbering": 1,
   "nav_menu": {},
   "number_sections": true,
   "sideBar": true,
   "skip_h1_title": false,
   "title_cell": "Table of Contents",
   "title_sidebar": "Contents",
   "toc_cell": false,
   "toc_position": {},
   "toc_section_display": true,
   "toc_window_display": true
  }
 },
 "nbformat": 4,
 "nbformat_minor": 5
}
