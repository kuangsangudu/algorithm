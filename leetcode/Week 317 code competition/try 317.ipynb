{
 "cells": [
  {
   "cell_type": "code",
   "execution_count": 1,
   "id": "49ed3878",
   "metadata": {},
   "outputs": [],
   "source": [
    "from typing import *\n",
    "import heapq\n",
    "import math\n",
    "import collections\n",
    "import bisect\n",
    "import functools"
   ]
  },
  {
   "cell_type": "markdown",
   "id": "1bedd06b",
   "metadata": {},
   "source": [
    "# 6220. Average Value of Even Numbers That Are Divisible by Three"
   ]
  },
  {
   "cell_type": "code",
   "execution_count": 2,
   "id": "33ee7dcb",
   "metadata": {},
   "outputs": [],
   "source": [
    "class Solution:\n",
    "    def averageValue(self, nums: List[int]) -> int:\n",
    "        sums, n = 0, 0\n",
    "        for num in nums:\n",
    "            if num % 2 == 0 and num % 3 == 0:\n",
    "                sums += num\n",
    "                n += 1\n",
    "        if n == 0:\n",
    "            return 0\n",
    "        return sums // n"
   ]
  },
  {
   "cell_type": "markdown",
   "id": "d6eaa881",
   "metadata": {},
   "source": [
    "# 6221. Most Popular Video Creator"
   ]
  },
  {
   "cell_type": "code",
   "execution_count": 3,
   "id": "555b4cff",
   "metadata": {},
   "outputs": [],
   "source": [
    "class Solution:\n",
    "    def mostPopularCreator(self, creators: List[str], ids: List[str], views: List[int]) -> List[List[str]]:\n",
    "        ret = []\n",
    "        maps = collections.defaultdict(list)\n",
    "        m = collections.defaultdict(int)\n",
    "        for i in range(len(creators)):\n",
    "            if maps.get(creators[i], -1) == -1:\n",
    "                maps[creators[i]] = [ids[i], views[i]]\n",
    "            elif maps[creators[i]][1] < views[i]:\n",
    "                maps[creators[i]] = [ids[i], views[i]]\n",
    "            elif maps[creators[i]][1] == views[i]:\n",
    "                maps[creators[i]] = [min(ids[i], maps[creators[i]][0]), views[i]]\n",
    "            m[creators[i]] += views[i]\n",
    "        \n",
    "        maxs = max(m.values())\n",
    "        for key, val in m.items():\n",
    "            if val == maxs:\n",
    "                ret.append([key, maps[key][0]])\n",
    "        return ret"
   ]
  },
  {
   "cell_type": "markdown",
   "id": "0876c065",
   "metadata": {},
   "source": [
    "# 6222. Minimum Addition to Make Integer Beautiful"
   ]
  },
  {
   "cell_type": "code",
   "execution_count": 22,
   "id": "367e505d",
   "metadata": {},
   "outputs": [],
   "source": [
    "class Solution:\n",
    "    def makeIntegerBeautiful(self, n: int, target: int) -> int:\n",
    "        nums = list(map(int, list(\"0\" + str(n))))\n",
    "        sums = sum(nums)\n",
    "        if sums <= target:\n",
    "            return 0\n",
    "        \n",
    "        ret = 0\n",
    "        lens = len(nums)\n",
    "        for i in range(lens-1, 0, -1):\n",
    "            ret += (10-nums[i]) * 10**(lens-i-1)\n",
    "            nums[i] = 0\n",
    "            nums[i-1] += 1\n",
    "            sums = 0\n",
    "            for j in range(i, -1, -1):\n",
    "                if nums[j] == 10:\n",
    "                    nums[j] = 0\n",
    "                    nums[j-1] += 1\n",
    "                sums += nums[j]\n",
    "            \n",
    "            if sums <= target:\n",
    "                return ret"
   ]
  },
  {
   "cell_type": "code",
   "execution_count": 29,
   "id": "7e2eb4c6",
   "metadata": {},
   "outputs": [],
   "source": [
    "class Solution:\n",
    "    def makeIntegerBeautiful(self, n: int, target: int) -> int:\n",
    "        tail = 1\n",
    "        while True:\n",
    "            m = x = n + (tail - n % tail) % tail  # 进位后的数字\n",
    "            s = 0\n",
    "            while x:\n",
    "                s += x % 10\n",
    "                x //= 10\n",
    "            if s <= target: return m - n\n",
    "            tail *= 10"
   ]
  },
  {
   "cell_type": "code",
   "execution_count": 23,
   "id": "2e201f2d",
   "metadata": {},
   "outputs": [],
   "source": [
    "n = 467\n",
    "target = 6"
   ]
  },
  {
   "cell_type": "code",
   "execution_count": 24,
   "id": "b44cc181",
   "metadata": {},
   "outputs": [
    {
     "name": "stdout",
     "output_type": "stream",
     "text": [
      "[0, 4, 7, 0]\n",
      "[0, 5, 0, 0]\n"
     ]
    },
    {
     "data": {
      "text/plain": [
       "33"
      ]
     },
     "execution_count": 24,
     "metadata": {},
     "output_type": "execute_result"
    }
   ],
   "source": [
    "a = Solution().makeIntegerBeautiful(n, target)\n",
    "a"
   ]
  },
  {
   "cell_type": "markdown",
   "id": "5ee88fb7",
   "metadata": {},
   "source": [
    "# 6222. Minimum Addition to Make Integer Beautiful"
   ]
  },
  {
   "cell_type": "code",
   "execution_count": 31,
   "id": "9fd424ca",
   "metadata": {},
   "outputs": [],
   "source": [
    "# Definition for a binary tree node.\n",
    "class TreeNode:\n",
    "    def __init__(self, val=0, left=None, right=None):\n",
    "        self.val = val\n",
    "        self.left = left\n",
    "        self.right = right\n",
    "        \n",
    "class Solution:\n",
    "    def treeQueries(self, root: Optional[TreeNode], queries: List[int]) -> List[int]:\n",
    "        maps = collections.defaultdict(list) # 记录同一高度下最深的两个高度\n",
    "        m = collections.defaultdict(int) # 记录每个val对应的高度\n",
    "        maxs = collections.defaultdict(int) # 记录每个val的子树最深的高度\n",
    "        \n",
    "        def dfs(node, n):\n",
    "            if node is None:\n",
    "                return n-1\n",
    "            \n",
    "            m[node.val] = n\n",
    "            l = dfs(node.left, n+1)\n",
    "            r = dfs(node.right, n+1)\n",
    "            maxs[node.val] = max(n, l, r)\n",
    "            if maps.get(n, -1) == -1:\n",
    "                maps[n] = [0, 0]\n",
    "            if maxs[node.val] > maps[n][0]:\n",
    "                maps[n][0], maps[n][1] = maxs[node.val], maps[n][0]\n",
    "            elif maxs[node.val] > maps[n][1]:\n",
    "                maps[n][1] = maxs[node.val]\n",
    "            return maxs[node.val]\n",
    "        \n",
    "        dfs(root, 0)\n",
    "        ret = [0] * len(queries)\n",
    "        for i, query in enumerate(queries):\n",
    "            ret[i] = m[query] - 1\n",
    "            if maxs[query] != maps[m[query]][0]:\n",
    "                ret[i] = max(ret[i], maps[m[query]][0])\n",
    "            else:\n",
    "                ret[i] = max(ret[i], maps[m[query]][1])\n",
    "        return ret"
   ]
  },
  {
   "cell_type": "code",
   "execution_count": 30,
   "id": "b5f7916a",
   "metadata": {},
   "outputs": [],
   "source": [
    "class Solution:\n",
    "    def treeQueries(self, root: Optional[TreeNode], queries: List[int]) -> List[int]:\n",
    "        height = defaultdict(int)  # 每棵子树的高度\n",
    "        def get_height(node: Optional[TreeNode]) -> int:\n",
    "            if node is None: return 0\n",
    "            height[node] = 1 + max(get_height(node.left), get_height(node.right))\n",
    "            return height[node]\n",
    "        get_height(root)\n",
    "\n",
    "        res = [0] * (len(height) + 1)  # 每个节点的答案\n",
    "        def dfs(node: Optional[TreeNode], depth: int, rest_h: int) -> None:\n",
    "            if node is None: return\n",
    "            depth += 1\n",
    "            res[node.val] = rest_h\n",
    "            dfs(node.left, depth, max(rest_h, depth + height[node.right]))\n",
    "            dfs(node.right, depth, max(rest_h, depth + height[node.left]))\n",
    "        dfs(root, -1, 0)\n",
    "\n",
    "        for i, q in enumerate(queries):\n",
    "            queries[i] = res[q]\n",
    "        return queries"
   ]
  },
  {
   "cell_type": "code",
   "execution_count": null,
   "id": "996ed8d7",
   "metadata": {},
   "outputs": [],
   "source": []
  }
 ],
 "metadata": {
  "kernelspec": {
   "display_name": "Python 3 (ipykernel)",
   "language": "python",
   "name": "python3"
  },
  "language_info": {
   "codemirror_mode": {
    "name": "ipython",
    "version": 3
   },
   "file_extension": ".py",
   "mimetype": "text/x-python",
   "name": "python",
   "nbconvert_exporter": "python",
   "pygments_lexer": "ipython3",
   "version": "3.8.8"
  },
  "toc": {
   "base_numbering": 1,
   "nav_menu": {},
   "number_sections": true,
   "sideBar": true,
   "skip_h1_title": false,
   "title_cell": "Table of Contents",
   "title_sidebar": "Contents",
   "toc_cell": false,
   "toc_position": {},
   "toc_section_display": true,
   "toc_window_display": false
  }
 },
 "nbformat": 4,
 "nbformat_minor": 5
}
