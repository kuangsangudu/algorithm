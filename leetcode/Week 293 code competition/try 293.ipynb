{
 "cells": [
  {
   "cell_type": "code",
   "execution_count": 1,
   "id": "30299236",
   "metadata": {},
   "outputs": [],
   "source": [
    "import heapq\n",
    "import math\n",
    "from typing import *\n",
    "import collections\n",
    "import functools"
   ]
  },
  {
   "cell_type": "code",
   "execution_count": 2,
   "id": "81afab59",
   "metadata": {},
   "outputs": [],
   "source": [
    "class Solution:\n",
    "    def removeAnagrams(self, words: List[str]) -> List[str]:\n",
    "        pre = \"\"\n",
    "        ret = []\n",
    "        for word in words:\n",
    "            w = sorted(word)\n",
    "            if pre!=w:\n",
    "                ret.append(word)\n",
    "                pre = w\n",
    "        return ret"
   ]
  },
  {
   "cell_type": "code",
   "execution_count": 9,
   "id": "6243f590",
   "metadata": {},
   "outputs": [],
   "source": [
    "class Solution:\n",
    "    def maxConsecutive(self, bottom: int, top: int, special: List[int]) -> int:\n",
    "        last = bottom-1\n",
    "        special.sort()\n",
    "        ret = 0\n",
    "        for stage in special:\n",
    "            ret = max(ret, stage-last-1)\n",
    "            last =  stage\n",
    "        ret = max(ret, top-special[-1])\n",
    "        return ret"
   ]
  },
  {
   "cell_type": "code",
   "execution_count": 10,
   "id": "fb17ca9d",
   "metadata": {},
   "outputs": [],
   "source": [
    "bottom = 3\n",
    "top = 15\n",
    "special = [7,9,13]"
   ]
  },
  {
   "cell_type": "code",
   "execution_count": 11,
   "id": "a976a771",
   "metadata": {},
   "outputs": [
    {
     "data": {
      "text/plain": [
       "4"
      ]
     },
     "execution_count": 11,
     "metadata": {},
     "output_type": "execute_result"
    }
   ],
   "source": [
    "a = Solution().maxConsecutive(bottom, top, special)\n",
    "a"
   ]
  },
  {
   "cell_type": "code",
   "execution_count": 20,
   "id": "5cc08a76",
   "metadata": {},
   "outputs": [],
   "source": [
    "class Solution:\n",
    "    def largestCombination(self, candidates: List[int]) -> int:\n",
    "        re = [0] * 30\n",
    "        for candidate in candidates:\n",
    "            c = bin(candidate)[2:][::-1]\n",
    "            for i, n in enumerate(c):\n",
    "                if n == \"1\":\n",
    "                    re[i] += 1\n",
    "        return max(re)\n",
    "            "
   ]
  },
  {
   "cell_type": "code",
   "execution_count": 19,
   "id": "0107b4f8",
   "metadata": {},
   "outputs": [
    {
     "data": {
      "text/plain": [
       "'0b11110'"
      ]
     },
     "execution_count": 19,
     "metadata": {},
     "output_type": "execute_result"
    }
   ],
   "source": [
    "bin(30)"
   ]
  },
  {
   "cell_type": "code",
   "execution_count": 22,
   "id": "297fef55",
   "metadata": {},
   "outputs": [],
   "source": [
    "class CountIntervals:\n",
    "    def __init__(self):\n",
    "        self.ranges = []\n",
    "        self.all = 0\n",
    "\n",
    "    def _bounds(self, left, right):\n",
    "        i, j = 0, len(self.ranges) - 1\n",
    "        for d in (100, 10, 1):\n",
    "            while i + d - 1 < len(self.ranges) and self.ranges[i+d-1][1] < left:\n",
    "                i += d\n",
    "            while j >= d - 1 and self.ranges[j-d+1][0] > right:\n",
    "                j -= d\n",
    "        return i, j\n",
    "\n",
    "\n",
    "    def add(self, left: int, right: int) -> None:\n",
    "        right += 1\n",
    "        i, j = self._bounds(left, right)\n",
    "        if i <= j:\n",
    "            left = min(left, self.ranges[i][0])\n",
    "            right = max(right, self.ranges[j][1])\n",
    "            for m in range(i, j+1):\n",
    "                self.all -= self.ranges[m][1] - self.ranges[m][1]\n",
    "        self.ranges[i:j+1] = [(left, right)]\n",
    "\n",
    "\n",
    "    def count(self) -> int:\n",
    "        return self.all\n",
    "\n",
    "\n",
    "# Your CountIntervals object will be instantiated and called as such:\n",
    "# obj = CountIntervals()\n",
    "# obj.add(left,right)\n",
    "# param_2 = obj.count()"
   ]
  },
  {
   "cell_type": "code",
   "execution_count": 121,
   "id": "96590a54",
   "metadata": {},
   "outputs": [],
   "source": [
    "class CountIntervals:\n",
    "    def __init__(self):\n",
    "        self.ranges = []\n",
    "        self.all = 0\n",
    "\n",
    "    def _bounds(self, left, right):\n",
    "        if not self.ranges:\n",
    "            return 0, -1\n",
    "        i, j = 0, len(self.ranges) - 1\n",
    "        while i < j:\n",
    "            mid = (i+j)//2\n",
    "            if self.ranges[mid][1] < left:\n",
    "                i = mid + 1\n",
    "            else:\n",
    "                j = mid\n",
    "        l = i+1 if self.ranges[i][1] < left else i\n",
    "        \n",
    "        i, j = 0, len(self.ranges) - 1\n",
    "        while i < j:\n",
    "            mid = (i+j+1)//2\n",
    "            if self.ranges[mid][0] > right:\n",
    "                j = mid - 1\n",
    "            else:\n",
    "                i = mid      \n",
    "        r = i-1 if self.ranges[i][0] > right else i\n",
    "        return l, r\n",
    "\n",
    "\n",
    "    def add(self, left: int, right: int) -> None:\n",
    "        i, j = self._bounds(left, right)\n",
    "        print(i, j, self.ranges)\n",
    "        if i <= j:\n",
    "            left = min(left, self.ranges[i][0])\n",
    "            right = max(right, self.ranges[j][1])\n",
    "            for m in range(i, j+1):\n",
    "                self.all -= self.ranges[m][1] - self.ranges[m][0] + 1\n",
    "        self.ranges[i:j+1] = [(left, right)]\n",
    "        self.all += right - left + 1\n",
    "\n",
    "\n",
    "    def count(self) -> int:\n",
    "        return self.all\n",
    "\n",
    "\n",
    "# Your CountIntervals object will be instantiated and called as such:\n",
    "# obj = CountIntervals()\n",
    "# obj.add(left,right)\n",
    "# param_2 = obj.count()"
   ]
  },
  {
   "cell_type": "code",
   "execution_count": 122,
   "id": "65d5c752",
   "metadata": {},
   "outputs": [],
   "source": [
    "a = CountIntervals()"
   ]
  },
  {
   "cell_type": "code",
   "execution_count": 123,
   "id": "5217eaf1",
   "metadata": {},
   "outputs": [
    {
     "name": "stdout",
     "output_type": "stream",
     "text": [
      "0 -1 []\n"
     ]
    }
   ],
   "source": [
    "a.add(2, 3)"
   ]
  },
  {
   "cell_type": "code",
   "execution_count": 124,
   "id": "c4acf410",
   "metadata": {},
   "outputs": [
    {
     "name": "stdout",
     "output_type": "stream",
     "text": [
      "1 0 [(2, 3)]\n"
     ]
    }
   ],
   "source": [
    "a.add(7, 11)"
   ]
  },
  {
   "cell_type": "code",
   "execution_count": 125,
   "id": "3c1732b5",
   "metadata": {},
   "outputs": [
    {
     "name": "stdout",
     "output_type": "stream",
     "text": [
      "1 0 [(2, 3), (7, 11)]\n"
     ]
    }
   ],
   "source": [
    "a.add(4, 6)"
   ]
  },
  {
   "cell_type": "code",
   "execution_count": 126,
   "id": "c2e2e327",
   "metadata": {},
   "outputs": [
    {
     "data": {
      "text/plain": [
       "[(2, 3), (4, 6), (7, 11)]"
      ]
     },
     "execution_count": 126,
     "metadata": {},
     "output_type": "execute_result"
    }
   ],
   "source": [
    "a.ranges"
   ]
  },
  {
   "cell_type": "code",
   "execution_count": 120,
   "id": "4db1f77a",
   "metadata": {},
   "outputs": [
    {
     "data": {
      "text/plain": [
       "99"
      ]
     },
     "execution_count": 120,
     "metadata": {},
     "output_type": "execute_result"
    }
   ],
   "source": [
    "a.count()"
   ]
  },
  {
   "cell_type": "code",
   "execution_count": 115,
   "id": "f4b43eb2",
   "metadata": {},
   "outputs": [
    {
     "name": "stdout",
     "output_type": "stream",
     "text": [
      "0 1 [(2, 3), (4, 6), (7, 11)]\n"
     ]
    }
   ],
   "source": [
    "a.add(2, 5)"
   ]
  },
  {
   "cell_type": "code",
   "execution_count": 118,
   "id": "2d0d6fb2",
   "metadata": {},
   "outputs": [
    {
     "name": "stdout",
     "output_type": "stream",
     "text": [
      "0 1 [(2, 6), (7, 11)]\n"
     ]
    }
   ],
   "source": [
    "a.add(3, 100)"
   ]
  },
  {
   "cell_type": "code",
   "execution_count": null,
   "id": "f82ccfe8",
   "metadata": {},
   "outputs": [],
   "source": []
  }
 ],
 "metadata": {
  "kernelspec": {
   "display_name": "Python 3 (ipykernel)",
   "language": "python",
   "name": "python3"
  },
  "language_info": {
   "codemirror_mode": {
    "name": "ipython",
    "version": 3
   },
   "file_extension": ".py",
   "mimetype": "text/x-python",
   "name": "python",
   "nbconvert_exporter": "python",
   "pygments_lexer": "ipython3",
   "version": "3.8.8"
  },
  "toc": {
   "base_numbering": 1,
   "nav_menu": {},
   "number_sections": true,
   "sideBar": true,
   "skip_h1_title": false,
   "title_cell": "Table of Contents",
   "title_sidebar": "Contents",
   "toc_cell": false,
   "toc_position": {},
   "toc_section_display": true,
   "toc_window_display": false
  }
 },
 "nbformat": 4,
 "nbformat_minor": 5
}
