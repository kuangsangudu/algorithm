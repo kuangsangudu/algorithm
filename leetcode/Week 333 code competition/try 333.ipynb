{
 "cells": [
  {
   "cell_type": "code",
   "execution_count": 1,
   "id": "b65f6810",
   "metadata": {},
   "outputs": [],
   "source": [
    "import collections\n",
    "import heapq\n",
    "import math\n",
    "import functools\n",
    "from typing import *\n",
    "import bisect"
   ]
  },
  {
   "cell_type": "markdown",
   "id": "d6eaa86f",
   "metadata": {},
   "source": [
    "# 6362. Merge Two 2D Arrays by Summing Values"
   ]
  },
  {
   "cell_type": "code",
   "execution_count": 6,
   "id": "18e926e1",
   "metadata": {},
   "outputs": [],
   "source": [
    "class Solution:\n",
    "    def mergeArrays(self, nums1: List[List[int]], nums2: List[List[int]]) -> List[List[int]]:\n",
    "        d = {}\n",
    "        for nums in nums1 + nums2:\n",
    "            d[nums[0]] = d.get(nums[0], 0) + nums[1]\n",
    "        return sorted([[key, item]for key, item in d.items()])"
   ]
  },
  {
   "cell_type": "code",
   "execution_count": null,
   "id": "5459a18b",
   "metadata": {},
   "outputs": [],
   "source": []
  },
  {
   "cell_type": "code",
   "execution_count": 49,
   "id": "a8896ec7",
   "metadata": {},
   "outputs": [],
   "source": [
    "class Solution:\n",
    "    def minOperations(self, n: int) -> int:\n",
    "        s = bin(n)[2:]\n",
    "        lens = len(s)\n",
    "        print(s)\n",
    "        @functools.lru_cache(None)\n",
    "        def f(i: int):\n",
    "            while i < lens and s[i] == \"0\":\n",
    "                i += 1\n",
    "            if i == lens:\n",
    "                return 0\n",
    "            ret = f(i+1) + 1\n",
    "            sums = s[i:].count(\"0\")+2\n",
    "            ss = sums\n",
    "            for j in range(lens-1, i-1, -1):\n",
    "                if s[j] == \"0\":\n",
    "                    ss -= 1\n",
    "                else:\n",
    "                    ss += 1\n",
    "                sums = min(sums, ss)\n",
    "            return min(ret, sums)\n",
    "        \n",
    "        return f(0)"
   ]
  },
  {
   "cell_type": "code",
   "execution_count": 50,
   "id": "1bb4d51b",
   "metadata": {},
   "outputs": [],
   "source": [
    "n = 8433"
   ]
  },
  {
   "cell_type": "code",
   "execution_count": 51,
   "id": "eced906f",
   "metadata": {},
   "outputs": [
    {
     "name": "stdout",
     "output_type": "stream",
     "text": [
      "10000011110001\n"
     ]
    },
    {
     "data": {
      "text/plain": [
       "4"
      ]
     },
     "execution_count": 51,
     "metadata": {},
     "output_type": "execute_result"
    }
   ],
   "source": [
    "a = Solution().minOperations(n)\n",
    "a"
   ]
  },
  {
   "cell_type": "markdown",
   "id": "33e045e8",
   "metadata": {},
   "source": [
    "# 6364. Count the Number of Square-Free Subsets"
   ]
  },
  {
   "cell_type": "code",
   "execution_count": 117,
   "id": "cc7554ab",
   "metadata": {},
   "outputs": [],
   "source": [
    "class Solution:\n",
    "    def squareFreeSubsets(self, nums: List[int]) -> int:\n",
    "        def check(num: int):\n",
    "            for n in primes:\n",
    "                if num % (n**2) == 0:\n",
    "                    return True\n",
    "            return False\n",
    "        \n",
    "        def trans(num: int):\n",
    "            ret = 0\n",
    "            for i, n in enumerate(primes):\n",
    "                if num % n == 0:\n",
    "                    ret += (1 << i)\n",
    "            return ret           \n",
    "        \n",
    "        primes = [2, 3, 5, 7, 11, 13, 17, 19, 23, 29]       \n",
    "        mod = 10 ** 9 + 7\n",
    "        dp = [0] * (1<<10)\n",
    "        ndp = [0] * (1<<10)\n",
    "        dp[0] = 1\n",
    "        for i, num in enumerate(nums):\n",
    "            for j in range(len(dp)):\n",
    "                ndp[j] = dp[j]\n",
    "            if check(num):\n",
    "                continue\n",
    "            \n",
    "            t = trans(num)\n",
    "            for j in range(len(dp)):\n",
    "                if not (j & t):\n",
    "                    ndp[j|t] += dp[j] \n",
    "                    ndp[j|t] %= mod\n",
    "            dp = ndp\n",
    "                    \n",
    "        return sum(dp) % mod -1"
   ]
  },
  {
   "cell_type": "code",
   "execution_count": 116,
   "id": "92d18556",
   "metadata": {},
   "outputs": [],
   "source": [
    "tmp = {1, 2, 3, 5, 6, 7, 10, 11, 13, 14, 15, 17, 19, 21, 22, 23, 26, 29, 30}\n",
    "mod = 10 ** 9 + 7\n",
    "class Solution:\n",
    "    def squareFreeSubsets(self, nums: List[int]) -> int:\n",
    "        cnt = Counter(num for num in nums if num in tmp)\n",
    "        note = Counter({1: 1})\n",
    "        for v in cnt:\n",
    "            if v != 1:\n",
    "                new_note = Counter()\n",
    "                for v1 in note:\n",
    "                    new_note[v1] += note[v1]\n",
    "                    if gcd(v, v1) == 1:\n",
    "                        new_note[v1 * v] += note[v1] * cnt[v]\n",
    "                    new_note[v1] %= mod\n",
    "                note = new_note\n",
    "        return (sum(note.values()) * pow(2, cnt[1], mod) - 1) % mod"
   ]
  },
  {
   "cell_type": "code",
   "execution_count": 114,
   "id": "5b0eacbc",
   "metadata": {},
   "outputs": [],
   "source": [
    "nums = [26,6,4,27,6,18]"
   ]
  },
  {
   "cell_type": "code",
   "execution_count": 115,
   "id": "12ac5ab8",
   "metadata": {},
   "outputs": [
    {
     "name": "stdout",
     "output_type": "stream",
     "text": [
      "26 33\n",
      "6 3\n",
      "6 3\n"
     ]
    },
    {
     "data": {
      "text/plain": [
       "3"
      ]
     },
     "execution_count": 115,
     "metadata": {},
     "output_type": "execute_result"
    }
   ],
   "source": [
    "a = Solution().squareFreeSubsets(nums)\n",
    "a"
   ]
  },
  {
   "cell_type": "markdown",
   "id": "297bbc9a",
   "metadata": {},
   "source": [
    "# 6363. Find the String with LCP"
   ]
  },
  {
   "cell_type": "code",
   "execution_count": 209,
   "id": "ad8a0731",
   "metadata": {},
   "outputs": [],
   "source": [
    "class Solution:\n",
    "    def findTheString(self, lcp: List[List[int]]) -> str:\n",
    "        arr = [[97, False] for _ in range(len(lcp))]\n",
    "        lens = len(lcp)\n",
    "        for i in range(lens):\n",
    "            arr[i][1] = True\n",
    "            for j in range(lens):\n",
    "                if i == j:\n",
    "                    if lcp[j][i] != lens-i:\n",
    "                           return \"\"\n",
    "                    continue\n",
    "                if lcp[j][i] > min(lens-j, lens-i):\n",
    "                    return \"\"\n",
    "                if lcp[j][i] > 0:\n",
    "                    if arr[j][1] == True and arr[i][0] != arr[j][0]:\n",
    "                        return \"\"\n",
    "                    arr[j][1] = True\n",
    "                    arr[j][0] = arr[i][0]\n",
    "                else:\n",
    "                    if arr[j][1] == True and arr[i][0] == arr[j][0]:\n",
    "                        return \"\"\n",
    "                    if arr[i][0] == arr[j][0]:\n",
    "                        if arr[j][0] < 122:\n",
    "                            arr[j][0] += 1\n",
    "                        else:\n",
    "                            return \"\"\n",
    "        \n",
    "        ret = \"\".join([chr(a[0]) for a in arr])\n",
    "        for i in range(lens-1):\n",
    "            for j in range(lens-1):\n",
    "                if ret[i] == ret[j]:\n",
    "                    if lcp[i][j] != lcp[i+1][j+1] + 1: return ''\n",
    "                else:\n",
    "                    if lcp[i][j] != 0: return ''\n",
    "        return ret\n",
    "                           "
   ]
  },
  {
   "cell_type": "code",
   "execution_count": 200,
   "id": "bef96a26",
   "metadata": {},
   "outputs": [],
   "source": [
    "lcp = [[4,3,2,1],[3,3,2,1],[2,2,2,1],[1,1,1,3]]\n"
   ]
  },
  {
   "cell_type": "code",
   "execution_count": 206,
   "id": "db0ed536",
   "metadata": {},
   "outputs": [
    {
     "data": {
      "text/plain": [
       "'aaaa'"
      ]
     },
     "execution_count": 206,
     "metadata": {},
     "output_type": "execute_result"
    }
   ],
   "source": [
    "a = Solution().findTheString(lcp)\n",
    "a"
   ]
  },
  {
   "cell_type": "code",
   "execution_count": 179,
   "id": "404eeb4c",
   "metadata": {},
   "outputs": [],
   "source": [
    "lcp = [[2,1],[2,1]]"
   ]
  },
  {
   "cell_type": "code",
   "execution_count": 191,
   "id": "a15291c2",
   "metadata": {},
   "outputs": [],
   "source": [
    "lcp = [[4,1,1,1],[1,3,1,1],[1,1,2,1],[1,1,1,1]]"
   ]
  },
  {
   "cell_type": "code",
   "execution_count": 205,
   "id": "2337c276",
   "metadata": {},
   "outputs": [],
   "source": [
    "lcp = [[4,3,2,1],[3,3,2,1],[2,2,2,1],[1,1,1,1]]"
   ]
  },
  {
   "cell_type": "code",
   "execution_count": 207,
   "id": "a9295609",
   "metadata": {},
   "outputs": [],
   "source": [
    "class Solution:\n",
    "    def findTheString(self, lcp: List[List[int]]) -> str:\n",
    "        n = len(lcp)\n",
    "        ans = ['' for _ in range(n)]\n",
    "        char = 'a'\n",
    "        for i in range(n):\n",
    "            if ans[i] == '':\n",
    "                if char > 'z': return ''\n",
    "                ans[i] = char\n",
    "                for j in range(n):\n",
    "                    if lcp[i][j]:\n",
    "                        ans[j] = ans[i]\n",
    "                char = chr(ord(char) + 1)\n",
    "        for i in range(n):\n",
    "            if lcp[i][n-1] != (ans[i] == ans[n-1]): return ''\n",
    "            if lcp[n-1][i] != (ans[i] == ans[n-1]): return ''\n",
    "        for i in range(n-1):\n",
    "            for j in range(n-1):\n",
    "                if ans[i] == ans[j]:\n",
    "                    if lcp[i][j] != lcp[i+1][j+1] + 1: return ''\n",
    "                else:\n",
    "                    if lcp[i][j] != 0: return ''\n",
    "        return ''.join(ans)"
   ]
  },
  {
   "cell_type": "code",
   "execution_count": 208,
   "id": "d72b1fcf",
   "metadata": {},
   "outputs": [
    {
     "data": {
      "text/plain": [
       "122"
      ]
     },
     "execution_count": 208,
     "metadata": {},
     "output_type": "execute_result"
    }
   ],
   "source": [
    "ord(\"z\")"
   ]
  },
  {
   "cell_type": "code",
   "execution_count": null,
   "id": "62ac0f50",
   "metadata": {},
   "outputs": [],
   "source": []
  }
 ],
 "metadata": {
  "kernelspec": {
   "display_name": "Python 3 (ipykernel)",
   "language": "python",
   "name": "python3"
  },
  "language_info": {
   "codemirror_mode": {
    "name": "ipython",
    "version": 3
   },
   "file_extension": ".py",
   "mimetype": "text/x-python",
   "name": "python",
   "nbconvert_exporter": "python",
   "pygments_lexer": "ipython3",
   "version": "3.8.8"
  },
  "toc": {
   "base_numbering": 1,
   "nav_menu": {},
   "number_sections": true,
   "sideBar": true,
   "skip_h1_title": false,
   "title_cell": "Table of Contents",
   "title_sidebar": "Contents",
   "toc_cell": false,
   "toc_position": {},
   "toc_section_display": true,
   "toc_window_display": false
  }
 },
 "nbformat": 4,
 "nbformat_minor": 5
}
