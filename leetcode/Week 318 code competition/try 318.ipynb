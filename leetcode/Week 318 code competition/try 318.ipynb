{
 "cells": [
  {
   "cell_type": "code",
   "execution_count": 3,
   "id": "b8b1baa7",
   "metadata": {},
   "outputs": [],
   "source": [
    "import math\n",
    "import collections\n",
    "import functools\n",
    "import heapq\n",
    "import bisect\n",
    "from typing import *"
   ]
  },
  {
   "cell_type": "markdown",
   "id": "8896a00e",
   "metadata": {},
   "source": [
    "# 6229. Apply Operations to an Array"
   ]
  },
  {
   "cell_type": "code",
   "execution_count": 7,
   "id": "909b8193",
   "metadata": {},
   "outputs": [],
   "source": [
    "class Solution:\n",
    "    def applyOperations(self, nums: List[int]) -> List[int]:\n",
    "        ret = []\n",
    "        for i in range(len(nums)-1):\n",
    "            if nums[i] == nums[i+1]:\n",
    "                nums[i] *= 2\n",
    "                nums[i+1] = 0\n",
    "            if nums[i] != 0:\n",
    "                ret.append(nums[i])\n",
    "        if nums[-1] != 0:\n",
    "            ret.append(nums[-1])\n",
    "        ret += [0] * (len(nums)-len(ret))\n",
    "        return ret"
   ]
  },
  {
   "cell_type": "code",
   "execution_count": 8,
   "id": "0a7fd553",
   "metadata": {},
   "outputs": [],
   "source": [
    "nums = [0,1]"
   ]
  },
  {
   "cell_type": "code",
   "execution_count": 114,
   "id": "9c00fa93",
   "metadata": {},
   "outputs": [],
   "source": [
    "class Solution:\n",
    "    def applyOperations(self, a: List[int]) -> List[int]:\n",
    "        j, n = 0, len(a)\n",
    "        for i in range(n - 1):\n",
    "            if a[i]:\n",
    "                if a[i] == a[i + 1]:\n",
    "                    a[i] *= 2\n",
    "                    a[i + 1] = 0\n",
    "                a[j] = a[i]  # 非零数字排在前面\n",
    "                j += 1\n",
    "        if a[-1]:\n",
    "            a[j] = a[-1]\n",
    "            j += 1\n",
    "        for i in range(j, n):\n",
    "            a[i] = 0\n",
    "        return a"
   ]
  },
  {
   "cell_type": "code",
   "execution_count": 9,
   "id": "3c854c8e",
   "metadata": {},
   "outputs": [
    {
     "data": {
      "text/plain": [
       "[1, 0]"
      ]
     },
     "execution_count": 9,
     "metadata": {},
     "output_type": "execute_result"
    }
   ],
   "source": [
    "a = Solution().applyOperations(nums)\n",
    "a"
   ]
  },
  {
   "cell_type": "markdown",
   "id": "dc15c3ba",
   "metadata": {},
   "source": [
    "# 6230. Maximum Sum of Distinct Subarrays With Length K"
   ]
  },
  {
   "cell_type": "code",
   "execution_count": 60,
   "id": "b04f1dc7",
   "metadata": {},
   "outputs": [],
   "source": [
    "class Solution:\n",
    "    def maximumSubarraySum(self, nums: List[int], k: int) -> int:\n",
    "        sums = [0]\n",
    "        for num in nums:\n",
    "            sums.append(sums[-1]+num)\n",
    "\n",
    "        maps = {}\n",
    "        ret = 0\n",
    "        pre = 0\n",
    "        for i in range(len(nums)):\n",
    "            if maps.get(nums[i], -1)!= -1:\n",
    "                pre = max(pre, maps[nums[i]]+1)\n",
    "            pre = max(pre, i-k+1)\n",
    "            maps[nums[i]] = i\n",
    "            if i-pre==k-1:\n",
    "                ret = max(ret, sums[i+1]-sums[pre])\n",
    "        return ret"
   ]
  },
  {
   "cell_type": "code",
   "execution_count": null,
   "id": "a6c5d94b",
   "metadata": {},
   "outputs": [],
   "source": [
    "class Solution:\n",
    "    def maximumSubarraySum(self, nums: List[int], k: int) -> int:\n",
    "        ans = 0\n",
    "        cnt = Counter(nums[:k - 1])\n",
    "        s = sum(nums[:k - 1])\n",
    "        for in_, out in zip(nums[k - 1:], nums):\n",
    "            cnt[in_] += 1  # 移入元素\n",
    "            s += in_\n",
    "            if len(cnt) == k:\n",
    "                ans = max(ans, s)\n",
    "            cnt[out] -= 1  # 移出元素\n",
    "            if cnt[out] == 0:\n",
    "                del cnt[out]  # 重要：及时移除个数为 0 的数据\n",
    "            s -= out\n",
    "        return ans"
   ]
  },
  {
   "cell_type": "code",
   "execution_count": 61,
   "id": "51939405",
   "metadata": {},
   "outputs": [],
   "source": [
    "nums = [9,18,10,13,17,9,19,2,1,18]\n",
    "k = 5"
   ]
  },
  {
   "cell_type": "code",
   "execution_count": 62,
   "id": "edbcf4d3",
   "metadata": {},
   "outputs": [],
   "source": [
    "nums = [1,5,4,2,9,9,9]; k = 3"
   ]
  },
  {
   "cell_type": "code",
   "execution_count": 63,
   "id": "4a189b68",
   "metadata": {},
   "outputs": [
    {
     "data": {
      "text/plain": [
       "15"
      ]
     },
     "execution_count": 63,
     "metadata": {},
     "output_type": "execute_result"
    }
   ],
   "source": [
    "a = Solution().maximumSubarraySum(nums, k)\n",
    "a"
   ]
  },
  {
   "cell_type": "markdown",
   "id": "bacf2ed4",
   "metadata": {},
   "source": [
    "# 6231. Total Cost to Hire K Workers"
   ]
  },
  {
   "cell_type": "code",
   "execution_count": 86,
   "id": "73566bbd",
   "metadata": {},
   "outputs": [],
   "source": [
    "class Solution:\n",
    "    def totalCost(self, costs: List[int], k: int, candidates: int) -> int:\n",
    "        lens = len(costs)\n",
    "        left, right = candidates, lens-candidates-1\n",
    "        heap = []\n",
    "        for i in range(candidates):\n",
    "            heapq.heappush(heap, [costs[i], i])\n",
    "            heapq.heappush(heap, [costs[lens-1-i], lens-1-i])\n",
    "        sums = 0\n",
    "        visited = set()\n",
    "        for i in range(k):\n",
    "            cost, idx = heapq.heappop(heap)\n",
    "            while idx in visited:\n",
    "                cost, idx = heapq.heappop(heap)\n",
    "            visited.add(idx)\n",
    "            sums += cost\n",
    "            if idx < left and left < lens:\n",
    "                heapq.heappush(heap, [costs[left], left])\n",
    "                left += 1\n",
    "            if idx > right and 0 < right:\n",
    "                heapq.heappush(heap, [costs[right], right])\n",
    "                right -= 1\n",
    "        return sums"
   ]
  },
  {
   "cell_type": "code",
   "execution_count": 83,
   "id": "65b1acc3",
   "metadata": {},
   "outputs": [],
   "source": [
    "costs = [31,25,72,79,74,65,84,91,18,59,27,9,81,33,17,58]\n",
    "k = 11\n",
    "candidates = 2"
   ]
  },
  {
   "cell_type": "code",
   "execution_count": 84,
   "id": "e33762d9",
   "metadata": {},
   "outputs": [
    {
     "name": "stdout",
     "output_type": "stream",
     "text": [
      "2 12 17 {14}\n",
      "3 12 25 {1, 14}\n",
      "4 12 31 {0, 1, 14}\n",
      "4 11 33 {0, 1, 13, 14}\n",
      "4 10 58 {0, 1, 13, 14, 15}\n",
      "4 9 9 {0, 1, 11, 13, 14, 15}\n",
      "4 8 27 {0, 1, 10, 11, 13, 14, 15}\n",
      "4 7 59 {0, 1, 9, 10, 11, 13, 14, 15}\n",
      "4 6 18 {0, 1, 8, 9, 10, 11, 13, 14, 15}\n",
      "5 6 72 {0, 1, 2, 8, 9, 10, 11, 13, 14, 15}\n",
      "6 6 74 {0, 1, 2, 4, 8, 9, 10, 11, 13, 14, 15}\n"
     ]
    },
    {
     "data": {
      "text/plain": [
       "423"
      ]
     },
     "execution_count": 84,
     "metadata": {},
     "output_type": "execute_result"
    }
   ],
   "source": [
    "a = Solution().totalCost(costs, k, candidates)\n",
    "a"
   ]
  },
  {
   "cell_type": "markdown",
   "id": "24b8af83",
   "metadata": {},
   "source": [
    "# 6232. Minimum Total Distance Traveled"
   ]
  },
  {
   "cell_type": "code",
   "execution_count": 38,
   "id": "0d3b9ac3",
   "metadata": {},
   "outputs": [],
   "source": [
    "class Solution:\n",
    "    def minimumTotalDistance(self, robot: List[int], factory: List[List[int]]) -> int:\n",
    "        robot.sort()\n",
    "        i = 0\n",
    "        while i < len(factory):\n",
    "            if factory[i][1] == 0:\n",
    "                factory.pop(i)\n",
    "            else:\n",
    "                i += 1\n",
    "        factory.sort()\n",
    "        dp = [[[float(\"inf\")] * 100 for _ in range(len(factory))] for _ in range(len(robot))]\n",
    "        for i in range(len(factory)):\n",
    "            dp[0][i][0] = abs(factory[i][0] - robot[0])\n",
    "        for i in range(1, len(robot)):\n",
    "            mins = float(\"inf\")\n",
    "            for j in range(len(factory)):\n",
    "                dp[i][j][0] = min(dp[i][j][0],mins + abs(factory[j][0] - robot[i]))\n",
    "                for s in range(factory[j][1]-1):\n",
    "                    dp[i][j][s+1] = min(dp[i][j][s+1], dp[i-1][j][s] + abs(factory[j][0] - robot[i]))\n",
    "                if j+1 < len(factory):\n",
    "                    dp[i][j+1][0] = min(dp[i][j+1][0], dp[i-1][j][factory[j][1]-1] + abs(factory[j+1][0] - robot[i]))\n",
    "                mins = min(mins, min(dp[i-1][j]))\n",
    "        \n",
    "        ret = float(\"inf\")\n",
    "        for j in range(len(factory)):\n",
    "            for s in range(factory[j][1]):\n",
    "                ret = min(ret, dp[-1][j][s])\n",
    "        return ret"
   ]
  },
  {
   "cell_type": "code",
   "execution_count": 39,
   "id": "d52dabce",
   "metadata": {},
   "outputs": [],
   "source": [
    "robot = [789300819,-600989788,529140594,-592135328,-840831288,209726656,-671200998]\n",
    "factory = [[-865262624,6],[-717666169,0],[725929046,2],[449443632,3],[-912630111,0],[270903707,3],[-769206598,2],[-299780916,4],[-159433745,5],[-467185764,3],[849991650,7],[-292158515,6],[940410553,6],[258278787,0],[83034539,2],[54441577,3],[-235385712,2],[75791769,3]]"
   ]
  },
  {
   "cell_type": "code",
   "execution_count": 40,
   "id": "9dfdb015",
   "metadata": {},
   "outputs": [
    {
     "data": {
      "text/plain": [
       "582755368"
      ]
     },
     "execution_count": 40,
     "metadata": {},
     "output_type": "execute_result"
    }
   ],
   "source": [
    "a = Solution().minimumTotalDistance(robot, factory)\n",
    "a"
   ]
  },
  {
   "cell_type": "code",
   "execution_count": 10,
   "id": "c54e9cf5",
   "metadata": {},
   "outputs": [],
   "source": [
    "class Solution:\n",
    "    def minimumTotalDistance(self, robot: List[int], factory: List[List[int]]) -> int:\n",
    "        robot.sort()\n",
    "        factory.sort()\n",
    "        n, m = len(robot), len(factory)\n",
    "        inf = float(\"inf\")\n",
    "        \n",
    "        @functools.lru_cache(None)\n",
    "        def dfs(i: int, j: int)->int:\n",
    "            if j == n:\n",
    "                return 0\n",
    "            if i == m-1:\n",
    "                if factory[i][1] < n-j:\n",
    "                    return inf\n",
    "                return sum(abs(robot[s]-factory[i][0]) for s in range(j, n))\n",
    "            ret = dfs(i+1, j)\n",
    "            sums = 0\n",
    "            for s in range(1, factory[i][1]+1):\n",
    "                if j+s > n:\n",
    "                    break\n",
    "                sums += abs(robot[j+s-1]-factory[i][0])\n",
    "                ret = min(ret, sums + dfs(i+1, j+s))\n",
    "            return ret\n",
    "        \n",
    "        return dfs(0, 0)"
   ]
  },
  {
   "cell_type": "code",
   "execution_count": 41,
   "id": "977b0c76",
   "metadata": {},
   "outputs": [],
   "source": [
    "class Solution:\n",
    "    def minimumTotalDistance(self, robot: List[int], factory: List[List[int]]) -> int:\n",
    "        factory.sort(key=lambda f: f[0])\n",
    "        robot.sort()\n",
    "        m = len(robot)\n",
    "        f = [0] + [inf] * m\n",
    "        for pos, limit in factory:\n",
    "            for j in range(m, 0, -1):\n",
    "                cost = 0\n",
    "                for k in range(1, min(j, limit) + 1):\n",
    "                    cost += abs(robot[j - k] - pos)\n",
    "                    f[j] = min(f[j], f[j - k] + cost)\n",
    "        return f[m]"
   ]
  },
  {
   "cell_type": "code",
   "execution_count": null,
   "id": "bab5bc62",
   "metadata": {},
   "outputs": [],
   "source": []
  }
 ],
 "metadata": {
  "kernelspec": {
   "display_name": "Python 3 (ipykernel)",
   "language": "python",
   "name": "python3"
  },
  "language_info": {
   "codemirror_mode": {
    "name": "ipython",
    "version": 3
   },
   "file_extension": ".py",
   "mimetype": "text/x-python",
   "name": "python",
   "nbconvert_exporter": "python",
   "pygments_lexer": "ipython3",
   "version": "3.8.8"
  },
  "toc": {
   "base_numbering": 1,
   "nav_menu": {},
   "number_sections": true,
   "sideBar": true,
   "skip_h1_title": false,
   "title_cell": "Table of Contents",
   "title_sidebar": "Contents",
   "toc_cell": false,
   "toc_position": {},
   "toc_section_display": true,
   "toc_window_display": false
  }
 },
 "nbformat": 4,
 "nbformat_minor": 5
}
