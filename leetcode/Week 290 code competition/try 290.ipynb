﻿{
 "cells": [
  {
   "cell_type": "code",
   "execution_count": 1,
   "id": "37e78209",
   "metadata": {},
   "outputs": [],
   "source": [
    "import math\n",
    "import collections\n",
    "import heapq\n",
    "import bisect\n",
    "from typing import *"
   ]
  },
  {
   "cell_type": "markdown",
   "id": "a864d36f",
   "metadata": {},
   "source": [
    "# 6041. Intersection of Multiple Arrays"
   ]
  },
  {
   "cell_type": "code",
   "execution_count": 3,
   "id": "666ae110",
   "metadata": {},
   "outputs": [],
   "source": [
    "class Solution:\n",
    "    def intersection(self, nums: List[List[int]]) -> List[int]:\n",
    "        re = set(nums[0])\n",
    "        for n in nums[1:]:\n",
    "            re &= set(n)\n",
    "        return sorted(re)"
   ]
  },
  {
   "cell_type": "code",
   "execution_count": 6,
   "id": "ad825aed",
   "metadata": {},
   "outputs": [],
   "source": [
    "nums =[[1,2,3],[4,5,6]]"
   ]
  },
  {
   "cell_type": "code",
   "execution_count": 7,
   "id": "0a568df1",
   "metadata": {},
   "outputs": [
    {
     "data": {
      "text/plain": [
       "[]"
      ]
     },
     "execution_count": 7,
     "metadata": {},
     "output_type": "execute_result"
    }
   ],
   "source": [
    "a = Solution().intersection(nums)\n",
    "a"
   ]
  },
  {
   "cell_type": "markdown",
   "id": "8821c9d8",
   "metadata": {},
   "source": [
    "# 6042. Count Lattice Points Inside a Circle"
   ]
  },
  {
   "cell_type": "code",
   "execution_count": 11,
   "id": "cc7f2826",
   "metadata": {},
   "outputs": [],
   "source": [
    "class Solution:\n",
    "    def countLatticePoints(self, circles: List[List[int]]) -> int:\n",
    "        visited = set()\n",
    "        for x, y, r in circles:\n",
    "            for i in range(x-r, x+r+1):\n",
    "                for j in range(y-r, y+r+1):\n",
    "                    if (i, j) in visited or (x-i)**2 + (y-j)**2 > r **2 :\n",
    "                        continue\n",
    "                    visited.add((i, j))\n",
    "        return len(visited)"
   ]
  },
  {
   "cell_type": "code",
   "execution_count": 14,
   "id": "5e46a887",
   "metadata": {},
   "outputs": [],
   "source": [
    "circles = [[2,2,2],[3,4,1]]"
   ]
  },
  {
   "cell_type": "code",
   "execution_count": 15,
   "id": "81e23616",
   "metadata": {},
   "outputs": [
    {
     "data": {
      "text/plain": [
       "16"
      ]
     },
     "execution_count": 15,
     "metadata": {},
     "output_type": "execute_result"
    }
   ],
   "source": [
    "a = Solution().countLatticePoints(circles)\n",
    "a"
   ]
  },
  {
   "cell_type": "code",
   "execution_count": 73,
   "id": "9d8f70dd",
   "metadata": {},
   "outputs": [],
   "source": [
    "class Solution:\n",
    "    def countLatticePoints(self, circles: List[List[int]]) -> int:\n",
    "        mx, my = max(cx + cr for cx, cy, cr in circles) + 2, max(cy + cr for cx, cy, cr in circles) + 1\n",
    "        diffs = [[0] * mx for _ in range(my)]\n",
    "        for cx, cy, cr in circles:\n",
    "            for y in range(cy - cr, cy + cr + 1):\n",
    "                z = isqrt(cr * cr - (y - cy) ** 2)\n",
    "                diffs[y][cx - z] += 1\n",
    "                diffs[y][cx + z + 1] -= 1\n",
    "        return sum(sum(cur > 0 for cur in accumulate(xs)) for xs in diffs)"
   ]
  },
  {
   "cell_type": "markdown",
   "id": "e368da56",
   "metadata": {},
   "source": [
    "# 6043. Count Number of Rectangles Containing Each Point"
   ]
  },
  {
   "cell_type": "code",
   "execution_count": 154,
   "id": "2ae56c69",
   "metadata": {},
   "outputs": [],
   "source": [
    "class Solution:\n",
    "    def countRectangles(self, rectangles: List[List[int]], points: List[List[int]]) -> List[int]:\n",
    "        re = [] # sortdict is ok\n",
    "        rectangles.sort(key = lambda x:-x[1])\n",
    "        ret = [0] * len(points)\n",
    "        ps = sorted(zip(points, range(len(points))), key=lambda x:-x[0][1])\n",
    "        j = 0\n",
    "        for (l, h), i in ps:\n",
    "            start = j\n",
    "            while j < len(rectangles) and rectangles[j][1] >= h:\n",
    "                re.append(rectangles[j][0])\n",
    "                j += 1\n",
    "            if start < j:\n",
    "                re.sort()\n",
    "            ret[i] = len(re) - bisect.bisect_left(re, l)\n",
    "        return ret"
   ]
  },
  {
   "cell_type": "code",
   "execution_count": 148,
   "id": "9242a129",
   "metadata": {},
   "outputs": [],
   "source": [
    "rectangles = [[1,1],[2,2],[3,3]]; points = [[1,3],[1,1]]"
   ]
  },
  {
   "cell_type": "code",
   "execution_count": 153,
   "id": "3497defe",
   "metadata": {},
   "outputs": [
    {
     "name": "stdout",
     "output_type": "stream",
     "text": [
      "[2] 1 4\n",
      "[1, 2, 2] 2 1\n"
     ]
    },
    {
     "data": {
      "text/plain": [
       "[2, 1]"
      ]
     },
     "execution_count": 153,
     "metadata": {},
     "output_type": "execute_result"
    }
   ],
   "source": [
    "a = Solution().countRectangles(rectangles, points)\n",
    "a"
   ]
  },
  {
   "cell_type": "code",
   "execution_count": 146,
   "id": "7ed88c22",
   "metadata": {},
   "outputs": [],
   "source": [
    "class Solution:\n",
    "    def countRectangles(self, rectangles: List[List[int]], points: List[List[int]]) -> List[int]:\n",
    "        dp = [[0 for _ in range(101)] for _ in range(101)]\n",
    "        for l, h in rectangles:\n",
    "            dp[0][0] += 1\n",
    "            dp[l+1][h+1] += 1\n",
    "            dp[l+1][0] -= 1\n",
    "            dp[0][h+1] -= 1\n",
    "        for i in range(1, 101):\n",
    "            dp[i][0] = dp[i-1][0] + dp[i][0]\n",
    "            dp[0][i] = dp[0][i-1] + dp[0][i]\n",
    "        \n",
    "        for i in range(1, 101):\n",
    "            for j in range(1, 101):\n",
    "                dp[i][j] = dp[i-1][j] + dp[i][j-1] - dp[i-1][j-1] + dp[i][j]\n",
    "        ret = [0] * len(points)\n",
    "        for i, (x, y) in enumerate(points):\n",
    "            ret[i] = dp[x][y]\n",
    "        print(dp[:3][:3])\n",
    "        return ret"
   ]
  },
  {
   "cell_type": "code",
   "execution_count": 44,
   "id": "7a3bae4f",
   "metadata": {},
   "outputs": [
    {
     "name": "stdout",
     "output_type": "stream",
     "text": [
      "[[7, 7, 6, 5, 4, 2, 2, 1, 1, 1, 0, 0, 0, 0, 0, 0, 0, 0, 0, 0, 0, 0, 0, 0, 0, 0, 0, 0, 0, 0, 0, 0, 0, 0, 0, 0, 0, 0, 0, 0, 0, 0, 0, 0, 0, 0, 0, 0, 0, 0, 0, 0, 0, 0, 0, 0, 0, 0, 0, 0, 0, 0, 0, 0, 0, 0, 0, 0, 0, 0, 0, 0, 0, 0, 0, 0, 0, 0, 0, 0, 0, 0, 0, 0, 0, 0, 0, 0, 0, 0, 0, 0, 0, 0, 0, 0, 0, 0, 0, 0, 0], [7, 7, 6, 5, 4, 2, 2, 1, 1, 1, 0, 0, 0, 0, 0, 0, 0, 0, 0, 0, 0, 0, 0, 0, 0, 0, 0, 0, 0, 0, 0, 0, 0, 0, 0, 0, 0, 0, 0, 0, 0, 0, 0, 0, 0, 0, 0, 0, 0, 0, 0, 0, 0, 0, 0, 0, 0, 0, 0, 0, 0, 0, 0, 0, 0, 0, 0, 0, 0, 0, 0, 0, 0, 0, 0, 0, 0, 0, 0, 0, 0, 0, 0, 0, 0, 0, 0, 0, 0, 0, 0, 0, 0, 0, 0, 0, 0, 0, 0, 0, 0], [6, 6, 5, 4, 3, 2, 2, 1, 1, 1, 0, 0, 0, 0, 0, 0, 0, 0, 0, 0, 0, 0, 0, 0, 0, 0, 0, 0, 0, 0, 0, 0, 0, 0, 0, 0, 0, 0, 0, 0, 0, 0, 0, 0, 0, 0, 0, 0, 0, 0, 0, 0, 0, 0, 0, 0, 0, 0, 0, 0, 0, 0, 0, 0, 0, 0, 0, 0, 0, 0, 0, 0, 0, 0, 0, 0, 0, 0, 0, 0, 0, 0, 0, 0, 0, 0, 0, 0, 0, 0, 0, 0, 0, 0, 0, 0, 0, 0, 0, 0, 0]]\n"
     ]
    },
    {
     "data": {
      "text/plain": [
       "[1, 0, 4, 1, 0, 0, 0, 1]"
      ]
     },
     "execution_count": 44,
     "metadata": {},
     "output_type": "execute_result"
    }
   ],
   "source": [
    "a = Solution().countRectangles(rectangles, points)\n",
    "a"
   ]
  },
  {
   "cell_type": "markdown",
   "id": "a486882a",
   "metadata": {},
   "source": [
    "two-dimensional tree array"
   ]
  },
  {
   "cell_type": "code",
   "execution_count": 90,
   "id": "a9faa286",
   "metadata": {},
   "outputs": [],
   "source": [
    "class FenwickTree:\n",
    "    def __init__(self, lenx, leny):\n",
    "        self.arr = [[0 for _ in range(lenx)] for _ in range(leny)]\n",
    "      \n",
    "    def lowbit(self, x):\n",
    "        return x & -x\n",
    "    \n",
    "    def get(self, i, j):\n",
    "            ret = 0\n",
    "            memo_y = j\n",
    "            while i > 0:\n",
    "                j = memo_y\n",
    "                while j > 0:\n",
    "                    ret += self.arr[i][j]\n",
    "                    j -= self.lowbit(j)\n",
    "                i -= self.lowbit(i)\n",
    "            return ret\n",
    "    \n",
    "    def range_add(self, i, j, m, n, num):\n",
    "        self.update(i, j, num)\n",
    "        self.update(i, n+1, -num)\n",
    "        self.update(m+1, j, -num)\n",
    "        self.update(m+1, n+1, num)\n",
    "        \n",
    "    def update(self, i, j, num):\n",
    "        memo_y = j\n",
    "        while i < len(self.arr):\n",
    "            j = memo_y\n",
    "            while j < len(self.arr[0]):\n",
    "                self.arr[i][j] += num\n",
    "                j += self.lowbit(j)\n",
    "            i += self.lowbit(i)"
   ]
  },
  {
   "cell_type": "code",
   "execution_count": 136,
   "id": "ed683357",
   "metadata": {},
   "outputs": [],
   "source": [
    "class Solution:\n",
    "    def countRectangles(self, rectangles: List[List[int]], points: List[List[int]]) -> List[int]:\n",
    "        l = sorted(set([l for l, _ in  rectangles] + [l for l, _ in  points]))\n",
    "        maps = {n:i+1 for i, n in enumerate(l)}\n",
    "        Tree = FenwickTree(len(l)+2, 101)\n",
    "        ret = [0] * len(points)\n",
    "        for l, h in rectangles:\n",
    "            Tree.range_add(1, 1, h, maps[l], 1)\n",
    "        for i, n in enumerate(points):\n",
    "            ret[i] = Tree.get(n[1], maps[n[0]])\n",
    "        return ret"
   ]
  },
  {
   "cell_type": "code",
   "execution_count": 161,
   "id": "6a943d64",
   "metadata": {},
   "outputs": [],
   "source": [
    "rectangles = [[7,1],[2,6],[1,4],[5,2],[10,3],[2,4],[5,9]]\n",
    "points = [[10,3],[8,10],[2,3],[5,4],[8,5],[7,10],[6,6],[3,6]]"
   ]
  },
  {
   "cell_type": "code",
   "execution_count": 162,
   "id": "5edc03e2",
   "metadata": {},
   "outputs": [
    {
     "data": {
      "text/plain": [
       "[1, 0, 4, 1, 0, 0, 0, 1]"
      ]
     },
     "execution_count": 162,
     "metadata": {},
     "output_type": "execute_result"
    }
   ],
   "source": [
    "a = Solution().countRectangles(rectangles, points)\n",
    "a"
   ]
  },
  {
   "cell_type": "code",
   "execution_count": 118,
   "id": "3cf90aca",
   "metadata": {},
   "outputs": [],
   "source": [
    "rectangles = [[1,1],[2,2],[3,3]]; points = [[1,3],[1,1]]"
   ]
  },
  {
   "cell_type": "code",
   "execution_count": 152,
   "id": "052bc57e",
   "metadata": {},
   "outputs": [],
   "source": [
    "rectangles = [[1,2],[2,3],[2,5]]; points = [[2,1],[1,4]]"
   ]
  },
  {
   "cell_type": "code",
   "execution_count": 134,
   "id": "74f8389f",
   "metadata": {},
   "outputs": [],
   "source": [
    "rectangles = [[7,1],[2,6],[1,4],[5,2],[10,3],[2,4],[5,9]]\n",
    "points = [[10,3],[8,10],[2,3],[5,4],[8,5],[7,10],[6,6],[3,6]]"
   ]
  },
  {
   "cell_type": "markdown",
   "id": "860bc612",
   "metadata": {},
   "source": [
    "one dimention Tree array"
   ]
  },
  {
   "cell_type": "code",
   "execution_count": 158,
   "id": "6de83c2a",
   "metadata": {},
   "outputs": [],
   "source": [
    "class FenwickTree:\n",
    "    def __init__(self, lens):\n",
    "        self.arr = [0] * (lens+1)\n",
    "      \n",
    "    def lowbit(self, x):\n",
    "        return x & -x\n",
    "    \n",
    "    def get(self, i):\n",
    "        ret = 0\n",
    "        while i > 0:\n",
    "            ret += self.arr[i]\n",
    "            i -= self.lowbit(i)\n",
    "        return ret\n",
    "    \n",
    "    def update(self, i, num):\n",
    "        while i < len(self.arr):\n",
    "            self.arr[i] += num\n",
    "            i += self.lowbit(i)\n",
    "            \n",
    "    def range_add(self, l, r, x): # 取件修改， l-r区间增加x\n",
    "        self.update(l, x)\n",
    "        self.update(r+1, -x)"
   ]
  },
  {
   "cell_type": "code",
   "execution_count": 159,
   "id": "b5401ce5",
   "metadata": {},
   "outputs": [],
   "source": [
    "class Solution:\n",
    "    def countRectangles(self, rectangles: List[List[int]], points: List[List[int]]) -> List[int]:\n",
    "        rectangles.sort(key=lambda r: -r[0])\n",
    "        n = len(points)\n",
    "        ret = [0] * n\n",
    "        Tree = FenwickTree(100)\n",
    "        j = 0\n",
    "        for (x, y), i in sorted(zip(points, range(n)), key=lambda x: -x[0][0]):\n",
    "            while j < len(rectangles) and rectangles[j][0] >= x:\n",
    "                Tree.range_add(1, rectangles[j][1], 1)\n",
    "                j += 1\n",
    "            ret[i] = Tree.get(y)\n",
    "        return ret"
   ]
  },
  {
   "cell_type": "code",
   "execution_count": 160,
   "id": "7b50c0af",
   "metadata": {},
   "outputs": [
    {
     "data": {
      "text/plain": [
       "[2, 1]"
      ]
     },
     "execution_count": 160,
     "metadata": {},
     "output_type": "execute_result"
    }
   ],
   "source": [
    "a = Solution().countRectangles(rectangles, points)\n",
    "a"
   ]
  },
  {
   "cell_type": "markdown",
   "id": "246251d8",
   "metadata": {},
   "source": [
    "# 6044. Number of Flowers in Full Bloom"
   ]
  },
  {
   "cell_type": "code",
   "execution_count": 50,
   "id": "fff27264",
   "metadata": {},
   "outputs": [],
   "source": [
    "class Segment_tree():\n",
    "    def __init__(self, lens):\n",
    "        self.Tree = [0] * (lens<<2)\n",
    "        self.len = lens\n",
    "        self.lazy = [0] * (lens<<2)\n",
    "        \n",
    "    def push_up(self, k):\n",
    "        self.Tree[k] = self.Tree[k<<1] + self.Tree[(k<<1)+1]\n",
    "    \n",
    "    def build(self, l, r, k):\n",
    "        if l == r:\n",
    "            self.Tree[k] = self.a[l]\n",
    "            return  \n",
    "        mid = l + (r-l)//2\n",
    "        self.build(l, mid, k<<1)\n",
    "        self.build(mid+1, r, (k<<1)+1)     \n",
    "        self.push_up(k)\n",
    "        return \n",
    "    \n",
    "    def query(self, l, r, k, L, R):\n",
    "        if l >= L and r <= R:\n",
    "            return self.Tree[k]\n",
    "        mid = l + (r-l)//2\n",
    "        self.push_down(k, mid-l+1, r-mid)\n",
    "        ret = 0\n",
    "        if L <= mid:\n",
    "            ret += self.query(l, mid, k<<1, L, R)\n",
    "        if R > mid:\n",
    "            ret += self.query(mid+1, r, (k<<1)+1, L, R)\n",
    "        return ret\n",
    "    \n",
    "    def push_down(self, k, l, r):\n",
    "        if self.lazy[k]:\n",
    "            self.lazy[k<<1] += self.lazy[k]\n",
    "            self.lazy[(k<<1)+1] += self.lazy[k]     \n",
    "            self.Tree[k<<1] += self.lazy[k] * l\n",
    "            self.Tree[(k<<1)+1] += self.lazy[k] * r\n",
    "            self.lazy[k] = 0\n",
    "            \n",
    "    def update(self, l, r, k, L, R, C):\n",
    "        if l >= L and r <= R:\n",
    "            self.Tree[k] += (r-l+1) * C\n",
    "            self.lazy[k] += C\n",
    "            return \n",
    "        mid = l + (r-l)//2\n",
    "        self.push_down(k, mid-l+1, r-mid)\n",
    "        if L <= mid:\n",
    "            self.update(l, mid, k<<1, L, R, C)\n",
    "        if R > mid:\n",
    "            self.update(mid+1, r, (k<<1)+1, L, R, C)\n",
    "        self.push_up(k)\n",
    "    \n",
    "    def update_interval(self, L, R, C):\n",
    "        self.update(0, self.len-1, 1, L, R, C)\n",
    "        \n",
    "    def update_point(self, L, C):\n",
    "        self.update(0, self.len-1, 1, L, L, C)        \n",
    "        \n",
    "    def query_interval(self, L, R):\n",
    "        return self.query(0, self.len-1, 1, L, R)\n",
    "    \n",
    "    def query_point(self, L):\n",
    "        return self.query(0, self.len-1, 1, L, L)        "
   ]
  },
  {
   "cell_type": "code",
   "execution_count": 69,
   "id": "8c666f39",
   "metadata": {},
   "outputs": [],
   "source": [
    "\n",
    "class Solution:\n",
    "    def fullBloomFlowers(self, flowers: List[List[int]], persons: List[int]) -> List[int]:\n",
    "        maxs = 5 * 10 ** 4 + 1\n",
    "        a = Segment_tree(5 * 10 ** 4 + 2)\n",
    "        re = persons + [i[0] for i in flowers] + [i[1] for i in flowers]\n",
    "        re = sorted(set(re))\n",
    "        maps = {n:i for i, n in enumerate(re)}\n",
    "        s = Segment_tree(len(re)+1)\n",
    "        for s, e in flowers:\n",
    "            a.update_interval(maps[s],maps[e], 1)\n",
    "        ret = [0] * len(persons)\n",
    "        for i, p in enumerate(persons):\n",
    "            ret[i] = a.query_point(maps[p])\n",
    "        return ret"
   ]
  },
  {
   "cell_type": "code",
   "execution_count": 71,
   "id": "0689fddd",
   "metadata": {},
   "outputs": [],
   "source": [
    "flowers = [[1,6],[3,7],[9,12],[4,13]]; persons = [2,3,7,11]"
   ]
  },
  {
   "cell_type": "code",
   "execution_count": 67,
   "id": "29442910",
   "metadata": {},
   "outputs": [],
   "source": []
  },
  {
   "cell_type": "code",
   "execution_count": 72,
   "id": "baf366ae",
   "metadata": {},
   "outputs": [
    {
     "data": {
      "text/plain": [
       "[1, 2, 2, 2]"
      ]
     },
     "execution_count": 72,
     "metadata": {},
     "output_type": "execute_result"
    }
   ],
   "source": [
    "a = Solution().fullBloomFlowers(flowers, persons)\n",
    "a"
   ]
  },
  {
   "cell_type": "markdown",
   "id": "f6357d43",
   "metadata": {},
   "source": [
    "difference method"
   ]
  },
  {
   "cell_type": "code",
   "execution_count": 78,
   "id": "4182c9f1",
   "metadata": {},
   "outputs": [],
   "source": [
    "class Solution:\n",
    "    def fullBloomFlowers(self, flowers: List[List[int]], persons: List[int]) -> List[int]:\n",
    "        diff = collections.defaultdict(int)  # 也可以用 SortedDict\n",
    "        for start, end in flowers:\n",
    "            diff[start] += 1\n",
    "            diff[end + 1] -= 1\n",
    "        times = sorted(diff.keys())\n",
    "\n",
    "        n = len(persons)\n",
    "        ans = [0] * n\n",
    "        i = sum = 0\n",
    "        print(times, sorted(zip(persons, range(n))))\n",
    "        for p, id in sorted(zip(persons, range(n))):\n",
    "            while i < len(times) and times[i] <= p:\n",
    "                sum += diff[times[i]]  # 累加变化量\n",
    "                i += 1\n",
    "            ans[id] = sum\n",
    "        return ans"
   ]
  },
  {
   "cell_type": "code",
   "execution_count": 79,
   "id": "e02ec606",
   "metadata": {},
   "outputs": [],
   "source": [
    "flowers = [[1,6],[3,7],[9,12],[4,13]]; persons = [2,3,7,11]"
   ]
  },
  {
   "cell_type": "code",
   "execution_count": 80,
   "id": "a9793f92",
   "metadata": {},
   "outputs": [
    {
     "name": "stdout",
     "output_type": "stream",
     "text": [
      "[1, 3, 4, 7, 8, 9, 13, 14] [(2, 0), (3, 1), (7, 2), (11, 3)]\n"
     ]
    },
    {
     "data": {
      "text/plain": [
       "[1, 2, 2, 2]"
      ]
     },
     "execution_count": 80,
     "metadata": {},
     "output_type": "execute_result"
    }
   ],
   "source": [
    "a = Solution().fullBloomFlowers(flowers, persons)\n",
    "a"
   ]
  },
  {
   "cell_type": "code",
   "execution_count": null,
   "id": "bbfe2064",
   "metadata": {},
   "outputs": [],
   "source": []
  }
 ],
 "metadata": {
  "kernelspec": {
   "display_name": "Python 3 (ipykernel)",
   "language": "python",
   "name": "python3"
  },
  "language_info": {
   "codemirror_mode": {
    "name": "ipython",
    "version": 3
   },
   "file_extension": ".py",
   "mimetype": "text/x-python",
   "name": "python",
   "nbconvert_exporter": "python",
   "pygments_lexer": "ipython3",
   "version": "3.8.8"
  },
  "toc": {
   "base_numbering": 1,
   "nav_menu": {},
   "number_sections": true,
   "sideBar": true,
   "skip_h1_title": false,
   "title_cell": "Table of Contents",
   "title_sidebar": "Contents",
   "toc_cell": false,
   "toc_position": {},
   "toc_section_display": true,
   "toc_window_display": false
  }
 },
 "nbformat": 4,
 "nbformat_minor": 5
}
