{
 "cells": [
  {
   "cell_type": "code",
   "execution_count": 1,
   "id": "1af9082f",
   "metadata": {},
   "outputs": [],
   "source": [
    "from typing import *\n",
    "import math\n",
    "import heapq\n",
    "import collections"
   ]
  },
  {
   "cell_type": "markdown",
   "id": "e2639c21",
   "metadata": {},
   "source": [
    "# 6148. Largest Local Values in a Matrix"
   ]
  },
  {
   "cell_type": "code",
   "execution_count": 2,
   "id": "3d1c7a5c",
   "metadata": {},
   "outputs": [],
   "source": [
    "class Solution:\n",
    "    def largestLocal(self, grid: List[List[int]]) -> List[List[int]]:\n",
    "        def maxconv(i, j, s):\n",
    "            ret = 0\n",
    "            for m in range(i-s, i+s+1):\n",
    "                for n in range(j-s, j+s+1):\n",
    "                    ret = max(ret, grid[m][n])\n",
    "            return ret\n",
    "        \n",
    "        ret = []\n",
    "        for i in range(1, len(grid)-1):\n",
    "            ret.append([])\n",
    "            for j in range(1, len(grid[0])-1):\n",
    "                ret[-1].append(maxconv(i, j, 1))\n",
    "        return ret"
   ]
  },
  {
   "cell_type": "markdown",
   "id": "8e2779c1",
   "metadata": {},
   "source": [
    "# 6149. Node With Highest Edge Score"
   ]
  },
  {
   "cell_type": "code",
   "execution_count": 3,
   "id": "0541fba2",
   "metadata": {},
   "outputs": [],
   "source": [
    "class Solution:\n",
    "    def edgeScore(self, edges: List[int]) -> int:\n",
    "        r = collections.defaultdict(int)\n",
    "        ret = -1\n",
    "        maxs = -1\n",
    "        for i, n in enumerate(edges):\n",
    "            r[n] += i\n",
    "            if r[n] > maxs:\n",
    "                maxs, ret = r[n], n\n",
    "            elif maxs == r[n] and n < ret:\n",
    "                ret = n\n",
    "        return ret"
   ]
  },
  {
   "cell_type": "markdown",
   "id": "a502cc93",
   "metadata": {},
   "source": [
    "# 6150. Construct Smallest Number From DI String"
   ]
  },
  {
   "cell_type": "code",
   "execution_count": 89,
   "id": "9a338ea7",
   "metadata": {},
   "outputs": [],
   "source": [
    "class Solution:\n",
    "    def smallestNumber(self, pattern: str) -> str:\n",
    "        def check(s, pattern):\n",
    "            for i, n in enumerate(pattern):\n",
    "                if n == \"I\" and s[i] < s[i+1]:\n",
    "                    continue\n",
    "                elif n == \"D\" and s[i] > s[i+1]:\n",
    "                    continue\n",
    "                return False\n",
    "            return True\n",
    "        \n",
    "        ret = \"\"\n",
    "        for i in itertools.permutations(\"123456789\"[:len(pattern)+1], len(pattern)+1):\n",
    "            if check(i, pattern):\n",
    "                return \"\".join(i)\n",
    "        return ret"
   ]
  },
  {
   "cell_type": "code",
   "execution_count": 124,
   "id": "4f0c6df5",
   "metadata": {},
   "outputs": [],
   "source": [
    "class Solution:\n",
    "    def smallestNumber(self, pattern: str) -> str:\n",
    "        lens = len(pattern)\n",
    "        ret = [\"\"] * (lens + 1)\n",
    "        dig = \"123456789\"\n",
    "        start = 0\n",
    "        cur = 0\n",
    "        while start < lens:\n",
    "            if start and pattern[start] == \"I\":\n",
    "                start += 1\n",
    "            while start < lens and pattern[start] == \"I\":\n",
    "                ret[start] = dig[cur]\n",
    "                start += 1\n",
    "                cur += 1\n",
    "            \n",
    "            i = start\n",
    "            while start < lens and pattern[start] == \"D\":\n",
    "                start += 1\n",
    "            for j in range(start, i-1, -1):\n",
    "                ret[j] = dig[cur]\n",
    "                cur += 1\n",
    "        return \"\".join(ret)"
   ]
  },
  {
   "cell_type": "code",
   "execution_count": 125,
   "id": "d55f6a8d",
   "metadata": {},
   "outputs": [],
   "source": [
    "pattern = \"IIIDIDDD\""
   ]
  },
  {
   "cell_type": "code",
   "execution_count": 126,
   "id": "a5583252",
   "metadata": {},
   "outputs": [
    {
     "data": {
      "text/plain": [
       "'123549876'"
      ]
     },
     "execution_count": 126,
     "metadata": {},
     "output_type": "execute_result"
    }
   ],
   "source": [
    "a = Solution().smallestNumber(pattern)\n",
    "a"
   ]
  },
  {
   "cell_type": "markdown",
   "id": "65870ca8",
   "metadata": {},
   "source": [
    "# 6151. Count Special Integers"
   ]
  },
  {
   "cell_type": "code",
   "execution_count": 88,
   "id": "8b5e3d8a",
   "metadata": {},
   "outputs": [],
   "source": [
    "class Solution:\n",
    "    def countSpecialNumbers(self, n: int) -> int:\n",
    "        if n < 10:\n",
    "            return n\n",
    "        ret = 0\n",
    "        s = str(n)\n",
    "        for i in range(len(s)-1):\n",
    "            ret += math.perm(9, 1) * math.perm(9, i)\n",
    "        \n",
    "        start = 9\n",
    "        visited = set()\n",
    "        for i, m in enumerate(s):\n",
    "            if i == 0:\n",
    "                visited.add(int(m))\n",
    "                ret += max((int(m)-1), 0) * math.perm(start, len(s)-i-1)\n",
    "            else:\n",
    "                sums = int(m)\n",
    "                for j in range(int(m)):\n",
    "                    if j in visited:\n",
    "                        sums -= 1\n",
    "                ret += sums * math.perm(start, len(s)-i-1)\n",
    "                if int(m) in visited:\n",
    "                    break\n",
    "                visited.add(int(m))\n",
    "            start -= 1\n",
    "        if len(set(s)) == len(s):\n",
    "            ret += 1\n",
    "        return ret"
   ]
  },
  {
   "cell_type": "code",
   "execution_count": 87,
   "id": "e127c7a2",
   "metadata": {},
   "outputs": [
    {
     "data": {
      "text/plain": [
       "178"
      ]
     },
     "execution_count": 87,
     "metadata": {},
     "output_type": "execute_result"
    }
   ],
   "source": [
    "a = Solution().countSpecialNumbers(225)\n",
    "a"
   ]
  },
  {
   "cell_type": "code",
   "execution_count": 42,
   "id": "e9bf5f30",
   "metadata": {},
   "outputs": [
    {
     "data": {
      "text/plain": [
       "12"
      ]
     },
     "execution_count": 42,
     "metadata": {},
     "output_type": "execute_result"
    }
   ],
   "source": [
    "math.perm(4, 2)"
   ]
  },
  {
   "cell_type": "code",
   "execution_count": 127,
   "id": "d76a4ef6",
   "metadata": {},
   "outputs": [],
   "source": [
    "class Solution:\n",
    "    def countSpecialNumbers(self, n: int) -> int:\n",
    "        s = str(n)\n",
    "        @cache\n",
    "        def f(i: int, mask: int, is_limit: bool, is_num: bool) -> int:\n",
    "            if i == len(s):\n",
    "                return int(is_num)\n",
    "            res = 0\n",
    "            if not is_num:  # 可以跳过当前数位\n",
    "                res = f(i + 1, mask, False, False)\n",
    "            up = int(s[i]) if is_limit else 9\n",
    "            for d in range(0 if is_num else 1, up + 1):  # 枚举要填入的数字 d\n",
    "                if mask >> d & 1 == 0:  # d 不在 mask 中\n",
    "                    res += f(i + 1, mask | (1 << d), is_limit and d == up, True)\n",
    "            return res\n",
    "        return f(0, 0, True, False)"
   ]
  },
  {
   "cell_type": "code",
   "execution_count": null,
   "id": "5c0be3a2",
   "metadata": {},
   "outputs": [],
   "source": []
  }
 ],
 "metadata": {
  "kernelspec": {
   "display_name": "Python 3 (ipykernel)",
   "language": "python",
   "name": "python3"
  },
  "language_info": {
   "codemirror_mode": {
    "name": "ipython",
    "version": 3
   },
   "file_extension": ".py",
   "mimetype": "text/x-python",
   "name": "python",
   "nbconvert_exporter": "python",
   "pygments_lexer": "ipython3",
   "version": "3.8.8"
  },
  "toc": {
   "base_numbering": 1,
   "nav_menu": {},
   "number_sections": true,
   "sideBar": true,
   "skip_h1_title": false,
   "title_cell": "Table of Contents",
   "title_sidebar": "Contents",
   "toc_cell": false,
   "toc_position": {},
   "toc_section_display": true,
   "toc_window_display": false
  }
 },
 "nbformat": 4,
 "nbformat_minor": 5
}
