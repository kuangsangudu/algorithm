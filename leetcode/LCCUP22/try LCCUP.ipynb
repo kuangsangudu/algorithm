{
 "cells": [
  {
   "cell_type": "code",
   "execution_count": 3,
   "id": "fe4b48ee",
   "metadata": {},
   "outputs": [],
   "source": [
    "import math\n",
    "import heapq \n",
    "import collections\n",
    "from typing import *\n",
    "import bisect"
   ]
  },
  {
   "cell_type": "markdown",
   "id": "08ed3483",
   "metadata": {},
   "source": [
    "# 宝石补给"
   ]
  },
  {
   "cell_type": "code",
   "execution_count": 3,
   "id": "0303bd09",
   "metadata": {},
   "outputs": [],
   "source": [
    "class Solution:\n",
    "    def giveGem(self, gen: List[int], operations: List[List[int]]) -> int:\n",
    "        for i, j in operations:\n",
    "            num = gen[i]//2\n",
    "            gen[i] -= num\n",
    "            gen[j] += num\n",
    "        return max(gen) - min(gen)"
   ]
  },
  {
   "cell_type": "markdown",
   "id": "f305a30a",
   "metadata": {},
   "source": [
    "# 烹饪料理"
   ]
  },
  {
   "cell_type": "code",
   "execution_count": 12,
   "id": "664ef59d",
   "metadata": {},
   "outputs": [],
   "source": [
    "class Solution:\n",
    "    def perfectMenu(self, materials: List[int], cookbooks: List[List[int]], attribute: List[List[int]], limit: int) -> int:\n",
    "        def xunzhao(materials, num, n, visited):\n",
    "            ret = num if n >= limit else -1\n",
    "            for i in range(len(cookbooks)):\n",
    "                cancook = True\n",
    "                for j, m in enumerate(cookbooks[i]):\n",
    "                    materials[j] -= m\n",
    "                    if materials[j] < 0:\n",
    "                        cancook = False\n",
    "                if cancook and i not in visited:\n",
    "                    visited.add(i)\n",
    "                    ret = max(ret, xunzhao(materials, num+attribute[i][0], n+attribute[i][1], visited))\n",
    "                for j, m in enumerate(cookbooks[i]):\n",
    "                    materials[j] += m\n",
    "            return ret\n",
    "        \n",
    "        return xunzhao(materials, 0, 0, set())"
   ]
  },
  {
   "cell_type": "code",
   "execution_count": 13,
   "id": "4fecd385",
   "metadata": {},
   "outputs": [],
   "source": [
    "meterials = [10,10,10,10,10]\n",
    "cookbooks = [[1,1,1,1,1],[3,3,3,3,3],[10,10,10,10,10]]\n",
    "attribute = [[5,5],[6,6],[10,10]]\n",
    "limit = 1"
   ]
  },
  {
   "cell_type": "code",
   "execution_count": 14,
   "id": "aee89614",
   "metadata": {},
   "outputs": [
    {
     "data": {
      "text/plain": [
       "11"
      ]
     },
     "execution_count": 14,
     "metadata": {},
     "output_type": "execute_result"
    }
   ],
   "source": [
    "a = Solution().perfectMenu(meterials, cookbooks, attribute, limit)\n",
    "a"
   ]
  },
  {
   "cell_type": "markdown",
   "id": "6c0bbea0",
   "metadata": {},
   "source": [
    "# 二叉搜索树染色"
   ]
  },
  {
   "cell_type": "markdown",
   "id": "b5d83569",
   "metadata": {},
   "source": [
    "## I use Interval merging algorithm to deal with this problem"
   ]
  },
  {
   "cell_type": "code",
   "execution_count": 2,
   "id": "e6a0468d",
   "metadata": {},
   "outputs": [],
   "source": [
    "# Definition for a binary tree node.\n",
    "class TreeNode:\n",
    "    def __init__(self, x):\n",
    "        self.val = x\n",
    "        self.left = None\n",
    "        self.right = None\n",
    "        \n",
    "class Solution:\n",
    "    def getNumber(self, root: Optional[TreeNode], ops: List[List[int]]) -> int:\n",
    "        def xunzhao(root, i, j):\n",
    "            if not root:\n",
    "                return 0\n",
    "            ret = 0\n",
    "            if i<=root.val<=j:\n",
    "                ret += 1\n",
    "                ret += xunzhao(root.left, i, j)\n",
    "                ret += xunzhao(root.right, i, j)\n",
    "            elif root.val > j:\n",
    "                ret += xunzhao(root.left, i, j)      \n",
    "            else:\n",
    "                ret += xunzhao(root.right, i, j)\n",
    "            return ret\n",
    "            \n",
    "        ret = []\n",
    "        re = 0\n",
    "        for op in ops[::-1]:\n",
    "            if ret == []:\n",
    "                ret.append([op[1], op[2]])\n",
    "                if op[0] == 1:\n",
    "                    re += xunzhao(root, op[1], op[2])\n",
    "            else:\n",
    "                nn = []\n",
    "                n = [op[1], op[2]]\n",
    "                for i, r in enumerate(ret):\n",
    "                    if r[0]<=n[0]<=r[1]:\n",
    "                        if r[1] >= n[1]:\n",
    "                            n = []\n",
    "                            break\n",
    "                        n = [r[1]+1, n[1]]\n",
    "                    elif r[0] <= n[1] <= r[1]:\n",
    "                        n = [n[0], r[0]-1]\n",
    "                        break\n",
    "                    elif n[0]<=r[0]<=n[1]:\n",
    "                        nn.append([n[0], r[0]-1])\n",
    "                        # ret[i][0] = n[0]\n",
    "                        n = [r[1]+1, n[1]]\n",
    "                if n:\n",
    "                    nn.append(n)\n",
    "                ret = ret + nn\n",
    "                ret.sort()\n",
    "                if op[0] == 1:\n",
    "                    for nnn in nn:\n",
    "                        re += xunzhao(root, nnn[0], nnn[1])\n",
    "        return re"
   ]
  },
  {
   "cell_type": "code",
   "execution_count": 32,
   "id": "b82acbf4",
   "metadata": {},
   "outputs": [],
   "source": [
    "class RangeModule(object):\n",
    "    def __init__(self):\n",
    "        self.ranges = []\n",
    "\n",
    "    # It also can use bisect\n",
    "    def _bounds(self, left, right):\n",
    "        i, j = 0, len(self.ranges) - 1\n",
    "        for d in (100, 10, 1):\n",
    "            while i + d - 1 < len(self.ranges) and self.ranges[i+d-1][1] < left:\n",
    "                i += d\n",
    "            while j >= d - 1 and self.ranges[j-d+1][0] > right:\n",
    "                j -= d\n",
    "        return i, j\n",
    "\n",
    "    def addRange(self, left, right):\n",
    "        i, j = self._bounds(left, right)\n",
    "        if i <= j:\n",
    "            left = min(left, self.ranges[i][0])\n",
    "            right = max(right, self.ranges[j][1])\n",
    "        self.ranges[i:j+1] = [(left, right)]\n",
    "\n",
    "    def queryRange(self, left, right):\n",
    "        i = bisect.bisect_left(self.ranges, (left, float('inf')))\n",
    "        if i: i -= 1\n",
    "        return (bool(self.ranges) and\n",
    "                self.ranges[i][0] <= left and\n",
    "                right <= self.ranges[i][1])\n",
    "\n",
    "    def removeRange(self, left, right):\n",
    "        i, j = self._bounds(left, right)\n",
    "        merge = []\n",
    "        for k in range(i, j+1):\n",
    "            if self.ranges[k][0] < left:\n",
    "                merge.append((self.ranges[k][0], left))\n",
    "            if right < self.ranges[k][1]:\n",
    "                merge.append((right, self.ranges[k][1]))\n",
    "        self.ranges[i:j+1] = merge"
   ]
  },
  {
   "cell_type": "code",
   "execution_count": 37,
   "id": "8e5b4a47",
   "metadata": {},
   "outputs": [],
   "source": [
    "# 1 <= left < right <= 1e9\n",
    "\n",
    "from typing import Optional\n",
    "\n",
    "# 动态开点\n",
    "class Node:\n",
    "    __slots__ = ('isTracked', 'lazy', 'left', 'right')\n",
    "\n",
    "    def __init__(\n",
    "        self,\n",
    "        isTracked=False,  \n",
    "        lazy=False,\n",
    "        left: Optional['Node'] = None,\n",
    "        right: Optional['Node'] = None,\n",
    "    ) -> None:\n",
    "        self.isTracked = isTracked\n",
    "        self.lazy = lazy\n",
    "        self.left = left\n",
    "        self.right = right\n",
    "\n",
    "\n",
    "class SegmentTree:\n",
    "    def __init__(self) -> None:\n",
    "        self._root = Node()\n",
    "\n",
    "    def update(self, left: int, right: int, delta: bool) -> None:\n",
    "        self._update(left, right, 0, int(1e9 + 10), self._root, delta)\n",
    "\n",
    "    def query(self, left: int, right: int) -> bool:\n",
    "        return self._query(left, right, 0, int(1e9 + 10), self._root)\n",
    "\n",
    "    def _update(self, L: int, R: int, l: int, r: int, root: Node, delta: bool) -> None:\n",
    "        if L <= l <= r <= R:\n",
    "            root.isTracked = delta\n",
    "            root.lazy = True\n",
    "            return\n",
    "\n",
    "        self._pushDown(root)\n",
    "        mid = (l + r) >> 1\n",
    "        if L <= mid:\n",
    "            self._update(L, R, l, mid, root.left, delta)\n",
    "        if R >= mid + 1:\n",
    "            self._update(L, R, mid + 1, r, root.right, delta)\n",
    "        self._pushUp(root)\n",
    "\n",
    "    def _query(self, L: int, R: int, l: int, r: int, root: Node) -> bool:\n",
    "        if L <= l <= r <= R:\n",
    "            return root.isTracked\n",
    "\n",
    "        self._pushDown(root)\n",
    "        mid = (l + r) >> 1\n",
    "        res = True\n",
    "        if L <= mid:\n",
    "            res = res and self._query(L, R, l, mid, root.left)\n",
    "        if R >= mid + 1:\n",
    "            res = res and self._query(L, R, mid + 1, r, root.right)\n",
    "        return res\n",
    "\n",
    "    def _pushUp(self, root: Node) -> None:\n",
    "        root.isTracked =  (\n",
    "            root.left and root.left.isTracked and root.right and root.right.isTracked\n",
    "        )\n",
    "\n",
    "    def _pushDown(self, root: Node) -> None:\n",
    "        if not root.left:\n",
    "            root.left = Node()\n",
    "        if not root.right:\n",
    "            root.right = Node()\n",
    "        if root.lazy:\n",
    "            root.left.lazy = root.right.lazy = True\n",
    "            root.left.isTracked = root.right.isTracked = root.isTracked\n",
    "            root.lazy = False\n",
    "\n",
    "\n",
    "class RangeModule:\n",
    "    def __init__(self):\n",
    "        self.tree = SegmentTree()\n",
    "\n",
    "    def addRange(self, left: int, right: int) -> None:\n",
    "        \"\"\"添加 半开区间 [left, right)\"\"\"\n",
    "        self.tree.update(left, right - 1, True)\n",
    "\n",
    "    def queryRange(self, left: int, right: int) -> bool:\n",
    "        \"\"\" 只有在当前正在跟踪区间 [left, right) 中的每一个实数时，才返回 true\"\"\"\n",
    "        return self.tree.query(left, right - 1)\n",
    "\n",
    "    def removeRange(self, left: int, right: int) -> None:\n",
    "        \"\"\" 停止跟踪 半开区间 [left, right)\"\"\"\n",
    "        self.tree.update(left, right - 1, False)"
   ]
  },
  {
   "cell_type": "code",
   "execution_count": 33,
   "id": "3863a8de",
   "metadata": {},
   "outputs": [],
   "source": [
    "# Definition for a binary tree node.\n",
    "# class TreeNode:\n",
    "#     def __init__(self, x):\n",
    "#         self.val = x\n",
    "#         self.left = None\n",
    "#         self.right = None\n",
    "class Solution:\n",
    "    def getNumber(self, root: Optional[TreeNode], ops: List[List[int]]) -> int:\n",
    "        def dfs(root, R):\n",
    "            if not root:\n",
    "                return\n",
    "            dfs(root.left)\n",
    "            R.queryRange(root.val, root.val+1)\n",
    "            dfs(root.right)\n",
    "            \n",
    "        R = RangeModule()\n",
    "        for i, l, r in ops:\n",
    "            if i == 1:\n",
    "                R.addRange(l, r+1)\n",
    "            else:\n",
    "                R.removeRange(l, r+1)\n",
    "        \n",
    "        return dfs(root, R)"
   ]
  },
  {
   "cell_type": "markdown",
   "id": "81b4de06",
   "metadata": {},
   "source": [
    "## or use bisect to deal with this problem."
   ]
  },
  {
   "cell_type": "code",
   "execution_count": 27,
   "id": "216ef868",
   "metadata": {},
   "outputs": [],
   "source": [
    "# Definition for a binary tree node.\n",
    "# class TreeNode:\n",
    "#     def __init__(self, x):\n",
    "#         self.val = x\n",
    "#         self.left = None\n",
    "#         self.right = None\n",
    "class Solution:\n",
    "    def getNumber(self, root: Optional[TreeNode], ops: List[List[int]]) -> int:\n",
    "        re = []\n",
    "        def dfs(root):\n",
    "            if not root:\n",
    "                return\n",
    "            dfs(root.left)\n",
    "            re.append(root.val)\n",
    "            dfs(root.right)\n",
    "        \n",
    "        dfs(root)\n",
    "        ret = 0\n",
    "        for i, l, r in ops[::-1]:\n",
    "            j = bisect.bisect_left(re, l)\n",
    "            n = bisect.bisect_left(re, r)\n",
    "            if j == len(re):\n",
    "                continue\n",
    "            if n < len(re) and re[n] == r:\n",
    "                n += 1\n",
    "            re = re[:j] + re[n:]\n",
    "            if i == 1:\n",
    "                ret += n-j\n",
    "        return ret"
   ]
  },
  {
   "cell_type": "code",
   "execution_count": 26,
   "id": "0d60da3f",
   "metadata": {},
   "outputs": [
    {
     "data": {
      "text/plain": [
       "3"
      ]
     },
     "execution_count": 26,
     "metadata": {},
     "output_type": "execute_result"
    }
   ],
   "source": [
    "a = [1,2,3,5]\n",
    "bisect.bisect_left(a, 5)"
   ]
  },
  {
   "cell_type": "markdown",
   "id": "752b11fa",
   "metadata": {},
   "source": [
    "## use segment_tree"
   ]
  },
  {
   "cell_type": "code",
   "execution_count": 29,
   "id": "2f6f54a0",
   "metadata": {},
   "outputs": [],
   "source": [
    "class Segment_tree:\n",
    "    def __init__(self, lens):\n",
    "        self.len = lens\n",
    "        self.Tree = [0] * (lens<<2)\n",
    "        self.lazy = [0] * (lens<<2)\n",
    "        \n",
    "    def push_up(self, k):\n",
    "        self.Tree[k] = self.Tree[k<<1] + self.Tree[(k<<1)+1]\n",
    "    \n",
    "    def _build(self, l, r, k):\n",
    "        if l == r:\n",
    "            self.Tree[k] = self.a[l]\n",
    "            return  \n",
    "        mid = l + (r-l)//2\n",
    "        self._build(l, mid, k<<1)\n",
    "        self._build(mid+1, r, (k<<1)+1)     \n",
    "        self.push_up(k)\n",
    "        return \n",
    "    \n",
    "    def query(self, l, r, k, L, R):\n",
    "        if l >= L and r <= R:\n",
    "            return self.Tree[k]\n",
    "        mid = l + (r-l)//2\n",
    "        self.push_down(k, mid-l+1, r-mid)\n",
    "        ret = 0\n",
    "        if L <= mid:\n",
    "            ret += self.query(l, mid, k<<1, L, R)\n",
    "        if R > mid:\n",
    "            ret += self.query(mid+1, r, (k<<1)+1, L, R)\n",
    "        return ret\n",
    "    \n",
    "    def push_down(self, k, l, r):\n",
    "        if self.lazy[k]:\n",
    "            self.lazy[k<<1] = self.lazy[k]\n",
    "            self.lazy[(k<<1)+1] = self.lazy[k]     \n",
    "            self.Tree[k<<1] = l if self.lazy[k] == 1 else 0\n",
    "            self.Tree[(k<<1)+1] = r if self.lazy[k] == 1 else 0\n",
    "            self.lazy[k] = 0\n",
    "            \n",
    "    def update(self, l, r, k, L, R, C):\n",
    "        if l >= L and r <= R:\n",
    "            self.Tree[k] = (r-l+1) * C if C == 1 else 0\n",
    "            self.lazy[k] = C\n",
    "            return \n",
    "        mid = l + (r-l)//2\n",
    "        self.push_down(k, mid-l+1, r-mid)\n",
    "        if L <= mid:\n",
    "            self.update(l, mid, k<<1, L, R, C)\n",
    "        if R > mid:\n",
    "            self.update(mid+1, r, (k<<1)+1, L, R, C)\n",
    "        self.push_up(k)\n",
    "    \n",
    "    def update_interval(self, L, R, C):\n",
    "        self.update(0, self.len-1, 1, L, R, C)\n",
    "        \n",
    "    def update_point(self, L, C):\n",
    "        self.update(0, self.len-1, 1, L, L, C)        \n",
    "        \n",
    "    def query_interval(self, L, R):\n",
    "        return self.query(0, self.len-1, 1, L, R)\n",
    "    \n",
    "    def query_point(self, L):\n",
    "        return self.query(0, self.len-1, 1, L, L)        "
   ]
  },
  {
   "cell_type": "code",
   "execution_count": 30,
   "id": "ba5fddc5",
   "metadata": {},
   "outputs": [],
   "source": [
    "class Solution:\n",
    "    def getNumber(self, root: Optional[TreeNode], ops: List[List[int]]) -> int:\n",
    "        tree_val = set()\n",
    "        total_val = set()\n",
    "        def dfs(root):\n",
    "            if not root:\n",
    "                return\n",
    "            dfs(root.left)\n",
    "            tree_val.add(root.val)\n",
    "            total_val.add(root.val)\n",
    "            dfs(root.right)\n",
    "        \n",
    "        dfs(root)\n",
    "        for _, l, r in ops:\n",
    "            total_val.add(l)\n",
    "            total_val.add(r)\n",
    "        total_val.sort()\n",
    "        maps = {n:i for i, n in enumerate(total_val)}\n",
    "        lens = len(re)\n",
    "        s = Segment_tree(lens + 1)\n",
    "        ret = 0\n",
    "        for i, l, r in ops:\n",
    "            j = maps[l]\n",
    "            n = maps[r]\n",
    "            if i == 1:\n",
    "                s.update_interval(j, n, 1)\n",
    "            else:\n",
    "                s.update_interval(j, n, -1)\n",
    "        for val in tree_val:\n",
    "            ret += s.query_point(maps[val])\n",
    "        return ret"
   ]
  },
  {
   "cell_type": "code",
   "execution_count": 31,
   "id": "76f76468",
   "metadata": {},
   "outputs": [],
   "source": [
    "class Solution:\n",
    "    def getNumber(self, root: Optional[TreeNode], ops: List[List[int]]) -> int:\n",
    "        re = []\n",
    "        def dfs(root):\n",
    "            if not root:\n",
    "                return\n",
    "            dfs(root.left)\n",
    "            re.append(root.val)\n",
    "            dfs(root.right)\n",
    "        \n",
    "        dfs(root)\n",
    "        lens = len(re)\n",
    "        s = Segment_tree(lens + 1)\n",
    "        ret = 0\n",
    "        for i, l, r in ops:\n",
    "            j = bisect.bisect_left(re, l)\n",
    "            n = bisect.bisect_left(re, r)\n",
    "            if j == len(re):\n",
    "                continue\n",
    "            if i == 1:\n",
    "                s.update_interval(j, n, 1)\n",
    "            else:\n",
    "                s.update_interval(j, n, -1)\n",
    "        return s.query_interval(0, lens-1)"
   ]
  },
  {
   "cell_type": "code",
   "execution_count": null,
   "id": "c97d76d0",
   "metadata": {},
   "outputs": [],
   "source": []
  },
  {
   "cell_type": "markdown",
   "id": "1d5b2f4a",
   "metadata": {},
   "source": [
    "# 守护太空城"
   ]
  },
  {
   "cell_type": "markdown",
   "id": "447c0469",
   "metadata": {},
   "source": [
    "提示 1\n",
    "考虑计算前 $i$ 个舱室需要的最小能量，由于题目中只有联合屏障会涉及到相邻的舱室，因此可以往 DP 上去思考。\n",
    "\n",
    "提示 2\n",
    "枚举第 $i-1$ 个舱室在哪些时间点（记作 $pre$ 集合）开启了联合屏障，这会产生如下影响（限制）：\n",
    "\n",
    "第 $i-1$ 个舱室在不属于 $pre$ 集合的时间点，若受到陨石雨的冲击，必须开启单独屏障（因为只有单独屏障和联合屏障两种防护方式）；\n",
    "\n",
    "第 $i$ 个舱室在属于 $pre$ 集合的时间点，由于被第 $i-1$ 个舱室的联合屏障保护，无需开启任何屏障；\n",
    "\n",
    "第 $i$ 个舱室在不属于 $pre$ 集合的时间点，若受到陨石雨的冲击，必须选择开启单独屏障，或者选择开启联合屏障。\n",
    "\n",
    "提示 3\n",
    "将「开启联合屏障的时间点集合」当作状态中的一个维度。"
   ]
  },
  {
   "cell_type": "code",
   "execution_count": 44,
   "id": "022efa71",
   "metadata": {},
   "outputs": [],
   "source": [
    "inf = float(\"inf\")\n",
    "class Solution:\n",
    "    def defendSpaceCity(self, time: List[int], position: List[int]) -> int:\n",
    "        n, m = max(position), 1 << max(time)\n",
    "        # 构造每个位置的时间序列\n",
    "        rain = [0] * (n + 1)\n",
    "        for t, p in zip(time, position):\n",
    "            rain[p] |= 1 << (t - 1)\n",
    "        \n",
    "        union = [0] * m\n",
    "        single = [0] * m\n",
    "        for i in range(1, m):\n",
    "            lb = i & -i\n",
    "            j = i ^ lb\n",
    "            lb2 = j & -j\n",
    "            union[i] = union[j] + (1 if lb == (lb2 >> 1) else 3)  # lb == (lb2 >> 1) 表示两个时间点相邻\n",
    "            single[i] = single[j] + (1 if lb == (lb2 >> 1) else 2)  # 递推\n",
    "\n",
    "        f = [[inf] * m for _ in range(n + 1)]\n",
    "        for i in range(n + 1):\n",
    "            for j in range(m):\n",
    "                pre = mask = (m - 1) ^ j\n",
    "                while True:  # 枚举 j 的补集 mask 中的子集 pre\n",
    "                    cost = (f[i - 1][pre] if i else 0) + union[j] + single[(mask ^ pre) & rain[i]]\n",
    "                    f[i][j] = min(f[i][j], cost)\n",
    "                    if pre == 0:\n",
    "                        break\n",
    "                    pre = (pre - 1) & mask\n",
    "        return f[n][0]"
   ]
  },
  {
   "cell_type": "markdown",
   "id": "7ba2467f",
   "metadata": {},
   "source": [
    "https://codeforces.com/blog/entry/66715?#comment-507869"
   ]
  },
  {
   "cell_type": "code",
   "execution_count": 46,
   "id": "231a1a91",
   "metadata": {},
   "outputs": [
    {
     "name": "stdout",
     "output_type": "stream",
     "text": [
      "[0, 7, 3, 17]\n"
     ]
    },
    {
     "data": {
      "text/plain": [
       "9"
      ]
     },
     "execution_count": 46,
     "metadata": {},
     "output_type": "execute_result"
    }
   ],
   "source": [
    "a = Solution().defendSpaceCity(time, position)\n",
    "a"
   ]
  },
  {
   "cell_type": "markdown",
   "id": "1de6a01e",
   "metadata": {},
   "source": [
    " 1. 枚举向右开的状态(也就是联合开的)，剩下的状态记作mask\n",
    "\n",
    " 2.从mask枚举子集为之前i-1和i联合开的屏障状态\n",
    "\n",
    " 3.从1,2剩下的能开屏障的状态与最小要求rain取交集，这些都单独开"
   ]
  },
  {
   "cell_type": "code",
   "execution_count": null,
   "id": "ecbfbcdd",
   "metadata": {},
   "outputs": [],
   "source": []
  }
 ],
 "metadata": {
  "kernelspec": {
   "display_name": "Python 3 (ipykernel)",
   "language": "python",
   "name": "python3"
  },
  "language_info": {
   "codemirror_mode": {
    "name": "ipython",
    "version": 3
   },
   "file_extension": ".py",
   "mimetype": "text/x-python",
   "name": "python",
   "nbconvert_exporter": "python",
   "pygments_lexer": "ipython3",
   "version": "3.8.8"
  },
  "toc": {
   "base_numbering": 1,
   "nav_menu": {},
   "number_sections": true,
   "sideBar": true,
   "skip_h1_title": false,
   "title_cell": "Table of Contents",
   "title_sidebar": "Contents",
   "toc_cell": false,
   "toc_position": {
    "height": "calc(100% - 180px)",
    "left": "10px",
    "top": "150px",
    "width": "512px"
   },
   "toc_section_display": true,
   "toc_window_display": true
  }
 },
 "nbformat": 4,
 "nbformat_minor": 5
}
