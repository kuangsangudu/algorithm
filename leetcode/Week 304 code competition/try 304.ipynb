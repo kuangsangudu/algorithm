{
 "cells": [
  {
   "cell_type": "code",
   "execution_count": 1,
   "id": "2f70ea39",
   "metadata": {},
   "outputs": [],
   "source": [
    "from typing import *\n",
    "import heapq\n",
    "import math\n",
    "import collections"
   ]
  },
  {
   "cell_type": "markdown",
   "id": "46350e30",
   "metadata": {},
   "source": [
    "# 6132. Make Array Zero by Subtracting Equal Amounts"
   ]
  },
  {
   "cell_type": "code",
   "execution_count": 2,
   "id": "84016ee4",
   "metadata": {},
   "outputs": [],
   "source": [
    "class Solution:\n",
    "    def minimumOperations(self, nums: List[int]) -> int:\n",
    "        nums.sort()\n",
    "        ret = 0\n",
    "        sums = 0\n",
    "        for n in nums:\n",
    "            if n > sums:\n",
    "                ret += 1\n",
    "                sums += n-sums\n",
    "        return ret"
   ]
  },
  {
   "cell_type": "code",
   "execution_count": 53,
   "id": "b073a61b",
   "metadata": {},
   "outputs": [],
   "source": [
    "grades = [10,6,12,7,3,5]"
   ]
  },
  {
   "cell_type": "code",
   "execution_count": 56,
   "id": "254ae98f",
   "metadata": {},
   "outputs": [
    {
     "data": {
      "text/plain": [
       "3"
      ]
     },
     "execution_count": 56,
     "metadata": {},
     "output_type": "execute_result"
    }
   ],
   "source": [
    "a = Solution().maximumGroups(grades)\n",
    "a"
   ]
  },
  {
   "cell_type": "markdown",
   "id": "a40a3997",
   "metadata": {},
   "source": [
    "# 6133. Maximum Number of Groups Entering a Competition"
   ]
  },
  {
   "cell_type": "code",
   "execution_count": 55,
   "id": "2d35e53c",
   "metadata": {},
   "outputs": [],
   "source": [
    "class Solution:\n",
    "    def maximumGroups(self, grades: List[int]) -> int:\n",
    "        grades.sort()\n",
    "        ret = 0\n",
    "        prep = 0\n",
    "        presums = 0\n",
    "        p, sums = 0, 0\n",
    "        for n in grades:\n",
    "            p += 1\n",
    "            sums += 1\n",
    "            if sums > presums and p > prep:\n",
    "                ret += 1\n",
    "                presums, prep = sums, p\n",
    "                p, sums = 0, 0\n",
    "        return ret"
   ]
  },
  {
   "cell_type": "markdown",
   "id": "1bce79aa",
   "metadata": {},
   "source": [
    "# 6134. Find Closest Node to Given Two Nodes"
   ]
  },
  {
   "cell_type": "code",
   "execution_count": 116,
   "id": "f69a296b",
   "metadata": {},
   "outputs": [],
   "source": [
    "class Solution:\n",
    "    def closestMeetingNode(self, edges: List[int], node1: int, node2: int) -> int:\n",
    "        def xunzhao(node):\n",
    "            q = collections.deque([[node, 0]])\n",
    "            visited = [float(\"inf\")] * len(edges)\n",
    "            while q:\n",
    "                node, s = q.popleft()\n",
    "                if visited[node] <= s:\n",
    "                    continue\n",
    "                visited[node] = s\n",
    "                if graph.get(node, -1) != -1:\n",
    "                    q.append([graph[node], s+1])   \n",
    "            return visited\n",
    "            \n",
    "        graph = collections.defaultdict(int)\n",
    "        for i, n in enumerate(edges):\n",
    "            if n == -1:\n",
    "                continue\n",
    "            graph[i] = n\n",
    "        v1 = xunzhao(node1)\n",
    "        ret = 0\n",
    "        re = float(\"inf\")\n",
    "        v2 = xunzhao(node2)\n",
    "        for i in range(len(v1)):\n",
    "            if v1[i] != float(\"inf\") and v2[i] != float(\"inf\"):\n",
    "                if re > max(v1[i], v2[i]):\n",
    "                    ret = i\n",
    "                    re = max(v1[i], v2[i])\n",
    "        if re == float(\"inf\"):\n",
    "            return -1\n",
    "        return ret"
   ]
  },
  {
   "cell_type": "code",
   "execution_count": 94,
   "id": "e04ca4d5",
   "metadata": {},
   "outputs": [],
   "source": [
    "edges = [2,2,3,-1]\n",
    "node1 = 0\n",
    "node2 = 1"
   ]
  },
  {
   "cell_type": "code",
   "execution_count": 123,
   "id": "248c8ea2",
   "metadata": {},
   "outputs": [
    {
     "name": "stdout",
     "output_type": "stream",
     "text": [
      "[1, 5, 4, 0, 3, 2, inf]\n",
      "[3, 1, 0, 2, 5, 4, inf]\n",
      "defaultdict(<class 'int'>, {0: 5, 1: 3, 2: 1, 3: 0, 4: 2, 5: 4, 6: 5})\n"
     ]
    },
    {
     "data": {
      "text/plain": [
       "3"
      ]
     },
     "execution_count": 123,
     "metadata": {},
     "output_type": "execute_result"
    }
   ],
   "source": [
    "a = Solution().closestMeetingNode(edges, node1, node2)\n",
    "a"
   ]
  },
  {
   "cell_type": "code",
   "execution_count": 118,
   "id": "076e5cde",
   "metadata": {},
   "outputs": [],
   "source": [
    "edges = [1,2,4,-1,-1,2,1,-1,0,-1]\n",
    "node1 = 8\n",
    "node2 = 6"
   ]
  },
  {
   "cell_type": "code",
   "execution_count": 97,
   "id": "75bd4bd3",
   "metadata": {},
   "outputs": [
    {
     "data": {
      "text/plain": [
       "1"
      ]
     },
     "execution_count": 97,
     "metadata": {},
     "output_type": "execute_result"
    }
   ],
   "source": [
    "1"
   ]
  },
  {
   "cell_type": "code",
   "execution_count": 122,
   "id": "209c6f92",
   "metadata": {},
   "outputs": [],
   "source": [
    "edges = [5,3,1,0,2,4,5]\n",
    "node1 = 3\n",
    "node2 = 2"
   ]
  },
  {
   "cell_type": "markdown",
   "id": "1ba8cc7d",
   "metadata": {},
   "source": [
    "# 6135. Longest Cycle in a Graph"
   ]
  },
  {
   "cell_type": "code",
   "execution_count": 158,
   "id": "183ffc17",
   "metadata": {},
   "outputs": [],
   "source": [
    "class Solution:\n",
    "    def longestCycle(self, edges: List[int]) -> int:\n",
    "        graph = collections.defaultdict(int)\n",
    "        for i, n in enumerate(edges):\n",
    "            if n == -1:\n",
    "                continue\n",
    "            graph[i] = n\n",
    "            \n",
    "        visited = [[-1, -1] for _ in range(len(edges))]\n",
    "        ret = -1\n",
    "        for i in range(len(edges)):\n",
    "            if visited[i][0] != -1:\n",
    "                continue\n",
    "            visited[i] = [0, i]\n",
    "            start = i\n",
    "            s = 0\n",
    "            while graph.get(start, -1) != -1:\n",
    "                start = graph[start]\n",
    "                if visited[start][1] != -1 and visited[start][1]!=i:\n",
    "                    break\n",
    "                if visited[start][0] != -1:\n",
    "                    ret = max(ret, s - visited[start][0]+1)\n",
    "                    print(visited, ret)\n",
    "                    break\n",
    "                s += 1\n",
    "                visited[start] = [s, i]\n",
    "        return ret"
   ]
  },
  {
   "cell_type": "code",
   "execution_count": 159,
   "id": "d82efbe7",
   "metadata": {},
   "outputs": [],
   "source": [
    "edges = [3,3,4,2,3]"
   ]
  },
  {
   "cell_type": "code",
   "execution_count": 162,
   "id": "20bbbba8",
   "metadata": {},
   "outputs": [
    {
     "name": "stdout",
     "output_type": "stream",
     "text": [
      "defaultdict(<class 'int'>, {0: 1, 1: 2, 2: 0, 3: 4, 4: 5, 5: 6, 6: 3, 7: 8, 8: 9, 9: 7})\n",
      "[[0, 0], [1, 0], [2, 0], [-1, -1], [-1, -1], [-1, -1], [-1, -1], [-1, -1], [-1, -1], [-1, -1]] 3\n",
      "[[0, 0], [1, 0], [2, 0], [0, 3], [1, 3], [2, 3], [3, 3], [-1, -1], [-1, -1], [-1, -1]] 4\n",
      "[[0, 0], [1, 0], [2, 0], [0, 3], [1, 3], [2, 3], [3, 3], [0, 7], [1, 7], [2, 7]] 4\n",
      "[[0, 0], [1, 0], [2, 0], [0, 3], [1, 3], [2, 3], [3, 3], [0, 7], [1, 7], [2, 7]]\n"
     ]
    },
    {
     "data": {
      "text/plain": [
       "4"
      ]
     },
     "execution_count": 162,
     "metadata": {},
     "output_type": "execute_result"
    }
   ],
   "source": [
    "a = Solution().longestCycle(edges)\n",
    "a"
   ]
  },
  {
   "cell_type": "code",
   "execution_count": 161,
   "id": "71ba30d1",
   "metadata": {},
   "outputs": [],
   "source": [
    "edges = [1,2,0,4,5,6,3,8,9,7]"
   ]
  },
  {
   "cell_type": "code",
   "execution_count": 163,
   "id": "9e975057",
   "metadata": {},
   "outputs": [],
   "source": [
    "class Solution:\n",
    "    def longestCycle(self, edges: List[int]) -> int:\n",
    "        time = [0] * len(edges)\n",
    "        clock, ans = 1, -1\n",
    "        for x, t in enumerate(time):\n",
    "            if t: continue\n",
    "            start_time = clock\n",
    "            while x >= 0:\n",
    "                if time[x]:  # 重复访问\n",
    "                    if time[x] >= start_time:  # 找到了一个新的环\n",
    "                        ans = max(ans, clock - time[x])\n",
    "                    break\n",
    "                time[x] = clock\n",
    "                clock += 1\n",
    "                x = edges[x]\n",
    "        return ans"
   ]
  },
  {
   "cell_type": "code",
   "execution_count": null,
   "id": "96ca59ac",
   "metadata": {},
   "outputs": [],
   "source": []
  }
 ],
 "metadata": {
  "kernelspec": {
   "display_name": "Python 3 (ipykernel)",
   "language": "python",
   "name": "python3"
  },
  "language_info": {
   "codemirror_mode": {
    "name": "ipython",
    "version": 3
   },
   "file_extension": ".py",
   "mimetype": "text/x-python",
   "name": "python",
   "nbconvert_exporter": "python",
   "pygments_lexer": "ipython3",
   "version": "3.8.8"
  },
  "toc": {
   "base_numbering": 1,
   "nav_menu": {},
   "number_sections": true,
   "sideBar": true,
   "skip_h1_title": false,
   "title_cell": "Table of Contents",
   "title_sidebar": "Contents",
   "toc_cell": false,
   "toc_position": {},
   "toc_section_display": true,
   "toc_window_display": false
  }
 },
 "nbformat": 4,
 "nbformat_minor": 5
}
