{
 "cells": [
  {
   "cell_type": "code",
   "execution_count": 1,
   "id": "50d404a2",
   "metadata": {},
   "outputs": [],
   "source": [
    "import heapq\n",
    "import math\n",
    "import collections\n",
    "import functools\n",
    "from typing import *"
   ]
  },
  {
   "cell_type": "markdown",
   "id": "ab0be22f",
   "metadata": {},
   "source": [
    "# 6296. Alternating Digit Sum"
   ]
  },
  {
   "cell_type": "code",
   "execution_count": 2,
   "id": "da768d6a",
   "metadata": {},
   "outputs": [],
   "source": [
    "class Solution:\n",
    "    def alternateDigitSum(self, n: int) -> int:\n",
    "        flag = 1\n",
    "        ret = 0\n",
    "        for i in str(n):\n",
    "            ret += flag * int(i)\n",
    "            flag *= -1\n",
    "        return ret"
   ]
  },
  {
   "cell_type": "code",
   "execution_count": 34,
   "id": "172564e2",
   "metadata": {},
   "outputs": [],
   "source": [
    "class Solution:\n",
    "    def alternateDigitSum(self, n: int) -> int:\n",
    "        ans, sign = 0, 1\n",
    "        while n:\n",
    "            ans += n % 10 * sign\n",
    "            sign = -sign\n",
    "            n //= 10\n",
    "        return ans * -sign"
   ]
  },
  {
   "cell_type": "markdown",
   "id": "e5db04f8",
   "metadata": {},
   "source": [
    "# 6297. Sort the Students by Their Kth Score"
   ]
  },
  {
   "cell_type": "code",
   "execution_count": 3,
   "id": "ab9d46ec",
   "metadata": {},
   "outputs": [],
   "source": [
    "class Solution:\n",
    "    def sortTheStudents(self, score: List[List[int]], k: int) -> List[List[int]]:\n",
    "        return sorted(score, key=lambda x : -x[k])"
   ]
  },
  {
   "cell_type": "markdown",
   "id": "58ebb23d",
   "metadata": {},
   "source": [
    "# 6298. Apply Bitwise Operations to Make Strings Equalv"
   ]
  },
  {
   "cell_type": "code",
   "execution_count": 4,
   "id": "6468e601",
   "metadata": {},
   "outputs": [],
   "source": [
    "class Solution:\n",
    "    def makeStringsEqual(self, s: str, target: str) -> bool:\n",
    "        count = collections.Counter(s)\n",
    "        t = collections.Counter(target)\n",
    "        if (t[\"1\"] == 0 and count[\"1\"]!=0) or (count[\"1\"] == 0 and t[\"1\"]!=0):\n",
    "            return False\n",
    "        return Truev"
   ]
  },
  {
   "cell_type": "code",
   "execution_count": 5,
   "id": "ac91abcf",
   "metadata": {},
   "outputs": [],
   "source": [
    "s = \"00\"\n",
    "target = \"10\""
   ]
  },
  {
   "cell_type": "code",
   "execution_count": 6,
   "id": "01794ae2",
   "metadata": {},
   "outputs": [
    {
     "data": {
      "text/plain": [
       "True"
      ]
     },
     "execution_count": 6,
     "metadata": {},
     "output_type": "execute_result"
    }
   ],
   "source": [
    "a = Solution().makeStringsEqual(s, target)\n",
    "a"
   ]
  },
  {
   "cell_type": "markdown",
   "id": "615d17f3",
   "metadata": {},
   "source": [
    "# 6299. Minimum Cost to Split an Array"
   ]
  },
  {
   "cell_type": "code",
   "execution_count": 31,
   "id": "9f22bb42",
   "metadata": {},
   "outputs": [],
   "source": [
    "class Solution:\n",
    "    def minCost(self, nums: List[int], k: int) -> int:\n",
    "        pre_sums = [[0] * len(nums) for _ in range(len(nums))]\n",
    "        for i in range(len(nums)):\n",
    "            v = collections.defaultdict(int)\n",
    "            sums = 0\n",
    "            for j in range(i, len(nums)):\n",
    "                if v.get(nums[j], -1) > 1:\n",
    "                    sums += 1\n",
    "                elif v.get(nums[j], -1) == 1:\n",
    "                    sums += 2\n",
    "                v[nums[j]] += 1\n",
    "                pre_sums[i][j] = sums\n",
    "        \n",
    "        inf = float(\"inf\")\n",
    "        dp = [inf] * (len(nums)+1)\n",
    "        dp[0] = 0\n",
    "        for i in range(1, len(dp)):\n",
    "            for j in range(i):\n",
    "                dp[i] = min(dp[i], dp[j] + k + pre_sums[j][i-1])\n",
    "        print(dp, pre_sums)\n",
    "        return dp[-1]"
   ]
  },
  {
   "cell_type": "code",
   "execution_count": 32,
   "id": "378df565",
   "metadata": {},
   "outputs": [],
   "source": [
    "nums = [1,2,1,2,1,3,3]; k = 2"
   ]
  },
  {
   "cell_type": "code",
   "execution_count": 33,
   "id": "d1bbbda2",
   "metadata": {},
   "outputs": [
    {
     "name": "stdout",
     "output_type": "stream",
     "text": [
      "[0, 2, 2, 4, 4, 6, 6, 8] [[0, 0, 2, 4, 5, 5, 7], [0, 0, 0, 2, 4, 4, 6], [0, 0, 0, 0, 2, 2, 4], [0, 0, 0, 0, 0, 0, 2], [0, 0, 0, 0, 0, 0, 2], [0, 0, 0, 0, 0, 0, 2], [0, 0, 0, 0, 0, 0, 0]]\n"
     ]
    },
    {
     "data": {
      "text/plain": [
       "8"
      ]
     },
     "execution_count": 33,
     "metadata": {},
     "output_type": "execute_result"
    }
   ],
   "source": [
    "a = Solution().minCost(nums, k)\n",
    "a"
   ]
  },
  {
   "cell_type": "code",
   "execution_count": 35,
   "id": "42258c70",
   "metadata": {},
   "outputs": [],
   "source": [
    "class Solution:\n",
    "    def minCost(self, nums: List[int], k: int) -> int:\n",
    "        n = len(nums)\n",
    "        f = [0] * (n + 1)\n",
    "        for i in range(n):\n",
    "            cnt, unique, mn = [0] * n, 0, inf\n",
    "            for j in range(i, -1, -1):\n",
    "                x = nums[j]\n",
    "                cnt[x] += 1\n",
    "                if cnt[x] == 1: unique += 1\n",
    "                elif cnt[x] == 2: unique -= 1\n",
    "                mn = min(mn, f[j] - unique)\n",
    "                # if f[j]-unique < mn: mn = f[j]-unique  # 手写 min 会快很多\n",
    "            f[i + 1] = k + mn\n",
    "        return f[n] + n"
   ]
  },
  {
   "cell_type": "code",
   "execution_count": null,
   "id": "65aa7314",
   "metadata": {},
   "outputs": [],
   "source": []
  }
 ],
 "metadata": {
  "kernelspec": {
   "display_name": "Python 3 (ipykernel)",
   "language": "python",
   "name": "python3"
  },
  "language_info": {
   "codemirror_mode": {
    "name": "ipython",
    "version": 3
   },
   "file_extension": ".py",
   "mimetype": "text/x-python",
   "name": "python",
   "nbconvert_exporter": "python",
   "pygments_lexer": "ipython3",
   "version": "3.8.8"
  },
  "toc": {
   "base_numbering": 1,
   "nav_menu": {},
   "number_sections": true,
   "sideBar": true,
   "skip_h1_title": false,
   "title_cell": "Table of Contents",
   "title_sidebar": "Contents",
   "toc_cell": false,
   "toc_position": {},
   "toc_section_display": true,
   "toc_window_display": false
  }
 },
 "nbformat": 4,
 "nbformat_minor": 5
}
