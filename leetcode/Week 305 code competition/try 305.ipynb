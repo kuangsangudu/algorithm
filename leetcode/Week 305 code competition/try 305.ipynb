{
 "cells": [
  {
   "cell_type": "code",
   "execution_count": 4,
   "id": "7709e29e",
   "metadata": {},
   "outputs": [],
   "source": [
    "from typing import *\n",
    "import math\n",
    "import collections\n",
    "import heapq"
   ]
  },
  {
   "cell_type": "markdown",
   "id": "244cc69b",
   "metadata": {},
   "source": [
    "# 6136. Number of Arithmetic Triplets"
   ]
  },
  {
   "cell_type": "code",
   "execution_count": 2,
   "id": "dc64b5c1",
   "metadata": {},
   "outputs": [],
   "source": [
    "class Solution:\n",
    "    def arithmeticTriplets(self, nums: List[int], diff: int) -> int:\n",
    "        ret = 0\n",
    "        for i in range(len(nums)):\n",
    "            if nums[i] + diff in nums and nums[i] + 2 * diff in nums:\n",
    "                ret += 1\n",
    "        return ret"
   ]
  },
  {
   "cell_type": "markdown",
   "id": "4e8d5570",
   "metadata": {},
   "source": [
    "# 6139. Reachable Nodes With Restrictions"
   ]
  },
  {
   "cell_type": "code",
   "execution_count": 20,
   "id": "16faaa04",
   "metadata": {},
   "outputs": [],
   "source": [
    "class Solution:\n",
    "    def reachableNodes(self, n: int, edges: List[List[int]], restricted: List[int]) -> int:\n",
    "        visited = set()\n",
    "        visited.add(0)\n",
    "        graph = collections.defaultdict(list)\n",
    "        for i, j in edges:\n",
    "            graph[i].append(j)\n",
    "            graph[j].append(i)\n",
    "        q = collections.deque()\n",
    "        q.append(0)\n",
    "        restricted = set(restricted)\n",
    "        while q:\n",
    "            n = q.popleft()\n",
    "            for nxt in graph[n]:\n",
    "                if nxt not in visited and nxt not in restricted:\n",
    "                    visited.add(nxt)\n",
    "                    q.append(nxt)\n",
    "        return len(visited)"
   ]
  },
  {
   "cell_type": "code",
   "execution_count": 21,
   "id": "238b8a78",
   "metadata": {},
   "outputs": [],
   "source": [
    "n = 7;\n",
    "edges = [[0,1],[1,2],[3,1],[4,0],[0,5],[5,6]]; \n",
    "restricted = [4,5]"
   ]
  },
  {
   "cell_type": "code",
   "execution_count": 22,
   "id": "20838263",
   "metadata": {},
   "outputs": [
    {
     "name": "stdout",
     "output_type": "stream",
     "text": [
      "1\n",
      "4\n",
      "5\n",
      "0\n",
      "2\n",
      "3\n",
      "1\n",
      "1\n"
     ]
    },
    {
     "data": {
      "text/plain": [
       "4"
      ]
     },
     "execution_count": 22,
     "metadata": {},
     "output_type": "execute_result"
    }
   ],
   "source": [
    "a = Solution().reachableNodes(n, edges, restricted)\n",
    "a"
   ]
  },
  {
   "cell_type": "markdown",
   "id": "3709fc24",
   "metadata": {},
   "source": [
    "# 6137. Check if There is a Valid Partition For The Array"
   ]
  },
  {
   "cell_type": "code",
   "execution_count": 5,
   "id": "9ae457eb",
   "metadata": {},
   "outputs": [],
   "source": [
    "import functools\n",
    "class Solution:\n",
    "    def validPartition(self, nums: List[int]) -> bool:\n",
    "        @functools.lru_cache(None)\n",
    "        def xunzhao(idx):\n",
    "            if idx == len(nums):\n",
    "                return True\n",
    "            if idx+1 < len(nums) and nums[idx+1]==nums[idx]:\n",
    "                if xunzhao(idx+2):\n",
    "                    return True\n",
    "                if idx + 2 < len(nums) and nums[idx+2] == nums[idx] and xunzhao(idx+3):\n",
    "                    return True\n",
    "            if idx + 2 < len(nums) and nums[idx+2] == nums[idx+1] + 1== nums[idx]+2 and xunzhao(idx+3):\n",
    "                return True\n",
    "            return False\n",
    "        \n",
    "        return xunzhao(0)"
   ]
  },
  {
   "cell_type": "code",
   "execution_count": 24,
   "id": "ddf0a560",
   "metadata": {},
   "outputs": [],
   "source": [
    "nums = [4,4,4,5,6]"
   ]
  },
  {
   "cell_type": "code",
   "execution_count": 31,
   "id": "6e54ca91",
   "metadata": {},
   "outputs": [
    {
     "data": {
      "text/plain": [
       "True"
      ]
     },
     "execution_count": 31,
     "metadata": {},
     "output_type": "execute_result"
    }
   ],
   "source": [
    "a = Solution().validPartition(nums)\n",
    "a"
   ]
  },
  {
   "cell_type": "code",
   "execution_count": 30,
   "id": "0f1ccc54",
   "metadata": {},
   "outputs": [],
   "source": [
    "nums = [1,1,1]"
   ]
  },
  {
   "cell_type": "code",
   "execution_count": 6,
   "id": "66899c44",
   "metadata": {},
   "outputs": [],
   "source": [
    "class Solution:\n",
    "    def validPartition(self, nums: List[int]) -> bool:\n",
    "        n = len(nums)\n",
    "        f = [True] + [False] * n\n",
    "        for i, x in enumerate(nums):\n",
    "            if i > 0 and f[i - 1] and x == nums[i - 1] or \\\n",
    "               i > 1 and f[i - 2] and (x == nums[i - 1] == nums[i - 2] or\n",
    "                                       x == nums[i - 1] + 1 == nums[i - 2] + 2):\n",
    "               f[i + 1] = True\n",
    "        return f[n]"
   ]
  },
  {
   "cell_type": "markdown",
   "id": "6bf20455",
   "metadata": {},
   "source": [
    "# 6138. Longest Ideal Subsequence"
   ]
  },
  {
   "cell_type": "code",
   "execution_count": 34,
   "id": "f9ee0d47",
   "metadata": {},
   "outputs": [],
   "source": [
    "class Solution:\n",
    "    def longestIdealString(self, s: str, k: int) -> int:\n",
    "        re = collections.defaultdict(int)\n",
    "        for i in s:\n",
    "            n = ord(i)\n",
    "            for before in range(n-k, n+k+1):\n",
    "                re[n] = max(re[n], re[before])\n",
    "            re[n] += 1\n",
    "        return max(re.values())"
   ]
  },
  {
   "cell_type": "code",
   "execution_count": 33,
   "id": "1f124934",
   "metadata": {},
   "outputs": [
    {
     "data": {
      "text/plain": [
       "107"
      ]
     },
     "execution_count": 33,
     "metadata": {},
     "output_type": "execute_result"
    }
   ],
   "source": [
    "ord(\"k\")"
   ]
  },
  {
   "cell_type": "code",
   "execution_count": null,
   "id": "eae6cedf",
   "metadata": {},
   "outputs": [],
   "source": []
  }
 ],
 "metadata": {
  "kernelspec": {
   "display_name": "Python 3 (ipykernel)",
   "language": "python",
   "name": "python3"
  },
  "language_info": {
   "codemirror_mode": {
    "name": "ipython",
    "version": 3
   },
   "file_extension": ".py",
   "mimetype": "text/x-python",
   "name": "python",
   "nbconvert_exporter": "python",
   "pygments_lexer": "ipython3",
   "version": "3.8.8"
  },
  "toc": {
   "base_numbering": 1,
   "nav_menu": {},
   "number_sections": true,
   "sideBar": true,
   "skip_h1_title": false,
   "title_cell": "Table of Contents",
   "title_sidebar": "Contents",
   "toc_cell": false,
   "toc_position": {},
   "toc_section_display": true,
   "toc_window_display": false
  }
 },
 "nbformat": 4,
 "nbformat_minor": 5
}
