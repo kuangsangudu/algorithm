{
 "cells": [
  {
   "cell_type": "code",
   "execution_count": 1,
   "id": "03d35d08",
   "metadata": {},
   "outputs": [],
   "source": [
    "import collections\n",
    "import math\n",
    "import heapq\n",
    "from typing import *"
   ]
  },
  {
   "cell_type": "markdown",
   "id": "9352ecbe",
   "metadata": {},
   "source": [
    "# 5259. Calculate Amount Paid in Taxes"
   ]
  },
  {
   "cell_type": "code",
   "execution_count": 2,
   "id": "d0391b00",
   "metadata": {},
   "outputs": [],
   "source": [
    "class Solution:\n",
    "    def calculateTax(self, brackets: List[List[int]], income: int) -> float:\n",
    "        if income >= brackets[0][0]:\n",
    "            ret = brackets[0][0] * brackets[0][1]  \n",
    "        else:\n",
    "            return income * brackets[0][1] /100\n",
    "        for i in range(1, len(brackets)):\n",
    "            if income >= brackets[i][0]:\n",
    "                ret += (brackets[i][0]-brackets[i-1][0]) * brackets[i][1]\n",
    "            else:\n",
    "                ret += (income-brackets[i-1][0]) * brackets[i][1]\n",
    "                break\n",
    "        return ret/100"
   ]
  },
  {
   "cell_type": "markdown",
   "id": "49c7ca96",
   "metadata": {},
   "source": [
    "# 5270. Minimum Path Cost in a Grid"
   ]
  },
  {
   "cell_type": "code",
   "execution_count": 60,
   "id": "f6daff43",
   "metadata": {},
   "outputs": [],
   "source": [
    "class Solution:\n",
    "    def minPathCost(self, grid: List[List[int]], moveCost: List[List[int]]) -> int:\n",
    "        pre = grid[0]\n",
    "        for i in range(len(grid)-1):\n",
    "            nxt = [float(\"inf\")] * len(grid[0])\n",
    "            for s in range(len(grid[0])):\n",
    "                for j in range(len(grid[0])):\n",
    "                    nxt[j] = min(nxt[j], pre[s] + moveCost[grid[i][s]][j] + grid[i+1][j])\n",
    "            pre = nxt\n",
    "        return min(pre)"
   ]
  },
  {
   "cell_type": "code",
   "execution_count": 61,
   "id": "9af36b54",
   "metadata": {},
   "outputs": [],
   "source": [
    "grid = [[5,1,2],[4,0,3]]\n",
    "moveCost = [[12,10,15],[20,23,8],[21,7,1],[8,1,13],[9,10,25],[5,3,2]]"
   ]
  },
  {
   "cell_type": "code",
   "execution_count": 62,
   "id": "2940c24e",
   "metadata": {},
   "outputs": [
    {
     "data": {
      "text/plain": [
       "6"
      ]
     },
     "execution_count": 62,
     "metadata": {},
     "output_type": "execute_result"
    }
   ],
   "source": [
    "a = Solution().minPathCost(grid, moveCost)\n",
    "a"
   ]
  },
  {
   "cell_type": "markdown",
   "id": "def28e98",
   "metadata": {},
   "source": [
    "# 5289. Fair Distribution of Cookies"
   ]
  },
  {
   "cell_type": "code",
   "execution_count": 20,
   "id": "fca6d61a",
   "metadata": {},
   "outputs": [],
   "source": [
    "import functools\n",
    "class Solution:\n",
    "    def distributeCookies(self, cookies: List[int], k: int) -> int:\n",
    "        def xunzhao(i, people):\n",
    "            if i == len(cookies):\n",
    "                return min(people)\n",
    "            ret = float(\"inf\")\n",
    "            people = list(people)\n",
    "            for j in range(k):\n",
    "                people[j] += cookies[i]\n",
    "                ret = min(ret, xunzhao(i+1, tuple(people)))\n",
    "                people[j] -= cookies[i]\n",
    "            return ret\n",
    "        \n",
    "        return xunzhao(0, tuple([0]*k))"
   ]
  },
  {
   "cell_type": "code",
   "execution_count": 63,
   "id": "71d95a7e",
   "metadata": {},
   "outputs": [],
   "source": [
    "import functools\n",
    "class Solution:\n",
    "    def distributeCookies(self, cookies: List[int], k: int) -> int:\n",
    "        avg = math.ceil(sum(cookies)/k)\n",
    "        def xunzhao(i, people):\n",
    "            if i == len(cookies):\n",
    "                return max(people)\n",
    "            ret = float(\"inf\")\n",
    "            for j in range(k):\n",
    "                if people[j] >= avg:\n",
    "                    continue\n",
    "                people[j] += cookies[i]\n",
    "                ret = min(ret, xunzhao(i+1, people))\n",
    "                people[j] -= cookies[i]\n",
    "            return ret\n",
    "        \n",
    "        return xunzhao(0, [0]*k)"
   ]
  },
  {
   "cell_type": "code",
   "execution_count": 67,
   "id": "0fb08ea4",
   "metadata": {},
   "outputs": [],
   "source": [
    "cookies = [8,15,10,20,8]\n",
    "k = 2"
   ]
  },
  {
   "cell_type": "markdown",
   "id": "26606e92",
   "metadata": {},
   "source": [
    "子集状态压缩"
   ]
  },
  {
   "cell_type": "code",
   "execution_count": 89,
   "id": "da4c44ce",
   "metadata": {},
   "outputs": [],
   "source": [
    "import copy\n",
    "class Solution:\n",
    "    def distributeCookies(self, cookies: List[int], k: int) -> int:\n",
    "        lens = 1 << len(cookies)\n",
    "        sums = [0] * lens\n",
    "        for i, cookie in enumerate(cookies):\n",
    "            bits = 1<<i\n",
    "            for i in range(bits):\n",
    "                sums[i|bits] = sums[i] + cookie\n",
    "        f = copy.deepcopy(sums)\n",
    "        for i in range(1, k):\n",
    "            for j in range(lens-1, 0, -1):\n",
    "                x = j\n",
    "                while x:\n",
    "                    f[j] = min(f[j], max(f[x^j], sums[x]))\n",
    "                    x = (x-1)&j\n",
    "        return f[-1]"
   ]
  },
  {
   "cell_type": "code",
   "execution_count": 90,
   "id": "b1b4353d",
   "metadata": {},
   "outputs": [
    {
     "data": {
      "text/plain": [
       "31"
      ]
     },
     "execution_count": 90,
     "metadata": {},
     "output_type": "execute_result"
    }
   ],
   "source": [
    "a = Solution().distributeCookies(cookies, k)\n",
    "a"
   ]
  },
  {
   "cell_type": "markdown",
   "id": "6f2de8c1",
   "metadata": {},
   "source": [
    "# 6094. Naming a Company"
   ]
  },
  {
   "cell_type": "code",
   "execution_count": 92,
   "id": "08736dcf",
   "metadata": {},
   "outputs": [],
   "source": [
    "#wrong answer\n",
    "class Solution:\n",
    "    def distinctNames(self, ideas: List[str]) -> int:\n",
    "        re = collections.defaultdict(dict)\n",
    "        r = collections.defaultdict(int)\n",
    "        for idea in ideas:\n",
    "            start, end = idea[0], idea[1:]\n",
    "            if re[end].get(start, -1)!=-1:\n",
    "                re[end][start] += 1\n",
    "            else:\n",
    "                re[end][start] = 1\n",
    "            r[start] += 1\n",
    "        sums = len(ideas)\n",
    "        ret = sums ** 2\n",
    "        print(re, r)\n",
    "        for key, val in re.items():\n",
    "            s = sum(val.values())\n",
    "            keys = list(val.keys())\n",
    "            for i, k in enumerate(keys):\n",
    "                a = (r[k]-1)\n",
    "                for nxt in keys[i+1:]:\n",
    "                    a += r[nxt]\n",
    "                ret -= 2 * a\n",
    "                print(val, a)\n",
    "        return ret\n",
    "                "
   ]
  },
  {
   "cell_type": "code",
   "execution_count": 58,
   "id": "55efaa6c",
   "metadata": {},
   "outputs": [],
   "source": [
    "ideas = [\"coffee\",\"donuts\",\"time\",\"toffee\"]"
   ]
  },
  {
   "cell_type": "code",
   "execution_count": 59,
   "id": "8c2c92e0",
   "metadata": {},
   "outputs": [
    {
     "name": "stdout",
     "output_type": "stream",
     "text": [
      "defaultdict(<class 'dict'>, {'offee': {'c': 1, 't': 1}, 'onuts': {'d': 1}, 'ime': {'t': 1}}) defaultdict(<class 'int'>, {'c': 1, 'd': 1, 't': 2})\n",
      "{'c': 1, 't': 1} 2\n",
      "{'c': 1, 't': 1} 1\n",
      "{'d': 1} 0\n",
      "{'t': 1} 1\n"
     ]
    },
    {
     "data": {
      "text/plain": [
       "8"
      ]
     },
     "execution_count": 59,
     "metadata": {},
     "output_type": "execute_result"
    }
   ],
   "source": [
    "a = Solution().distinctNames(ideas)\n",
    "a"
   ]
  },
  {
   "cell_type": "markdown",
   "id": "f02f4e9b",
   "metadata": {},
   "source": [
    "定义 cnt[i][j] 表示组中首字母不包含 i 但包含 j 的组的个数。"
   ]
  },
  {
   "cell_type": "code",
   "execution_count": 93,
   "id": "dcb397f9",
   "metadata": {},
   "outputs": [],
   "source": [
    "class Solution:\n",
    "    def distinctNames(self, ideas: List[str]) -> int:\n",
    "        group = defaultdict(int)\n",
    "        for s in ideas:\n",
    "            group[s[1:]] |= 1 << (ord(s[0]) - ord('a'))\n",
    "        ans = 0\n",
    "        cnt = [[0] * 26 for _ in range(26)]\n",
    "        for mask in group.values():\n",
    "            for i in range(26):\n",
    "                if mask >> i & 1 == 0:\n",
    "                    for j in range(26):\n",
    "                        if mask >> j & 1:\n",
    "                            cnt[i][j] += 1\n",
    "                else:\n",
    "                    for j in range(26):\n",
    "                        if mask >> j & 1 == 0:\n",
    "                            ans += cnt[i][j]\n",
    "        return ans * 2"
   ]
  },
  {
   "cell_type": "code",
   "execution_count": null,
   "id": "297543c2",
   "metadata": {},
   "outputs": [],
   "source": []
  }
 ],
 "metadata": {
  "kernelspec": {
   "display_name": "Python 3 (ipykernel)",
   "language": "python",
   "name": "python3"
  },
  "language_info": {
   "codemirror_mode": {
    "name": "ipython",
    "version": 3
   },
   "file_extension": ".py",
   "mimetype": "text/x-python",
   "name": "python",
   "nbconvert_exporter": "python",
   "pygments_lexer": "ipython3",
   "version": "3.8.8"
  },
  "toc": {
   "base_numbering": 1,
   "nav_menu": {},
   "number_sections": true,
   "sideBar": true,
   "skip_h1_title": false,
   "title_cell": "Table of Contents",
   "title_sidebar": "Contents",
   "toc_cell": false,
   "toc_position": {},
   "toc_section_display": true,
   "toc_window_display": false
  }
 },
 "nbformat": 4,
 "nbformat_minor": 5
}
