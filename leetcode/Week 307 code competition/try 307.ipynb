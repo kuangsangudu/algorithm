{
 "cells": [
  {
   "cell_type": "code",
   "execution_count": 1,
   "id": "a590f260",
   "metadata": {},
   "outputs": [],
   "source": [
    "from typing import *\n",
    "import math\n",
    "import heapq\n",
    "import collections"
   ]
  },
  {
   "cell_type": "markdown",
   "id": "13c74071",
   "metadata": {},
   "source": [
    "# 6152. Minimum Hours of Training to Win a Competition"
   ]
  },
  {
   "cell_type": "code",
   "execution_count": 2,
   "id": "959c76a3",
   "metadata": {},
   "outputs": [],
   "source": [
    "class Solution:\n",
    "    def minNumberOfHours(self, initialEnergy: int, initialExperience: int, energy: List[int], experience: List[int]) -> int:\n",
    "        en, ex = initialEnergy, initialExperience\n",
    "        ret = 0\n",
    "        for i in range(len(energy)):\n",
    "            if en <= energy[i]:\n",
    "                ret += energy[i] + 1 - en\n",
    "                en = energy[i] + 1\n",
    "            en -= energy[i]\n",
    "            if ex <= experience[i]:\n",
    "                ret += experience[i] + 1 - ex\n",
    "                ex = experience[i] + 1\n",
    "            ex += experience[i]\n",
    "        return ret"
   ]
  },
  {
   "cell_type": "markdown",
   "id": "e6533cd7",
   "metadata": {},
   "source": [
    "# 6166. Largest Palindromic Number"
   ]
  },
  {
   "cell_type": "code",
   "execution_count": 9,
   "id": "ee6da2a0",
   "metadata": {},
   "outputs": [],
   "source": [
    "class Solution:\n",
    "    def largestPalindromic(self, num: str) -> str:\n",
    "        c = collections.Counter(num)\n",
    "        ret = \"\"\n",
    "        maxs = \"\"\n",
    "        for key in sorted(c.keys(), reverse=True):\n",
    "            ret += key * (c[key]//2)\n",
    "            if c[key]%2 and not maxs:\n",
    "                maxs = key\n",
    "        ret = ret + maxs + ret[::-1]\n",
    "        if ret[0] == \"0\":\n",
    "            return max(num)\n",
    "        return ret"
   ]
  },
  {
   "cell_type": "code",
   "execution_count": 10,
   "id": "481bf0d4",
   "metadata": {},
   "outputs": [],
   "source": [
    "num = \"5736732\""
   ]
  },
  {
   "cell_type": "code",
   "execution_count": 11,
   "id": "82fac3a2",
   "metadata": {},
   "outputs": [
    {
     "data": {
      "text/plain": [
       "'73637'"
      ]
     },
     "execution_count": 11,
     "metadata": {},
     "output_type": "execute_result"
    }
   ],
   "source": [
    "a = Solution().largestPalindromic(num)\n",
    "a"
   ]
  },
  {
   "cell_type": "markdown",
   "id": "2b9b4de6",
   "metadata": {},
   "source": [
    "# 6154. Amount of Time for Binary Tree to Be Infected"
   ]
  },
  {
   "cell_type": "code",
   "execution_count": 13,
   "id": "c98e568f",
   "metadata": {},
   "outputs": [],
   "source": [
    "# Definition for a binary tree node.\n",
    "class TreeNode:\n",
    "    def __init__(self, val=0, left=None, right=None):\n",
    "        self.val = val\n",
    "        self.left = left\n",
    "        self.right = right\n",
    "        \n",
    "class Solution:\n",
    "    def amountOfTime(self, root: Optional[TreeNode], start: int) -> int:\n",
    "        g = collections.defaultdict(list)\n",
    "        \n",
    "        def xunzhao(root, par):\n",
    "            if not root:\n",
    "                return\n",
    "            if par != -1:\n",
    "                g[root.val].append(par.val)\n",
    "            if root.left:\n",
    "                g[root.val].append(root.left.val)\n",
    "            if root.right:\n",
    "                g[root.val].append(root.right.val)\n",
    "            xunzhao(root.left, root)\n",
    "            xunzhao(root.right, root)\n",
    "        \n",
    "        xunzhao(root, -1)\n",
    "        q = collections.deque([[start, 0]])\n",
    "        ret = 0\n",
    "        visited = set([start])\n",
    "        while q:\n",
    "            n, s = q.popleft()\n",
    "            ret = max(s, ret)\n",
    "            for nxt in g[n]:\n",
    "                if nxt not in visited:\n",
    "                    q.append([nxt, s+1])\n",
    "                    visited.add(nxt)\n",
    "        return ret"
   ]
  },
  {
   "cell_type": "markdown",
   "id": "21b31294",
   "metadata": {},
   "source": [
    "# 6155. Find the K-Sum of an Array"
   ]
  },
  {
   "cell_type": "code",
   "execution_count": 14,
   "id": "73d6c28e",
   "metadata": {},
   "outputs": [],
   "source": [
    "class Solution:\n",
    "    def kSum(self, nums: List[int], k: int) -> int:\n",
    "        sum = 0\n",
    "        for i, x in enumerate(nums):\n",
    "            if x >= 0: sum += x\n",
    "            else: nums[i] = -x\n",
    "        nums.sort()\n",
    "        h = [(-sum, 0)]  # 取负号变成最大堆\n",
    "        while k > 1:\n",
    "            k -= 1\n",
    "            s, i = heappop(h)\n",
    "            if i < len(nums):\n",
    "                heappush(h, (s + nums[i], i + 1))  # 保留 nums[i-1]\n",
    "                if i: heappush(h, (s + nums[i] - nums[i - 1], i + 1))  # 不保留 nums[i-1]\n",
    "        return -h[0][0]"
   ]
  },
  {
   "cell_type": "code",
   "execution_count": null,
   "id": "463b137a",
   "metadata": {},
   "outputs": [],
   "source": []
  }
 ],
 "metadata": {
  "kernelspec": {
   "display_name": "Python 3 (ipykernel)",
   "language": "python",
   "name": "python3"
  },
  "language_info": {
   "codemirror_mode": {
    "name": "ipython",
    "version": 3
   },
   "file_extension": ".py",
   "mimetype": "text/x-python",
   "name": "python",
   "nbconvert_exporter": "python",
   "pygments_lexer": "ipython3",
   "version": "3.8.8"
  },
  "toc": {
   "base_numbering": 1,
   "nav_menu": {},
   "number_sections": true,
   "sideBar": true,
   "skip_h1_title": false,
   "title_cell": "Table of Contents",
   "title_sidebar": "Contents",
   "toc_cell": false,
   "toc_position": {},
   "toc_section_display": true,
   "toc_window_display": false
  }
 },
 "nbformat": 4,
 "nbformat_minor": 5
}
