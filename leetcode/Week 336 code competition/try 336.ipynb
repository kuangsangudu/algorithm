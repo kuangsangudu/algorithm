{
 "cells": [
  {
   "cell_type": "code",
   "execution_count": 1,
   "id": "1a7f5bed",
   "metadata": {},
   "outputs": [],
   "source": [
    "import math\n",
    "import collections\n",
    "import heapq\n",
    "import bisect\n",
    "import functools\n",
    "from typing import *"
   ]
  },
  {
   "cell_type": "markdown",
   "id": "629c08e2",
   "metadata": {},
   "source": [
    "# 6315. Count the Number of Vowel Strings in Range"
   ]
  },
  {
   "cell_type": "code",
   "execution_count": 2,
   "id": "6a3d41dc",
   "metadata": {},
   "outputs": [],
   "source": [
    "class Solution:\n",
    "    def vowelStrings(self, words: List[str], left: int, right: int) -> int:\n",
    "        vowels = \"aeiou\"\n",
    "        words = words[left:right+1]\n",
    "        ret = 0\n",
    "        for word in words:\n",
    "            if word[0] in vowels and word[-1] in vowels:\n",
    "                ret += 1\n",
    "        return ret"
   ]
  },
  {
   "cell_type": "markdown",
   "id": "284a82f5",
   "metadata": {},
   "source": [
    "# 6316. Rearrange Array to Maximize Prefix Score"
   ]
  },
  {
   "cell_type": "code",
   "execution_count": 3,
   "id": "cdb21fe2",
   "metadata": {},
   "outputs": [],
   "source": [
    "class Solution:\n",
    "    def maxScore(self, nums: List[int]) -> int:\n",
    "        nums.sort(reverse=True)\n",
    "        sums = 0\n",
    "        ret = 0\n",
    "        for num in nums:\n",
    "            sums += num\n",
    "            if sums > 0:\n",
    "                ret += 1\n",
    "            else:\n",
    "                break\n",
    "        return ret"
   ]
  },
  {
   "cell_type": "markdown",
   "id": "73363ce9",
   "metadata": {},
   "source": [
    "# 6317. Count the Number of Beautiful Subarrays"
   ]
  },
  {
   "cell_type": "code",
   "execution_count": 37,
   "id": "6d627a54",
   "metadata": {},
   "outputs": [],
   "source": [
    "class Solution:\n",
    "    def beautifulSubarrays(self, nums: List[int]) -> int:\n",
    "        vis = {0:1}\n",
    "        sums = 0\n",
    "        ret = 0\n",
    "        for i, num in enumerate(nums):\n",
    "            sums ^= num\n",
    "            ret += vis.get(sums, 0)\n",
    "            vis[sums] += 1\n",
    "        print(vis)\n",
    "        return ret\n",
    "        "
   ]
  },
  {
   "cell_type": "code",
   "execution_count": 38,
   "id": "a41b7de1",
   "metadata": {},
   "outputs": [],
   "source": [
    "nums = [0, 0]"
   ]
  },
  {
   "cell_type": "code",
   "execution_count": 39,
   "id": "9bd0bab7",
   "metadata": {},
   "outputs": [
    {
     "name": "stdout",
     "output_type": "stream",
     "text": [
      "{0: 3}\n"
     ]
    },
    {
     "data": {
      "text/plain": [
       "3"
      ]
     },
     "execution_count": 39,
     "metadata": {},
     "output_type": "execute_result"
    }
   ],
   "source": [
    "a = Solution().beautifulSubarrays(nums)\n",
    "a"
   ]
  },
  {
   "cell_type": "markdown",
   "id": "8abc6253",
   "metadata": {},
   "source": [
    "# 6318. Minimum Time to Complete All Tasks"
   ]
  },
  {
   "cell_type": "code",
   "execution_count": 213,
   "id": "8bf67df5",
   "metadata": {},
   "outputs": [],
   "source": [
    "class Solution:\n",
    "    def findMinimumTime(self, tasks: List[List[int]]) -> int:\n",
    "        sums = [0] * 8\n",
    "        for s,e,d in tasks:\n",
    "            sums[s] += 1\n",
    "            sums[e+1] -= 1\n",
    "        for i in range(1, len(sums)):\n",
    "            sums[i] += sums[i-1]\n",
    "        h = []\n",
    "        for i, n in enumerate(sums):\n",
    "            heapq.heappush(h, [-n, i])\n",
    "        \n",
    "        ret = 0\n",
    "        while h:\n",
    "            s, i = heapq.heappop(h)\n",
    "            if -s > sums[i]:\n",
    "                heapq.heappush(h, [-sums[i], i])\n",
    "                continue\n",
    "                \n",
    "            flag = False\n",
    "            a = []\n",
    "            for j, (s, e, d) in enumerate(tasks):\n",
    "                if s <= i <= e and d:\n",
    "                    if d == 1:\n",
    "                        a.append(j)                    \n",
    "                    tasks[j][2] -= 1\n",
    "                    flag = True\n",
    "            \n",
    "            for f in a:\n",
    "                for j in range(tasks[f][0], tasks[f][1]+1):\n",
    "                    sums[j] -= 1\n",
    "            \n",
    "            ret += flag\n",
    "        return ret"
   ]
  },
  {
   "cell_type": "code",
   "execution_count": 230,
   "id": "4bbd046d",
   "metadata": {},
   "outputs": [],
   "source": [
    "tasks = tasks = [[1,3,2], [1,3,1]]"
   ]
  },
  {
   "cell_type": "code",
   "execution_count": 231,
   "id": "5bff1480",
   "metadata": {},
   "outputs": [
    {
     "data": {
      "text/plain": [
       "2"
      ]
     },
     "execution_count": 231,
     "metadata": {},
     "output_type": "execute_result"
    }
   ],
   "source": [
    "a = Solution().findMinimumTime(tasks)\n",
    "a"
   ]
  },
  {
   "cell_type": "code",
   "execution_count": 233,
   "id": "de4a6f81",
   "metadata": {},
   "outputs": [],
   "source": [
    "# 贪心\n",
    "class Solution:\n",
    "    def findMinimumTime(self, tasks: List[List[int]]) -> int:\n",
    "        tasks.sort(key=lambda x:x[1])\n",
    "        vis = [False] * 2002\n",
    "        for start, end, d in tasks:\n",
    "            t = d - sum(vis[start:end+1])\n",
    "            if t > 0:\n",
    "                for j in range(end, start-1, -1):\n",
    "                    if not vis[j]:\n",
    "                        vis[j] = True\n",
    "                        t -= 1\n",
    "                        if t == 0:\n",
    "                            break\n",
    "        \n",
    "        return sum(vis)"
   ]
  },
  {
   "cell_type": "code",
   "execution_count": 12,
   "id": "fc0ff6f1",
   "metadata": {},
   "outputs": [],
   "source": [
    "# 差分约束\n",
    "class Solution:\n",
    "    def findMinimumTime(self, tasks: List[List[int]]) -> int:\n",
    "        # 令Xi为i时间段下电脑需要运行的次数\n",
    "        t = max(task[1] for task in tasks)\n",
    "        edges = [[] for _ in range(t+2)]\n",
    "        values = [[] for _ in range(t+2)]\n",
    "        \n",
    "        # Xi-1 <= Xi\n",
    "        for i in range(t):\n",
    "            edges[i].append(i+1)\n",
    "            values[i].append(0)\n",
    "        \n",
    "        # Xi <= Xi-1 + 1\n",
    "        for i in range(1, t+1):\n",
    "            edges[i].append(i-1)\n",
    "            values[i].append(1)\n",
    "        \n",
    "        # Xe - Xs-1 >= d -> Xs-1 <= Xe - d\n",
    "        for s, e, d in tasks:\n",
    "            edges[s-1].append(e)\n",
    "            values[s-1].append(-d)\n",
    "        \n",
    "        # 起始源点\n",
    "        for i in range(t+1):\n",
    "            edges[t+1].append(i)\n",
    "            values[t+1].append(0)\n",
    "        \n",
    "        # SPFA算法\n",
    "        dis = [float(\"inf\")] * (t+2)\n",
    "        dis[-1] = 0\n",
    "        q = collections.deque([[t+1, 0]])\n",
    "        while q:\n",
    "            i, s = q.popleft()\n",
    "            for j, nxt in enumerate(edges[i]):\n",
    "                if values[i][j] + s < dis[nxt]:\n",
    "                    q.append([nxt, s+values[i][j]])\n",
    "                    dis[nxt] = values[i][j] + s\n",
    "                    \n",
    "        return dis[0] - dis[t]"
   ]
  },
  {
   "cell_type": "code",
   "execution_count": 37,
   "id": "1ff75989",
   "metadata": {},
   "outputs": [],
   "source": [
    "tasks = [[2,3,1],[4,5,1],[1,5,2]]"
   ]
  },
  {
   "cell_type": "code",
   "execution_count": 46,
   "id": "a8132d9d",
   "metadata": {},
   "outputs": [
    {
     "data": {
      "text/plain": [
       "2"
      ]
     },
     "execution_count": 46,
     "metadata": {},
     "output_type": "execute_result"
    }
   ],
   "source": [
    "a = Solution().findMinimumTime(tasks)\n",
    "a"
   ]
  },
  {
   "cell_type": "code",
   "execution_count": 81,
   "id": "0dc86850",
   "metadata": {},
   "outputs": [],
   "source": [
    "class Solution:\n",
    "    def findMinimumTime(self, tasks: List[List[int]]) -> int:\n",
    "        tasks.sort(key=lambda x:x[1])\n",
    "        q = [(-1, -1, 0)]\n",
    "        print(tasks)\n",
    "        for s, e, d in tasks:\n",
    "            idx = bisect.bisect_left(q, (s, )) - 1\n",
    "            d -= q[-1][2] - q[idx][2]\n",
    "            if s <= q[idx][1]:\n",
    "                d -= q[idx][1] - s + 1\n",
    "            print(s, e, d, q, idx)\n",
    "            if d <= 0:\n",
    "                continue\n",
    "            while q and e <= d + q[-1][1]:\n",
    "                l, r, _ = q.pop()\n",
    "                d += r - l + 1\n",
    "            q.append((e-d + 1, e, d+q[-1][2]))\n",
    "        return q[-1][2]"
   ]
  },
  {
   "cell_type": "code",
   "execution_count": 82,
   "id": "15c0a402",
   "metadata": {},
   "outputs": [],
   "source": [
    "tasks = [[14,20,5],[2,18,7],[6,14,1],[3,16,3]]"
   ]
  },
  {
   "cell_type": "code",
   "execution_count": 83,
   "id": "adb6a1d0",
   "metadata": {},
   "outputs": [
    {
     "name": "stdout",
     "output_type": "stream",
     "text": [
      "[[6, 14, 1], [3, 16, 3], [2, 18, 7], [14, 20, 5]]\n",
      "6 14 1 [(-1, -1, 0)] 0\n",
      "3 16 2 [(-1, -1, 0), (14, 14, 1)] 0\n",
      "2 18 4 [(-1, -1, 0), (14, 16, 3)] 0\n",
      "14 20 0 [(-1, -1, 0), (12, 18, 7)] 1\n"
     ]
    },
    {
     "data": {
      "text/plain": [
       "7"
      ]
     },
     "execution_count": 83,
     "metadata": {},
     "output_type": "execute_result"
    }
   ],
   "source": [
    "a = Solution().findMinimumTime(tasks)\n",
    "a"
   ]
  },
  {
   "cell_type": "code",
   "execution_count": null,
   "id": "d9bc2569",
   "metadata": {},
   "outputs": [],
   "source": []
  },
  {
   "cell_type": "code",
   "execution_count": null,
   "id": "97290822",
   "metadata": {},
   "outputs": [],
   "source": []
  }
 ],
 "metadata": {
  "kernelspec": {
   "display_name": "Python 3 (ipykernel)",
   "language": "python",
   "name": "python3"
  },
  "language_info": {
   "codemirror_mode": {
    "name": "ipython",
    "version": 3
   },
   "file_extension": ".py",
   "mimetype": "text/x-python",
   "name": "python",
   "nbconvert_exporter": "python",
   "pygments_lexer": "ipython3",
   "version": "3.8.8"
  },
  "toc": {
   "base_numbering": 1,
   "nav_menu": {},
   "number_sections": true,
   "sideBar": true,
   "skip_h1_title": false,
   "title_cell": "Table of Contents",
   "title_sidebar": "Contents",
   "toc_cell": false,
   "toc_position": {},
   "toc_section_display": true,
   "toc_window_display": true
  }
 },
 "nbformat": 4,
 "nbformat_minor": 5
}
