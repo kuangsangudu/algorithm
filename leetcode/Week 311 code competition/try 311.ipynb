{
 "cells": [
  {
   "cell_type": "code",
   "execution_count": 58,
   "id": "ebdb3eda",
   "metadata": {},
   "outputs": [],
   "source": [
    "from typing import *\n",
    "import math\n",
    "import collections\n",
    "import heapq\n",
    "import functools\n",
    "import itertools"
   ]
  },
  {
   "cell_type": "markdown",
   "id": "77dd4463",
   "metadata": {},
   "source": [
    "# 6180. Smallest Even Multiple"
   ]
  },
  {
   "cell_type": "code",
   "execution_count": 2,
   "id": "eee399c1",
   "metadata": {},
   "outputs": [],
   "source": [
    "class Solution:\n",
    "    def smallestEvenMultiple(self, n: int) -> int:\n",
    "        return n * 2 // math.gcd(2, n) "
   ]
  },
  {
   "cell_type": "code",
   "execution_count": 51,
   "id": "23a960ca",
   "metadata": {},
   "outputs": [],
   "source": [
    "class Solution:\n",
    "    def smallestEvenMultiple(self, n: int) -> int:\n",
    "        return n if n%2==0 else 2*n"
   ]
  },
  {
   "cell_type": "markdown",
   "id": "aad1ef09",
   "metadata": {},
   "source": [
    "# 6181. Length of the Longest Alphabetical Continuous Substring"
   ]
  },
  {
   "cell_type": "code",
   "execution_count": 3,
   "id": "669b62fe",
   "metadata": {},
   "outputs": [],
   "source": [
    "class Solution:\n",
    "    def longestContinuousSubstring(self, s: str) -> int:\n",
    "        sums = 1\n",
    "        ret = 1\n",
    "        for i in range(1, len(s)):\n",
    "            if ord(s[i]) == ord(s[i-1]) + 1:\n",
    "                sums += 1\n",
    "            else:\n",
    "                ret = max(ret, sums)\n",
    "                sums = 1\n",
    "        ret = max(ret, sums)\n",
    "        return ret"
   ]
  },
  {
   "cell_type": "markdown",
   "id": "1b7c5578",
   "metadata": {},
   "source": [
    "# 6182. Reverse Odd Levels of Binary Tree"
   ]
  },
  {
   "cell_type": "code",
   "execution_count": 29,
   "id": "809e2fcc",
   "metadata": {},
   "outputs": [],
   "source": [
    "# Definition for a binary tree node.\n",
    "class TreeNode:\n",
    "    def __init__(self, val=0, left=None, right=None):\n",
    "        self.val = val\n",
    "        self.left = left\n",
    "        self.right = right\n",
    "class Solution:\n",
    "    def reverseOddLevels(self, root: Optional[TreeNode]) -> Optional[TreeNode]:\n",
    "        q = [root]\n",
    "        ret = TreeNode(root.val)\n",
    "        start = [ret]\n",
    "        flag = 1\n",
    "        while q:\n",
    "            nxt = []\n",
    "            for i, n in enumerate(q):\n",
    "                if n.left:\n",
    "                    nxt.append(n.left)\n",
    "                if n.right:\n",
    "                    nxt.append(n.right)\n",
    "                    \n",
    "            if not nxt:\n",
    "                break\n",
    "            print(nxt)\n",
    "            nx = []\n",
    "            if flag:\n",
    "                for i, n in enumerate(start):\n",
    "                    print(nxt[len(nxt)-1-(i*2)].val)\n",
    "                    n.left = TreeNode(nxt[len(nxt)-1-(i*2)].val)\n",
    "                    n.right = TreeNode(nxt[len(nxt)-1-(i*2+1)].val)\n",
    "                    nx.append(n.left)\n",
    "                    nx.append(n.right)\n",
    "            else:\n",
    "                for i, n in enumerate(start):\n",
    "                    n.left = TreeNode(nxt[i*2].val)\n",
    "                    n.right = TreeNode(nxt[i*2+1].val)\n",
    "                    nx.append(n.left)\n",
    "                    nx.append(n.right)                \n",
    "            q = nxt\n",
    "            start = nx\n",
    "            flag ^= 1\n",
    "        return ret"
   ]
  },
  {
   "cell_type": "code",
   "execution_count": 59,
   "id": "23759f1c",
   "metadata": {},
   "outputs": [],
   "source": [
    "class Solution:\n",
    "    def reverseOddLevels(self, root: Optional[TreeNode]) -> Optional[TreeNode]:\n",
    "        q, level = [root], 0\n",
    "        while q and q[0].left:\n",
    "            q = list(itertools.chain.from_iterable((node.left, node.right) for node in q))\n",
    "            if level == 0:\n",
    "                for i in range(len(q) // 2):\n",
    "                    x, y = q[i], q[len(q) - 1 - i]\n",
    "                    x.val, y.val = y.val, x.val\n",
    "            level ^= 1\n",
    "        return root"
   ]
  },
  {
   "cell_type": "code",
   "execution_count": 60,
   "id": "a3de3344",
   "metadata": {},
   "outputs": [],
   "source": [
    "a = TreeNode(1)\n",
    "a.left = TreeNode(5)\n",
    "a.right = TreeNode(3)"
   ]
  },
  {
   "cell_type": "code",
   "execution_count": 61,
   "id": "42922bc8",
   "metadata": {},
   "outputs": [
    {
     "name": "stdout",
     "output_type": "stream",
     "text": [
      "[<__main__.TreeNode object at 0x000001D479CD3BE0>, <__main__.TreeNode object at 0x000001D479CD3C40>]\n"
     ]
    },
    {
     "data": {
      "text/plain": [
       "<__main__.TreeNode at 0x1d479cd3e50>"
      ]
     },
     "execution_count": 61,
     "metadata": {},
     "output_type": "execute_result"
    }
   ],
   "source": [
    "b = Solution().reverseOddLevels(a)\n",
    "b"
   ]
  },
  {
   "cell_type": "markdown",
   "id": "5eb6530c",
   "metadata": {},
   "source": [
    "# 6183. Sum of Prefix Scores of Strings"
   ]
  },
  {
   "cell_type": "code",
   "execution_count": 48,
   "id": "3c59b030",
   "metadata": {},
   "outputs": [],
   "source": [
    "class Solution:\n",
    "    def sumPrefixScores(self, words: List[str]) -> List[int]:\n",
    "        maps = {}\n",
    "        for word in words:\n",
    "            m = maps\n",
    "            for n in word:\n",
    "                if m.get(n, -1)==-1:\n",
    "                    m[n] = {}\n",
    "                if m.get(\"#\", -1) == -1:\n",
    "                    m[\"#\"] = 0\n",
    "                m[\"#\"] += 1\n",
    "                m = m[n]\n",
    "            if m.get(\"#\", -1) == -1:\n",
    "                m[\"#\"] = 0\n",
    "            m[\"#\"] += 1\n",
    "        \n",
    "        ret = [0] * len(words)\n",
    "        for i, word in enumerate(words):\n",
    "            m = maps\n",
    "            for n in word:\n",
    "                m = m[n]\n",
    "                ret[i] += m[\"#\"]\n",
    "                \n",
    "        return ret"
   ]
  },
  {
   "cell_type": "code",
   "execution_count": 49,
   "id": "414d0a89",
   "metadata": {},
   "outputs": [],
   "source": [
    "words = [\"abc\",\"ab\",\"bc\",\"b\"]"
   ]
  },
  {
   "cell_type": "code",
   "execution_count": 50,
   "id": "67d146ec",
   "metadata": {},
   "outputs": [
    {
     "data": {
      "text/plain": [
       "[5, 4, 3, 2]"
      ]
     },
     "execution_count": 50,
     "metadata": {},
     "output_type": "execute_result"
    }
   ],
   "source": [
    "a = Solution().sumPrefixScores(words)\n",
    "a"
   ]
  },
  {
   "cell_type": "code",
   "execution_count": 62,
   "id": "ea13d1c9",
   "metadata": {},
   "outputs": [],
   "source": [
    "class Node:\n",
    "    __slots__ = 'son', 'ids', 'score'\n",
    "\n",
    "    def __init__(self):\n",
    "        self.son = defaultdict(Node)\n",
    "        self.ids = []\n",
    "        self.score = 0\n",
    "\n",
    "class Solution:\n",
    "    def sumPrefixScores(self, words: List[str]) -> List[int]:\n",
    "        root = Node()\n",
    "        for i, word in enumerate(words):\n",
    "            cur = root\n",
    "            for c in word:\n",
    "                cur = cur.son[c]\n",
    "                cur.score += 1  # 更新所有前缀的分数\n",
    "            cur.ids.append(i)\n",
    "\n",
    "        ans = [0] * len(words)\n",
    "        def dfs(node: Node, sum: int) -> None:\n",
    "            sum += node.score  # 累加分数，即可得到答案\n",
    "            for i in node.ids:\n",
    "                ans[i] = sum\n",
    "            for child in node.son.values():\n",
    "                if child:\n",
    "                    dfs(child, sum)\n",
    "        dfs(root, 0)\n",
    "        return ans"
   ]
  },
  {
   "cell_type": "code",
   "execution_count": null,
   "id": "41e722ea",
   "metadata": {},
   "outputs": [],
   "source": []
  }
 ],
 "metadata": {
  "kernelspec": {
   "display_name": "Python 3 (ipykernel)",
   "language": "python",
   "name": "python3"
  },
  "language_info": {
   "codemirror_mode": {
    "name": "ipython",
    "version": 3
   },
   "file_extension": ".py",
   "mimetype": "text/x-python",
   "name": "python",
   "nbconvert_exporter": "python",
   "pygments_lexer": "ipython3",
   "version": "3.8.8"
  },
  "toc": {
   "base_numbering": 1,
   "nav_menu": {},
   "number_sections": true,
   "sideBar": true,
   "skip_h1_title": false,
   "title_cell": "Table of Contents",
   "title_sidebar": "Contents",
   "toc_cell": false,
   "toc_position": {},
   "toc_section_display": true,
   "toc_window_display": false
  }
 },
 "nbformat": 4,
 "nbformat_minor": 5
}
