{
 "cells": [
  {
   "cell_type": "code",
   "execution_count": 1,
   "id": "a487060d",
   "metadata": {},
   "outputs": [],
   "source": [
    "from typing import *\n",
    "import heapq\n",
    "import collections\n",
    "import math\n",
    "import functools\n",
    "import itertools"
   ]
  },
  {
   "cell_type": "markdown",
   "id": "029a98a1",
   "metadata": {},
   "source": [
    "# 6192. Number of Common Factors"
   ]
  },
  {
   "cell_type": "code",
   "execution_count": 2,
   "id": "16131ca9",
   "metadata": {},
   "outputs": [],
   "source": [
    "class Solution:\n",
    "    def commonFactors(self, a: int, b: int) -> int:\n",
    "        ret = 0\n",
    "        for i in range(1, min(a, b)+1):\n",
    "            if a % i== 0 and b % i == 0:\n",
    "                ret += 1\n",
    "        return ret"
   ]
  },
  {
   "cell_type": "markdown",
   "id": "f1e40a5c",
   "metadata": {},
   "source": [
    "# 6193. Maximum Sum of an Hourglass"
   ]
  },
  {
   "cell_type": "code",
   "execution_count": 3,
   "id": "33a7a78c",
   "metadata": {},
   "outputs": [],
   "source": [
    "class Solution:\n",
    "    def maxSum(self, grid: List[List[int]]) -> int:\n",
    "        ret = 0\n",
    "        for i in range(len(grid)-3+1):\n",
    "            for j in range(len(grid[0])-3+1):\n",
    "                sums = 0\n",
    "                for x in range(i, i+3):\n",
    "                    if x == i+1:\n",
    "                        sums += grid[x][j+1]\n",
    "                        continue\n",
    "                    for y in range(j, j+3):\n",
    "                        sums += grid[x][y]\n",
    "                ret = max(ret, sums)\n",
    "        return ret"
   ]
  },
  {
   "cell_type": "code",
   "execution_count": 4,
   "id": "7e89f53c",
   "metadata": {},
   "outputs": [],
   "source": [
    "grid = [[6,2,1,3],[4,2,1,5],[9,2,8,7],[4,1,2,9]]"
   ]
  },
  {
   "cell_type": "code",
   "execution_count": 5,
   "id": "e88e499e",
   "metadata": {},
   "outputs": [
    {
     "data": {
      "text/plain": [
       "30"
      ]
     },
     "execution_count": 5,
     "metadata": {},
     "output_type": "execute_result"
    }
   ],
   "source": [
    "a = Solution().maxSum(grid)\n",
    "a"
   ]
  },
  {
   "cell_type": "markdown",
   "id": "51fc9436",
   "metadata": {},
   "source": [
    "# 6194. Minimize XOR"
   ]
  },
  {
   "cell_type": "code",
   "execution_count": 29,
   "id": "ce830a8e",
   "metadata": {},
   "outputs": [],
   "source": [
    "class Solution:\n",
    "    def minimizeXor(self, num1: int, num2: int) -> int:\n",
    "        bin1 = bin(num1)[2:]\n",
    "        bin2 = bin(num2)[2:]\n",
    "        len2 = bin2.count(\"1\")\n",
    "        len1 = bin1.count(\"1\")\n",
    "        if len1 == len2:\n",
    "            return num1\n",
    "        elif len1 > len2:\n",
    "            ret = 0\n",
    "            base = 2 ** (len(bin1)-1)\n",
    "            minus = len2\n",
    "            for i in range(len(bin1)):\n",
    "                if bin1[i] == \"1\":\n",
    "                    if minus:\n",
    "                        minus-=1\n",
    "                        ret += base\n",
    "                    else:\n",
    "                        break\n",
    "                base //= 2\n",
    "            return ret\n",
    "        else:\n",
    "            ret = 0\n",
    "            minus = len2-len1\n",
    "            base = 1\n",
    "            for i in range(len(bin1)-1, -1, -1):\n",
    "                if bin1[i] == \"1\":\n",
    "                    ret += base\n",
    "                elif minus:\n",
    "                    minus -= 1\n",
    "                    ret += base\n",
    "                base *= 2\n",
    "            while minus:\n",
    "                minus -= 1\n",
    "                ret += base\n",
    "                base *=2\n",
    "            return ret\n",
    "            "
   ]
  },
  {
   "cell_type": "code",
   "execution_count": 34,
   "id": "6d618897",
   "metadata": {},
   "outputs": [],
   "source": [
    "num1 = 3; num2 = 1"
   ]
  },
  {
   "cell_type": "code",
   "execution_count": 35,
   "id": "7b5161a0",
   "metadata": {},
   "outputs": [
    {
     "name": "stdout",
     "output_type": "stream",
     "text": [
      "11 1\n"
     ]
    },
    {
     "data": {
      "text/plain": [
       "2"
      ]
     },
     "execution_count": 35,
     "metadata": {},
     "output_type": "execute_result"
    }
   ],
   "source": [
    "a = Solution().minimizeXor(num1, num2)\n",
    "a"
   ]
  },
  {
   "cell_type": "markdown",
   "id": "d7e50229",
   "metadata": {},
   "source": [
    "# 6195. Maximum Deletions on a String"
   ]
  },
  {
   "cell_type": "code",
   "execution_count": 123,
   "id": "0efc8728",
   "metadata": {},
   "outputs": [],
   "source": [
    "class Solution:\n",
    "    def deleteString(self, s: str) -> int:\n",
    "        dp = [-1] * (len(s)+1)\n",
    "        dp[0] = 0\n",
    "        mod = 10 ** 9 + 7\n",
    "        sums = [0] * (len(s)+1)\n",
    "        for i, n in enumerate(s, start=1):\n",
    "            sums[i] = ((ord(n)-97 + sums[i-1]) * 26) % mod\n",
    "        for i, n in enumerate(s):\n",
    "            for j in range(i+1):\n",
    "                if dp[j]!=-1 and i+i-j+1 < len(s) and (sums[2*i-j+2]-sums[i+1])%mod == ((sums[i+1]-sums[j]) * 26**(i-j+1)) % mod and s[j:i+1]==s[i+1:2*i-j+2]:\n",
    "                    dp[i+1] = max(dp[i+1], dp[j]+1)\n",
    "        return max(dp[:-1])+1"
   ]
  },
  {
   "cell_type": "code",
   "execution_count": 136,
   "id": "3233013f",
   "metadata": {},
   "outputs": [],
   "source": [
    "s = \"aaabaab\""
   ]
  },
  {
   "cell_type": "code",
   "execution_count": 138,
   "id": "f82a9525",
   "metadata": {},
   "outputs": [],
   "source": [
    "s = \"wwwwwwww\""
   ]
  },
  {
   "cell_type": "code",
   "execution_count": 139,
   "id": "2ed504ce",
   "metadata": {},
   "outputs": [
    {
     "data": {
      "text/plain": [
       "8"
      ]
     },
     "execution_count": 139,
     "metadata": {},
     "output_type": "execute_result"
    }
   ],
   "source": [
    "a = Solution().deleteString(s)\n",
    "a"
   ]
  },
  {
   "cell_type": "code",
   "execution_count": 135,
   "id": "e92aca68",
   "metadata": {},
   "outputs": [],
   "source": [
    "class Solution:\n",
    "    def deleteString(self, s: str) -> int:\n",
    "        @functools.lru_cache(None)\n",
    "        def dfs(i):\n",
    "            ret = 1\n",
    "            for j in range(1, (len(s)-i)//2+1):\n",
    "                if s[i:i+j] == s[i+j:i+j*2]:\n",
    "                    ret = max(ret, dfs(i+j)+1)\n",
    "            return ret\n",
    "    \n",
    "        return dfs(0)"
   ]
  },
  {
   "cell_type": "code",
   "execution_count": 125,
   "id": "90752954",
   "metadata": {},
   "outputs": [],
   "source": [
    "class Solution:\n",
    "    def deleteString(self, s: str) -> int:\n",
    "        n = len(s)\n",
    "        lcp = [[0] * (n + 1) for _ in range(n + 1)]  # lcp[i][j] 表示 s[i:] 和 s[j:] 的最长公共前缀\n",
    "        for i in range(n - 1, -1, -1):\n",
    "            for j in range(n - 1, -1, -1):\n",
    "                if s[i] == s[j]:\n",
    "                    lcp[i][j] = lcp[i + 1][j + 1] + 1\n",
    "        f = [0] * n\n",
    "        for i in range(n - 1, -1, -1):\n",
    "            for j in range(1, (n - i) // 2 + 1):\n",
    "                if lcp[i][i + j] >= j:  # 说明 s[i:i+j] == s[i+j:i+2*j]\n",
    "                    f[i] = max(f[i], f[i + j])\n",
    "            f[i] += 1\n",
    "        return f[0]"
   ]
  },
  {
   "cell_type": "code",
   "execution_count": null,
   "id": "afd59353",
   "metadata": {},
   "outputs": [],
   "source": []
  }
 ],
 "metadata": {
  "kernelspec": {
   "display_name": "Python 3 (ipykernel)",
   "language": "python",
   "name": "python3"
  },
  "language_info": {
   "codemirror_mode": {
    "name": "ipython",
    "version": 3
   },
   "file_extension": ".py",
   "mimetype": "text/x-python",
   "name": "python",
   "nbconvert_exporter": "python",
   "pygments_lexer": "ipython3",
   "version": "3.8.8"
  },
  "toc": {
   "base_numbering": 1,
   "nav_menu": {},
   "number_sections": true,
   "sideBar": true,
   "skip_h1_title": false,
   "title_cell": "Table of Contents",
   "title_sidebar": "Contents",
   "toc_cell": false,
   "toc_position": {},
   "toc_section_display": true,
   "toc_window_display": false
  }
 },
 "nbformat": 4,
 "nbformat_minor": 5
}
