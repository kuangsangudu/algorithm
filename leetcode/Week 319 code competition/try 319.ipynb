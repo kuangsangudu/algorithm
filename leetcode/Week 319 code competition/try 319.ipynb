{
 "cells": [
  {
   "cell_type": "code",
   "execution_count": 1,
   "id": "f60dd538",
   "metadata": {},
   "outputs": [],
   "source": [
    "from typing import *\n",
    "import collections\n",
    "import heapq\n",
    "import math\n",
    "import bisect\n",
    "import functools"
   ]
  },
  {
   "cell_type": "markdown",
   "id": "1bae3239",
   "metadata": {},
   "source": [
    "# 6233. Convert the Temperature"
   ]
  },
  {
   "cell_type": "code",
   "execution_count": 2,
   "id": "a7892e03",
   "metadata": {},
   "outputs": [],
   "source": [
    "class Solution:\n",
    "    def convertTemperature(self, celsius: float) -> List[float]:\n",
    "        return [celsius + 273.15, celsius * 1.8 + 32]"
   ]
  },
  {
   "cell_type": "markdown",
   "id": "0e00530a",
   "metadata": {},
   "source": [
    "# 6234. Number of Subarrays With LCM Equal to K"
   ]
  },
  {
   "cell_type": "code",
   "execution_count": 4,
   "id": "bc8bf867",
   "metadata": {},
   "outputs": [],
   "source": [
    "class Solution:\n",
    "    def subarrayLCM(self, nums: List[int], k: int) -> int:\n",
    "        ret = 0\n",
    "        for i, num in enumerate(nums):\n",
    "            sums = num\n",
    "            if sums == k:\n",
    "                ret += 1\n",
    "            for j in range(i+1, len(nums)):\n",
    "                sums = sums * nums[j] // math.gcd(sums, nums[j])\n",
    "                if sums == k:\n",
    "                    ret += 1\n",
    "        return ret"
   ]
  },
  {
   "cell_type": "markdown",
   "id": "e5fdc834",
   "metadata": {},
   "source": [
    "# 6235. Minimum Number of Operations to Sort a Binary Tree by Level"
   ]
  },
  {
   "cell_type": "code",
   "execution_count": 5,
   "id": "7dd138cd",
   "metadata": {},
   "outputs": [],
   "source": [
    "# Definition for a binary tree node.\n",
    "class TreeNode:\n",
    "    def __init__(self, val=0, left=None, right=None):\n",
    "        self.val = val\n",
    "        self.left = left\n",
    "        self.right = right\n",
    "\n",
    "class Union:\n",
    "    def __init__(self, lens):\n",
    "        self.Union = {}\n",
    "        self.rank = {}\n",
    "        self.nums = lens-1\n",
    "\n",
    "    def find(self, x):\n",
    "        self.Union.setdefault(x, x)\n",
    "        while self.Union[x] != x:\n",
    "            x = self.Union[x]\n",
    "        return x\n",
    "\n",
    "    def union(self, x, y):\n",
    "        par_x, par_y = self.find(x), self.find(y)\n",
    "        if par_x == par_y:\n",
    "            return\n",
    "        self.rank.setdefault(par_x, 1)\n",
    "        self.rank.setdefault(par_y, 1)\n",
    "        if self.rank[par_x] < self.rank[par_y]:\n",
    "            par_x, par_y = par_y, par_x\n",
    "        self.rank[par_x] += self.rank[par_y]\n",
    "        self.Union[par_y] = par_x\n",
    "        self.nums -= 1\n",
    "\n",
    "    def is_union(self, x, y):\n",
    "        par_x, par_y = self.find(x), self.find(y)\n",
    "        if par_x == par_y:\n",
    "            return True\n",
    "        return False\n",
    "        \n",
    "class Solution:\n",
    "    def minimumOperations(self, root: Optional[TreeNode]) -> int:\n",
    "        q = collections.deque([root])\n",
    "        ret = 0\n",
    "        while q:\n",
    "            newq = collections.deque()\n",
    "            while q:\n",
    "                node = q.popleft()\n",
    "                if node.left:\n",
    "                    newq.append(node.left)\n",
    "                if node.right:\n",
    "                    newq.append(node.right)\n",
    "            \n",
    "            union = Union(len(newq))\n",
    "            sortedq = sorted(newq, key=lambda x:x.val)\n",
    "            for i in range(len(sortedq)):\n",
    "                if sortedq[i].val != newq[i].val:\n",
    "                    for j, n in enumerate(newq):\n",
    "                        if n.val == sortedq[i].val:\n",
    "                            idx = j\n",
    "                            break\n",
    "                    union.union(i, idx)\n",
    "            ret += sum(union.rank) - len(union.rank)\n",
    "        return ret"
   ]
  },
  {
   "cell_type": "code",
   "execution_count": 71,
   "id": "62e91220",
   "metadata": {},
   "outputs": [],
   "source": [
    "class Solution:\n",
    "    def minimumOperations(self, root: Optional[TreeNode]) -> int:\n",
    "        ans, q = 0, [root]\n",
    "        while q:\n",
    "            a = []\n",
    "            tmp = q\n",
    "            q = []\n",
    "            for node in tmp:\n",
    "                a.append(node.val)\n",
    "                if node.left: q.append(node.left)\n",
    "                if node.right: q.append(node.right)\n",
    "\n",
    "            b = sorted(a)\n",
    "            a = [bisect_left(b, v) for v in a]  # 离散化\n",
    "\n",
    "            ans += len(a)\n",
    "            vis = [False] * len(a)\n",
    "            for v in a:\n",
    "                if vis[v]: continue\n",
    "                while not vis[v]:\n",
    "                    vis[v] = True\n",
    "                    v = a[v]\n",
    "                ans -= 1\n",
    "        return ans"
   ]
  },
  {
   "cell_type": "markdown",
   "id": "a5449a91",
   "metadata": {},
   "source": [
    "# 6236. Maximum Number of Non-overlapping Palindrome Substrings"
   ]
  },
  {
   "cell_type": "code",
   "execution_count": 67,
   "id": "42d41312",
   "metadata": {},
   "outputs": [],
   "source": [
    "class Solution:\n",
    "    def maxPalindromes(self, s: str, k: int) -> int:\n",
    "        a = [[0]*len(s) for _ in range(len(s))]\n",
    "        for i, n in enumerate(s):\n",
    "            a[i][i] = 1\n",
    "            if i < len(s)-1 and n == s[i+1]:\n",
    "                a[i][i+1] = 1\n",
    "        \n",
    "        for i in range(len(s)-1, -1, -1):\n",
    "            for j in range(i+2, len(s)):\n",
    "                if s[i] == s[j] and a[i+1][j-1]:\n",
    "                    a[i][j] = 1\n",
    "        \n",
    "        dp = [0] * (len(s)+1)\n",
    "        for i in range(len(s)):\n",
    "            flag = 0\n",
    "            for j in range(i-k+1, -1, -1):\n",
    "                flag = flag | a[j][i]\n",
    "                dp[i+1] = max(dp[i+1], dp[j] + flag)\n",
    "        return max(dp)"
   ]
  },
  {
   "cell_type": "code",
   "execution_count": 97,
   "id": "eab5c970",
   "metadata": {},
   "outputs": [],
   "source": [
    "s = \"abaccdbbd\"\n",
    "k = 3"
   ]
  },
  {
   "cell_type": "code",
   "execution_count": 82,
   "id": "08bc24c0",
   "metadata": {},
   "outputs": [],
   "source": [
    "s = \"kwnwkekokedadq\"\n",
    "k = 5"
   ]
  },
  {
   "cell_type": "code",
   "execution_count": 83,
   "id": "7e3c230b",
   "metadata": {},
   "outputs": [
    {
     "name": "stdout",
     "output_type": "stream",
     "text": [
      "[0, 0, 0, 0, 0, 1, 1, 1, 1, 1, 2, 2, 2, 2, 2]\n"
     ]
    },
    {
     "data": {
      "text/plain": [
       "2"
      ]
     },
     "execution_count": 83,
     "metadata": {},
     "output_type": "execute_result"
    }
   ],
   "source": [
    "a = Solution().maxPalindromes(s, k)\n",
    "a"
   ]
  },
  {
   "cell_type": "code",
   "execution_count": 81,
   "id": "4a1fd85e",
   "metadata": {},
   "outputs": [],
   "source": [
    "class Solution:\n",
    "    def maxPalindromes(self, s: str, k: int) -> int:\n",
    "        lens = len(s)\n",
    "        dp = [0] * (lens+1)\n",
    "        for i in range(lens*2-1):\n",
    "            l, r = i //2, i//2 + (i%2)\n",
    "            dp[r+1] = max(dp[l+1], dp[r+1])\n",
    "            while r < lens and l >=0 and s[l] == s[r]:\n",
    "                if r-l+1 >= k:\n",
    "                    dp[r+1] = max(dp[r+1], dp[l]+1)\n",
    "                l -= 1\n",
    "                r += 1\n",
    "        return dp[-1]"
   ]
  },
  {
   "cell_type": "code",
   "execution_count": 85,
   "id": "a2543279",
   "metadata": {},
   "outputs": [],
   "source": [
    "class Manacher:\n",
    "    @staticmethod\n",
    "    def trans(s):\n",
    "        ret = [\"#\"] * (len(s)*2+1)\n",
    "        for i, n in enumerate(s):\n",
    "            ret[2*i+1] = n\n",
    "        return ret\n",
    "\n",
    "    def manacher(self, s):\n",
    "        new_s = self.trans(s)\n",
    "        lens = len(new_s)\n",
    "        c, r = -1, -1\n",
    "        i = 0\n",
    "        re = [0] * lens\n",
    "        ret = 1\n",
    "        while i < lens:\n",
    "            # original idea\n",
    "            # if i > c+r:\n",
    "            #     i_r = 1\n",
    "            #     while i-i_r >= 0 and i+i_r < lens and new_s[i-i_r] == new_s[i+i_r]:\n",
    "            #         i_r += 1\n",
    "            #     re[i] = i_r-1\n",
    "            #     c, r = i, i_r-1\n",
    "            # else:\n",
    "            #     ti = c - (i - c)\n",
    "            #     if ti-re[ti] > c-r:\n",
    "            #         re[i] = re[ti]\n",
    "            #     elif ti-re[ti] < c-r:\n",
    "            #         re[i] = ti - (c-r)\n",
    "            #     else:\n",
    "            #         i_r = ti - (c-r)+1\n",
    "            #         while i - i_r >= 0 and i + i_r < lens and new_s[i - i_r] == new_s[i + i_r]:\n",
    "            #             i_r += 1\n",
    "            #         re[i] = i_r-1\n",
    "            #         c, r = i, i_r-1\n",
    "            # i += 1\n",
    "\n",
    "            # optimization\n",
    "            i_r = 1 if i > c+r else min(re[2*c-i], c-i+r) + 1\n",
    "            while i - i_r >= 0 and i + i_r < lens and new_s[i - i_r] == new_s[i + i_r]:\n",
    "                i_r += 1\n",
    "            i_r -= 1\n",
    "            re[i] = i_r\n",
    "            ret = max(ret, i_r)\n",
    "            if i_r + i > c + r:\n",
    "                c, r = i, i_r\n",
    "            i += 1\n",
    "        return ret, re"
   ]
  },
  {
   "cell_type": "code",
   "execution_count": 89,
   "id": "5f921015",
   "metadata": {},
   "outputs": [
    {
     "data": {
      "text/plain": [
       "'kwnwkekokedadq'"
      ]
     },
     "execution_count": 89,
     "metadata": {},
     "output_type": "execute_result"
    }
   ],
   "source": [
    "s"
   ]
  },
  {
   "cell_type": "code",
   "execution_count": 90,
   "id": "7b9ce141",
   "metadata": {},
   "outputs": [
    {
     "name": "stdout",
     "output_type": "stream",
     "text": [
      "[0, 1, 2, 1, 0]\n"
     ]
    }
   ],
   "source": [
    "ret, re = Manacher().manacher(\"ss\")\n",
    "print(re)"
   ]
  },
  {
   "cell_type": "code",
   "execution_count": 120,
   "id": "d8b426a2",
   "metadata": {},
   "outputs": [],
   "source": [
    "class Solution:\n",
    "    def maxPalindromes(self, s: str, k: int) -> int:\n",
    "        re = Manacher().manacher(s)[1][1:]\n",
    "        lens = len(s)\n",
    "        dp = [0] * (lens+1)\n",
    "        for i, n in enumerate(s):\n",
    "            dp[i+1] = max(dp[i], dp[i+1])\n",
    "            if re[i*2] >= k:\n",
    "                dp[i+k//2+1] = max(dp[i+k//2+1], dp[i-k//2]+1)\n",
    "            if (k%2 and re[i*2+1] >= k+1) or (k%2==0 and re[i*2+1] >= k):\n",
    "                dp[i+(k+1)//2+1] = max(dp[i+(k+1)//2+1], dp[i-(k+1)//2+1]+1)\n",
    "        return dp[-1]"
   ]
  },
  {
   "cell_type": "code",
   "execution_count": 121,
   "id": "7fdda1ae",
   "metadata": {},
   "outputs": [
    {
     "data": {
      "text/plain": [
       "5"
      ]
     },
     "execution_count": 121,
     "metadata": {},
     "output_type": "execute_result"
    }
   ],
   "source": [
    "a = Solution().maxPalindromes(s, k)\n",
    "a"
   ]
  },
  {
   "cell_type": "code",
   "execution_count": 115,
   "id": "a2553884",
   "metadata": {},
   "outputs": [],
   "source": [
    "s =  \"qvlbphaahpblshrwzzwrhscaivaeffllffeanwtlaaltwngtupwkwwkwpuaa\"\n",
    "k = 10"
   ]
  },
  {
   "cell_type": "code",
   "execution_count": null,
   "id": "4f2ddaea",
   "metadata": {},
   "outputs": [],
   "source": []
  }
 ],
 "metadata": {
  "kernelspec": {
   "display_name": "Python 3 (ipykernel)",
   "language": "python",
   "name": "python3"
  },
  "language_info": {
   "codemirror_mode": {
    "name": "ipython",
    "version": 3
   },
   "file_extension": ".py",
   "mimetype": "text/x-python",
   "name": "python",
   "nbconvert_exporter": "python",
   "pygments_lexer": "ipython3",
   "version": "3.8.8"
  },
  "toc": {
   "base_numbering": 1,
   "nav_menu": {},
   "number_sections": true,
   "sideBar": true,
   "skip_h1_title": false,
   "title_cell": "Table of Contents",
   "title_sidebar": "Contents",
   "toc_cell": false,
   "toc_position": {},
   "toc_section_display": true,
   "toc_window_display": false
  }
 },
 "nbformat": 4,
 "nbformat_minor": 5
}
