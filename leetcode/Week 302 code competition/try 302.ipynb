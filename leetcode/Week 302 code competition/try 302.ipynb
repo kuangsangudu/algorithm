{
 "cells": [
  {
   "cell_type": "code",
   "execution_count": 1,
   "id": "c57c3ab8",
   "metadata": {},
   "outputs": [],
   "source": [
    "from typing import *\n",
    "import math\n",
    "import collections\n",
    "import heapq"
   ]
  },
  {
   "cell_type": "markdown",
   "id": "02c186a4",
   "metadata": {},
   "source": [
    "# 6120. Maximum Number of Pairs in Array"
   ]
  },
  {
   "cell_type": "code",
   "execution_count": 2,
   "id": "e305d32e",
   "metadata": {},
   "outputs": [],
   "source": [
    "class Solution:\n",
    "    def numberOfPairs(self, nums: List[int]) -> List[int]:\n",
    "        re = collections.defaultdict(int)\n",
    "        c = 0\n",
    "        for n in nums:\n",
    "            re[n] += 1\n",
    "            if re[n] == 2:\n",
    "                re[n] -= 2\n",
    "                c += 1\n",
    "        return [c, sum(re.values())]"
   ]
  },
  {
   "cell_type": "markdown",
   "id": "1942c0ef",
   "metadata": {},
   "source": [
    "# 6164. Max Sum of a Pair With Equal Sum of Digits"
   ]
  },
  {
   "cell_type": "code",
   "execution_count": 13,
   "id": "37991eb9",
   "metadata": {},
   "outputs": [],
   "source": [
    "class Solution:\n",
    "    def maximumSum(self, nums: List[int]) -> int:\n",
    "        re = collections.defaultdict(list)\n",
    "        ret = -1\n",
    "        for num in nums:\n",
    "            r = str(num)\n",
    "            sums = sum((int(n) for n in r))\n",
    "            re[sums].append(num)\n",
    "        for values in re.values():\n",
    "            if len(values) >= 2:\n",
    "                v = sorted(values)\n",
    "                ret = max(ret, v[-1] + v[-2])\n",
    "        return ret"
   ]
  },
  {
   "cell_type": "code",
   "execution_count": 14,
   "id": "031c01cb",
   "metadata": {},
   "outputs": [],
   "source": [
    "nums = [10,12,19,14]"
   ]
  },
  {
   "cell_type": "code",
   "execution_count": 17,
   "id": "f793cb20",
   "metadata": {},
   "outputs": [
    {
     "name": "stdout",
     "output_type": "stream",
     "text": [
      "18 9\n",
      "43 7\n",
      "36 9\n",
      "13 4\n",
      "7 7\n"
     ]
    },
    {
     "data": {
      "text/plain": [
       "54"
      ]
     },
     "execution_count": 17,
     "metadata": {},
     "output_type": "execute_result"
    }
   ],
   "source": [
    "a = Solution().maximumSum(nums)\n",
    "a"
   ]
  },
  {
   "cell_type": "code",
   "execution_count": 16,
   "id": "07e2a547",
   "metadata": {},
   "outputs": [],
   "source": [
    "nums = [18,43,36,13,7]"
   ]
  },
  {
   "cell_type": "markdown",
   "id": "0cdd6b67",
   "metadata": {},
   "source": [
    "# 6121. Query Kth Smallest Trimmed Number"
   ]
  },
  {
   "cell_type": "code",
   "execution_count": 63,
   "id": "c3d32723",
   "metadata": {},
   "outputs": [],
   "source": [
    "class Solution:\n",
    "    def smallestTrimmedNumbers(self, nums: List[str], queries: List[List[int]]) -> List[int]:\n",
    "        ret = [0] * len(queries)\n",
    "        for i, query in enumerate(queries):\n",
    "            r = []\n",
    "            for j, n in enumerate(nums):\n",
    "                heapq.heappush(r, (-int(n[max(0, len(n)-query[1]):]), -j))\n",
    "                if len(r) > query[0]:\n",
    "                    heapq.heappop(r)\n",
    "            ret[i] = -r[0][1]\n",
    "        return ret"
   ]
  },
  {
   "cell_type": "code",
   "execution_count": 105,
   "id": "6910a009",
   "metadata": {},
   "outputs": [],
   "source": [
    "nums = [\"102\",\"473\",\"251\",\"814\"]\n",
    "queries = [[1,1],[2,3],[4,2],[1,2]]"
   ]
  },
  {
   "cell_type": "code",
   "execution_count": 108,
   "id": "2329b439",
   "metadata": {},
   "outputs": [
    {
     "name": "stdout",
     "output_type": "stream",
     "text": [
      "[[0, 1, 2, 3], [0, 3, 2, 1], [3, 0, 1, 2]]\n"
     ]
    },
    {
     "data": {
      "text/plain": [
       "[3, 0]"
      ]
     },
     "execution_count": 108,
     "metadata": {},
     "output_type": "execute_result"
    }
   ],
   "source": [
    "a = Solution().smallestTrimmedNumbers(nums, queries)\n",
    "a"
   ]
  },
  {
   "cell_type": "code",
   "execution_count": 107,
   "id": "852e4a0c",
   "metadata": {},
   "outputs": [],
   "source": [
    "nums = [\"24\",\"37\",\"96\",\"04\"]\n",
    "queries = [[2,1],[2,2]]"
   ]
  },
  {
   "cell_type": "code",
   "execution_count": 91,
   "id": "58e5bc05",
   "metadata": {},
   "outputs": [
    {
     "data": {
      "text/plain": [
       "97"
      ]
     },
     "execution_count": 91,
     "metadata": {},
     "output_type": "execute_result"
    }
   ],
   "source": [
    "ord(\"a\")"
   ]
  },
  {
   "cell_type": "code",
   "execution_count": 110,
   "id": "6ed66e50",
   "metadata": {},
   "outputs": [],
   "source": [
    "# like radix sort\n",
    "class Solution:\n",
    "    def smallestTrimmedNumbers(self, nums: List[str], queries: List[List[int]]) -> List[int]:\n",
    "        m, n = len(nums), len(nums[0])\n",
    "        re = [[i for i in range(m)] for _ in range(n+1)]\n",
    "        for i in range(1, n+1):\n",
    "            Bag = [[] for _ in range(10)]\n",
    "            for j in re[i-1]:\n",
    "                Bag[int(nums[j][n-i])].append(j)\n",
    "            start = 0\n",
    "            for val in Bag:\n",
    "                for j in val:\n",
    "                    re[i][start] = j\n",
    "                    start += 1\n",
    "                    \n",
    "        ret = [0] * len(queries)                    \n",
    "        for i, query in enumerate(queries):\n",
    "            ret[i] = re[query[1]][query[0]-1]\n",
    "        return ret"
   ]
  },
  {
   "cell_type": "markdown",
   "id": "a7ca60c7",
   "metadata": {},
   "source": [
    "# 6122. Minimum Deletions to Make Array Divisible"
   ]
  },
  {
   "cell_type": "code",
   "execution_count": 85,
   "id": "0c23c376",
   "metadata": {},
   "outputs": [],
   "source": [
    "class Solution:\n",
    "    def minOperations(self, nums: List[int], numsDivide: List[int]) -> int:\n",
    "        num = numsDivide[0]\n",
    "        for n in numsDivide[1:]:\n",
    "            num = math.gcd(num, n)\n",
    "        re = collections.Counter(nums)\n",
    "        nums = sorted(re.keys())\n",
    "        ret = 0\n",
    "        for i, n in enumerate(nums):\n",
    "            if n > num:\n",
    "                break\n",
    "            \n",
    "            if num % n == 0:\n",
    "                return ret\n",
    "            ret += re[n]\n",
    "        return -1"
   ]
  },
  {
   "cell_type": "code",
   "execution_count": 86,
   "id": "77aa5381",
   "metadata": {},
   "outputs": [],
   "source": [
    "nums = [2,3,2,4,3]\n",
    "numsDivide = [9,6,9,3,15]"
   ]
  },
  {
   "cell_type": "code",
   "execution_count": 87,
   "id": "491c36b8",
   "metadata": {},
   "outputs": [
    {
     "data": {
      "text/plain": [
       "2"
      ]
     },
     "execution_count": 87,
     "metadata": {},
     "output_type": "execute_result"
    }
   ],
   "source": [
    "a = Solution().minOperations(nums, numsDivide)\n",
    "a"
   ]
  },
  {
   "cell_type": "code",
   "execution_count": 89,
   "id": "09140565",
   "metadata": {},
   "outputs": [],
   "source": [
    "class Solution:\n",
    "    def minOperations(self, nums: List[int], numsDivide: List[int]) -> int:\n",
    "        g = reduce(math.gcd, numsDivide)\n",
    "        nums.sort()\n",
    "        return next((i for i, x in enumerate(nums) if g % x == 0), -1)"
   ]
  },
  {
   "cell_type": "code",
   "execution_count": null,
   "id": "58017e77",
   "metadata": {},
   "outputs": [],
   "source": []
  }
 ],
 "metadata": {
  "kernelspec": {
   "display_name": "Python 3 (ipykernel)",
   "language": "python",
   "name": "python3"
  },
  "language_info": {
   "codemirror_mode": {
    "name": "ipython",
    "version": 3
   },
   "file_extension": ".py",
   "mimetype": "text/x-python",
   "name": "python",
   "nbconvert_exporter": "python",
   "pygments_lexer": "ipython3",
   "version": "3.8.8"
  },
  "toc": {
   "base_numbering": 1,
   "nav_menu": {},
   "number_sections": true,
   "sideBar": true,
   "skip_h1_title": false,
   "title_cell": "Table of Contents",
   "title_sidebar": "Contents",
   "toc_cell": false,
   "toc_position": {},
   "toc_section_display": true,
   "toc_window_display": false
  }
 },
 "nbformat": 4,
 "nbformat_minor": 5
}
