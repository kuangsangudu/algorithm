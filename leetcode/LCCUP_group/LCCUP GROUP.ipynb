{
 "cells": [
  {
   "cell_type": "code",
   "execution_count": 2,
   "id": "b5f37d76",
   "metadata": {},
   "outputs": [],
   "source": [
    "import math\n",
    "import heapq\n",
    "import collections\n",
    "from typing import *"
   ]
  },
  {
   "cell_type": "markdown",
   "id": "52388259",
   "metadata": {},
   "source": [
    "# 采集果实"
   ]
  },
  {
   "cell_type": "code",
   "execution_count": 6,
   "id": "dc1a747a",
   "metadata": {},
   "outputs": [],
   "source": [
    "class Solution:\n",
    "    def getMinimumTime(self, time: List[int], fruits: List[List[int]], limit: int) -> int:\n",
    "        ret = 0\n",
    "        for i, n in fruits:\n",
    "            ret += math.ceil(n/limit) * time[i]\n",
    "        return ret"
   ]
  },
  {
   "cell_type": "code",
   "execution_count": 7,
   "id": "a4a58aa6",
   "metadata": {},
   "outputs": [],
   "source": [
    "time = [2,3,2]; fruits = [[0,2],[1,4],[2,1]]; limit = 3"
   ]
  },
  {
   "cell_type": "code",
   "execution_count": 8,
   "id": "6c480708",
   "metadata": {},
   "outputs": [
    {
     "data": {
      "text/plain": [
       "10"
      ]
     },
     "execution_count": 8,
     "metadata": {},
     "output_type": "execute_result"
    }
   ],
   "source": [
    "a = Solution().getMinimumTime(time, fruits, limit)\n",
    "a"
   ]
  },
  {
   "cell_type": "markdown",
   "id": "52885f9b",
   "metadata": {},
   "source": [
    "# 信物传递"
   ]
  },
  {
   "cell_type": "code",
   "execution_count": 67,
   "id": "d9dfecc0",
   "metadata": {},
   "outputs": [],
   "source": [
    "class Solution:\n",
    "    def conveyorBelt(self, matrix: List[str], start: List[int], end: List[int]) -> int:\n",
    "        def xunzhao(i, j):\n",
    "            if matrix[i][j] == \"^\":\n",
    "                return i-1, j\n",
    "            elif matrix[i][j] == \"v\":\n",
    "                return i+1, j\n",
    "            elif matrix[i][j] == \"<\":\n",
    "                return i, j-1\n",
    "            else: \n",
    "                return i, j+1\n",
    "                \n",
    "        visited = set()\n",
    "        re = []\n",
    "        leny, lenx = len(matrix), len(matrix[0])\n",
    "        heapq.heappush(re, [0, start[0], start[1]])\n",
    "        while True:\n",
    "            z, i, j = heapq.heappop(re)\n",
    "            if [i, j] == end:\n",
    "                return z\n",
    "            if (i, j) in visited:\n",
    "                continue\n",
    "            visited.add((i, j))\n",
    "            m, n = xunzhao(i, j)\n",
    "            if 0<=m<leny and 0<=n<lenx:\n",
    "                heapq.heappush(re, [z, m, n])\n",
    "            for m, n in [[i+1, j], [i-1, j], [i, j+1], [i, j-1]]:\n",
    "                if 0<=m<leny and 0<=n<lenx and (m, n) not in visited:\n",
    "                    heapq.heappush(re, [z+1, m, n])\n",
    "        "
   ]
  },
  {
   "cell_type": "code",
   "execution_count": 27,
   "id": "7fc1478c",
   "metadata": {},
   "outputs": [],
   "source": [
    "matrix = [\">>v\",\">>v\",\"^<<\"]; start = [0,0]; end = [1,1]"
   ]
  },
  {
   "cell_type": "code",
   "execution_count": 68,
   "id": "63fc7aad",
   "metadata": {},
   "outputs": [],
   "source": [
    "matrix = [\">>v\",\"v^<\",\"<><\"]; start = [0,1];end = [2,0]"
   ]
  },
  {
   "cell_type": "code",
   "execution_count": 70,
   "id": "ebf6662a",
   "metadata": {},
   "outputs": [],
   "source": [
    "matrix = [\">^^>\",\"<^v>\",\"^v^<\"]; start = [0,0]; end = [1,3]\n"
   ]
  },
  {
   "cell_type": "code",
   "execution_count": 71,
   "id": "a25303fa",
   "metadata": {},
   "outputs": [
    {
     "data": {
      "text/plain": [
       "3"
      ]
     },
     "execution_count": 71,
     "metadata": {},
     "output_type": "execute_result"
    }
   ],
   "source": [
    "a = Solution().conveyorBelt(matrix, start, end)\n",
    "a"
   ]
  },
  {
   "cell_type": "markdown",
   "id": "f109238c",
   "metadata": {},
   "source": [
    "# 打地鼠"
   ]
  },
  {
   "cell_type": "code",
   "execution_count": 229,
   "id": "a8852d2a",
   "metadata": {},
   "outputs": [],
   "source": [
    "import copy\n",
    "class Solution:\n",
    "    def getMaximumNumber(self, moles: List[List[int]]) -> int:\n",
    "        dp = [[0 for _ in range(3)]for _ in range(3)]\n",
    "        re = collections.defaultdict(list)\n",
    "        for t, i, j in moles:\n",
    "            re[t].append([i, j])\n",
    "        time = list(re.keys())\n",
    "        time.sort(reverse=True)\n",
    "        pre = 0\n",
    "        for t in time:\n",
    "            newdp = copy.deepcopy(dp)\n",
    "            d = pre-t\n",
    "            for i, j in re[t]:\n",
    "                for m in range(max(0, i-d), min(3, i+d+1)):\n",
    "                    for n in range(max(0, j-d), min(3, j+d+1)):     \n",
    "                        if abs(m-i)+abs(n-j) <= d:\n",
    "                            newdp[m][n] = max(dp[m][n]+1, newdp[m][n])\n",
    "            dp = newdp\n",
    "            pre = t\n",
    "        return dp[1][1]"
   ]
  },
  {
   "cell_type": "code",
   "execution_count": 287,
   "id": "ca7f7f4c",
   "metadata": {},
   "outputs": [],
   "source": [
    "class Solution:\n",
    "    def getMaximumNumber(self, moles: List[List[int]]) -> int:\n",
    "        dp = [[0 for _ in range(3)]for _ in range(3)]\n",
    "        re = collections.defaultdict(list)\n",
    "        for t, i, j in moles:\n",
    "            re[t].append([i, j])\n",
    "        ret = 1\n",
    "        a = 1 if [1, 1] in re[0] else 0\n",
    "        re[0] = [[1, 1]]   \n",
    "        time = list(re.keys())\n",
    "        time.sort()\n",
    "        pre = 0\n",
    "        for t in time:\n",
    "            newdp =[[0 for _ in range(3)]for _ in range(3)]\n",
    "            d = t-pre\n",
    "            for i in range(3):\n",
    "                for j in range(3):\n",
    "                    for m in range(max(0, i-d), min(3, i+d+1)):\n",
    "                        for n in range(max(0, j-d), min(3, j+d+1)):     \n",
    "                            if abs(m-i)+abs(n-j) <= d:\n",
    "                                newdp[i][j] = max(newdp[i][j], dp[m][n])\n",
    "                    \n",
    "            for i, j in re[t]:\n",
    "                for m in range(max(0, i-d), min(3, i+d+1)):\n",
    "                    for n in range(max(0, j-d), min(3, j+d+1)):     \n",
    "                        if abs(m-i)+abs(n-j) <= d:\n",
    "                            newdp[i][j] = max(dp[m][n]+1, newdp[i][j])\n",
    "            dp = newdp\n",
    "            pre = t\n",
    "        for row in dp:\n",
    "            ret = max(max(row), ret)\n",
    "        return ret-1+a"
   ]
  },
  {
   "cell_type": "code",
   "execution_count": 317,
   "id": "f16fb5f4",
   "metadata": {},
   "outputs": [],
   "source": [
    "class Solution:\n",
    "    def getMaximumNumber(self, moles: List[List[int]]) -> int:\n",
    "        dp = [[0 for _ in range(3)]for _ in range(3)]\n",
    "        re = collections.defaultdict(list)\n",
    "        for t, i, j in moles:\n",
    "            re[t].append([i, j])\n",
    "        ret = 1\n",
    "        a = 1 if [1, 1] in re[0] else 0\n",
    "        re[0] = [[1, 1]]   \n",
    "        time = list(re.keys())\n",
    "        time.sort()\n",
    "        pre = 0\n",
    "        newdp =[[0 for _ in range(3)]for _ in range(3)]\n",
    "        for t in time:\n",
    "            d = t-pre\n",
    "            for i in range(3):\n",
    "                for j in range(3):\n",
    "                    for m in range(max(0, i-d), min(3, i+d+1)):\n",
    "                        for n in range(max(0, j-d), min(3, j+d+1)):     \n",
    "                            if abs(m-i)+abs(n-j) <= d:\n",
    "                                newdp[i][j] = max(newdp[i][j], dp[m][n])\n",
    "                    \n",
    "            for i, j in re[t]:\n",
    "                newdp[i][j] += 1\n",
    "            dp, newdp = newdp, dp\n",
    "            pre = t\n",
    "        for row in dp:\n",
    "            ret = max(max(row), ret)\n",
    "        return ret-1+a"
   ]
  },
  {
   "cell_type": "code",
   "execution_count": 328,
   "id": "54acc5dc",
   "metadata": {},
   "outputs": [],
   "source": [
    "moles = [[1,1,0],[2,0,1],[4,2,2]]"
   ]
  },
  {
   "cell_type": "code",
   "execution_count": 354,
   "id": "e6f6bcb6",
   "metadata": {},
   "outputs": [],
   "source": [
    "moles = [[2,0,2],[5,2,0],[4,1,0],[1,2,1],[3,0,2]]"
   ]
  },
  {
   "cell_type": "code",
   "execution_count": 356,
   "id": "b335a26b",
   "metadata": {},
   "outputs": [],
   "source": [
    "moles = [[0,1,1]]"
   ]
  },
  {
   "cell_type": "code",
   "execution_count": 329,
   "id": "4bbc41cb",
   "metadata": {},
   "outputs": [
    {
     "data": {
      "text/plain": [
       "0"
      ]
     },
     "execution_count": 329,
     "metadata": {},
     "output_type": "execute_result"
    }
   ],
   "source": [
    "a = Solution().getMaximumNumber(moles)\n",
    "a"
   ]
  },
  {
   "cell_type": "code",
   "execution_count": 302,
   "id": "03873413",
   "metadata": {},
   "outputs": [],
   "source": [
    "class Solution:\n",
    "    def getMaximumNumber(self, moles: List[List[int]]) -> int:\n",
    "        d = defaultdict(lambda: [[0] * 3 for _ in range(3)])\n",
    "        for t, x, y in moles:\n",
    "            d[t][x][y] = 1\n",
    "\n",
    "        print(d)\n",
    "        pret = 0\n",
    "        pre = [[-inf] * 3 for _ in range(3)]\n",
    "        pre[1][1] = d[0][1][1]\n",
    "        now = [[0] * 3 for _ in range(3)]\n",
    "        for t in sorted(d):\n",
    "            if t == 0:\n",
    "                continue\n",
    "            s = d[t]\n",
    "            if t - pret >= 4:\n",
    "                ma = max(map(max, pre))\n",
    "                for i in range(3):\n",
    "                    for j in range(3):\n",
    "                        now[i][j] = s[i][j] + ma\n",
    "            else:\n",
    "                for i in range(3):\n",
    "                    for j in range(3):\n",
    "                        now[i][j] = 0\n",
    "                        f = s[i][j]\n",
    "                        for ni in range(3):\n",
    "                            for nj in range(3):\n",
    "                                if abs(i-ni) + abs(j-nj) <= t - pret:\n",
    "                                    now[i][j] = max(now[i][j], f + pre[ni][nj])\n",
    "            pret = t\n",
    "            pre, now = now, pre\n",
    "        return max(map(max, pre))"
   ]
  },
  {
   "cell_type": "code",
   "execution_count": 307,
   "id": "09151cac",
   "metadata": {},
   "outputs": [
    {
     "name": "stdout",
     "output_type": "stream",
     "text": [
      "defaultdict(<function Solution.getMaximumNumber.<locals>.<lambda> at 0x00000269CDB333A0>, {1: [[0, 0, 0], [1, 0, 0], [0, 0, 0]], 2: [[0, 1, 0], [0, 0, 0], [0, 0, 0]], 4: [[0, 0, 0], [0, 0, 0], [0, 0, 1]]})\n"
     ]
    },
    {
     "data": {
      "text/plain": [
       "2"
      ]
     },
     "execution_count": 307,
     "metadata": {},
     "output_type": "execute_result"
    }
   ],
   "source": [
    "from collections import *\n",
    "inf = float(\"inf\")\n",
    "a = Solution().getMaximumNumber(moles)\n",
    "a"
   ]
  },
  {
   "cell_type": "code",
   "execution_count": 360,
   "id": "06a8b06b",
   "metadata": {},
   "outputs": [],
   "source": [
    "class Solution:\n",
    "    def getMaximumNumber(self, moles: List[List[int]]) -> int:\n",
    "        def dis(a, b):\n",
    "            return abs(a[0]-b[0])+ abs(b[1]-a[1])\n",
    "        \n",
    "        moles.sort()\n",
    "        print(moles)\n",
    "        dp = [0] * (len(moles))\n",
    "        for i in range(len(moles)):\n",
    "            if moles[i][0] == 0:\n",
    "                dp[i] = 1 if [moles[i][1], moles[i][2]] == [1,1] else 0\n",
    "            else:\n",
    "                for j in range(max(0, i-45), i+1):\n",
    "                    if i == j:\n",
    "                        dp[i] = max(dp[i], 1)\n",
    "                    elif dis([moles[j][1], moles[j][2]], [moles[i][1], moles[i][2]]) <= moles[i][0]-moles[j][0]:\n",
    "                        dp[i] = max(dp[i], dp[j] + 1)\n",
    "        print(dp)\n",
    "        return max(dp)"
   ]
  },
  {
   "cell_type": "code",
   "execution_count": null,
   "id": "8ba6bade",
   "metadata": {},
   "outputs": [],
   "source": [
    "class Solution:\n",
    "    def getMaximumNumber(self, moles: List[List[int]]) -> int:\n",
    "        def dis(a, b):\n",
    "            return abs(a[0]-b[0])+ abs(b[1]-a[1])\n",
    "        \n",
    "        moles.sort()\n",
    "        r = collections.defaultdict\n",
    "        dp = [0] * (len(moles))\n",
    "        for i in range(len(moles)):\n",
    "            if moles[i][0] == 0:\n",
    "                dp[i] = 1 if [moles[i][1], moles[i][2]] == [1,1] else 0\n",
    "            else:\n",
    "                for j in range(max(0, i-45), i+1):\n",
    "                    if i == j:\n",
    "                        dp[i] = max(dp[i], 1)\n",
    "                    elif dis([moles[j][1], moles[j][2]], [moles[i][1], moles[i][2]]) <= moles[i][0]-moles[j][0]:\n",
    "                        dp[i] = max(dp[i], dp[j] + 1)\n",
    "        print(dp)\n",
    "        return max(dp)"
   ]
  },
  {
   "cell_type": "code",
   "execution_count": 361,
   "id": "986dfc12",
   "metadata": {},
   "outputs": [],
   "source": [
    "moles = [[1,1,0],[6,1,2],[5,0,1],[4,0,0],[1,0,0],[1,2,1]]"
   ]
  },
  {
   "cell_type": "code",
   "execution_count": 362,
   "id": "d8adeb87",
   "metadata": {},
   "outputs": [
    {
     "name": "stdout",
     "output_type": "stream",
     "text": [
      "[[1, 0, 0], [1, 1, 0], [1, 2, 1], [4, 0, 0], [5, 0, 1], [6, 1, 2]]\n",
      "[1, 1, 1, 2, 3, 2]\n"
     ]
    },
    {
     "data": {
      "text/plain": [
       "2"
      ]
     },
     "execution_count": 362,
     "metadata": {},
     "output_type": "execute_result"
    }
   ],
   "source": [
    "a = Solution().getMaximumNumber(moles)\n",
    "a"
   ]
  },
  {
   "cell_type": "code",
   "execution_count": 352,
   "id": "1e451419",
   "metadata": {},
   "outputs": [],
   "source": [
    "moles = [[0,1,0],[0,0,1]]"
   ]
  },
  {
   "cell_type": "code",
   "execution_count": 363,
   "id": "04d8ecab",
   "metadata": {},
   "outputs": [],
   "source": []
  },
  {
   "cell_type": "code",
   "execution_count": null,
   "id": "b69acdde",
   "metadata": {},
   "outputs": [],
   "source": []
  }
 ],
 "metadata": {
  "kernelspec": {
   "display_name": "Python 3 (ipykernel)",
   "language": "python",
   "name": "python3"
  },
  "language_info": {
   "codemirror_mode": {
    "name": "ipython",
    "version": 3
   },
   "file_extension": ".py",
   "mimetype": "text/x-python",
   "name": "python",
   "nbconvert_exporter": "python",
   "pygments_lexer": "ipython3",
   "version": "3.8.8"
  },
  "toc": {
   "base_numbering": 1,
   "nav_menu": {},
   "number_sections": true,
   "sideBar": true,
   "skip_h1_title": false,
   "title_cell": "Table of Contents",
   "title_sidebar": "Contents",
   "toc_cell": false,
   "toc_position": {},
   "toc_section_display": true,
   "toc_window_display": false
  }
 },
 "nbformat": 4,
 "nbformat_minor": 5
}
